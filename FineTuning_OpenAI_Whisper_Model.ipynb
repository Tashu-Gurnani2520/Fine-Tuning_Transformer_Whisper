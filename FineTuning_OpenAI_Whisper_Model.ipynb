{
  "cells": [
    {
      "cell_type": "markdown",
      "metadata": {
        "id": "RZQp5nYti5cc"
      },
      "source": [
        "**Whisper**\n",
        "\n",
        "Whisper is a pre-trained model for automatic speech recognition (ASR) and speech translation.\n",
        "\n",
        "Whisper is a Transformer based encoder-decoder model, also referred to as a sequence-to-sequence model. It was trained on 680k hours of labelled speech data annotated using large-scale weak supervision.\n",
        "\n",
        "**SUMMARY OF THE PROCESS**\n",
        "\n",
        "Initially, the **Ai4 Bharat Indic Wav2Vec** speech recognition model was\n",
        "employed to transcribe Hindi audio. This model yielded an accuracy of 60%, which necessitated exploring more robust alternatives. Subsequently, the **OpenAI Whisper model (small version)** was tested, achieving a slightly better accuracy of **65%**. Recognizing the potential for improvement, the Whisper model was **fine-tuned on the Common Voice dataset**. After 1000 steps of training, the model's word error rate (WER) improved to 34%. Extending the training to 2000 steps resulted in a WER of 32%.\n",
        "\n",
        "The pursuit of higher accuracy led to the decision to fine-tune the **OpenAI Whisper medium model** specifically for the Hindi language using the **Google Fleurs dataset,** which is better as compared to the Common Voice dataset. This fine-tuning process, conducted over 1000 steps, significantly reduced the WER to 20%.\n",
        "\n",
        "Furthermore, the **Whisper English model** was tested on Republic TV audio. Remarkably, it performed exceptionally well without any fine-tuning, achieving **99% accuracy**. The model also adeptly inserted punctuation, enhancing the readability and coherence of the transcripts.\n",
        "\n"
      ]
    },
    {
      "cell_type": "code",
      "execution_count": null,
      "metadata": {
        "_cell_guid": "b1076dfc-b9ad-4769-8c92-a6c4dae69d19",
        "_uuid": "8f2839f25d086af736a60e9eeb907d3b93b6e0e5",
        "execution": {
          "iopub.execute_input": "2024-05-24T11:27:05.851524Z",
          "iopub.status.busy": "2024-05-24T11:27:05.851212Z",
          "iopub.status.idle": "2024-05-24T11:27:36.614931Z",
          "shell.execute_reply": "2024-05-24T11:27:36.61404Z",
          "shell.execute_reply.started": "2024-05-24T11:27:05.851497Z"
        },
        "id": "tFz9QdVIhqaW",
        "outputId": "ed6e8636-e4dc-431b-d656-a1f41e05df20",
        "trusted": true
      },
      "outputs": [
        {
          "name": "stdout",
          "output_type": "stream",
          "text": [
            "Requirement already satisfied: transformers in /opt/conda/lib/python3.10/site-packages (4.39.3)\n",
            "Collecting transformers\n",
            "  Downloading transformers-4.41.1-py3-none-any.whl.metadata (43 kB)\n",
            "\u001b[2K     \u001b[90m━━━━━━━━━━━━━━━━━━━━━━━━━━━━━━━━━━━━━━━━\u001b[0m \u001b[32m43.8/43.8 kB\u001b[0m \u001b[31m1.5 MB/s\u001b[0m eta \u001b[36m0:00:00\u001b[0m\n",
            "\u001b[?25hRequirement already satisfied: accelerate in /opt/conda/lib/python3.10/site-packages (0.29.3)\n",
            "Collecting accelerate\n",
            "  Downloading accelerate-0.30.1-py3-none-any.whl.metadata (18 kB)\n",
            "Collecting evaluate\n",
            "  Downloading evaluate-0.4.2-py3-none-any.whl.metadata (9.3 kB)\n",
            "Collecting jiwer\n",
            "  Downloading jiwer-3.0.4-py3-none-any.whl.metadata (2.6 kB)\n",
            "Requirement already satisfied: tensorboard in /opt/conda/lib/python3.10/site-packages (2.15.1)\n",
            "Collecting tensorboard\n",
            "  Downloading tensorboard-2.16.2-py3-none-any.whl.metadata (1.6 kB)\n",
            "Requirement already satisfied: datasets[audio] in /opt/conda/lib/python3.10/site-packages (2.18.0)\n",
            "Collecting datasets[audio]\n",
            "  Downloading datasets-2.19.1-py3-none-any.whl.metadata (19 kB)\n",
            "Requirement already satisfied: filelock in /opt/conda/lib/python3.10/site-packages (from datasets[audio]) (3.13.1)\n",
            "Requirement already satisfied: numpy>=1.17 in /opt/conda/lib/python3.10/site-packages (from datasets[audio]) (1.26.4)\n",
            "Requirement already satisfied: pyarrow>=12.0.0 in /opt/conda/lib/python3.10/site-packages (from datasets[audio]) (15.0.2)\n",
            "Requirement already satisfied: pyarrow-hotfix in /opt/conda/lib/python3.10/site-packages (from datasets[audio]) (0.6)\n",
            "Requirement already satisfied: dill<0.3.9,>=0.3.0 in /opt/conda/lib/python3.10/site-packages (from datasets[audio]) (0.3.8)\n",
            "Requirement already satisfied: pandas in /opt/conda/lib/python3.10/site-packages (from datasets[audio]) (2.1.4)\n",
            "Requirement already satisfied: requests>=2.19.0 in /opt/conda/lib/python3.10/site-packages (from datasets[audio]) (2.31.0)\n",
            "Requirement already satisfied: tqdm>=4.62.1 in /opt/conda/lib/python3.10/site-packages (from datasets[audio]) (4.66.1)\n",
            "Requirement already satisfied: xxhash in /opt/conda/lib/python3.10/site-packages (from datasets[audio]) (3.4.1)\n",
            "Requirement already satisfied: multiprocess in /opt/conda/lib/python3.10/site-packages (from datasets[audio]) (0.70.16)\n",
            "Requirement already satisfied: fsspec<=2024.3.1,>=2023.1.0 in /opt/conda/lib/python3.10/site-packages (from fsspec[http]<=2024.3.1,>=2023.1.0->datasets[audio]) (2024.2.0)\n",
            "Requirement already satisfied: aiohttp in /opt/conda/lib/python3.10/site-packages (from datasets[audio]) (3.9.1)\n",
            "Requirement already satisfied: huggingface-hub>=0.21.2 in /opt/conda/lib/python3.10/site-packages (from datasets[audio]) (0.22.2)\n",
            "Requirement already satisfied: packaging in /opt/conda/lib/python3.10/site-packages (from datasets[audio]) (21.3)\n",
            "Requirement already satisfied: pyyaml>=5.1 in /opt/conda/lib/python3.10/site-packages (from datasets[audio]) (6.0.1)\n",
            "Requirement already satisfied: soundfile>=0.12.1 in /opt/conda/lib/python3.10/site-packages (from datasets[audio]) (0.12.1)\n",
            "Requirement already satisfied: librosa in /opt/conda/lib/python3.10/site-packages (from datasets[audio]) (0.10.1)\n",
            "Collecting huggingface-hub>=0.21.2 (from datasets[audio])\n",
            "  Downloading huggingface_hub-0.23.1-py3-none-any.whl.metadata (12 kB)\n",
            "Requirement already satisfied: regex!=2019.12.17 in /opt/conda/lib/python3.10/site-packages (from transformers) (2023.12.25)\n",
            "Collecting tokenizers<0.20,>=0.19 (from transformers)\n",
            "  Downloading tokenizers-0.19.1-cp310-cp310-manylinux_2_17_x86_64.manylinux2014_x86_64.whl.metadata (6.7 kB)\n",
            "Requirement already satisfied: safetensors>=0.4.1 in /opt/conda/lib/python3.10/site-packages (from transformers) (0.4.3)\n",
            "Requirement already satisfied: psutil in /opt/conda/lib/python3.10/site-packages (from accelerate) (5.9.3)\n",
            "Requirement already satisfied: torch>=1.10.0 in /opt/conda/lib/python3.10/site-packages (from accelerate) (2.1.2)\n",
            "Requirement already satisfied: click<9.0.0,>=8.1.3 in /opt/conda/lib/python3.10/site-packages (from jiwer) (8.1.7)\n",
            "Collecting rapidfuzz<4,>=3 (from jiwer)\n",
            "  Downloading rapidfuzz-3.9.1-cp310-cp310-manylinux_2_17_x86_64.manylinux2014_x86_64.whl.metadata (11 kB)\n",
            "Requirement already satisfied: absl-py>=0.4 in /opt/conda/lib/python3.10/site-packages (from tensorboard) (1.4.0)\n",
            "Requirement already satisfied: grpcio>=1.48.2 in /opt/conda/lib/python3.10/site-packages (from tensorboard) (1.51.1)\n",
            "Requirement already satisfied: markdown>=2.6.8 in /opt/conda/lib/python3.10/site-packages (from tensorboard) (3.5.2)\n",
            "Requirement already satisfied: protobuf!=4.24.0,>=3.19.6 in /opt/conda/lib/python3.10/site-packages (from tensorboard) (3.20.3)\n",
            "Requirement already satisfied: setuptools>=41.0.0 in /opt/conda/lib/python3.10/site-packages (from tensorboard) (69.0.3)\n",
            "Requirement already satisfied: six>1.9 in /opt/conda/lib/python3.10/site-packages (from tensorboard) (1.16.0)\n",
            "Requirement already satisfied: tensorboard-data-server<0.8.0,>=0.7.0 in /opt/conda/lib/python3.10/site-packages (from tensorboard) (0.7.2)\n",
            "Requirement already satisfied: werkzeug>=1.0.1 in /opt/conda/lib/python3.10/site-packages (from tensorboard) (3.0.2)\n",
            "Requirement already satisfied: attrs>=17.3.0 in /opt/conda/lib/python3.10/site-packages (from aiohttp->datasets[audio]) (23.2.0)\n",
            "Requirement already satisfied: multidict<7.0,>=4.5 in /opt/conda/lib/python3.10/site-packages (from aiohttp->datasets[audio]) (6.0.4)\n",
            "Requirement already satisfied: yarl<2.0,>=1.0 in /opt/conda/lib/python3.10/site-packages (from aiohttp->datasets[audio]) (1.9.3)\n",
            "Requirement already satisfied: frozenlist>=1.1.1 in /opt/conda/lib/python3.10/site-packages (from aiohttp->datasets[audio]) (1.4.1)\n",
            "Requirement already satisfied: aiosignal>=1.1.2 in /opt/conda/lib/python3.10/site-packages (from aiohttp->datasets[audio]) (1.3.1)\n",
            "Requirement already satisfied: async-timeout<5.0,>=4.0 in /opt/conda/lib/python3.10/site-packages (from aiohttp->datasets[audio]) (4.0.3)\n",
            "Requirement already satisfied: typing-extensions>=3.7.4.3 in /opt/conda/lib/python3.10/site-packages (from huggingface-hub>=0.21.2->datasets[audio]) (4.9.0)\n",
            "Requirement already satisfied: pyparsing!=3.0.5,>=2.0.2 in /opt/conda/lib/python3.10/site-packages (from packaging->datasets[audio]) (3.1.1)\n",
            "Requirement already satisfied: charset-normalizer<4,>=2 in /opt/conda/lib/python3.10/site-packages (from requests>=2.19.0->datasets[audio]) (3.3.2)\n",
            "Requirement already satisfied: idna<4,>=2.5 in /opt/conda/lib/python3.10/site-packages (from requests>=2.19.0->datasets[audio]) (3.6)\n",
            "Requirement already satisfied: urllib3<3,>=1.21.1 in /opt/conda/lib/python3.10/site-packages (from requests>=2.19.0->datasets[audio]) (1.26.18)\n",
            "Requirement already satisfied: certifi>=2017.4.17 in /opt/conda/lib/python3.10/site-packages (from requests>=2.19.0->datasets[audio]) (2024.2.2)\n",
            "Requirement already satisfied: cffi>=1.0 in /opt/conda/lib/python3.10/site-packages (from soundfile>=0.12.1->datasets[audio]) (1.16.0)\n",
            "Requirement already satisfied: sympy in /opt/conda/lib/python3.10/site-packages (from torch>=1.10.0->accelerate) (1.12)\n",
            "Requirement already satisfied: networkx in /opt/conda/lib/python3.10/site-packages (from torch>=1.10.0->accelerate) (3.2.1)\n",
            "Requirement already satisfied: jinja2 in /opt/conda/lib/python3.10/site-packages (from torch>=1.10.0->accelerate) (3.1.2)\n",
            "Requirement already satisfied: MarkupSafe>=2.1.1 in /opt/conda/lib/python3.10/site-packages (from werkzeug>=1.0.1->tensorboard) (2.1.3)\n",
            "Requirement already satisfied: audioread>=2.1.9 in /opt/conda/lib/python3.10/site-packages (from librosa->datasets[audio]) (3.0.1)\n",
            "Requirement already satisfied: scipy>=1.2.0 in /opt/conda/lib/python3.10/site-packages (from librosa->datasets[audio]) (1.11.4)\n",
            "Requirement already satisfied: scikit-learn>=0.20.0 in /opt/conda/lib/python3.10/site-packages (from librosa->datasets[audio]) (1.2.2)\n",
            "Requirement already satisfied: joblib>=0.14 in /opt/conda/lib/python3.10/site-packages (from librosa->datasets[audio]) (1.4.0)\n",
            "Requirement already satisfied: decorator>=4.3.0 in /opt/conda/lib/python3.10/site-packages (from librosa->datasets[audio]) (5.1.1)\n",
            "Requirement already satisfied: numba>=0.51.0 in /opt/conda/lib/python3.10/site-packages (from librosa->datasets[audio]) (0.58.1)\n",
            "Requirement already satisfied: pooch>=1.0 in /opt/conda/lib/python3.10/site-packages (from librosa->datasets[audio]) (1.8.1)\n",
            "Requirement already satisfied: soxr>=0.3.2 in /opt/conda/lib/python3.10/site-packages (from librosa->datasets[audio]) (0.3.7)\n",
            "Requirement already satisfied: lazy-loader>=0.1 in /opt/conda/lib/python3.10/site-packages (from librosa->datasets[audio]) (0.3)\n",
            "Requirement already satisfied: msgpack>=1.0 in /opt/conda/lib/python3.10/site-packages (from librosa->datasets[audio]) (1.0.7)\n",
            "Requirement already satisfied: python-dateutil>=2.8.2 in /opt/conda/lib/python3.10/site-packages (from pandas->datasets[audio]) (2.9.0.post0)\n",
            "Requirement already satisfied: pytz>=2020.1 in /opt/conda/lib/python3.10/site-packages (from pandas->datasets[audio]) (2023.3.post1)\n",
            "Requirement already satisfied: tzdata>=2022.1 in /opt/conda/lib/python3.10/site-packages (from pandas->datasets[audio]) (2023.4)\n",
            "Requirement already satisfied: pycparser in /opt/conda/lib/python3.10/site-packages (from cffi>=1.0->soundfile>=0.12.1->datasets[audio]) (2.21)\n",
            "Requirement already satisfied: llvmlite<0.42,>=0.41.0dev0 in /opt/conda/lib/python3.10/site-packages (from numba>=0.51.0->librosa->datasets[audio]) (0.41.1)\n",
            "Requirement already satisfied: platformdirs>=2.5.0 in /opt/conda/lib/python3.10/site-packages (from pooch>=1.0->librosa->datasets[audio]) (4.2.0)\n",
            "Requirement already satisfied: threadpoolctl>=2.0.0 in /opt/conda/lib/python3.10/site-packages (from scikit-learn>=0.20.0->librosa->datasets[audio]) (3.2.0)\n",
            "Requirement already satisfied: mpmath>=0.19 in /opt/conda/lib/python3.10/site-packages (from sympy->torch>=1.10.0->accelerate) (1.3.0)\n",
            "Downloading transformers-4.41.1-py3-none-any.whl (9.1 MB)\n",
            "\u001b[2K   \u001b[90m━━━━━━━━━━━━━━━━━━━━━━━━━━━━━━━━━━━━━━━━\u001b[0m \u001b[32m9.1/9.1 MB\u001b[0m \u001b[31m54.4 MB/s\u001b[0m eta \u001b[36m0:00:00\u001b[0m00:01\u001b[0m00:01\u001b[0m\n",
            "\u001b[?25hDownloading accelerate-0.30.1-py3-none-any.whl (302 kB)\n",
            "\u001b[2K   \u001b[90m━━━━━━━━━━━━━━━━━━━━━━━━━━━━━━━━━━━━━━━━\u001b[0m \u001b[32m302.6/302.6 kB\u001b[0m \u001b[31m16.7 MB/s\u001b[0m eta \u001b[36m0:00:00\u001b[0m\n",
            "\u001b[?25hDownloading evaluate-0.4.2-py3-none-any.whl (84 kB)\n",
            "\u001b[2K   \u001b[90m━━━━━━━━━━━━━━━━━━━━━━━━━━━━━━━━━━━━━━━━\u001b[0m \u001b[32m84.1/84.1 kB\u001b[0m \u001b[31m4.4 MB/s\u001b[0m eta \u001b[36m0:00:00\u001b[0m\n",
            "\u001b[?25hDownloading jiwer-3.0.4-py3-none-any.whl (21 kB)\n",
            "Downloading tensorboard-2.16.2-py3-none-any.whl (5.5 MB)\n",
            "\u001b[2K   \u001b[90m━━━━━━━━━━━━━━━━━━━━━━━━━━━━━━━━━━━━━━━━\u001b[0m \u001b[32m5.5/5.5 MB\u001b[0m \u001b[31m87.6 MB/s\u001b[0m eta \u001b[36m0:00:00\u001b[0m:00:01\u001b[0m\n",
            "\u001b[?25hDownloading datasets-2.19.1-py3-none-any.whl (542 kB)\n",
            "\u001b[2K   \u001b[90m━━━━━━━━━━━━━━━━━━━━━━━━━━━━━━━━━━━━━━━━\u001b[0m \u001b[32m542.0/542.0 kB\u001b[0m \u001b[31m29.2 MB/s\u001b[0m eta \u001b[36m0:00:00\u001b[0m\n",
            "\u001b[?25hDownloading huggingface_hub-0.23.1-py3-none-any.whl (401 kB)\n",
            "\u001b[2K   \u001b[90m━━━━━━━━━━━━━━━━━━━━━━━━━━━━━━━━━━━━━━━━\u001b[0m \u001b[32m401.3/401.3 kB\u001b[0m \u001b[31m24.7 MB/s\u001b[0m eta \u001b[36m0:00:00\u001b[0m\n",
            "\u001b[?25hDownloading rapidfuzz-3.9.1-cp310-cp310-manylinux_2_17_x86_64.manylinux2014_x86_64.whl (3.4 MB)\n",
            "\u001b[2K   \u001b[90m━━━━━━━━━━━━━━━━━━━━━━━━━━━━━━━━━━━━━━━━\u001b[0m \u001b[32m3.4/3.4 MB\u001b[0m \u001b[31m37.6 MB/s\u001b[0m eta \u001b[36m0:00:00\u001b[0m00:01\u001b[0m00:01\u001b[0m\n",
            "\u001b[?25hDownloading tokenizers-0.19.1-cp310-cp310-manylinux_2_17_x86_64.manylinux2014_x86_64.whl (3.6 MB)\n",
            "\u001b[2K   \u001b[90m━━━━━━━━━━━━━━━━━━━━━━━━━━━━━━━━━━━━━━━━\u001b[0m \u001b[32m3.6/3.6 MB\u001b[0m \u001b[31m63.8 MB/s\u001b[0m eta \u001b[36m0:00:00\u001b[0m:00:01\u001b[0m\n",
            "\u001b[?25hInstalling collected packages: rapidfuzz, tensorboard, jiwer, huggingface-hub, tokenizers, accelerate, transformers, datasets, evaluate\n",
            "  Attempting uninstall: tensorboard\n",
            "    Found existing installation: tensorboard 2.15.1\n",
            "    Uninstalling tensorboard-2.15.1:\n",
            "      Successfully uninstalled tensorboard-2.15.1\n",
            "  Attempting uninstall: huggingface-hub\n",
            "    Found existing installation: huggingface-hub 0.22.2\n",
            "    Uninstalling huggingface-hub-0.22.2:\n",
            "      Successfully uninstalled huggingface-hub-0.22.2\n",
            "  Attempting uninstall: tokenizers\n",
            "    Found existing installation: tokenizers 0.15.2\n",
            "    Uninstalling tokenizers-0.15.2:\n",
            "      Successfully uninstalled tokenizers-0.15.2\n",
            "  Attempting uninstall: accelerate\n",
            "    Found existing installation: accelerate 0.29.3\n",
            "    Uninstalling accelerate-0.29.3:\n",
            "      Successfully uninstalled accelerate-0.29.3\n",
            "  Attempting uninstall: transformers\n",
            "    Found existing installation: transformers 4.39.3\n",
            "    Uninstalling transformers-4.39.3:\n",
            "      Successfully uninstalled transformers-4.39.3\n",
            "  Attempting uninstall: datasets\n",
            "    Found existing installation: datasets 2.18.0\n",
            "    Uninstalling datasets-2.18.0:\n",
            "      Successfully uninstalled datasets-2.18.0\n",
            "\u001b[31mERROR: pip's dependency resolver does not currently take into account all the packages that are installed. This behaviour is the source of the following dependency conflicts.\n",
            "tensorflow-decision-forests 1.8.1 requires wurlitzer, which is not installed.\n",
            "tensorflow 2.15.0 requires keras<2.16,>=2.15.0, but you have keras 3.2.1 which is incompatible.\n",
            "tensorflow 2.15.0 requires tensorboard<2.16,>=2.15, but you have tensorboard 2.16.2 which is incompatible.\u001b[0m\u001b[31m\n",
            "\u001b[0mSuccessfully installed accelerate-0.30.1 datasets-2.19.1 evaluate-0.4.2 huggingface-hub-0.23.1 jiwer-3.0.4 rapidfuzz-3.9.1 tensorboard-2.16.2 tokenizers-0.19.1 transformers-4.41.1\n"
          ]
        }
      ],
      "source": [
        "\n",
        "!pip install --upgrade datasets[audio] transformers accelerate evaluate jiwer tensorboard\n"
      ]
    },
    {
      "cell_type": "code",
      "execution_count": null,
      "metadata": {
        "colab": {
          "referenced_widgets": [
            "a0fd87b3b9f04d65b3fd71c8d2f16692"
          ]
        },
        "execution": {
          "iopub.execute_input": "2024-05-24T11:27:50.851849Z",
          "iopub.status.busy": "2024-05-24T11:27:50.850912Z",
          "iopub.status.idle": "2024-05-24T11:27:51.108322Z",
          "shell.execute_reply": "2024-05-24T11:27:51.107446Z",
          "shell.execute_reply.started": "2024-05-24T11:27:50.851815Z"
        },
        "id": "uegq_26FhqaY",
        "outputId": "a3b82d07-9ced-46a7-d37c-484bba6734e7",
        "trusted": true
      },
      "outputs": [
        {
          "data": {
            "application/vnd.jupyter.widget-view+json": {
              "model_id": "a0fd87b3b9f04d65b3fd71c8d2f16692",
              "version_major": 2,
              "version_minor": 0
            },
            "text/plain": [
              "VBox(children=(HTML(value='<center> <img\\nsrc=https://huggingface.co/front/assets/huggingface_logo-noborder.sv…"
            ]
          },
          "metadata": {},
          "output_type": "display_data"
        }
      ],
      "source": [
        "from huggingface_hub import notebook_login\n",
        "\n",
        "notebook_login()\n"
      ]
    },
    {
      "cell_type": "markdown",
      "metadata": {
        "id": "prdEjtoFk8jT"
      },
      "source": [
        "Using 🤗 Datasets, downloading and preparing data is extremely simple. We’ll use Google Fleurs dataset.\n",
        "![image.png](data:image/png;base64,iVBORw0KGgoAAAANSUhEUgAAA7IAAAGzCAYAAAASQyt4AAAAAXNSR0IArs4c6QAAAARnQU1BAACxjwv8YQUAAAAJcEhZcwAAFxEAABcRAcom8z8AAP+lSURBVHhe7L0HYF3HdeaP3U3ZJJu2ycb5J9k4jpN1j0tiy71KtuWiYsmSrd57770XUqREiWLvvffeSRAkAYIN7L33isJez39+5955GDzMfXjgI0A8cj7pEGfmTrl36vlm5t5XIDHOnDkTa/XXLXJJIxvdIpc0stEtckkjG92HXNJL0n3IJb0k3Ydc0kvSfcglvWx0i1zSyEa3yCWNbHSLXNLIRvchl/SSdB9ySS9J9yGX9LLRLXJJIxvdIpc0stEtckkjG92HXNJL0n3IJb0k3Ydc0kvSfcglvWx0i1zSyEa3yCWNbHSLXNLIRvchl/SSdB9ySS9J9yGX9LLRLXJJIxvdIpc0stEtckkjG92HXNJL0n3IJb0k3Ydc0kvSfcglvWx0i1zSyEa3yCWNbHQL66dENlMA0BC6RS5pZKNb5JJGNroPuaTn6vVByMev14Vc0k7SLXJJIxvdIpc0stF9yCW9JL0uNGTaLnLJx9XrQi5pu3pdyCXtJN0ilzSy0X3IJb0k3Ydc0kvSfcglPVevD3LJx9XrQi5pu3pdyCXtJN0ilzSy0X3IJb0k3Ydc0kvSfcglvSS9LuSStqvXhVzSdvW6kEvarl4Xckk7Sfchl/SSdB9ySS9J9yGX9JL0upBL2q5eF3JJ29XrQn3TS+3IBgQEBAQEBAQEBAQEBATkAwpgtfoff11x/RpC9/k1hO7zawjdJ0lh66vXR5LSyEavjySlkY1eH0lKo756XZIULxfd59cQus+vIXSfJIXNRa9LkuJlo9dHktKor16XJMWrr16XJMXLRff5NYTuk6Swueg+SQqbi+6TpLD11esjSWnUV69LkuLVV69LkuLlovv8GkL3SVLYXHSfJIXNRfdJUthc9LokKV599bokKV599bokKV599bokKV4uuk+Swuai+yQpbC66T5LC5qLXJUnx6qvXJUnx6qvXJUnxEvSIyAYJEiRIkCBBggQJEiRIkCB5IgWcMjZ/I4l2aVPurHXHna0OrDtr3XFnqwPrzlp33NnqoJYeOxL12J2kq0Re2euxgz/Z6iqRV/Z67OBPtrpK5JW9Hjtq6LE7SVdJ00FGPXYk6o47Wx1Yd9a6485WB9adtR67XV0lgw5q6bEjUY/drq6SQQcZ9djBn2x1lcgrez128CdbXSVNBxn12FFDj91JukqaDjLqsaOGHrtdXSVLHVh31rrjzlYHtfTYkajHbldXyaCDWnrsSNRjt6urZNBBLT121NBjdza6SuSVvR47auixO0lXSdNBRj121NBjd5KukqaDjHrsqKHH7iRdJYMOrDtrPXa7ukoGHdTSY0eiHrtdXSWDDmrpsSNRj92urpJBB7X02JGox+4kXSVNBxn12FFDj91JukqaDjLqsaOGHruTdJU0HWTUY0cNPXYn6SppOsiox45EPXa7ukoGHdTSY0eiHrtdXSWDDmrpsSNRj92urpJBB7X02JGox25XV8mgg4x67Kihx+4kXSVNBxn12FFDj91JukqaDjLqsaOGHrtdXcXouiN72minzd+I3UZ65M5Oj9JAXJ1r6fqFn4+rR+6680nSI3d1vGz0yF132q4euSO/bPXI3Xj5uLpNL0mP3DV1839GPXLXnWdTbnuRu375uHrkTtdr5+Pqkbu++fjyzJyPq0duf9pJeuSO/LLVI/fZ5XM2z+PqNr0kPXLX1M3/GfXIXXc+/vpx9ezSTtJzycfVI3fd+bi6P8+mm49NIxs9ckd+2eqRu355Ru6auvk/ox658ycfX11F7uz0XPJx9chd33x8eeZvPq4eufmbOR9Xj9xnm0+1bv7PqEfuCzsfV7fpufqF1vbObz7Vuvk/ox65687H1SN3Td38n1GP3E0nH1tuMZG1ASJx3dnoIU6129V94VzdupP0bMO5+oUax9V94Vzdul3dF87VrTtJV9G1oAsfPGlSGaTrvnCubt2u7gvn6tadpGcbztUbO46r+8K5unW7ui+cq1u3q/vCubp1u3q24ZL0xo7j6r5wrm7dru4L5+rW7eq+cK5u3a7uC+fq1u3q2YZL0nOJ4+q+cK5u3a7uC+fq1u3qvnCubt2u7gvn6tbt6r5wrm7dSXq24Vzdul3dF87VrdvVfeFc3bpd3RfO1a3b1X3hXN26Xd0XztWt29V94VzdupN063Z1XzhXt25X94Vzdet2dV84V7duV/eFc3XrdnVfOFe3blf3hXN163Z1XzhXt+4k3bpd3RfO1a3b1X3hXN26Xd0XztWt29V94Vzdul3dF87VrdvVfeFc3bpd3RfO1a07SbduV/eFc3XrdnVfOFe3blf3hXN163Z1XzhXt25XzxQuvCMbJEgGsR0FFnv8xEk5dPiIHDyUSQ43gF5bat5HLmm7+hE5fOSonDx1OiK0zvMHCRIkSJAgQYIECdKUpODM6ZjZnj4t6Hiin3b80TP5axrqH6WhepxeDT2O5+o2DavX9o/F6GeTT27P4+hxejX0OF66nm2eNr2aeWbOx6aR5F+ddubnOePJp660Xf/qtBvneaxeM+1q3fc8NXRP2q6/TdvqqfDmL3LQEMfyioNK9g4dPnreZe++cr0f37VcpOrgYU336LHjugPtKyu3DN2y8pWhxov9rR7aeE1/m7bVa6ZdrTdEG6+rDFNpuHqcRl1pJ/lX5+NJ29XjeOjZPo/rn0qvhp45H1+evrRdf5tezTwz52PTcP39aVf7V6ddrZ+rNm71mmlX63XVVV152rStXjPtav1Ca+MNNS9Z/1R6NfTM+fjy9KXt+tv0auaZOR+bhuvvS9v1r067WveWYRwvXc82z7NpE760XX+bhtWT0m4qbdyXtutv07B67TxxR/6ptBupTVxobdybj6vHaaBnm+eF2sbR01EQJe5EiANqxPhvLUmFtxL560OxeRXrNcO6cVx/95rP3xXrnx7WvZbu79Ot2+fv+iX5Wz3J36dbt88/3c+9lu6fvW5R7Vd9Lbt4Nf2pWwtbvy7UT+P40k7yr4/uutP908O619L9fbp11/TnEQ8fOSYVlQflVLxT2RQA4Tx2/ETsOrdg5/lAeZX+ra7T6jJJ1q3b55/u515L96+P7rpdSb92Nrp1+/zT/dxr6f710V13un96WPdaur9Pt26fv+uXfs11J/m717L1T/dzr6X7+3Tr9vm7fkn+Vk/y9+nW7fNP93Ovpfv7dOtO8nfF+qeHra9u3T7/dD/3Wrp/fXTXne6fHta9lu7v063b5+/6pV8zejynJc9j1l0f/3Q/91q6v0+3bp+/65fkb/Ukf59u3T7/dD/3Wrq/T7dux98Yvbbsa9SBKzXSsH+dNDLq1u3zd/3Sr7nu+uquO90/Pax7Ld3fp1u3z9/1S7/muuurW7fPP93PvZbu79Ot2+fv+iX5Wz3J36dbt88/3c+9lu7v063b5+/6efyNvRmJ0Y0tpmLcERF046br1u3zd/3Sr7nu+uquO90/Pax7Ld3fp1t3bX9TNIq169bJzKIiKTJSEA0ip+WUDhbo5m8s7mCSrhNe4yBxPB/wPaXXozyiONxM7Hbi8i9pueFOxUJ4wtW+ZvVqf+t278ufNrpzL+pvr0XpZMwzTp/Gps+Jrn42vfS0a/rbtN08o3KuGcemgW6vJfnbtElnxeoNsnrd5lSaUZ42TuTnPg/3znNwvBSipGUW+/sQlWxNpMokTvtcPU+ku9cif18Z2nBu2wJoej/G34ZJTzvSq9M+eeqUHDAklr9NCZVVh3TXtKFw5OgxzcOWg1tW6OlllakMI397rTo9N451p+uZ8qxO216z/jZOdA3/9DT460vb9a++5sszuhb5Wz39fmrrvjxt2pHuXkvO04Zz4/jSdv2tO9KT03bjV8eJ3On+mdJO8rd5Vl+Lrqenbd3penZ52mv1y9OmgV59LXOe/jJ0w9VML13PLm0bJznPmuEi3aad5G/dkZ6ctq+N1ydPm3aku9eS87Th3Di+tF1/64705LQj/zgcRpL5yzOyWMmrFej2mb1pM1eavxYaV+eV5DxrxI91607XMz1Ptb+9VjPP6jhR2Or4kW7TQK++lpCneSYLzU/nVK5F+VXHr5leup70PNbmqAvV5Vs7z1rPwz06963uVJwovC2r2mVYM238a6Qd67Xy1DjV/jWvJedpw7lxaqSt927aIv+pHxq2TPRX3YQzf1Npmzi+MnXbK+EsbJxUnnH+vudx/Wvkqdciv+pwNdOroafXT5x/7TxtejXzjK5F/tV6tb+m4eSh8Yy7wZ7H/M2UdrW/vVYzz6iNmr/mXq2cPnpATu+eZ8rmpHIMja/hPHnybE6ta1sxfv484ziOv9XtNf7atF3/2s9jr9m0rX90zU07Fcfcl4WGS91n7bQjvTpt24Y7duwon/rUp6SgoCASmK4O5LGcOHFSDhsjFiJTUXFQd2YOVFSpUcvRw6PHT2jG1SzZJGwS33egQkaMmy4jx8+QwSMnq+zYtddMDBEBSI/jCpOH3WHyXa+vuM9DvhwHPXr0uOOXndRMJ13M85jnolhdSV2rFb5xBfQfNlGGjZmmui+MT2gou/eVy669+2vEO3r0qLRs2VK+9KUvyec+9zmZOHGSbNmyVfXPf/7z8p3vfEcGDx6s8d30zp/Q+PURIuPk5CkVdH/42kJ82mS5af9J4Hlt52pMNDSRpZwOlFd6yyVX8fWrzH0t/ySfn6ep3PuFVoYXWhu/UIThm/HusLFv9uw9ILvN3HfI2Az4Acb3yNiuGQ9bibB79x3QcBaZ53/HiDN67m2iZnr+MLnJUWMP7t6zT0/ouP7nqo0zx+7YuVe2bN0pW7ftqiH47TV1gh3pxolISfzgBlH9VJcF2LV7r+zbb8iAEy8fhWfj+WmPtDnK63gsJ4xN44vDNdrmHiP8RbB/WKDevHW7pkUb32PaLrovjbOR+rQJ7IsD5RXea+dK2JTZvHWHlpvvel1yrtp4VmLa7OlNo+TM9JvlzJrucmbqdcaI/1c5U/pMRPi4rmFr1hftw2LLtp2y07R7YK+5YZuKVB08ZO51h7Y924+ja5nvFyxcuEj++q//uprEWiIbRSbBM8ZAPigbNm83lW8GlR27Zbsho9vM382mgDZs2ia79uxPa/hRIUJaW3fqLx17DJHxU2bLhKlzpGPPoTJ2cpEhwEc07XRYP9Lr0nu4rF67Sd02TReE9fnbe7cPaeG6+gwaJ6ULl6uemEZ8L/zBHTXWms/JXx1UjBD61I7tcnhATznYp6sc6ttVjpXMihpbfK/V8Rw9zicdXEtHdVzyqxnPlofeS0KakNgxk4pU1zTMPaTDPg/3RzpHjx2TTabu08u7cEahNphvfvOb8utf/1pmzZ4tO3bslMsvv1x+9KMf67XmzZtr2Oiea3YwQO7RtWp/dDece83CPh5/0+NbWH9bztw/A/ec0oUyYcpMmVo4R6bMmC2btmyPY7h1XR0vPQ3IIu+M+rBtxy4ZNW6qjDTCRM+gXFK6SIrnLpSdu/bEoaqx10yq1p9Jdv7CpRpvx87d6lcfNDSR5fn3K5GtWSb11/mbjc7fXHT+ZqPzNxedv9no/D1XOn+z0fmbi87fbHT+5qLzNxudv7no/M1G528uOn+z0fmbi87fbHT+5qLzt746f3PR+ZuNzt9cdP5W+2N7HDt+XMe67Tv2qM2DYPPgxxh7CrJg5gI3HthqbKKrbrhXfnHtHdJ/yCgzD0xWwxloOCaYGGh2nsPY3B6P+elzpE2fvCyYhwiHoFvY+2Chde16aztVG68aXn2juS49Phftfbre1n6xYYvNnHbZlTebuXObuqNysGWRrvM3ex1wcqxd10HSrtsgad9tsHTuNUw6GdsRvV3XwdKt70j9JgRIpWHu7cjRo9Jn4DBZZ56de0XmLVwsvfoOlqXLV8lPr7hBfn/bAxqvxnMbkI6FphlfJxzlZOHqwJZNOvCLyr362Wrr/M1G5291+bMRs2jpKq1nSBnltXLNRlm+akO0WZQWF6xZt0l+ff3d8tOrbpUf/eoG+fGvblTSOmbidHn02de13ffqP1yuu/UhOXYsekXJlgEgneh5XL/qtmXzc2GvA/7aqyRbXTbVcV54o6U89eI7qpO3fV43n8hdM56bj3PLaXlG2sBhY+Wx596KOUgU18KXj4VtBzYfgF90L1Zcd310/rq6ycekf/rgDjkz4gsiU/9dpPefikwyJHbht0V6/i9Dam+T0zsK5VT8DG5c7p7+365LH7nr4efk9vufkYlTZ+o9E8aWBYjiRW0rep742WO3RZS28VM9Lmsjbnmk+kIcLz2O1dPjgPZd+8orb7cy7TBaiFm+aq36Axun5n1G6YG+ffvWILFXXnmlFGhlmUbNX4Kx+7pwyUpZuHiVLF6+VpauXCdLVqw1HWm1zFu0XAdh23FsPLBz1z4djPoNGa9usNTEa9Whj6w3BJibWbl6o5LcydNLZMbsBXLyxElDmnbI6IlFSoAHj5gsJfOX6MMtXLJKyfDE6cVSPG+JkhLKgHcVpxbO1XQWLF4ZFURcOHR2/KcWlmrDZRUKd2dDkvsNmSAz5yzUsGs3bNG0J0ydrRMW0XmWZSvX684t96rPFj9fuk55Ht+4VfbffI3s+vK/yO5vf1F2feVTsv93v5JThw5FRwM88ePblEXm2aYVzdf7oRzWbdiq/qwGTzHPNnVmqSn39epnK4/7mjF7vok3T8sIkJ5Nk7KYbq7ZNKmn0RNmmoErJrJxwEVLVss0kz5lxG473vY+CcP7oCxiAPw4UksZjxs3XhtNWdliveaC1T+utWjRQt36zEYsjp+IVg8Bd8G1E8aPVTINa/InH8KpburaxiEMQNcd1ThdwmkYI7aMbFoI2GcG7p79hsmCsmWyZPlq/Uu5HDoSffVXVzPNM9s4bnx00k0isrsMAR08YrymWbZkhQwYOtYMmuNUL1u8QoaPmpQyVixmzp4no8dFO+TTZ5bI/Y+/KpOmzpKRY6aoX33gI7LU04KyqB3QTqpMmMj/tGkzS9Wf/gNo4/Rn2tr+AxXq54L+vf9AZVQmrthysrp1J+nW7eq+cK5u3Ul6tuFcvbHjuLovnKtbt6v7wrm6dbu6L5yrW7erZxsuSW/sOK7uC+fq1u3qvnCubt2u7gvn6tbt6r5wrm7drp5tuCQ9lziu7gvn6tbt6r5wrm7dru4L5+rW7eq+cK5u3a7uC2f+Mmtwygz7hIX6Hbv2mDF7j5KDnXv266In4+ZuMy8DN23AztaPfnmDtGrbTYaPniiDho+VTj0G6mZAPN2q7rqPGKLbvc8QQ3xHKxED7HgyLtvxnDzAQU7FxeO1a8hVVFal5kVI+Mw5pfLehx11TuPe1DaL0+A6+VuQAmnauQHYtIhTYew/++0F0mLnZNK0WfLdn/5WNmyK7BRbBm55eHXrdvW0cADbZeCISTJ3wVIt76Gjp+oCPPPTnNLF0mfwONm6PSb+cXydm0253f3QM9Lsg7Z6DVx38/3yV//wOTMPL5eJUwrN/DozVW48J2VhbaHKuGyBtTnsfdmwFpQtAsif68yhwI1X6zmtO0m3blc394tu7xubnPKgHVJvkPq9+8sNMS3Xk4zESbfHV61ZL9/7+fXS3pCbcZNmyFhDYFlkWb9xiy7AgI7d+xuye1cNO6LCPDPPA0gPUA62vaTnwykG2pMbx147ZtKtNO1H/eK0AOV40NjJjz77hjz89GvqR1kS/oixP3luGwe7MNXuzX24bdPWI/0Esg9oExB+e23V2g264WDTADwP9hPQPE5GYwFgl1r7UfycgF1s0uQeCWfvTcM45ZHSrTtJt26r87wm3TOLPxYZ9bdyZoUhr+M+KbLsmyKTPy9nJvyLyOi/kTMTfx7FMzfhxgdvt2wr777fXjZu3mq4m7HrCuekyoB/y82YwXMA4tDeLewYA9BT44HJw5YbbcfGj+rvsOpcp45OnIhsc5u26iZ+fAtR/4lPuXBfy1au0ZMshN1uONiLb74v5eWVUmXSJX/7fJpW2rP27t0nRWKvuOIKadasGTuyBIiIKdUUEdkVUrpwme5ipv4uWqEDDUSAm7eDpX3QnbsjIsugYxsbDa9t14GyZfsu1dkh7Dd0ggwZOUVX3TCiWVnq2X+07sh27zdSidxWE36QIbX9CTtqiq7MQWbBkFFTdYVukBn4Bg6fpGF52IVmMOw9aKz0HzbBhB8kI8fNkA2bt6lflz4jpLuJM3riTDM57ZBOvYbKgOETTfrjZcI0U+HmGSDqb3/QVY194JaLLUR0HvfUiUo58NwvZM8V35cjE8aJ7N5meoyJt6zYxKQRVHdE0rZx6ewMzMtWrlOSzeA0xzwXjQJ3zwGjdfCGXPcZPFYWL1+jlU4jYnCfaO51t5lg0SG1HPWh0mfNXSQrVm/UNCCvcxcs0wGGo952R5bGxiTRx5QHdTXb3MewMVMNmWNAjidKo7AazeRuO0GnTp3kz//8z+VP//RPteHw9y/+4i+0MVns2r27FpG1g/xTTz0lf/VXfyV/8zd/I++9F10HV111lVxzzTWxS6RXr17yr//6r+Z5TkiLli3lL//yL+VTn/pX+eIXvyivvfaa3sO48dEiyd69e+VrX/ua3gdp//jHP5Y1a9ZonrauwK49e017miMrV6/TQRviiQHRd9BI01b7yujxU/W5bTxbV1anDJKI7JTpc2RW8YLYRfvfKzuMEWTBzuz4SdGqmMWcuQtlwuTIjx3ZLVt3yIJFy2Tk2IjIMggvNYQbHDJtYpEZkNw0XfiI7MbN27Vt0EaKihfqMX9QYvrthk3b1b9wzgJtlwvKVsja9Vv0hMVM8xx2kragXKId2agPRFLdltPLKkknbLru61c6mMe6TSNJj9z+tJP0yB35ZatH7rPL52yex9Vtekl65K6p2zSS9Mhddz7++nH17NJO0nPJx9Ujd935uLo/z6abj00jGz1yR37Z6pG7fnlG7pq6TSNJj9xNKx/A3Fu2bI0ugkNotxkSC5ldtGy12hfMydt2RGOwmzZgd+wHl/9O5s6vXtx9+a0PlNgyp8wqma8G5otvvC8vvfmBntjp1nuw3P3IC3Lvoy9Jn4EjlFR83LGnvPruh3LfYy9JybxFmg6k8b0PO8nrzVrrPMMiJSDN1979SB588lVji+2QiVOL5JFn3pDbH3hG88Wgt3MvRK1rr0HykCELLT7qrKd/Jk0rktdN/Kdfelfe+6iTEusFZculS8+Beg/PvfqeLF2x2thl62XA0DG6a/LEC2/rzt5GY08BW4bnoo2D+ca2tCfmQLGxTezpPDBpeomx26oX1zUfrHmDWcXz5J8/d4m533XqvueRZ+Weh59R/YHHX5BX337flIfI1Bmz5cvfvEwuv/omufWex/V01POvvqthKo2Rv3TFKvmPSy6V+QsjO7PlRx3lsWdelf0HyuWO+56US374a7nsit/LiNET9Dpxr7/1flOOb8nXvvNzJfwg/Tlt+STpkbumjt2BbcfOK22x3NTjxKnG9jP23TbjXrdxq7ZVNmT0hGQcJ4oflQtE9js/u06JjYsZs+bKnQ89q/Zgj75D9UQBp/AAbe+N5h/L/Y+/rPUPlq1Yo20YWbR4hZYl+YANm7bI+x930fZ4/xOvaByu054XGQ7Bju+DT72qu8CAMlqweJl82L6HvPHex/KbG++TZ1+JTvERj/QfePIV3SQAEB3SAqWmXt5q0Ubvze7edek5SDr1GKB9qWf/YRoe97OvNpehoyaq3Vw4u1Tueuh5zZvrbCa8+0F7k1ZbWbN2o6aD7fZRhx5StnSl7mo+YJ5lybJVeo2j2fg999p7hlNM0fHC1rHWlUe39ZCk2/pO6Saf0zvnyJnhhrQu+k+R2f9lOsVP5Ezhl+XMnK+ILDWEdtyn5My4H8vpk8cjIqvxo3rArrzt/qdTbdCCNsFO7YjRk7Rft+nUO7U4Q7lQZqULyuTVdz7UxbDpRSVm/Gqliwtbt+9U4vqRqSvq8uNOvXTsWrRkubTt0tv0sxdk6MioL/QzNjX1gl2JHcluK2C8SS/XxXG5Dhs9UZ5+uZlee8Xkeet9T2m9sEtv6xywCDN+it1djp63T59qIvuP//iP8t/+23+Ld2RjoTFVGAO5LN59xdhltWyBaWDzja4ky3QkCshWBgIske3rEFlWjSCyHFV2QcfsO3i8klVAgbEjy+4vsDcM6KiQ3ikz5qq7qyGlQw25ZfXGYu/+Cj3WjCEPILcDhk1MrRL1MEQZAgkYBN5v11t3nS0Y+CG402fN0wHUJUS1xIQ/dXiFnBr+P+Tk5Kd0tWN9pbmvOYaMlYj0LDoha3ayihQ1NBsPQFBbte+rAxKYPmu+En8wfsosLV8LBrG2XQbogDbPDPTjp87W+wK8j9y6Uz+tC3bCPzRpQjrAZFNOPDsYPqb6aDHlCHlnNdeCXWlIKwsY3COpbzTlwCounYz8CgsL5eGHH462703Dufbaa9U9p7g4dT/pRFYHYpPGI48+qv633XabHkdGb/n++xrmP/7jP+SrX/2q6qDVhx/q9f0HDsjESZPk1ltvVTdy8803a57Lli+X1atXy9e//nVN8/nnn5eHHnpIPvnJT2oc7sYtb4gsRywKZ8/V48XUB8Sdv5uNEaBHwWICZ+O5wnMkEdmZs0pl7MTC2FUbGBiQXRcukWUndokxllat2WAI9TQdBMaZ9AYMGWPqdK+Mn1wofQaMlGFmQGYVNR0+Imvrw4KFD0C7toMc7YO8Cmcv0HfgwbSiUpNetMJmQRnRpnzlEiRIkCD5LoyWGF4sGLNgj62DDcIprq69R+hRV4gsO7TAjQvYkf3hL36v5MACvxatO+v4OW0mC9vRdxYw0PoMGqn+g4aP09dR0EsXLNadX8AchRHJfb3zfjvdIQakw4I1xucwY5SCLr0HKWlmzOdUUFtjpJIe98bcDQHD8Fy5er3s2bffGIe9DFlbY8hKmcaHVD9oSEPJ/DIlIN/40dXS2hidbAocPnJE7nn0RWPczovmCjPXQdgtKXLLIVcBnL5jAZbNCOpg+NjpeloOHYKLPYPtBNLjTphSKH/4l580ZbhN1qzbID/+5XWqg+9edpX8/vYHVf/qt38m37n0KmPfrZd7H3lOOnbrY+yocvmjv/oX3bVdt2GzFPzPv9cTVVuNbfCDn1+jz9uz3xD5g7/6pAwZMVZmGWOf48rgrgeflv/7ma/LS2+8J80/aKc2LHXh3t/ZiiWlnKriWzPYbpOmF+vRYPJhdw1h04kTdNSRGx+wE/njX98ozVt1UMICaaVeR42fKt//+fVqB3FaDSJL/GJDYlnoB30GjJDnDXEDLHpgZxCeU2QR+YpsQxZVrC3bd/AobePgzgefletufVgXPiA+Dz31mu5o0o7R9xlewH0+9dI7uisLeGbSfNu0+w1xO2MXGTuK9j1w2Bj1Gzh0jIn3ruqQqWtuekDbOG2/c88BqT7HK2W08eFjJpm2+3tt1517DlQyzLNASIm/2BCpQ4bw/vzq2/QIMnbS4BHj5BVD7rgnSNnsudGGRVHxfCXZ56qeVUxnP3XYtO1xlxp2+c/G8Ddkdum3DaH9smHvl4jM+6acmWWI7ZR/MUT3M3Jqv+Ee5l5snQMINicCgfXn3ikTypcNG63j0kW6WFZeUSmzSxbI1394lXTpNUjDv/z2B9Kj31ANB2ltZtoNuPaWB+UOU5+Q0ulFc3XMoOxY7GLxTLlb9wHyy+vu1MURrrFIAQ6YfH7+G1Ouz9cu1w7d+skvfnuH8huuMd5xHxtN36WOAOMWC2wsptgyB70dIpsSbpwb4C8DKI2M46nsFEKs2AmNdmWXmQeZL2s3bNUCIlEbDzDY2x1Za2BDWC2RpfFzRJkd0FHjCw1JG6i7poCVk449hup1QKNjV5GVOAY4SCrGOFi9bpNOMhxhZoeR/PebBtvBxB89oVDJIbuV4ybP0sGffNnxnT03GsDZ9eJoMjvAw0zaHCkijAtbJvb5aug0vCpDOKcVyMktr2j4yUtOyHdfPyI/ePOwfO6pQzK0lOePG2ocH9DpIeKrDFmGUDJhLlsVrXzxfC45h8iyE80kCJHdvjOaTIFdIOC4DXpX8yzUC4PF2EmzNH2g78hOjIjTTtMQmSCKShbpTvjkwhITtkjTt4MIBHmliUvjsvVrMXfuXG0wyw2ZtODZwM5du/SaJbKgwjRi/C776U9l48aNsmTJEvn0pz8tf/Inf6LXL7nkm/Ktb31LdfDxx200/KbNm9XNjuQf/uEfqt/uPdW7kmPGjFW/Sy65RH73u9/Jtb/9rYwYMaJGm0SoUdrFgrKl2mknT5+t8W1dc9xkzIRpasiYR6+u3zg+OukdOeonssTrbYgmE1866HisRrpHk4BLZCdMLpKFZct1EJ5i7q1H32HSrnM/vUb87n3MxGPyGDepUFcX01HXO7LzTd9dsz4qS/oDbQNQ95QVCzu0P/oTx7roFy4Iw9HiVFnE4rrdskrSrdvVfeFc3bqT9GzDuXpjx3F1XzhXt25X94Vzdet2dV84V7duV882XJLe2HFc3RfO1a3b1X3hXN26Xd0XztWt29V94Vzdul0923BJei5xXN0XztWt29V94Vzdul3dF87VrdvVfeFc3bpd3ReOv8x57GCWLVstpSzcG+KETdHF2Be8o4n0MESWXTHgpg02GwIKkWUnwwIDr+XHnVVnt3PitCJ50xh27GpaY3zIyPE69wDmIwjTB227GeOxvTz76nt6X++36aJGI7se1i54o1lrPYIHUWbnjN0OwI4JOx6AOQtAWluacOlgTho6aoK8bYxFdsvmLViii6nf1d27iADyEZ7mH3VSHWDAQ2RTR4vjMnDLw6dbt6unhwOUOyft2Dhhw4QFeOYmCC52IKfs7NFiNz5lB2G/6c6H5cEnXjRGb3/5p8/8lzGAox29n/zyet19Bd/68RWGzP5cfnPD3Upof/Kr62WuIfGf+er3DTkaLU88/4b82398Rx575jXpO3CEfOJTX1YbrVf/ofLX//QF+c2Nd8u1N90jn/rCt5TUkt+lv/qdpg2s7ZH+nNadpFu3qzP3YoPxqhsbLBBWPY2394Da2Ws3btUNmTUbtugpK43n5A9YnPjhL2+Qbn0Gy4xZJWben6MbFKNNu7vsyls0fYjLVTfcp+HZnX/utRbatt5q2TY6VWD82aWHDE2aHtnT6c/J7mjzDzsqeXnzvYiA3Hrf05oe4Ajp1390laxZt1FJ5oix0eYVePrld1NE1rZbdnjZmQMv6UKN6L2wc8u9QXQ5XQAgWO9+EBEuQLu++9EXauw8shHw06tu0Xvv2ntwDXttiOlbbTv31rwJQ9kA7pH+gG0Mub/HpAnx4jg0fZPntmVgy8HVrTtJr3abtEx+p5d3ERn9CVNpnxdZ8o9G/sEU3D+ZTvwNYzR+U2Tx940R91nD4v9RTpevVQ7Cl9VJB0BUR4yLytXmQ99gI695q476F7C59JapI05gzF+0VH5gxi4IKmjZuosulABOmrCoBa6+8T5tQ4CFhaGjq23RD9t117Gia+9B8pub7lfeBinliDPA5vSVK6/0de87RNOOFs6Oap1TD9wr9VI0Z56S2hZxO7LlBtyjxQinNWu+I2sqiV0YCCyG7szihXrUF0MYN+SWd1o1jhMP2Hdk+zrvyK5au1FadegrW7bt0k7YpvMA1WlUk2eUqAENIAUdug8xJCra6mdVFBJHB+ZIDe/OsiLlgntjd5Ofl+E9gQ879NOjkqRNwVCRPA+F1qPfaJ2gXFDI/YaMU2Jpz9fv21+hcVLPFj+fq8ODTh3aJINGf0reKnxM9h2Nz4qbFtnV1NdXnj8kM1fGx4uJG8fnfrgvBuhRhnAXmjKFVPDuK4BU8iwWkBB2XelMHOmGiHNvgHPsH3XspwsErIjwQS3ehZ1hSDxHo23DZRHAviMLEWZ1j8Z60JQ38ZSwxs8G2OHdY4gxuXDf2iHiPKdMmaKNprg4qgd7hAjs2btXr9ndVsBxnf/1v/5Mvve978k999wjd951l/59+umn9frXv/F1+f73TQeN0bVrN02DLyGDbdu2p4gsvxcF9J5OntSGzFeSuYb87d/+rbz11ttRGKeuuH/KjE7Lez7APs/2ndVEFtg4bnzqLGlHFnBUpVf/EbJ8ZfWL6gzYPfsO16PD6YDITpwS1Qd/IbKsBLfv3Fc+at9Tj8qAtRs2yWvvtFYy3KFrfyW26chEZOctXK4nIzCkAIsk9j2IKbS5OB4rvmtMn6Ev0YdcWCKrZeKKLSere8qthm7dru4L5+rWnaRnG87VGzuOq/vCubp1u7ovnKtbt6v7wrm6dbt6tuGS9MaO4+q+cK5u3a7uC+fq1u3qvnCubt2u7gvn6tbt6tmGS9JziePqvnCubt2u7gvn6tbt6r5wrm7dru4L5+rW7eq+cOYvcwFzMgvovH4xX3cAl+kJLkhsW2PP8GqSNfDctIElsuxYWrCjytFG8Mgzr+trI3w5FyOQHVnAzsTYCdFxy94DRig53b13n+72cOSReQdhtxZygcHPeAzZhShD3rgnO47zThzvQgLuD0Aw2nTqpbrFrt379FgzO62kwU7dLENSIbK8T7lidTTPspMFObEgjO7INtA7spQ5No7F7LmL1Xa0mDitWE+KAV/8Jw0J/c/vXq67p5BZaycpkb03IrLf/NGv5ZIf/EpuuftRuf6W+43xP8WU3zFTbr3MHNtbnnzhTSUqTzz3upmPe8lH7aLj4R279VUie8vdjxkie6+8/GYLM/dWyZ0PPCU/vPxaTZt2ZO+n1nNad5Ju3a5uJCIk0fNVvyO7X4mCviOrbaD6HdlUGuYv0Hdkf3a9thcXI8ZMViLLriRk4srf36v+rTv0VHvEti3sQ4A9PbWwWBdi2J2lTGiLgIWUZoYoEQc7xpJXPjb0dst2qpM/bYtTZby3WZPINksRWdo74BTCOyYu9hOvg2H/QjbpC9G97U+1+zsffC61+2cBCeMYNDuPkLSxk2ZERNbwACWyS6tPYrKL3LZzHy23n119qxIowC7upVfenDq9yL2zGHX/4y8Z/hOdnnDrqpZu3Um6dWNDm7RO827suL8TWf0FQ2INgV3yz0b+r8qZ+V+VM/O+rSJD/kVOVWxOHS1GALvsvIKQDuqOnVX+At7J51UBxgtLZO1pEBYJeFUBMB60bh8RWQgqJB6Mm1yor+ZZEIeTAV16DdRw9AOIqR074Fjp5XqZqQvC8J0AiCz1wi6uElnT5oGeRjRjJfdp24v7vL16907Z/vyKyrZt26IdWQJEv53GLlalHrvVo8WLo6PFDPCslDHg6MeebKXEcQGfT/+4U38zAQwTPiYEqerQY4i+p8nOEkdDPjSkdlbJIl3hhEDao8WQCXZkIbZ8jIiJBZK6eNkaXZFq02WgEl86EO/4rd+4VRs4xJmwdEo+IDV09BRZsWq9Xi8qXqTPxIDA8SB2iiGzvK87deZc7ajLTdh2XQfqShUDJeR58dLVEZGLn82ufFihw500/u0WD5Qv9L1Kbp74tLxe2kZenvueXNpplDzd77DsO0g4wp+KKsDEA7zvyO4y76ECGrIddLkX3uHlWSApQ8dMVaJBOrvNwDJ45BQlI1yfYu6fVUvKjfd3KHeOdgPys2lCZNmFJQ06P2R5xZqN6obA8HEpwtoGxGofxwEoAHvf9t4nTZqkDWf27GhnU6+ZMCD9aDGAyPI+7Ve++lXZaUgjGDhwoGzeHB2TZUf1E5/4hBTNmiUHzeD83e9+V/7gD/5Atm6NJsvNW7akiCzHiQH5ce/Dhg2TpUuXSvv27eXD+Ejyo48+GoWJ79ldsWIQHDtxhokb/WQCaWCE0EnqJLIJO7IWkFmOAPPlRFas2aW1q1zpwCDgw06U+ThzP3y1mK8LNm/VSVdW8VthDJC1xm/IiAmpevQhiciWLlgWf+WRnx2Inp+FKCY/bTuFc3UBg/drWOmnXw4cPlE/suCCuCki65QJf7VsPf4+PdV/kvwdP/4mpe3zrzNt198I/vTdlF+sJ+Xp0+vM0/Hjb1LaOedppL55+nRv2q5/mtQn7STdm6eRWnnG1xs8T0+8+uTpTdv1d/z4e07Tdv2N4N9obTyWpLRzztNIrTzj6zmnHevYB8yrLCLPMzZO8fwlaptwrJjvTfDzL7qga+PGf8Gmzdvkmz/+jRpeetJrxhy59uYH9Qgf9gnvfvFFWOaYZ15pJr0GDNd4vHs6aNg4Mxed0KOL02cW6wItC6uPG8JQXFqmO1nkw3zFThf5YuDz/hhhsVkYxwFHL9nJgphhJALmolvueVIXQdeu36y7YbxyBVEmXd79u/fRF/VeV6xaJ//1gys1T8D9srPFUWeei0XgS350deoVFy2HuCxyrR+wZPlaGTRystpsCBsXfN8BWxE7Ertwx67YvjFx3LSZIYtLF8h3L7tavv79X+puqcW3f3KlXH9r9NXi//r+L/Rd1m3bd5q63mDKI3rtple/ofru7M13PaLuW+55TN+V7dprgLo7du0jf/CX/2yM+WihYFC8q37D7Q8pMQYZiayje9uhkaQyxD4EzPXY4+x+YQ8vX73B2HEb9DQfmw/p+QDsCOqUo+OAa4BdS3bF+HgmO7K/+O2damfQfloaoW1FH9Y8qScNIKhc5xi2u8gCIK4czSUsi+6cJgC/v+MxedWQXsB17gObhpNxHOfl4z60q4eeelXfrQQ2Texyjg5fd9tDSrbAB226SrMPIkJ2/PhJtWPAjXc9rru2YJ2xZ7hfe413O9dv2qIkDyJNv4DIsmhE++YDl+RN2+cjRN+//Hep47mDR46Xn/z6Jj2Gz7dObJqctLDv51Ke2bbxjDpp7S41FfMpY7x9VmQZH3ky+lKIrCG1C74iMvEfDIn9Bzld9p4Z2+EUkc1OGrQ9fvXi7oef1w++Ua4sWLFgwYbWY8+9qeMN/ixgsbjGbjXvCn/jx1enXhdgbLGkljKhLQC+yM5RY8ArcL3jMQxwHNjuyHK0mHLl3Vf7AS+uReUa9RnK9bs/j3ZkO/cYIJdfc7uOYcR77Z2P9L54Jr4bwOIFbQUTGKGsKG/g7sh+4xvfkMcff1wKopWfeDvaxCBzOs1cjhObv64wyOuOrFZEdTxGE1Zx2PEbYoTdIHZmIYfcKB2BRlhijGw+9sQEQRiIGs2XVdGR4wul98CxMnbyLJ0EuMYHnTh+zAeK+BgT76/2MqR0hCFnrNLNmLVAjXkmGYTjF7wHypFaSBwdjHsdP3WOHkXmXQt2KCG17PByH6sMsQOLlq7RCWxWSdTx3XJJFzvAdFk2WL435EaVbw26Th6c+p4cOUZhVx8/qI5zWp+T3S9W19iN5Rl4T5UvdQG+Fowf98gumg6QJh7gC8PEITzX7YoZqxl8pTiVprlOGuTFih2E136FmM7MUR3SoHxYcNCJzzwOK32Q4lN0FFNm3DPo0rWr7nhyJJiG82d/9mfqHjlylGzYuFF1PrjEtf/+3/+7uh9/4gmtD4784vdHf/TH8n/+z/+Rv//7v5cHH4gmlrvuuivVGC+99DK59977VGdVtFWrVvqxJ3udjzqRLj/5s8qQ2j//87+QP/7jP5bPfvazKp/5zGekdevW+hzp5Q7YMeXoFRPzuInTZYIxPPjgE0SWQUpXktLiIZQ95ZyJyAI+HNG7/wjp2XeYdyfWgmPELT7srDulpaYvrTQDBsYBAzzgAwOQWq4ziPLeU9tOfWrs+FokEVnaAHVO/7EfSGOg5p1Y+oc9os4KOAsb9KU1zkkAC0tkfeUSJEiQIBeGRGQI4wobpmz5GrUflqxYlxpfIyOqZjzi8FX6+4wxjHGMUccHmDiGC44ZI5J3vV41BhqGYO+BI0Q/WmIi8q4rYdmpgARjuL/2zofGPV6NbUgmH6155e0PDYlta4jeKs0PIvqkIbpvNm+j1yAlXOAIHjtmkBG+4EpY5nUMR977e8nc3yPPvqFf7mfnho+78G4c79AuXrZSSS8fW1m/0ZAWExfDsah4nt4jz0V8dri27tjlnWNzEWwN5liOy/IRTBb0VxvizetREDWO19pTfL56YO4G9z/2vPz7l78nM4qK9Rn4564HnpLnX22m7lkl83RX9qY7H5ErrrtduvcZpP7jJ0+XT3/pO/LwU4ZQGY/Hn3lN/vWL39YdW9y8T/jg4y/qcWTei73hjofVnn3lrffl9vue0DC++zpXgp1N28Qm5i9t8rApL5Ujx+QopDMOZ+NwT3yIiTplR5TntP5TZxbL3Y88r6SBL1SzMIINSZvjA2AcWad98B43BImdOdzs7GGrUNxKKMxfPlb27Cvv6UILR3B5D5e8+LAZ7RedE2rcx2rzFzLVqm13eeaV5nr89AHTdz5k59uEowwRypYF/+tve0R3BrnIaYVnXm4mrzdvrR+W6jd4lMahD7Tv1k/1KvM89Cc+VsSuI4svcA8Wl+555EW1salL+irX3zH5b4gXZthVZFGHOKTFzvF9j7+ku7/0MU3TlME0Q5RZ/D+39W3SOmOefUkrkf7/n8iIv9FjxGemGVI7+p/lzKivy5mih+XUtsLoSLHhHulp6DOYumQcoYxeb/ax3PHAMzJPN0o26nvJr5qyatelb+qUXumCJXKbCbPN1DHPzA6p/gykcTAe9Bk4UnWI8KDhhuAbHSLMDje6xuk7RL9DQ94cR3/h9ZZaXrzXSjuhjdlyJQIfXuVECGPTiDGT5NHn3jD9OnoG2hB1w8IJ4NjyvWbM0YUTk5j7rHyfR48Tx/xARUnLSYhp1JB4J5Dz9/olvyWr9D0FBCLJKhCEyq5O6opELKqTKasF2ih5VHP/5g83jr/tBEoeCEc8J29daTB/q8NGndimqYOZxo86Ng/INcKlx4lWLeK0NX0nDaOzWqEk29wj1+39633EbntvqnM95W8mMhMWlB+pkp2H9sruQ3w9jpUbW+g14wB2itnZBvhzn7yrC/kAPA/Pxb3xLPbZCEt2+HOd++Q6gIRQP4B75zrvC/PVWvXTfE7qszBIkB6rxDxD5B/9rBGNMf09FPKfMnWq3HHHHXL33XfrB5fuMn9xl5bOk127dqt+55136rV7771X3d179NC8wJixY1NxiooYXKJ6gzg/88wzco+J884770hxcYmmQf2MHj0mlSbCsWTi89M/3NuAgQP1fvAjz/Ly6OdjbFm75c5f6plOysDFe0Ackdq4aZt+Gl47iSkbN47VKedsiCzg3XJ2QesCfScT3OuUBeKLk+loMdAVOyde1GejgcCCZ7T1lA7CR0Q2LotYXLdbVkm6dbu6t185dWCvJenZhnP1xo5zNs/j6r5wrm7dru4L5+rW7erecL76cXXPs3nDJegp91nk4+qpcAm6dbu6N88mnI8vXJKeSxxX94Vzdet2dV84V7duV/eFc3XrdnVfOFe3blf3hUvp1IkRxjvmAsZ7Xr0BjI1R+Nrzua1fhk/mXOIxz4BU2kYwHFOEOPZnXiEORjFz7FEzHxOOtOxwjG3AYjRkBZAW4B7x45oa1ZpeNMdzD8zn0fNECZE24bg3az+RF/kDe58EVz1uo4Dw5EVYUsNf8yNcHDalW/84vhvO1VPhUhLZbi5cl9V5Rn02Gz+VT7V9VB0uCkNZqg1l3BaUETvXdt63cyvuKI6xrYxbbUHjtuA+2Tmy+RPelllEIu39RH+tbt1JunW7uhvOtj2eQ6+Zv+hW3PDp8Xl+Wx7uNRPNuKttAauTHm3DbbPYa7Q1yg1oPqYeNB0TnhNr9mekyE/LlLIx17QeTP5RftW2Bmkh0b3E4XjOuH4Bcez9Wrd7b+n5kDR61GfoS6ZsjJv8uUbaFjWex8S1ZUVb0HT1nqvbQXWa3Af5VbdDJF237iTduiPdpGUeUb+9s71QTi98V04XPyWny1rKqU3j5dTBPRGB5V5NuKi9p+XPBQPuzz4b90jdAeqXcksfnyhTG9+2d3VzLXbbMrbXKE8NE8exbcfmbf6o2PuzeVixbtIkbetPeOIz7gGOunPSBJBHKj55mjDNmzeXv/u7v6smsiQQVSaFg/EbvVfKYF558LAa+/zlLD4Dmr35SKIbsKIPGT+ovbnqtNPC2AKx/laMv95HrFv/GvGdvzXSJp4vjhXnmupGbBjN0/XjvuMGa6+n/GOddIQ2FNfeaV7eTt2P+athIx1wpJif1WGFkVUwiAIfpeKrdFpBpFnjvmrmb6+RL35g85adurvNbipp8gVn0uQjUNpQ3Ocxf1NpOGkdN5Pg9l17zUB9NJV2FKe68/tA402Cvfd0mMfUa0lRbVklwZcmqPmcTrmZZ+CaDzooadia5ZwqKyMMmpD8poa6iGyuYAxg0SpVJm75uLrTxv3+aZJeP1ZP8vfp3jyN1Mozvl6ftJP0WmnHkpR2ffJMpZ3k7/jxtz5pJ+nePI3gX8e4V8Pfp3vTdv0dP/4mpZ1znkbqm6dP96bt+qdJUto552mkVp7x9fqknaTXSjuWpLTrk2cq7SR/x4+/9Uk7SffmaSRD2swV0byQHEb1OG01yBATx87hVrCVrD9ziZ1b+RvNzZG/jW/n5FTcWKL0ovytHxLZYlF4zceIG9ZNO0onIo3peVl/Ny6iYW38VNqxJJVhfeotqX5qSXw9Q9rRfVo7IPKPntuGtWUU2SDV5VxNgohnw9i6Ik/C2Hi2nGzZ2LQ1T+/zuP6OH38zPE/WujfPSGrWWXTdtgnrX90G7HPy/FH7iJ49es7qONV5pq7F4aO0orYUtc0ozyhunL8TJ5WPplsz7er8ItF4qThReun5pPcl/PmL26adyl/jxXkSz7mX6jhxmkbXvDS8Eb3HKF4kGfT4eWr6G0n5o8fXjN1VS4zpqh+F0rAZ8jF/3Wdzn0fvX93VZaX+6ja6lotNC6Hcomv0n1S5xJIexuo2Tzcft9y0LOM4WsZOnrgBHIZ3bAcMG6s7upp3WlmdMvlw2rakZK4MGjxYBg0abIisuXDCZIrhqgUaF6otDP0b69wIYTVOLDaOm4Z7Lcm/VjjEk7bGj/291+rwT13zpZ3gr27S8MVx0q4VJ0134/OXSuG9Xz7OxC7s1MLSFEnyxk9z19JN+tQJO+ccySY9jpRCckCNOPG91IiPxM/DIgUNy5uPR6/hTkg73T89jWx0twxrXMuQp3XXipNBt27V09LmHSqOxTQlNDSRJX0+gmbLwS0PV/fVj+tv3Sk9oX5cf3stSc+UdpJ/pvSS9BruLPO01+qTp01D9dhf3RnytO5acTLo1q16prQ991NXnjWu+eI7/rWuJaTt+ttrrp4Kh3jyVHc987RuV/el7fpbd0pPSNv1t9dcPRUOyZB2kn8Nd5a6daueZZ6pOPXI06aheuyv7gx5WnetOBl061Y9Q9qufypOHXnWuBankeRv3Sk9IW3X315z9VQ4xJOnutPyTMVJyNO6Xd2Xtutv3Sk9IW3X315z9VQ4xJOnuuuZZ61wabp1q54hbdc/FcfJ015L0m0aqsf+6s6Qp3XXipNBt27VM6Tt+qfiOHnaa0m6TUN1j791p3Qn7Rpx6sgzFQ7x5KnutDxTcRLytG5X96Xt+lt3Sk9I2/W311w9FQ7x5KnutDxTcRLytO4k3bpVT0s7pWeRp72WpNs0VI/91Z0hT+uuFSdNZyOSXWQ+2GV3zDWOk3Z12JqbUwU2MY1wDnWf5JJeku6TXNJL0n1S3zSoKHDGiLtIkBTe55eus+igacarhTbdpPBJul3tSLp+LnSfX0PoPjnb9CgXSP7+8io5fJivYft3dxsbkGteAzjX4Lmrqnif5KDqp+JySCqfXHWfX0PoPr+G0H1+DaH7JJf0knSf5JJeku6TXNLLRvf5NYTu82sI3efXELpPckkvSfdJLukl6T7JJb0k3Se5pJeN7vNrCN3n1xC6z68hdJ/kkl6S7pNc0kvSfZJLetnoPr+G0H1+DaH7/BpC90ku6SXpPsklvSTdJ4nxYo6UiReh6wZcTHDxiz725Fys5c5GD3Gq3a7uC+fq1p2kZxvO1S/UOK7uC+fq1u3qvnCubt0JOmS2ouqQHrflSPj5Fj7kxTFy37VcpNw8Hx9G0AEjvTys29V94Vzdul3dF87VrTtJzzacqzd2HFf3hXN163Z1XzhXt25X94Vzdet29WzDJemNHcfVfeFc3bpd3RfO1a3b1X3hXN26Xd0XztWt29WzDZek5xLH1X3hXN26Xd0XztWt29V94Vzdul3dF87VrdvVfeFc3bqT9GzDubp1u7ovnKtbt6v7wrm6dbu6L5yrW7er+8K5unW7ui+cq1u3q/vCubp1J+nW7eq+cK5u3a7uC+fq1u3qvnCubt2u7gvn6tbt6r5wrm7dru4L5+rW7eq+cK5u3Um6dbu6L5yrW7er+8K5unW7ui+cq1u3q/vCubp1u7ovnKtbt6v7wrm6dbu6L5yrW3eSbt2u7gvn6tbt6r5wrm7dru4L5+rW7eq+cK5u3a6eIVx0tFiFz1on6dbt848+GFTzOn6Rf3TNjZ8e3r3m83fF+vvz9Pv7dDdOur+bRrV/9s+TpLtx0v39ads8ffHqk2d12JrXaucZ6dnladOuGcZK7TTwyzbtJD1yV4d1/aM0oms2Xn3yrI7jhonCGTGdBT9emI8k+ihXTXeSv3vN5++K9U8P614z93XCvRc3TM1wfn/Xr6Y/H/ioLke3DFx3km7dPn9fGnHZ1vK31/z+NfXIXR225jX8o2vV8erbJgjvhrFSOw38sk07SY/c1WFd/yiN6JqNV588q+O4YazUzDO6ZtNOz7NmeJuGGyYb//Q0or8N8zw1/aNrNl56eOvv09046f6+NPBLTrumf3UcN4x1V4d1/aM0omvV8c59GVaH87cJe61ad/1r6pG7Oqzr70u7Os/qsNV6Tf/qOG4YKzXzjK75nyc9vE3DDZONf3oa0d+GeZ6a/tE1Gy89vPX36W6cdH9fGvglp13TvzqOG8ZKddja/tE1G6+h8oyu+duEvVatu/419chdM23r70u7Os/qsNV6Tf/qOG4YKzXzjK6dq+fx+/vSqM7TF6+mf3UcN4yV6rC1/aNrNl56eOvv09046f6+NPBLTrumf3UcN4yV6rC1/aNrNl56eOsf6WefZ3Ttwmjj0XU9WlwdID1CtnqIU+12dV84V7fuJD3bcK5+ocZxdV84V7duV/eFc3XrTtIjqe5AkW4l/XqSf310153unx62vrp1+/wZbJLLIF33hXN163Z1XzhXt+4kPdtwrt7YcVzdF87VrdvVfeFc3bpd3RfO1a3b1bMNl6Q3dhxX94Vzdet2dV84V7duV/eFc3XrdnVfOFe3blfPNlySnkscV/eFc3XrdnVfOFe3blf3hXN163Z1XzhXt25X94VzdetO0rMN5+rW7eq+cK5u3a7uC+fq1u3qvnCubt2u7gvn6tbt6r5wrm7dru4L5+rWnaRbt6v7wrm6dbu6L5yrW7er+8K5unW7ui+cq1u3q/vCubp1u7ovnKtbt6v7wrm6dSfp1u3qvnCubt2u7gvn6tbt6r5wrm7dru4L5+rW7eq+cK5u3a7uC+fq1u3qvnCubt1JunW7ui+cq1u3q/vCubp1u7ovnKtbt6v7wrm6dbt6criYyAYJEiRIkCBBggQJEiRIkCD5IQUcJTxuFI4YosNwo+OGBMhGNxLr/IxLSjd/a+k55UM84jd0PkZiPcqHtLLPpz552rTdPCP/SM+UdpKenkY2+rnLp+Gex9VtepFu86z2t2m4uk0jSbdp+HUjsX6htfEaeRq/bPKpT56+NuF9tjrycfXqtLPXs03b1f3p1X4eN4xN42yex9VtepFu86z2t2m4uk0jSbdpuLpNI1/aePZ5GnH8M+aZUz6EjdLOtY37007SbZ7V/pnSTtJtGq7ue57IP9JtGq7uS9vVbRqubtOI9OTncXWbRpJu03B1m0Z9nudctfFIj/xtejX0s2gT1boRx9/mmW9tvFqvTrtmnlEa6Da9uvJx9dr5RNcj3YjH36bh6r60Xd2m4eo2jUjP8DyObtNI0m0arm7TaOjncfXz2SYutDbuzcfRffm4uk3P1W0aDd0mbBqRTloNnY+RWLflVmATiCKcO90nuaSXpPskl/SSdJ/kkl42us+vIXSfX0PoPr+G0H2SS3pJuk9ySS9J90ku6SXpPsklvWx0n19D6D6/htB9fg2h+ySX9JJ0n+SSXpLuk1zSy0b3+TWE7vNrCN3n1xC6T3JJL0n3SS7pJek+ySW9JN0nuaSXje7zawjd59cQus+vIXSf5JJeku6TXNJL0n2SS3rZ6D6/htB9fg2h+/waQvdJLukl6T7JJb0k3Se5pOfTnaPFxjNRt26ff7qfey0bf/eaz98V658e1r2W7u/Trdvn7/ol+Vs9yd+nW7fPP93PvZbuXx/ddbuSfu1sdOv2+af7udfS/euju+50//Sw7rV0f59u3T5/1y/9mutO8nev+fxdsf7pYd1r6f4+3bp9/q5fkr/Vk/x9unX7/NP93Gvp/vXRXbcr6dfORrdun3+6n3st3b8+uutO908P615L9/fp1u3zd/3Sr7nuJH/3Wrb+6X7utXR/n27dPn/XL8nf6kn+Pt26ff7pfu61dH+fbt1J/q5Y//Sw9dWt2+ef7udeS/evj+660/3Tw7rX0v19unX7/F2/9GuuO8nfvZatf7qfey3d36dbt8/f9Uvyt3qSv0+3bp9/up97Ld5xMbr+DCA/CZj6a/VM/q5fkr/Vk/x9unX7/F2/9Guuu7666672p2yiMkouw5r+Pt26ff6uX/o1111f3bp9/ul+7rV0f59u3T5/1y/J3+pJ/j7dun3+6X7utXR/n27dPn/XL8nf6kn+Pt26ff6uX/o1111f3XWn+6eHda+l+/t06/b5p/udindkjYO/51L3SS7pJek+ySW9JN0nuaSXje7zawjd59cQus+vIXSf5JJeku6TXNJL0n2SS3pJuk9ySS8b3efXELrPryF0n19D6D7JJb0k3Se5pJek+ySX9LLRfX4Nofv8GkL3+TWE7pNc0kvSfZJLekm6T3JJL0n3SS7pZaP7/BpCT/c7dOSoHDZy6HAk50r3+TWE7pNc0rO6W0ZJkk1511f3SS7pZaP7/BpC9/k1hO7zawjdJ7mkl6T7JJf0knSf5JKeTy84euy4BAkSJEiQIEHOvfAb1D7/IEEuNDl1+rTs2rNPfnb1rfKtn1wj3/vZdUGMfPvSa+VHv7xBNm3ZLqdPn/GWXZAgQc5OCo4cPSZBggQJEiRIkHMtx6Wi8qDqxw2hDRLkQpaTp05re2/fta+0attNWrfvEcTIh6Ys2nTsKfv2lxuyf8ZbdkGCBDk70aPFQYIECRIkSJBzKydPnTLGa6X5e1ICAgICAgICzi0CkQ0SJEiQIEEaQPgQxf4DlfouT0BAQEBAQMC5RSCyQYIECRIkSANIILIBAQEBAQENh0BkgwQJEiRIkAaQQGQDAgICAgIaDoHIBgkSJEiQIA0ggcgGBAQEBAQ0HAKRDRIkSJAgQRpAApENCAgICAhoOAQiGyRIkCBBgjSABCIbEBAQEBDQcMiayPL7YKfPnPFey0X4TS3gu5at8BMHDXFvQYIECRIkyNlKILIBAQEBAQENh4JTp0/HaoSkyfjgoSOyd3+56r4wdUnMV2v46SRfXilr1m+Wo8eORwEM3DAucEOoXZyLewsSJEiQIEHOtegc1wBEtqKiSk6atMGevfvlwIEK1X04deqUbNy8TQ4ePBT7VIMF4HIzBwcEBAQEBOQjCiqrDsnIsVNkxJgpsnzVOoFvQhajSbiaOC5dsUb6DhqlOpMfk6idqE8bloqwM5ryM2EgybhJc8++A7Juw5aUHwKGj54sH7XrKUePH5eypaukcFapxj8RX1+zbpMMGjZOlixbre59B8pl3KRCGT5msiwoW65+y1aslV79R6pu0w4SJEiQIEHOp9SXyJbOXyyjx0+TqTPmpIiqDz36DJOdu/eq/uLrH8jHHXqqvmrNBv3rYvuOXfLSm61ky9YdUjRnnqbPPAuOHj0mHbr0Uz0gICAgICDfUNC5xyBZsGiZTm7PvtJCieOxY8d1Ej52/IQcOnxUAy5ZvloGDR8vR44clV279ynBhbgeOXpcSeruvfvlsLlmCe6OXXt0txVw/Y1mbaT3gJF6nUmdMKdMGkNHTkyRVPJ4p2V7TfOMIcKr126UgUPHybTCYhls8l6+cp2sWb9JPvi4u5mQ58uo8dNl3sKlUnXwkBLxZSvXKqG2RkSQIEGCBAlyvqQ+RHZG0VyZOKVI5s4rM/NgB104tmS2vKJK5zmLHn2G6hwLlpp5c+Xq9TqHv/j6+2bOPqL+FqtWb9DFavDBx91k5ux5mtf0mSU6X84yc+ms4vl6PSAgICAgIJ9Q0L5Lv9QqLhPg9p17DOEcobuoW7fvln6DR+u1VWs3SJuOvWTUuGny1nvtpHvfYWaiPiFz5i6SZq06yXsfdpbhhkwyYc+as0DaduojfQaOMqR3r0wwk/Mtdz+tZHbXnn06eQImYAjqSd35NQTY/O3aa3CKPM8qXqA7tmDqjGIZP3mmHpMyHFcxYOhYGWKIMODaVEN4gc+gCBIkSJAgQRpT6kNk2YWdMGWmVFQeVDdHfqdMnyP9DKFlQfflN1uZ+XahXuvZb3hqR3bMhOmybsNmefy5t+XeR16SeQuWqD+ACPcyYauqDuniMIvHYPHSldK6XbSLu3b9ptRpq4CAgICAgHxCARPcq29/pCu1TG7sqnbo2k+J7KYtO6SLIZaAndo3m7cxk3KFTrSvv/uxbN66Q8kjO6ZMumvXb1Yi3Kn7QI2zZNkanXBJ68EnXpOxE6erPxM8WFi2XIksgMgeNES6c4+BKSJbMq8sRWQnT5utAlYa4t2uc1958Y0P9B4Ax40LZ89TPd2YCBIkSJAgQRpb6nu0eLyZx557pYUMHTlB3cyZHbv1V33p8jXy9nvtVO/Vf0SKyNrr3fsMlVfe+lB1C4hsZzMf21d1mL/7Dhwlz7z8np7EAuzm2nk4ICAgICAgn1DAPwcPHdajuqz4zi5ZkNqR3bx1p06OgEl08IhocgVjxk/To7zsyg4x/gOGjNHJkiPGr73TWroYQvp+664ybmKhHkOGyHL0CTDBg0WLV9SLyLI6DXbs2itLlq4yJLpE5s5frH6ByAYJEiRIkKYk9SWyYMOmrdKxa38lnGMnzpBly6NXb0DvfiP0r0tku/QcpLut3XoP0TncBUS2a8/B+roQOHrsmJ6EWrh4eWo+DUQ2ICAgICBfUWA/mAQ+bNtD31llFxXs3LVPuprJEUBk+xuyCvhAVLMPOhrSu1AnXcC7qpDOvQcqpL2ZhJlYmcgBO7h3Pvi8IZsz1G3955s4dgI9fea0nDBkFiJrPzA1y5DqYaMmqc6kO3LsVFm1Zr26wey5i1JHiyGyM+IPWLiGRJAgQYIECXI+pD5Edv3GLbqoDJhvP2jTTV/lWbx0lfqtWbdR3mnRXnXmaL7UDzp1H6Dzbfuu/eSF195XPwuILKQYLF+5VheMwYGKipQ/rxZxdDkgICAgICDfUPDE8+9Ir/7D9cvBLT7qoh9yYpeT1V387I4sXxzmaDET6Lvvd9Tjw7z/CoHkvVbijho3VT8QNX3mXI0PKWVXlZ3aUYaEvvZuayXKhOH3Y8srKtW9c9de2bZjt3QwEyu7uRyV2rR5m+wzEzXk9eOOvTXc1u27pKh4vsmPtAfJgGHj9IMXfCGZleui4gV6rz6DIkiQIEGCBGlMqQ+R5WRT8w86Ss++w+SlN1rJ4mWrZMqMOdLs/Q467770xgf6Gg9g/hs8PDoh1cOEZ8d146at8mazNmb+HCDbd+7WaxDc4rmLpHT+En2PlrTZweXU1XozpwMIrl0wDggICAgIyCcU7NqzXzZt2a7C+7EA4rlxc+TH1xKZhPmdV4704sd7qZBRjh8fPnJMNmzapseQqw4e1hVfrm0wRBTZu++ArgrzgSeIKGIneTBw6Fg9QsWHpngnl+NS5M2ur5mDpfLgISXRB+IvIGMYcA/kuW9/9Nt5vDML4eaYM/fqGhJBggQJEiTI+ZD6EFmO/bIwu33Hbn2XFYwdP00mTJ6pfvvMXGrBb8Ky0AuYt+0HFPmy8dZtO1NHiQE/u8OHFgnHb85uM3Mwf8GRo8ekkyG+h+Kd4ICAgICAgHxCAWRRxTjsb7wy+eKO/KIjwim/OKz9rVn+2rDWr2b8mn7Mt7gRvqDIb9fy0zlH4onXpk94N/1a9xH7kQbkd9GSlRrXph0kSJAgQYKcT2G+qu87si5GjJ6U+ijT2YJFYl772bZjV+xTDe4r1/QDAgICAgLOFwp8k29jigW7wL7r2QhkGfiuBQkSJEiQIOdDciWyB8orUu/NBgQEBAQEBNTEeSeyQYIECRIkyIUouRLZgICAgICAgGQEIhskSJAgQYI0gAQiGxAQEBAQ0HAoYKJNmoB9/gjXMl0PEiRIkCBBLnYJRDYgICAgIKDhUMA/6ZMvH1EC9gNLrjAxA0KkX8tFSDf1Eaf4o1HV107qR6LSPzRl4/DzO9ZNODdukCBBggQJcj4kENmAgICAgICGQ8G9991nCOIZnXCZeNHnls6TL37xSzKnuETddlJG33+gXL74pS9Ju/bta1zLRfjJHkgzvyXLT/DwkwAuOcW9ZdtO/dkf/qb/zA+/fQswGEaPn65E1z5PkCBBggQJUl+x8F2zi712UTVJ6ktkDx06JKfM3JYNSktL5UtmLl60aFHsc27AxxP5HVp+J94HfpKvorIqdkXYvWe//kTQyfg5163fJDNnl6oeEBAQEBDQUCj4/Be+EKsR+D265StWyK9/fYXMm78gRSgRrjGBXXnlVdKjZ884RjXcCTxdmNB95BJDgN+869VvhLzVvK207tBLWrbuaibLyhTBPVBepT8Ij7Rq010GDx+vXzkunFUqHbv1l979RyjJ3V9eIe269NM0fbvKIPKNft7H6sDeH+CZrW7jgzjJFGy6QYIECRLkwhDGfuaQMWPHyZat22qN9WZ60N9kHT5ipC7sZiKzpJUtkV1h5t1LL73UzG0nYp/MIPwVV1yhf88VDhyokPc+7Cwfm3n4nZbtZcDQsSlyajF9Zom0MGEApHvAkLHyZrM2Zu7tq/6VVQdlybJV+hvxAQEBAQEBuWDdunUyffr02FUbBT/84Y9kyJAhctddd0uvXr3Vc8HCRTJh4kTV3UmZldqdu3bLwEGD9VrXbt1k+PARGrdZs+bqx8TtxrHC7ilEGHLq+mMEHDx0RMZPnik7dkUrwB+06SYzDEkFhLGkEvCbs+s2bNGwbTv1Ub+Nm7dJt96D5ZAxLjr3jO6t8uAh6d5nqKxas8Hke1rzmTN3of7ebI8+w8xke0hWrF4vbTv31bx5NnZ6ibN2w2Zdde7Sa7DuEHNt3sKlsmLVOp20uxp/dn5JN+l5gwQJEiRI/omdb959t5lc+9vfyo4dO9TNNQApfeaZZ+W2226TysoqnR/S07CSLZFdtWqVfPrTn5aCggLp2rWr+vXs2VMGDRok9957r5LbPn36yD333CO9e0fzdFlZmRQVFekubr9+/dSf6yNHjtTrZ4O9+w7IxClFcsb8ByF97Z3WOue7gNh27j4omlfN802ZPlt274lORX3csbeUlC6S9WaOHjYqsiE2b9kuPfoy5x5U9+HDR2TuvDKZO3+xLkoDFqU7dO2f+k3bLVt36DzNIvfa9Zuk94ARakOAeQuW6Lzeq99wnYvnm7k5ICAgIODCxJo1a+TnP/+5znPp4ERSwSc+8Qnp1Lmz9OnbVy699DKpqKiQgQMHyX3336+B3EkZrFq9Rq644kpdlf7MZz4rTz75pEyfUShf/drXZPPmLakdzPR4C8qWK0lkJZvJz73uElUwcWqRhnePLpMuhLV3/2iShoiyYjxo2DgpLi3TVWJLXvcfqNAJDtJ6wBBSyDObqaw0M6GuN0SVHdznX2spU2bMkdL5SzRPfq+v76BRMr1oruzbXyE/u+oOWb1uk6w0hHfkuKn696P2PTVun4Ej9TkCkQ0SJEiQC0v0VI+R119/Q6659hrZvj0isxDKJ8ycd8stt8iBA+Xq54tvJVsiy7x73XXXyR//8R/rpA1J/Kd/+id57bXXZM6cOboa3bFjR732xhtvyJgxY2T06NGGUD9j7uOA/P3f/70S2U6dOslVV11lCHZlnHJtjJkwPSKrTOIZwPUhhmhakmpx9Ogx6dJjkM5/6ZheVCJLl6+WNWs3ymgzZ27eskNPUq1dv1lPUYEqQ2ifffk9mWrm3k1mTp+/aKm6l69YK9MKi5WYHjx4WD5s11N3vGeYNK/8XWSPQJoXL10pk83foSMnyqLFK2T8pEK9FhAQEBBwYYKF25/+9KephVxQXFws3/3ud6Xgv77+dfXYtGmzrgYPGTpMpk2brpM1cCdlsGbtOrnhhht1or/66t/oEWDABPzII4+q7sZBmJS3bN2pJJJ3aXwr2KQH+g8ZI916D1EdIwB/roOeJv6GTduUlEI6J0yeqX79B4+RVWs3KGkdNGy8DBg6Tu579BUhRY4DY0RAhLv0HCS74kl5xeoNZoIdpjpgZZhV3jmli2TStFlmcl1mSO1omV2y0Eykpbpre+jwERk2epKSXnvP7jMECRIkSJALQ5hnkFcNmbz22mtl6bJl8rQhjrfccqshWAd03vDFcyVbIgueeuop+ZM/+RPVq6qqzPx6dQ2yCZlt3ry5XHbZZTJ8+HCZOnWqEt1t27YpsQbLzD0yj48dm3yst2zJSp3vIOpJgKS2bN1FZhUviH2qkURkR4yeLJ27D1Sdo8XjDMFs3qqTvg7kAnLaJT45BSYZUspCtEXnOO2hIyfI8pVrDXmdoyeh1qzbKENGjJd1GzbLlm07jD5Bis18HRAQEBBw4WPhwoX6+s2AAQNk1qxZOhdOnjxZCr5xySUaYOXKVToBDh02PGsie8011yqR5WNMf/RHfySPPfa4hnHjWIFIgiTyx0TPcd3X3m4te/dHK92HDh/Va8QBfQeOkvUbt6rOkV9LePnIBMeMjpvJ7/V3P5YxE2ZIJzOhQmyBJbLs0u7eu1/9lq1cp8eVLCDErO7yDnD33kPljeZt1J93d4eOnKQ7txyJ4lmLiufL6HHT9L7CjmyQIEGCXJjCtMU3E3h15nOf/7y+RlMRL976wqdLfYjs3XffrfMoOH78uJlfr9FFYDBhwgR58cUXlaBypBkiO2XKlBSRveOOOzTc/Pnz6ySydYHjvHx7ol3nvmaOi8jq8fhYrwVzpAWkk8XfV976UPbHc/eqNev1WDKLzX0H1jzqDJG1czeYMLVIiubMj12ip54OHTose8xc/dZ77WTg0HHqz/wNWV62Yo3u7nJ9UlrcgICAgIALFyzW/vCHP5SvfOUrMjF+Bbbg/33mM6osW7ZcJ8ABAweZi5OErxkDCKAVwNFiPgQFifvpT3+mkxLkjrj33HOvhvFN6JkE8A7qNTc+pKusvDtTbgjloiUr5MO2PeTIkaOyd1+5fgyK48Vg+849erSY917ZkeX4Eu/IftCmu5lYTyrRfff9DvrlRXaAuX8m5p3GzZNs3b5LBgwZYybBebra+9wrLWSb8QMftespjz77lupvmjzfadFeDZKxE2fI7JIFevSYY8qsaAciGyRIkCAXrjBf8ErMqFGjZcfOaI7whfNJfYgsx4I52cQ7svPmzdMPOdkvGHfo0EEuv/xyJbDsDrMiPX78eD1avGXLFvUDJSUlOhePGFG9SFtf9Bs8Wm684wkliBz7ZVd45Jgp+s4r5HF6YYkuGPNea9XBQ3qS6ZobH9RdXp27DdHneDHfrTCR9evF7bv0NXbCUU1/3/4D+mEoi8XLVpm0J5lw86RNx97yfuuuqfK699GX9XUhcOcDz8uY8dP0XdsRYyZrXnxQikXsgICAgICLA4sXL9YdWYuCfv37KyHbu3eftGr1oaxes1aPGc8oLFQCyaRhJVol3Sdjx43XCXrU6DF63JaPMLRu/bG+K5v+G7DZCHEgphzfZQV3uJmkOALMV4hHjp0qFZUH9Wd3OKrEB5kIz27t1MJiGTVumgkzRT/cdPTYCTOBrtEVdEgt7wJxFNkSziVmciU+Oie2SJMJlPwgyBgshF28dJUeqUJnspw7f4mmSVzS5INTpQuW6nXf8wQJEiRIkAtH7Kkg1nN915OkPkQWDB06VN58802ZO3euzJgxI3W0eNOmTdKiRQu99t577+kuLASWcAcPHtTdWbB7924zF7fW8GcLjvDyDi1zMTue3MOGTVv1+C+LvcyBvN862pDKA+WVahtMnjZbZdS4qfrBKOZs4gDcYyfMUPsBHD12TD+c6IJdVuZx5nhOPlmwcMz7tmCaIdC8UwtYoCYviK3NJyAgICDg4kMB/zDh2h1XYLUXX3pJrrn22mq55lr9SR5AHMBEbXVgJ/D6Cl80dsEuqjUeyAMiaXXC8zcd+Nu/9rpreAAbH6mZY81wIF2392NhwwcJEiRIkCDpwnxTHyIbEBAQEBAQkD0KfJOvFd4XPVBeUUM4RuwLGyRIkCBBggSplkBkAwICAgICGg4ZiSw7kO47soi7oxkkSJAgQYIE8UsgsgEBAQEBAQ2HjEQ2SJAgQYIECXJ2EohsQEBAQEBAwyEQ2SBBggQJEqQBJBDZgICAgICAhkMgskGCBAkSJEgDSCCyAQEBAQEBDYdAZIMECRIkSJAGkEBkAwICAgICGg4FTLRBggQJEiRIkHMrfDARInvyVO2fiwsICAgICAjIDQVVh45IkCBBggQJEuTcykEju/cc0L9Hjx4PEiRIkCBBgpxDKaisOiRBggQJEiRIkHMvVQcPe/2DBAkSJEiQILlJQbwzGxAQEBAQEBAQEBAQEBCQFwhENiAgICAgICAgICAgICCvEIhsQEBAQEBAQEBAQEBAQF4hENmAgICAgICAgICAgICAvEIgsgEBAQEBAQEBAQEBAQF5hUBkAwICAgICAgICAgICAvIKgcgGBAQEBAQEBAQEBAQE5BVSRPbMmTNy8uRJI6dUDwgICAgICAgICAgICAhoilAiW1FRJcXzlsiskjKZU7pY5petkIrKgxqgPti5e5/sP1ARuxoGEO29+8vlxImTsU9mwMkPlFfK4cNHY59qHDt2XO/51OnTsU92qDp46KzKJyAgICAgICAgICAgICB3FBw5ckxmzy2T7Tt2y2lD6JAdu/bKzDkLpbLqUBysbhTPXyKDRkyS/kMnyJp1m2Pfc4/dew5I604DZJu530zYun1XrIl07ztKnzEdi5etkdETZ8rxLEmxxfgps2XIqCmxyw/Kbu++A7Erd5w4ebLOZw4ICAgICAgICAgICLgYULBq7UZZt2FL7KzGxs3bZdnKdVkdMy6et1R6DRyjO5x795XLvEXLZfPWnfHVaOcznRQfP3HC+B2UQ4ePxD7Rbis4cuSoVB08nMobso0b7DPpf9x5gOzcvVcOHjosh01Y9x5PnTqleUFQuRd2bnv2Hy1zFyzT+2A31e7AHiiv0nuwOHr0mO60Jj0zeZH2qPGFMnT01NiXHdrDmg5kE3D/i5askqI5C+XQoej5jh+v/byANH27u+RzxNwPIC7lOW7yLL1/FhsCAgICAgICAgICAgIuVhSUzF8i5RWVsbMakLPShctS5CwTLJG1xAtAvsBBk07JvCUybMw0mV40X0kkJI0jzJOml+gubtnSNRp2/qIVMnPOAvUrNH8hbOUVVTK7pMz4TZZiE2fPvgPSoccQPQrNLiuE0pJcUG7I6eTCEuk/bIJMnDZHd5cHDJ+ou6gLF6+UoaOmytr1EXFfs36z9DT3zb1WGJI5e+5iDVe2bI0cNaTXAn3dhq0yq2SRpt1rwGhDZmfotc1bd8i0onkyeUaJ7tJCjhcvXyPDRk+TweaeS+Yv1Wdwn3eJuQ4OGP+ZxQv1PpevXJ8qa0grZTVg2ETdhd2ybZeMMcR8gHmm6SYv3zHpgICAgICAgICAgICAiwUFcxcsle07ax9Z3b33gO6sZvv+KEeLIVqlC5bFPiKVlQdljiGbEDl2HgcaQrlrzz7ZX16Z2oWEaEJST58+I0XFi6Rtl4HmfvbotX37K5SwslMKWWWXc9v23dK+22AllYC/M2YvUN0F5JLdWdBn8DglsEePHjekcKeSX44Tr1y9Qdp2GyRnzDOSD7vQYKe5J+7XYu2GLTJ87DQ5djwitxOmzkntyG41JNOC49gQU7B+4zYpM/cL9uwrV/IOeDbILLu+M2bPl12796k/hBVCvWnLDllQtlL9Vq/dlMqHndhCz3MGBAQEBAQEBAQEBARcbCjYsn2X7n66H0+CAEKyNm6JiF224MNJw8dM0x1G0mP3lF3F6bPm6U7iuMlFetyXnVY+ClVkSN/UmaUyYux0JXaQwP5Dx8epib5rC5l2Qfw2huzu3rtf3ZC77v1Gqe6CdO2ucI9+o3V3GWzaukM+7NBXj/iSPru73M8KQ2oHj5ws00w8SzotVq/bJEtWrItd0TuylmCyC006PDO7puxwA3Z92QEGpL9vf3n1846brn5cZ9eW5z4YH0GeZYg/u72EQyx5ZTFgxqz5qgcEBAQEBAQEBAQEBFzM0K8WQ+I4trty9UZZuWajsEs7ZtJM4f3Z+uLUqdP6Dilp7T9Qqcd/Ian4W5DfyHEzlARC6KLd09NK6PoOHheHEn13d0FMBi327D2gRNZ++Aiix45rOiCB9p1b3pHlaC+AyLLry46rJbL2SDQ7v+zwQmgPOMetIbJ8GMqCHdlhMZGFvC5evlbJPx+YKp4X5QORZQcZLF+1XkZNKNQjyjwv93YsztPutHIsmTKg7Ldu36074e5uOEQ27MgGBAQEBAQEBAQEBATERBZwxBfiBXHk+CtEj+O2HG+FfGUChBeCyS4nhItdWcgfH2OCmG7etlM/gESakNrFy1brbiRuju32GzpB/afNmic9nN1ViGHfIeN1F3bdxq2yftNWPW78Qbs++t4omFpYKt08O7KQTYg0ZLZLr+G6Gwo2bN4mrUz8Q4ePyipD2tt1HaTvpHIf3CPhZ5Us1N1kC4779jP3wbFonnH42OkyaPgkvcZOLEeoIcPkaY8WQ5JnG1IMOV60ZLWUmWe25BmizG73hk3bNN5JdsBnzZdjx0/oDjQfqiIfwvOBKkC5TjTp488x7ICAgICAgICAgICAgIsVKSLrAzuIHMmFpGYCx2IhilMK58oEQ+z4aJLdgeU91DGTivTI7tSZc5XYQZr5Au/EacW6O7to6SolZ0uWr9U0LCDQkMDxU2bpcV52Mnfv2a87vpBbwE7pZCeOBTuwxNuxc6/mza4ogIxylBmCyM4npJF3X1cZwg4pnWTuCWLrknd03lsdZ9Jj95jdakg+4N1g4vF+LLvZCODoM2kvKFuhRJ574Xkpj7Klq7VseV7Nc0axlgngSDb3O3l6iX5AiviA+508vVjLMHzsKSAgICAgICAgICDgYkZGIgvYLbTvmgYEBAQEBAQEBAQEBAQEnG/USWQDAgICAgICAgICAgICApoSApENCAgICAgICAgICAgIyCsEIhsQEBAQEBAQEBAQEBCQVwhENiAgICAgICAgICAgICCvEIhsQEBAQEBAQEBAQEBAQF4hENmAgICAgICAgICAgICAvEIgsgEBAQEBAQEBAQEBAQF5hYLyioMS5HxKlccvSJAgQYIECRIkSJB0CXZjkCBWCo6fOClBzo8cO35Cdu85IMfNX9/1IE1H9uw7IIePHPVeC9J05EB5lVRUHvReCxIkSONLuemP9EvftSBNRw4fPqrznO9akCYkwW7MG6E/HTL9ynctyLmTcLT4PIMJPqDpg1WfkydPxa6ApopDh47IkaNHY1dAQMD5BguA9MuApg3mN+a5gKaPYDfmB+hPJ4Ld2OAIRPY84syZMzog8TegaUMHpBMnY1dAU8VBYzBjOAcEBDQNsCNBvwxo2mB+C0S26SPYjfkD+hM7hgENi0BkzyPCgJQ/CEQ2PxCIbEBA00IgsvmBQGTzA8FuzB8EIts4CET2PCIMSPmDQGTzA4HIBgQ0LQQimx8IRDY/EOzG/EEgso2DQGTPI8KAlD8IRDY/EIhsQEDTQiCy+YFAZPMDwW7MHwQi2zgIRPY8IgxI+YNAZPMDgcgGBDQtBCKbHwhENj8Q7Mb8QSCyjYNaRJbOcfhImHQaA/k+IPH5902bt8r+A+Wxz4WLhiKypHn02LHYFZArzjWRPXnS1M/R6vo5YtKuqgrGXkBAtsg3IsvXeysqKuXUqfp/bfT06TMal7kx3xCIrJk/Dh4y7fVw7KofGmtuaCy78ejRozr/BZw9MhHZg4cOyebNW6TKtLmGxuHDR7Rtp4OxjnrOd9Qisvv2HZCHH3shdgU0JPKdyG4ynfCmOx6Uy355vZSXV8S+FybOFZFduWqNFM0qiV0iY8ZPlhYftI1dAbniXBPZmaau3nzng9gl8uiTL8m/fvYbsSsgIKAu1EVkd+7cLZOmzDAGX9Mgf7PmlErBH/2dzJ23MPbxg3DLV6yOXRF27doj//MvPyndevaPffIH54PIFs6cI6vXro9d5x/f+eGv5errbo9dfiS11/sfflY+86XvxK6GQ2PZja+91UKKZlfbKgH1RyYii21xzbU3yM13PBT7NBx+d/N98l/f/lnsqkZJ6QJ55Y33Ylf+ogaRZRXxwIFyufXOh2OfgIZEtgNSNgMWYbId2GxYG/706dO1Vt7stfQ0CYu4uP3ex2XL1m2xK8Lx48drxbXuU6dqxs8HZENk08swvVxPmInvtrself/vk/+hfY3yGDx8jLz1bqs4RECuyIbIZrtbQn0VFhXLM8+/kXJjwHTq2lvdFqR3Nrs3AQEXAzIRWcZH+lNBwV/Jug0bU3ODO8fQ7+zcUd+dzlNpc5Ub3+2z5Isb2bhpi7z3flvZYQiLC+4DcC+QmH/+t/+UG265P+VPXgfKK+T9DzvI0mUr1c+C+TAd6fPj+UZdRNYtL+rNlm196wRQv+xg/vXff0YeeOw5zRukj6N2/rR1kw5fGbIrjq97zW1D6XG4xv3wt0+/ITJi1Pj4SgTC27zZwfK1V+JOmDhNunbvp26LaG6o2QZzBfdTl91IuXG9Q+de0r5TT/XjGX11lZ4Oz4rfsy++KZOnFsa+Nduw2z+B7QMBNZGJyAJOM958R02+pW3RsRstfLVNubOY9vjTr8iePfti32pQj4QZMWqC9Oo7OPaNgH/x3AUaN9+RIrLswl533e3Sul1XudMQk4CGB40s04DUolU76dill/z459fIz371O/Vr1bqTLFm6QvUPWneUYSPHybd/+Cv5zfV3yK9/c7Ncee2tsqhsqV5PR3lFpTz+zCsa9pdX3aQNf/zEqfKjn10jvzF139LkV1V1SH7+69/Had0mP/3V9TJuwlQpnb9I3nj7A2nWorX8/PKrZcbMOXGqInfd/6Rs3bZddY6ljxozUe677yE1BvbvP6DP19t0IlY6L7v8tzJw8EgNm0/IRGQHDBqhz/rcS29peVVUVirhseXKjuthY8yxYvuFr35fPvHPX5Trb7pHVq5aK9NmzJIHH31eXn69uXz28/8l4ydNj1MNOBtkIrJli5fJj356jZb9Q4+/IJWVVbJsxSrtZ2C6qYvuvaKdlKt+e5vc99Az8lazVvLGO++r3wOPPqf94kHz12J28Ty57oa75f5HntXTLAEBATWRici+/vb78q0f/Er+1998Wn511Y06dzBf3HjbA/KDn1wpPfsMktvuftSMk7PluhvvMX33XvndzffqzucRM9e8/Fpz6WAM9a9+7dvyzAtvaZqz5syVa2+4S35x5Q3y5rvRaYp5Zv760c9+o2ncetcj6te8ZRv5xiU/1Hn0yWdfk779h0qP3gN1zGZ+XLVmnYZr9VFHadO+q9xm4mEbLTLjyE23PSh//8kvyee+/D2598Gn1fgfO36yXGvm1p/+4jqZPCUiAMeOHdedreuuu0H6DRimfsMNUWLMYcz47H98pxbpPV+oi8g+/fwb8rVvXGrIUU+dy3jeh804SpkyLq5bv1F69xssYydM0zrgGWfMLDbEvn2cQjVKjAH9WzNu/u0/fl6+9F8/0nTAwCEj5dvf+aG88tq78s57H0nz99uoDXT5FcYmufomJYoY+n0HDJUPTL3cbtrGF//zh7Jx02Y91vv086/LNaYOLr/iBlmzdr0cOnRYT9H8xoznP7jsamO4z5cNGzbLT4x+4y33SNee/eXuB57U3ffb73lULje2D3M5wM5it4p8fvmr38jocZPlwzad5Jvf/2Wt9nrfw8+Y+7tZHnniJY0LWAS97nd36lxTdfCghnvx1WZOe30zDlk/kE4mu5Fyu/q3t8uvr7lF/u6fviBzzBy1b99+PVl0332PKTmF6Hbp3ldat+2ifepr37zMkKcTMnHyDPnlL6/WZ77r/ic0Lkflaf/33fuA9Bs4TI/CYg/+6Me/kjvufkiJPQv0lHVATdRFZHfv2Wva3WOxKzqh96Of/sa04dt1bOS1ppmmHb3d/EN54ZV35LOf+7rMLV0gGzZulsvN+Haraf//+Kkvy0OPPa/Hh9OBjX/nfY/rePbsi9H4yILENaZdYre/+15reeHld9Q/n6FElg7HkQoMu1Yfd1IiE9DwqGtA+t0t95mB710ZMnyMfP4r35OTZrJ8xAzKDMaAAbpth27yP/70H8wA21leebOFGgD/+a3L9Ho62rTvriuJPzek+J3mH6nfzFnFuiqzeOly+W//8+9l0NBR8tef+IzpRC3lxVfe1c7EDmLP3oPk69/+mWzesk0nsmt/f1fqzL1LZFesXGOI97U6aF5tJo9WxkhgFbPgjz+hHfTq6+5IfN6mjExElhV4npnyYKHgVVMPTNS2XAv+21/L9MLZev1uU1b/9vlvSmVVlRo/EN5vmYmRCYMFiQ5m0g44e2QisiwcjB43SevhD/7sH/X4H0e9H4xfpWAlnnbbu98Q+b3pe4S7yfQnVqYBbgwnDFhAv7zq2lt13Fxi6pmFC9ILCAioRiYii/HV0RjCf/QX/1f7jt31gfQVFPyJEhMICotEfQzRZMxkLoSMMo989ZJLZfjIcWauekd+87s7NO6nP3eJkiMWFe28dNkvr5P3P+qgfdWeqNi2bYceA/7uj65QEnbs2DE1HMeMn2Ly/jOZUxLNs+R1vyEq3McVhhx07zVAdUjsrXc+knrHjXtfZcaYgv/+v3VswbBnYbnfgOEm30ozd79o7KuO0rlbH12Ynjm7RJ9lytSZGv98oy4iu2DREjOX/W9TznfKrt179HnZwWRn9rc33i2XGgIPef3r//MpQ4Q6yNe/83MT/s+V9KaDHSd2r//p019Vm4axFUD8P/PFb8un/+2rOoeyMD7GEEjqZ8iw0XrkW+1UY1ew2MjR5H//4rdk7boNukBeUPAXxn79nbxm5mDQ17SjS753uS58QDohAeyQshj5P/7or3ThApIJsaNOv/S1HyoJBpC1z335u7Js+SrTxsYqmd69e6/Wf3p75f5vvPUB+b//9jV19x84XBfuudd5Cxbr61cQY0iwba9XXXubhq0v6rIbOVFJeWCXYHcBFnRuN+349bdaanunrUPSWZCZMm2mtuUFCxfLtaZuhw4frbt8X/n6j5UwDTXz3JWm3b/5zvvyvR9foZsYlNfNtz8o//PP/lYXHyi7fLTrGhp1EVn6kUtksQNnzymVFaZtYTeWlC6UGcZ2/MZ3f67+l3z3chk+apza7dglnAwpKPhLHVN8YNGH9v2LK2+UL3ztB+rHLv21v79T/e8weT/21Mvqn89QIstqJMdkLDC2AxoedQ1IrOSxeghYvT189Kg89dzrugvEhP7AI8/pqtpf/t2/6+DKRM3K4Fcv+YnGSQcfZsJAYKK45Hu/kB07d+kg/fATL+qqN4MeK0L/bAZjJormLT9WggyRbdexu3Q0HQCMHDNBCv7gb2XL1shIuN/cB50CkD9n8QcNGSUDBg03A2gr7ZSjxk7UVfJ//bcv1DrikA/IRGTZyR4/cZrqLAB88t//U+vosadeicq14K9S71vdce/jSmQtIEPvtWyjeu++Q6RN+26qB5wdMhHZLVu26VjHwF1Q8Nc6AbOS/+Bjz+t1VvmbmTb/w8t+IzfdHr23wm7Jc/FKJmBX4tNx/WGofOUbUV/jAyFMPEkTSkDAxYq63pFl7mLucT+yw45mwZ/8f0oEAB8kYYHw2RfelD/760/pfAisrYJByHwIMMyffPZ1+Yd/+n8aB7DrlP5RPUjrn/3vf1Wy46JsyXIp+MP/I8tXRu+/QrS27dipOuT40l/8VvVPfebrqTwtSPOP/uKfZczYyfrdCAjxjMLo9BLzLMT1o7ZddOwBjP0QrKaAuojsVkP8qac5JfNiH5GPjH2ATfKpz35DfvWbm3URsKDgD+W+h56Wlh+2N/r/kOdffjsOXRt/8w+fk5debxa7Inz+q9+XJ555NXaJnhp79ImXdBGBBcgTJ0+pXTJy9AS9/sobzaW4ZL6SVU5Hfd6QMhbzWXTvaYgqpDod7EJ96rOXxK5qfO/HV8pvjZ0CeIeRU2iA+Zs5gzSVUKe1V8DGwmf/47uqQxy+YUgH4PgoCwCUFae2gNte64u67EY2OiDyvzKEnL4FqcXmIG9OA3Tt0U/nOmwVFtgBp44gOGyK2I0SdsOHjRgnl17+WyW8I0x59zfl+1azD/U67fk//stvawZEqIvIHjHj2j0PPhW7RBaWLdVdfU5+YDdif0wyYyH2OOjec4D0MHVK+6E9PfrI47rozqJcJtxs7BlsfsCGyTXxoh+nFui/+Y4CduDmL1wsP/v17/TYACuJv7zqxvhyQEOirgGJlWAmVcDxnWPHj+sxgX//3H/qQP6N71yuRLbgf/yNtO3QXV43g9ENtz0g//q52h+jYcWM4wcQS462sAq0avVaXQ3/yc+u1tU7PmLDSmXBH/+9Hk/h2NbbzT+KP17RT0kZu1a33PmwGvyQVwa67/zo19LO5L9+wyZD4ErlK5dcajpZJ2nTrqsOqIOHjdGdYgyGZ194XVq36RLfVf4gE5HleA5Ho5gkfmH6zvSZsw2h6SuX/uw3Wq4c/WBnm8UHjob/w798WQYZkr93334ZOmJsiihxGqJlq9rHsAKyRyYiO3nKDCWeHJNiBZqjwxwt5iTCy681010SVq7Xrt2gu6usnD9vJv8nno6MqrHjp+ipgj/963+RwUNH67j53Etv6ymGzl37aN/iva+AgIBq1EVkOc74V5/4f9K2XQczJ63T+RCjmx3ZDwwZWrp8pezZu1+++LUf6kkiXrVhzlm7bqPceOv9msbqNet0bmRhllMS7CK917K1El/AsdGf/vJ67au81womTJpm8vhzuen2B2Xq9CL1YxfupdebG///qcb94qUrdPGLY8jDzFj9g0uvSp264HgeRqE9XopR2KFjDxP3L/SU0tRpRXp66d0Wrc14P1R3l9nVxABlvgb4ca9NAXURWV1wKPgjfaeOeZ5nph5eM0TyBlMP//6Fb8n8BWW6kM7rS48/9Yr8xd9+Wm0PH9gtYqf8J7/4rYydMEX9qL8/+atPmnSvkNFjJ2kenHK64eY79Yg2R2XZocUu4dg5eMQQqgmTpssLr76r9kZHU+bsNLEDypHyT/6//5Qexq7lqCxpshP8YzO+//Ff/LPu4kIK2FFlLv6nf/2KtjPymGLqD7uLeZ35nXagp6imFtZqr4SHBP/53/6bsXdGaztix2zQkJHaBt4zpBBCe71JD9BebzTk8GxAfpnsRhbWuV/+2tfMXn3jPfnmD36pizzYleTPAsPwkdH7wBAnFm5Y+HnI2IA8M0dX+aAZR+4pk/ETpmqdsklBmbE7SDnwvLgDaiMTkWVjiWPzvFoxdPhY7SfY8z/8yZX6usP//fRX1R6kjdoFuRYftNNTBCwq8QGnd5u30utJtimLLSz4YJN/4p+/pDYN4+2lpt/xWuIrxsb3nZjINxTQmBeawZVO/JIx5pD0FcqAhkFdAxKD85690QvcDJQc4Zk6fZa8/PJrOvFydJUVHAYs3v/DzfusrLiR5mkj/EU4i8+xyTeMMNhT54AjJG+80UwbNQM/5JWPD80zExK7iqxEfmSIJ4PVDy+7Wt4whIz3OemEFZVV2sGatfhYVzgZvG2aL5h2hcxfsFjjEue1t1rqUaR8RCYi+6EhoLyPBVlltZJ3t9at35Qq10Vly3RhwH4QoWefgfK8MWAoQ1Z47VeMqRPIUcDZIxORZbLlXRN2Tddt2KRGMUfheYeLiYNJv3Re1Ibxo72+ZIwjJnPACjUGFJML76swmbCYwxhKGwgICKiNuogswLh64YWX9cgc8xVHVPm2wItmXmFHAnBahblGP8ZkrrELB9kAkBOOPE6eOlNfiWGugzBCPAC7sRDK50167GoADHT6M3NaO0NAAbtt2ECcbqLvc9LmsadfltvufERf3fm4XdfUfM04zztmjCmQMt4LZc5j8RLSZU9nQJ6ff/5lnavBvPllOl8D3n9bs3aD6ucbdRFZduwof46ksvMKdGfv9WaGGK3XI9u8pgYJ4tQWu332Q0Pp9ogF718yb2KgA+rvTeN+x5Qr9UW5lhob5I033tL0OGbJoiG7hpz0AuycMnfSJlh8eM3cn7VFAK/vsCD5krFttm3fIdu379Rw2E3YLexY8g7py4aQkwaL9AjEjfdquT/aAu9GW6S3V8Izx9NuXzDtjw+FsSP//ItvaZsBHMeFSAPaK7ba2YD8kuxG7vEz//EdeeTxF7Vtc3rItm1IEs/LMwLaK4tBYOLk6UqkILM8K89MfBbbAYs1z7/0ttp72H3Mn8yP1Buvv1GGAbWRicjSZqkPTj5iH+/du19twjdMO2QcWrJshbZRjnzPLY1O9LFQtGTZSl2oYBGtWcs2unDHAjuLfbZ/2b5GO8Oef9f0W8ZTjpZT5/RL6vIl01bhFPmOWj+/E9B4yDQg5Yox4ybJdTfcpR+oYDV61+698ZWzwwQz0HWO3y26GJGJyDKBMwEHnH9kIrIBAQGNj2yIbFMGBp991/ZCRl1ENhewCHHdTffo7jdHGfluRlMHu7ksaDQ1ZLIbt+/YKbfc8ZDcfvdj8tjTr+gpBPfDnAGNi0xENhd06tJbd8yffO41/TgdJ8lYoMHe5+Qktr993e1iQCCy5xENSWQ5e88q4/795Xqkxa5Mny1YGT3Xn5HPJ2QispQNEnD+EYhsQEDTQr4TWebOhpijmxoakshydJcPdu3bf8DkURn7Nm1Q57naTQ2BbOxGfkaTX4ywH6MKOD9oKCIL+Jgctj075BbW3sf25339iwWByJ5HZDMgBTQNZCKyAU0HgcgGBDQt5DuRvVjQkEQ24Nwh2I35g4YksgHVCET2PCIMSPmDQGTzA4HIBgQ0LQQimx8IRDY/EOzG/EEgso2DQGTPI7IZkPYfqJAhIybI3n0HYp+A84FAZPMDgcgGBDQtBCKbHwhENj9wNkR2yfLV0nfgKFm2ouF+53z3nn0ycOhYmT4z+nhlEvbtL5flK9fGrmTwm8Kjx0+TUeOmmjEkP8eP+hLZbTt2yYAhY6RoTvQTSA2BbMuVj5MuWrIidmXGzFmlWvfbd+6OfRoXGYksBuGUadHvTFns2r1PevYdJh27DZAtW6PfLuJMdp8BI6Vd576yfuMW/WJWQN3IZkDiS2T3PvqyrFm3KfbxY8Lkmh8bqqw6KMNGTZQP2/aQhWXL5fTpM3qmfuTYqdKqbXeZO69Mv6IXkB3OhsjyUyzZvldM3xk0bFzsalyULVsjI8fNMH13W+yTvzjXRHbT5m01JuYxE6ZLy9bRVygbAguXrFLDP1ccP35C+7wLxpkJU2bLitXn7guTR44ek2kzS834FP3edTpo/xOnzZFVa6OvYwZcfDgbIkv7xeDKBhhRb73XTo6ZOA2JzVt3yugJhTJvYfXXa3MFc4r7HuZeY+QvW7kudjUuzobI0r+z/cmxTZu3ywuvvy9bt0W/ydtQqKg8aMacYplqxqWT5+gdV9Jx5//jxshfuHhl7GpcnA2R3bZ9lwwdOVF69Bka+5x7VFUdkhJjV7b4sIv+VGQSVqxaKz371f3LKNinZUtXSouPusj6DVti3/xCfYks748XzZknH3zcrcG+u5JtufJee5uO2X3gdfXaDdKha3+ZMv38fFhMiSwdgpUAVlQKZ83VCww27AS+3aKdGnILyuLPxZtC5pPOTBodu/XXzj1n7kIzyO+QSjOAdO01uMbLxwHJqGtAWrl6vUyeNks2bdmWCkM9HSivlBlFc/VlblZUphbOkTeatZFJJuys4vlqACxcvFzWrd+sBkHv/sO1flauXieLl60ynaVKV0+yWRULiHA2RHbw8PH6SfVsMHTkBBk7YUbsygzqfZrpkyxWnAswKS9bsc5MQtFPMuUzzjWRXbFqnfQdNCp28cP4i80Y13A/ITXBGGCVxiDIFXPmLjaGRc0f7AdLV6zVnyI5F6D9lS5YJrv3HsjYNxh7ik25hZ3yixNnQ2TnL1qqc1w2YJepfZd+WRuMJaWLZN0G/8JLJmAA7tlXLuMn5/ZzFavWbkqN3YuWrpJtO6t/g3PHrr3Gxop+aqOxcTZElpNi2S7AYnd81K6necbsfnMU+2fBovovGkAAsHvGTCqSwzns5G3csl3rA2zZtkuWLK/ezTxh2sLEqefHaK/LbgTzTblNnTGnxvNv37Fb+g8eHbsiLFm2WsMdPFg9V0BKsDvtTz8CCM+kqbM0jbrQvfdQ/dioxQ7TvidOKTJ2bPTlb+p15Ngp+neJsUct4A1TzL2k26WDR4yXtXVs5DRV1EVk167fpGXDzzW56GZsDHeBizmUcCxIWMDXqKc18U8oAXa7J0+frXZLXUgv18NmnKYt0CYAG1/s4pPnLGeHmP4F2S4pLYt9IswuWWDiF8euxkWKyL7TsoP0GzRaJkyZqSuc7ERAdpp90FH9WGmxYYePniS9B4zQG0/f1evcY2AgslmirgFp6fLVulM3bFT022OAFbXW7XuZQaXIEJ/pSmypn7dbtFf31MLi1NfKCk09duk5SMZPKtRJxMXAoWMa9JjJhYZMRJb6YzGnW+8hhiis0UmU4yGvvvWRLvb07DdcF38YeKg/BgdOMAwfPVn7GauTEyZHv5UIGPjnL1yqg8rkabNN+pE/u/Kdug0whsN4GTtxhlSk1alFQnNSLDaD1PSieTJj9vwUsWD1dN6i5ToIAlbZl69aL5OmF8um+NQFz7hh0zYpKl4oU2fONWEr1H/T1p3qN6VwruzaE5H2bWaym1W8SAqNQYYhwP3s3L1XikoWmfY5VwflhkImIsvvMC9eulJXDpmUASce5s6PxrbNZqJdtHi56hs2bdV6YmGISRcMNgZb/8FjauwU7TJ12t3U+3DTRzP9pESmOlmzfotMM3UyfdY8Y0Rskl2792u5Aspyt7lHdj4xcEsXLlO/QlN/tLNtO/bIZDN5LF0RTVxHzb3NKV0s/YdNMPVXouEoE+p2xqz5UmYMZwvGBPzI2+6okn7hnAXmXuZrG8iExcvWKDG2wLibb9oR8ecuiH4z0wL3xs0X/k+YBNRGJiLLuMIY2MuMkcxjjLGMe80+6CDNje3BmMqJIsBiH4uyLCxxKozTX8xt+PEbmADjr9gQ1UWLV0gf03/pN+CgMcqwb/oOHKlH6lat8Z9KyNRPwbKV61PtmLD0zVlmXJtp2vxWQ3Z4ntlzy7SvclJhvRkzgS4+mz41fupsGTxysvY9+go6hItrHMtjN5bFoSkzSqr7tHmGucaPMAvMczUU6iKybFSwOIsw9nBctXX7nvLq2x9Fc5gxtME0Y4PYeY76K1uy0oyxi6VT94E6rlowxzFf9jL1Z48kUn5jJ043duQgGTFmshTPrf492PqAOWaJKT87JkPoiucv0bqyO96LlqzSMkWYFwGLunOMgc7412fQWGPE7zaEa4OMmlAoQ0ZN0blz/catWq+MacxxJfOXpnbPFhuyO9PMh8yJDfVuJGWUyW7EFuHk3ThjI0THRyOSChl1iSwk0tYVfU3r1PhhmwwbOVHGTZph2kOlEk782NjC7sDmTAK2Q9eeg1NEdjv26eSZ2k9feK2lLiDtNDbB6+9+rHMwNtDylWu0fw42dg2LIv1M/6a9WPQ3thSbMvmITEQWws4uOfYFf+1JBfo7ZWiJLHbJRDM2chyYEw0Qy92795k6GaHlhd2/3pQrryEyvlm/ujaq3HKlf1Af8IeX32wlRbPn6SkE+J9usph6t8edaRcjDAekPbgnQdnwnFaY+Vh5Q0GJLJ2wTYfeatSBdp366t8KMzlQMOngSPFaU3AMaNaoY1WAwltsDKWG2hK/0FDXgATo+C6R7WPqg2PBgEUD++6s78gIu4GsuNAQ7TFwVtSmTp8jhUWlOnAFZIdMRJYOzBEM/mJEMdBsNMYZuwSsWmFwUdbshK1as17ea9VZVhtDasu2HbrqRR2//3FX3V0Ha9ZulKdfbKYLGRzVYAcBwtTbTCb8HvCs4gWpkxPpqDp42Aw4/hV9iAeTOGlhaO03xhVgdwCCaQE5grRibM2Zt1hfJ9i0ZYeMNQYXR0TLlq5WYkq4MRNn6lFVCM1WM+ljsI2ZNNMYaStkxDgzHpg8KysPyWgTDsNs1ZqNKg2FTESWVc+SeYu0DzCRlprJcuv2ndI97julxtChr1EeGMsYXRzNZ8AGrChTz9QhYBWbCZ76wyiDzPrAeAi587UfDKLi0iVaxhi+28w9coQRwxVAPKkzJjXqhDItnrdEdu/Zr2UN8aWelhnSSVgMCeKzsLBh03YNxziOobbWGDLUM+ONEoaZ0eLDSlMfkFmOIlNPxFln2izH85JAnrNKymqMIRh5kGiINsadu6KM0bchENmLEpmILIbu+627qcHNIhLvZO3ctUcXy1kMpG9hoIHNW7frwi6LuBjl9D/6cqfuA7T/AfraK4ZYjTFGH2R10NCx6t+z73Az3u7U/o7dkgSIDkdTkzB5eknqRAMnJxj/5pet0LGRfsk1dAgufW723MXa1+gbhKcPQnrBjp17dfGK/seYTDlBbOnv9OEJ06LXusiThUaIcvoC0blEJiILIcQupF4gO2xsQHLYzGjfuZ/OcZaMMjcMGTFeFxuoPxZx+emdEYa0YItYsKBoX0djboNE0g5KFzDn7NX6T9oUKTNlm+lVGMYhdlEtJpmxjHqCYI4cH518GmfqabuZw2gX46ZEZc04zQmT/QcqZfyUaLGTcZa6ZU5jnIZ0sUgIAWasZMxk3GURkHpmrpxrxr+Geq+zLrsREkT5AQgKC7ggnchuNPPbKkNS2YF96722utjJDjivnrHTx6kInpXF31ZtuitpYVGpPLYbfKD/kf/RY9EcTBthIQOSRl1zyoJ762jqHtCWxkyYpnPuS4ZAsXnWwdhNMxz75kIlsmMmTtf+A3gf1R7HPmbGEMrw9Olo/qRe4FWMfx+176n2P3b/R+16aH+kfBkH4W8fd+ip9kqZGUchwJnglit9n8U/eAL9tIvJn9b1cYde2o6xqbr0GKRh32nRXnr1H6GcY+DQ6tMY553IYnB07jZQOyPnojsZHTAwUaAW60xHGG0GGou2nfpoAbAyxw7tUufoRUDdyIbIQmZYrbGAyEKSAI2NgRS079pPOwBg8OD92CpTl4AVayYLVr77mYGMVbiA+iETkWWyZoJgR4GVq8p48oXk7Inrx0WPPrXfD+neZ0jKQGIljV1XwMok6VKXrMixWDR63DRtFz4cPXo88X1FJmNIRjp4x4kJ2AKSsmDxSjXE2AHg3ReMsFlzy2To6Kn6bhCEGT8MhmFjpmp43u/CKGNCJ0yJIYbs3GIElRgDbNiYaXp8eU8DfrgsE5FlR2GiMYJp/4xdM2eX6qRqjw4zWVB/GF62jtQYdo7OsVK9dn1ExNkRZ4ccMNm4Y6UL+jeEk/HVBSuvlNUeYziBxUtXG7K3TXcBeFcWYNTaHYSyJatrGGe0RxYVonoyxkJ87IiFhdWeo1jUAXUEVps2stwYMQDDfcbsaEKdHC9o0BanGGKdhL37yqUwjmPBkUkMwvFG0C0wUmgLtKuAiw+ZiOwh448xRr9jB8kuErGrxIJrOkaOnWyMr5ptGwO7LN6pZGGlc/eB2ucY19ABC7cTp85SEoyRnDTnrjGGXaZ3PmeYcZIjeICxjgUnO9Zx+oTn5LQLgMyyO8sCEX2UHUDC0scBfXl+WfV7ltzSpGnRM2PYshgFlq9cr4SZEzLYYA2FTEQWcDoIIjp+cqHMKYkWSzkmzDyXDl5FS39fjuOOzGEWvfsbWyY2tjk5xhzHGAyxGTepUNtD0qICZWfHTR8g/vZUC2FL5i1VIsp4y1gMbPlS8FZnXIQkswC73Iy71Am7ixBcF9OL5uuYD1gcpN2x+DB5Ronu3jJmn6v3c9NRl93Iwqw99YSdYE/obdxk7D/nNRl2vNlRZ1f0nZbtlRxt2LRFdhgbgXnx9Xdam7LboeQG4XnfbN62zp2+zt0H6aIE4HW2d1q20wXiVm26abvZ5iwmsZjMDh8kzG7GcKSZXWALbNYNG6t38vMJmYjsONOPODUJOGLMiT1AP6QMLSClzd7voAvlfJ9j3sKlurjCWMlG4odtu8sMQyLpP9QNp2RZNMBWzAS3XOF9zd7vKEMNCeZYs+3TcAxA/XC6ArBBg00H8ebeLM4rkeVh6RDcOJ2RFRyOhABulAmFXQgaPUcCWEHgGBATBO9bAlbeOnTrryx9wJCxqeMcAZlR14BUWDRXWn7URQcZVicBg87GzVHj45ij3ZHF4GYyYBBjdZcjORjgvJPCKhgDC395wZuVmK4m7N592b2/GZCZyDJBM6gwebz0xgepI9sM1qxm0m8YXDBOtpqJodXH3XViwI0/OxC83I+RwsBEfOoWcJyDgZ5VMYw9VttmFdecVLPFnNIlSnKY2JlwMbowFIrM5LJ81QZtIxXmOZnUMQTGTZ6lEzjjAsdMObaK8cZEjZudVe6XyX/MxCKdvIePnaZ5YKDaI3hLlq/VI37sKI6bMksNuoZCJiLLIP/KWx/qB5tY2dQxLSay1BFHa0aMmaK7AL3NWMZkPnP2PB3wAYM5H7nj/RDIPQLhJS6LeIOc1clswGSEQcSqN8Yt75FidFC+LBCQLjsI1D2T1AwT1pYli4/s7GAIs4vEIoFdeccIw7C2OwL8pZ4xhFnkIA9IKLux5eZZMfAOVFQqeaaOAMfwtjvv7qWDBQr3XT7ibTUGELv8tB12peyOLG3FEvOAiw+ZiCw/4M8pFhaZeA2DY6aAXYdRY6eaNrg79f4ec12XngN1HrPvmGJc8+rGpClF2m8Zq9p16qNzKgu67O4ADGh2GsaMn679tr5g4Y5xiz5q47OoxwIS/WndhmhOhriyuMyiVVHxIu3bjIuMt+ymuh8944TCtJlmLImfj/Q5CQEgyOz+4d5p/rL4V2zGhIZ8LzMTkcWmm23mHU4Q8S0OdmUAx0wZK3kdhgVAQLlDWCFN1C+gbhhfsRX37Y9sFgxjuyjPQjxjHHMpCxss3ttTZPUBY799VYOdVcDCwgRTboybLFQAThBRF7QTjnizCEE5Ew439WpBHY41cyFjKIsS7AQvKFuhczeLgcyD280cvs6QAp6BxUU+nki8hkBddiO7cywSQGawH44bO54ddGwMvnlDfRGXRZ2PzTyInYiNiW3BnMeuKLYkH23ixATzHrYMJwBbfNhZX3HygbbATutbhuy269xHT6ZBhN/7sJOm2bZTbyXOeirNpMOO/ODh47QPY3twr3AN2g07uPQrNsi4Z+49/Z3MfEAmIstzQ04homxOYA+wS069UYaUJWXPqUrKXe359r10l5T+xAYHYyan+bD3WYCL/AboSbKkDav0cuUkGrYoOnZnD9NH33i3jZ6yhbTC7ei3dnEEO4pvIbH5Yt/F5QQMx5ARnqWxUWAnBLuCQgPnoVwwgTDRWDBQ2QEKMHkwiPH1Yq4ldbCAmqhrQGLSoDwZHPkLeA/NHt2mnty41MGB+BgWwICl7uzXSzEs2UXiqBZ11VArhhciMhFZBgZWkDl6weTMZAAgeQw+DNj7THnjz3tCViAq1AXxcDMAcRyElbnZ8Yo3CxQc57GGADvtvKvJOyduXWcDJtqxk4v0oxUYh5WmXbETy+TNFx6379yrfZn3syBSEBWOUEFKmegnz5irx6nWm8EWwwYSyGo0fhAkiBTGA5P+7JKyFKGE9JAP4TDq3COn5xqZiCzlymojkyoDORMzC3eUMWXPBMLRKvoUx604stje+LFqDCC0hGNwZ4GPcEy4+JEm7aA+IL4tV74mbHcK2DXnOCFHezkyDNhNxxjmiBzEkB4NycVYxnhmF5QjcgACOnbSLEMeI2OMHYYpJg8WKCYaMrveGN30fQgwfnaXlnCUB8CoTv/+gQs+ekN9WtBuFhhSPbWw1LSdspSxzy4xRmH6bnTAxYNMRJZxhF04+hqLq/bdOMYIPjDCQuy8BdFH6FjMxXBr36VvajEP4zvy66c7AgCiRd+iLU+ZHh0ZZRdj5JgpOn4OHTExtRicDUiLo/L0MfqqfS+cEwb4sShk2zsLNmfMfEt7pw9BfiA20Xvjy2TeohVKmABHNBl7GWsBY6MlP4tMHOYb+hXxphWV6uJU0th2LpCJyFIG7KSxa8Ziud3twbZg/GzTsY8uEALmKRYQMMRZLAQsPlBH1BUfmQGciGHXGlBP2CsYzyNNHMjsEF0Irt8CGGMjYynjJ3XGfdPGGKsY+xgb8aOs7QkRvtp/4EClLDV+LA5yaojFOBbnCIvNxbcGmOs48cTOqz39AhnmdArtlTSZO5k3WXggbkOAdOs6yUd7tDvGgL4AUWLnzS44cM9qyxs7AhsTARAi4uKmLQPmNvUz6SblS/uBF9CGsS+tvUQ65AHXQGdeIQzpue2ZdLFX7QJs9Jz2nitTc1M+IRORBZQrz2xtcfo7ZadlaMrHbgpSdrYMLWdjjKEMsQ2tTQU3wI+2nWRn0WdrlGtcB5Sv5XDUEwsgtt7JwwX3YjkJ4J4Y6+CJ9v4aExl/fiegYZHNgBTQNJCJyDYGeD+CL1NztItjzBhl9ihKQDUyEdmAcwcMOt45y7RrCyHnwzWZCHHAhY9MRLaxwDt+fBxl4LCxurjIkcfGAKce+PAaH7+DsPI1cff1gKaETES2scBiYZtOvXWBgnqyHxltaHBcnF1UfioMAkxdcfqoKdpmwW7MH9RFZAPODQKRPY8IA1L+4HwTWVbXOGrFMRNWwNmtD6iNQGQbD5zisavnPrCTz25GwMWNpkBkOaLHbt/qtRv1GGxjgvGIkxeI/dp7U0RTILLs5vC+IMdXN8THrBsLzLGcklKJd82bIoLdmD8IRLZxEIjseUQYkPIH55vIBmSHQGQDApoWmgKRDagbTYHIBtSNYDfmDwKRbRwEInseEQak/EEgsvmBQGQDApoWApHNDwQimx8IdmP+IBDZxkEgsucRYUDKHwQimx8IRDYgoGkhENn8QCCy+YFgN+YPApFtHAQiex4RBqT8QSCy+YFAZAMCmhYCkc0PBCKbHwh2Y/4gENnGQSCy5xFhQMofBCKbHwhENiCgaSEQ2fxAILL5gWA35g8CkW0cBCJ7HhEGpPxBILL5gUBkAwKaFgKRzQ8EIpsfCHZj/iAQ2cZBRiJ7/PgZj8QXA3LGuRqQTpzw1dMZk24cIAa/hJEuCb+ZHJCGQGTzA4HIBgQ0LQQimx8IRDY/EIhs/iAQ2cZBwdZtpwXZsuW07Nt/Wj1Pnjwj/Qcek8eerJInnq6SJ2NBx2/o8KNKggJyQ64DEtGmTT8uTz9XJY8/VV1PyKOPV0m7Dkfk6NEzcuTIGenW86i8+PIhefX1ann51UPy+psHZVHZSU0rIBmByOYHGovI8vuou/bs19+G5DcHreCurDoUhwoICGgsInvq1GnZvfeAt09WVAaCVhcak8juP1Dhrad9+8sDQasDgcjmDwKRbRwUPPRYlSAPPFxlCNFB2bDxlOw3hPahR6vkhpsr5Zbba8r1N1bI088elN17ItIbcPbIdUA6cULkzbcPye9vql1PN95SKXfeUyGr15yUsiUn5Y67I7/0cNffUC7vtzqsO7gByQhENj+QK5E9fvyELF25TuYtXC4LylamZP6iFVK2dJUaxPTX0oXLpH33wdK+22Dp0H1IStp2HSSDR00JhnNAQIzGIrJly1ZLxx5DvX2y/9AJsndfeRwywIfGIrKbt+6QHv1HSztTL249tTP11rXPCFm3YUscMsCHQGTzB4HINg4KbruzUqxce325TJ56XPbtOy2PPF6lfnfeU1Nuvq1Cnn3+oOzaGYhsrjhXRBZCml5P1N29D1TKylUnZcHCk3L3fZFfejjqs8UHh+XYsTAoZkIgsvmBXInslm07pWPPIfJRx37SpsvAlHzceYC0Nn6zShbJ0WPHZfTEmWowd+k9XDo70qnnUPXbsGlbnGJAwMWNxiCyp0+flglTZyf0yWHaL1es2RCHDvChsYgsi4AQ1869htWoJ+qtfbchUmTG2IBkBCKbPwhEtnFQ4JKaG26ukCnTj8vevafl0SeSiexzLxgiuysQ2VxxLojsW+9kJrKrVp+UhYtOyj33JxPZlq0Cka0LgcjmB3IlsitWb1CjFyMLw8qVdl0Hy7SZpXL06DEZN3mWGmPpYYjbre9I2bh5e5xiQMDFjcYispOmF3v7pO3Lq9ZujEMH+NBYRHZ+2YrEMZYd9dmli+OQAT4EIps/CES2cVCLyE6tJ5E184cSqnTBvz44deqMrFh5UmbOOiGz51TLrNknZP6CE3Lw4IXXaQORzR8EIpsfyJXIrlyzMdHIYrdnxqz5gcgGBNQDTZXIMu+6crEjENn8AG01ENn8QCCyjYOzI7IvHtTjx9u3n5a33z0kTz59UJ55rlpwc+R1/Ybok7i8f7ljhwnvkaMxgZpTfEIefKRS3+XkGKwV8rzr3kqZMrX6c8nlFaflwIHa4n6ACmK2P+067qqqmp2f5+B93z2O7N59Wo4crd8gQdqQ7pLSE1I6r1qKS07oO6o+opjrgBSIbOMhENn8QCCyAQFNC+eCyB46fET27Dug77lawc3HgSCxzKF1EdnV6zZp2PmLlsvYSUUyekKhviKAjDL6+CmzZfXaTRctQTgXRJby5WN3lVUH47/V+sn4JxLqQ2RPnjyl95UuFzNytRsDGg+ByDYOzorIPg+R3X9aRo4+pnFuurVC/a3g/v1NFTJoSPR14z79jsoDD1XqR6UejgX9/oeqpEvXI4bMihLV626okNvvqqwl115fIZ26RBPhpMnH5aVXD6q8/Fq1PP/SQena/YjmBzlt0+6w+rlhXnzloLxi/s5fEDUsvvj71LNVRg7qh65UjP74Uwc1/oHyaKDgJ4d2GXILwbXCjvT+/dF1xufuPY5oWdx8W82PKVEOvG+8eUvtLepcB6RAZBsPgcjmBwKRDQhoWsiVyJZXVMnwcdMNyYnfq4yFvtbJEJ+ypav1i8WTZ5RkJLJrN2w1822ldO83KvrQkEnPFT4KNWTUFGN4mon1IgTzWy5ElvjF8xZLn8Fjpd+Q8dJv6IRIjN5n0DiZNbdM62nB4pUZieycmMgyFrPgwFjLIgMybvJs9Vtk6hySezEiENn8QSCyjYOzJ7KGLA4feUxuvSPaRXXD4L7F+A8ZdkzKy0/LM88fVEJHeq7cdGulktmdhhTOLDouN9xSUSMdK9cbggtRBJBN3C5ZRPjCMqR3j7l3jiTjvtGknx6OD1pBig8fPiPN3jusX2HmGVwhHs+weMlJPdL8fqtDSnY5Um2FZ3raCGSYY9R8+fd3Ji3ipcvvTbkuWFh7cmyKRJZnYTEgXS52BCKbHwhENiCgaSFXIrvB9CUlrXG/dAVCOnbSLP0A25TCuXUS2d179kuPfqM1rfRwkKhAZM+eyPKl9l4Dx5hxcpCWb8dY0Fkk6Dt4nLYDSKitS18dlCxYasbY4zJ45GRp3al/9HV4R/j4HosR+/ZXxDlfXAhENn8QiGzjICciO2JUZiI7dPgxPdL74ssHNZ4bBiF9fuanvkQ2KS2I246dp6Vo1gkldxDb9HA3mjw6dz0ilZVn5L2WhxPTuu/BKlmy9KQsW37SPGOFxiOsK9wXZJgdWXZwIevpaSGQZY4Zp6OpEFlIOAR2zdpT0rbDEfmozWH5uG21fNj6sAwbcUwOHbp4B85AZPMDTZHI0r/TJSDgYkGuRJa+RN9K6pMTps6RY1kS2T17D0jP/slEdujoqYHIniUgsr0NWfWVLTveA4ZNlKqDh7MisocOHdVFhaQxtochsixKXIxg/ghENj8QiGzj4LwTWY4Z14fIshOalBbEjbR4V5X7SiKyXbod0XdlW7yfmcguXXZSySzv6vrSgkC+16JuIvs74z9vftMlsq0+OmyM8zPSodNh+c115ernCu3iVpPH3NKLc4IHgcjmB5oKkd20ZYf263mLluuRuInTi6tl2hz9u2XrzjjXgIALF4HI5gfOBZHtc46I7GHTZqiLpDGWOqQuL0YEIps/CES2cRCIbEJalsgimYhsi5b5T2TZcaU82rY/rOWTHoZnv82U58yiQGQDmjaaApHt3m+kbNm+S3bt2a9ujsJxBNKV1p366btep4MxEnCBIxDZ/EAgsvmBQGTzB4HINg4CkQ1EVoks7wK365BMZG83cSnXixWByOYHmhKR3WpE/bwG2xAZNb5QTp8OxkjAhY1AZPMDgcjmBwKRzR8EIts4CEQ2ENlAZLNAILL5gaZEZLft2C1d+4xIJLKjJ8wMRDbggkc+E1l+TiZdLlQEIpsfCEQ2fxCIbOMgENlAZAORzQKByOYHApENCGhayDciy0/E8DM904rm6fvsk2aUpGSCcZfMWyJHzBhwoSFfiSzjMT/RVFFZLbgP5dDmmjICkc0fBCLbOAhEtokSWT6+NH3Gcek34JgMHFwt/Qce05894rdsWRw+X0SW39Z15ZiZ1ymHCxWByOYHApENCGhayCciO2zMNO2TxYasftSxnxIw0rTS3sjHnQfoOHGhId+ILIsNpDdi7AzpP2S8DBw+MSX9h06QwSOn6E83XWioi8hiOxbOPC59+x+9IKRPv0jWrT9l6vuM2sF9+vrDNqZwD+PGH5N9+5NPaWQislTfwkUnjE0fPZ8vjyDZSSCyTZTIQj5vMvd63e8r9PdprVAWV/+2XBu+mGhvv9t4RLZk7gl9Vn6+6JnnquQFU69Wnn/poDxn2sXkKYbVXoDIRGQ5blZZdUh2GyMpSMPK3n0VauQkIRORXb9xW/yj+rOMRD+ub39gnx/ppx+uXrsp0chqKCLLDtDefeWyc/c+2bWnWnBXHjwU331AQH4iGyJLP+DDZylxjvA2NpE9efKUFJUs1N8+TQ+DQGSXrlgb392Fg2yILGNVTalevW5sIsuu69oNW+TjTgN0PE2X1h37aZu40JDJbuSUHvbtTbdGtqOKsRnzWa69PpKp006ofY+9e811/rCNKqZs4Uxvvn3QzN9+MptEZKm6CROPKVfCpr8Q6ul8SiCyTZTI8oXg3/4uIT1DaNt1PGImXJF3mjUSkTXCb+Fu335a06Gt3GTiuvLb35fLS6+c/YpuU0YSkbV1uHX7bkNc9gRpBNm+c68cOeI/2pdEZKknfpeQLwhjHLnSrutgNZAOHjosa9dvTjSyGoLIgjJj2HU08Tr1HKb5WsGo6zN4rOzdX67hAgLyEZmILIs1M2bPl2kz58n0omqBgCxZvkYtPn7Kij6T1CcbgsjOmrsokcgyhixbuU7vf395paxZv0XHDUiVSqyzuJlPyERkKw1JLSpeJJOml8iUGXNTMml6scwqKdOj1oyfjb0ju8aUNW0gPQzS1tSTS2R5PtpJuuQbMtmNy5efVFvNZxPmq1j7E5t4957T8sDDfm5yPoT7+L2xhceO87ejJCJbXn5Gnni6Sm681Z9ukPpJAZVg5aprymXi5OOyxzQWiA+rBO515JrryuXxJ6uU7A4eekzJFsTKDYP7WuM/YNAx2b//tDxpKox4bhiE9O+6t1J27Dwt0wyBvura2mGQX19VLh07HdYG8PDjyWndcnuFpjWjMCKBEOD0cFebPCBslZVn9FhuUloQ4bLFJ1VuvNWfFqtEb719SIns+60OyZW/8d//Fcaf3cx0ZBqQeIZfmef2pUc+HxviDJF99fWDeh/pYWx5rFh50pDok0pYk+qzeYtDSuxbtT6k5ZMehmdHiktOyObNp5TE+srjN78t17oGu3ZH7aNX7+gIhpUevY/IuPHHjXETPfNh85c2sv+AI7H76LEoDOVbXuEPRz3axfsjR5LT4hogrYqEtPCnTH1IIrIYPRCrII0nkNl9+yviGqiJJCLLjs+AYRMSDKNhhnCOlAOs8BujNMnIOtdEVn9+xzTeidPnSJvOAzXPdPm4c39ZZwxwi+iDM7R5K6e940dAQFNBJiI7euJMad2xv/YtV9p2Hah9BLKyZVv09W/6Q3o/Iuz5ILIcLWY3ksWxdt0GmXwHR8eQEaMTl/5NWvmCTES2ZP5SPWqt9WOeLyXG3bpTf1MeG5R89m1kIsuCAfeQHgaByE4rKtX7X7F6gwwfM11GjDUyrlqGmTxmzS2TE0kTfxNEJrsRO/N3xjZL31zKZ2nKRBbBFtYTkh4kEVleDSTubea50tMLUn8peL/VYUPCInmnmRlkDHGDHLTrcER3LN3rSLMWh6Vr96NKfOYUn5T3Wh6Wlh/UDIO7ufEvmn1Sd/q69ziq8dwwCOm3aXfEdMozuvP5TvPaYZC33jksEydFKx6duyanxc4iaS1bfkrvq0XafSHvmjzGTzhuiI3IoCHHEtP66OMjsnHTaZUPPvKn1dzEHTT4mBlQREaOOqbllx4Gedv4r15Te0LLNCDxDDy3Lz3yGWvIIASu/4Bjeh/pYWx5bN12WtatOy2teIaE+hw2/Jgxzo1RMeaYlk96GJ4dWb36lC5gfPChvzyavXdYuveMOvTs2Se0PkkPfyvqNnlSroDd8w6djkqnzka6RNIR3QhlAA4cOGOe86h06FgdBmlv3EOHHUuR4lJD2H1pIfMXRoNJhWnbvGPRvuORGmmR9oCBx/T5fAhEtunI2RLZXgNGy4ft+xrSOKCGYEi3M8bQgYpKWbVmkx5J+9gYZ+nhPmjXRyZPLzFjx1E1iPxpGWPPGHibtu4wBvhONWgx9NLDfdShrzGseB/vtIydUiTvt+1dKwzSsm0vWb9xqxrNs0vLZKgxnIlnBcMbwVADkGx2sNaZOMSzgsEHsbZHNim/9DBWKqsiY5b2vnnrTiXS7nXi8dNC1vjbf6CixnVX9h+o1DABFy8yEdkBwydov2rTpWa7p//Rb+jvtGfr54ZBiDtqQqESWV4b8PVJG2/V2s2ya/d+JUv00/RwH3XoJ/0N2WJMnz57nul7/j7Zok0vWb5qg/Y1xg7uk+PGrrQy99W9/ygzFh0zhuyJqB+l9Y11pk9C0i3ZZSHN1yfxg7SBk2YcIA5x08OQx7Hj0YI5x27d6264vfsOqM2SjkxEll3yFh/3UhJfozyMm7Fr4eKVxtY7LN36jPCW7YdmvIN8sks9b9GKxDGWOmARgQ819Rs6IXGMpQ4Zd1at3RS1n7QwSEtTTxOnFev99xk4Rt5r3VNamfRate+Tkg/a9db642QAR9p37NrrHe843s64Dw4dPiIbNm2rVVfUyS6TjgU6426NMEaIy+41YK4ibV9a23fu0XE/HZnsxm3G3nvk8So9HQiZvRAE0opYInv/Q1Wpk6DnW26+rVJuvb3Cu1EFkogsGzicpmRzyZdukPpJgRkaTbFWy6lTJ3TgTfdPF8KcOp05HNezTeukydd3zcppk1Y0SPuvW8kqrTPmvkxaZ8xf33UrJ06eUPFds0Ia3FfmtLhWe9DJNCBF4ZPT5Bk03wxhEO7/ZBbPQHmQpu+6FdI5kUV9cl+EPeO5hmh+Jh3C6f2Z+vIJeRGGeyM9Xxj8ua5pxXXvk2zS4l58EwdIIrK2DsPR4saVpPdkk4gsXYxdg0VLVsniZWtqCEd7lyxfK0eNMYzBiLts2epa4RaauFuMsYjhibGRKS3ebWX3YfFy4+dJa9HSVWq80H42btmuhmB6GAT/KpMWbY905pet0Pd5XSlduFzWrNusz6l5mnDzFi3XsFZKFy6TlYbs2vaNMVxqwrjhrL57734Ng6HO8U7St2EQ4i1ftV7LC0CQiYuBasNE7uV6LeDiRiYiy9FQ+lV6u6etI8SF/Fi/9HDEhRjQriG83j4Zx4MoMjYsXbFO+2l6OHYKV5t+xGLPVtNuk/okfQ4SBanE7bsv7iPatT2tx255p9bta9qPTJ/kiDJzEoBE2X6T3o8gNYB5kzjEddMiDHnYsQ9iZv2rw0TuzVt36LiTjkxEln7Mc6c/J0I57THkmPiMC/6yXaWLbTzr7j37E8dY6mD7rj2a1up1mxLHWOqQ8YnFR1/7QbgvyD2gLjK1DcjpKVPvjKPp4x1lRlx7VJxFAtJ2yxahTiDBtmzRffVEXNoP4L1iysaXFiQ9k83hq0Mwe85x/YYJZO9CEMgiwilFTvrdc3+V3HSrP2xjyi3mnh56tEqGDj9q6slfF0lEFqxde1LeePtg6ii4L48g2UkBE0BKTjt6kqSHSYqTbThXmmpaSZKY1mmjRx9CsOIbdDINSPi58WtIrXxr55e1NEp5pMnZ5tEQ96rlRvlFbnbufEgisoD4TEi79hwI0sCyZ1+5GreedSFFEpHNBtHCir+OLWgvx46dSGwnFkxeSROYBWlABrNJizwzhbJpETbBvtEw7FwR7qRps0k4YYg6YSiPxLTMBa5HafkXfwB9KsngCrg4kInI1oXjx7PrR1GfTG7TgPHbksYk0FZp04zpmUAfIc9MoNnre5jaj/x9AP9UP4p3Zn3gmvZJxoHEtCivutPi2XxpUD5JRLYukJ8+Z+z2gSwJk+neAPeXqcwsCJM0J1swXlMedSSl7YxwSWMxvrRDwmRqjzY/BD0J3LdNK+neiO+7H8olE5EFfJtm46ZT9ZZNjviun0/hdCfTM6+3bdxY+3qji7mHXbsyjxOZiCw4dOiMbDrL52mq9XQ+pCAuz4DzgGwGpICmgUxENqDpIBORpZ8FaXwJuLiRicjSPHxtJkjDig91EVlfOkEaVnzAP9iN+YG6iGzAuUEgsg4y7SxYcLSHo0IYyyed3Rt3lZHrHLGpC/UZkNgBsWDV1TXW+UqiPapyMYKy5/0VysRdcaceEHd13fpZcEyLld260JhElvbAPda1ch1QG7nsyAYEBJx75LIjG9B4qIvIBjQNZGM3YtOczTy4bftufdec49YBuSMbIsuppfqCY+5TZ5bK7LlldZ4euRgQiKwBAziNgh/STjpaAjg+ykdeppmwE6fN0Zf0Oc7EuyPd+45MTdZ8LIXP0teFbAYk0p9WNC/1rhkNeOachTJ+6mx9x477nVWySN97uRjBYgJfkJ1aOFcmTStWYkp58jEa6nT8lFn68w6A92X4siX+u/ZE7wFOMPXI+zF1oS4iu+9AhX7x9lyQqCpTx3xUiC96ZkOyA6pRF5Hl3VrqKeljURYsWKV/vANUVFbpR5wudPDOGx8q4T00F/Qh3hHLBvadsoCLG3UR2WPHj2tb491JC474847hzt17Y58AH7BJeM/Y19esH2XJfIi9wkfo3IVcF9kQWdJIH/927tqbmGZABOZxt41jt/FONOXJ75vzM06Ad5s3xH78trgPddmNxOPr+nzNO3p/PHuiw3HnDZu2y8Qs7NeAupGJyNJn+HL22MlFsU/2YJMDG2bMxKKwcG8QiKwBH4kYOGKSEodM79AwyBTOXhi7IpSbiYTPxPMFUfuFTj7Owlf+AJP0nNLFSnTSUdeABImFmA0eOTk1ecyYNU/2xIMhn5bnHRw+DGCJLh8ruJhW0xgMpswoiV0RmJDtQgJfB7S/JYdhxARywtQxv4cHWCRg8AZ8hIFB3IdMRJZ2UTxviS4oUBcYF+cCkHP7dcOA7JCJyFIvpQuWaX/k5yTsB1TSwe4+i1OsdlKvGIGAD4sQ70LvXzxvyfwlWk58hITxDGAU4ZdUbi6KihfKdDNWBQRkIrIsIs43bYx+Rt+i7WGkLVyyUtsa/hfDwtHZYPfeAzLX9FPGqbkLltYgPrNN2dl5jzLFhmBu4gvPfCzJh0xEFltEP1i1cHn8IaKN6s9HkFq26S2r125Sd0BtRG18RY02js0xbMxUWVC2QuuONs7iKV+g52NP+EFmfajLbsSGsYvzk41tZMdvH/gA4kwzVrtth/463RBhF5DwwjkLlHxbbN22K9pEcfoncwN+zBUWkHfaKKTdgt9Gx48PWl3IyERkl5j+xOZZNosGfEy0cPaCGuUKsF9de4eF95mmnvhonQULz4yl9pcNAB+jpD3Spy8EBCJrwK4DAwsdNX0HwgUrIH0Hj9edv3lmMGfgYbWThsQAtXvPAQ3HwMGPh7MKx0DPIODb9atrQOLroxwZ5piyNaaZROyOEr8/CfHG2Ny1J1rJ4yt8F9OXQqmDQSMmKXGlzCG2lCe7afxgO7uv23bWLA86NrvaYIYZHKhzyhhJ2qnLRGSZeFgVBwwOLIz4wEBOWwD83WjCkSaLFRgYDOzucWIWQyyRZSGEL+CCHWayYAKClFPXPCPEi7bAs+/ctU/jkl42u80XEjIRWdoGkyplutwM6pS7D/vMJMuKNqCsbb2wsBD9xEX+/Yh+fUD/oL1RTsVmAmSBjrbLRMpXnZPGK0A5rVy9UYks5RYQkInIMkcyd9HWWGhk/jpsxiz7+59co90F1AY/d8PJCf4y/q8zxIf+t2rNRiUTzIcA2+bIkciuwcBdvtL/2lMmIkufj8bOI0pCZpVEfRujGWPaNZIDaoJ5mRNg2sY3mja+dLXWCQsNlKe1K5irOYmFX6aTWNRFXSf5AKfVWExMsgGwd7BPuScWk+wOPn9dIsuvBGBz0q76D51grh9UEstPG9HuSGd/eYUu6OOHPUR7YKGFuQP7BGLO8/K1f9LnRCN2Kwsi/BLAhYpMRJZxscqUJTZoJvAF9eL5S9RmpL5c+56ytfYO87blCvxmM2XNz39R1tHi06bIfjFtD3sZP74Mvj6NHOcjApF1QKOgkpPAT1uw8kgYiAsd0YJJgy+qgsNHjsiYiTO1864wRl0SMg1INEoGDcgsDZEBicED8sJAAemGwHFsBDf3zi5KkhF/oYKFBH5WhDphsigqWWjKk53r+erHAMuKI6Ccl5lJnFVla1ixYsmkP7+sui59yERk+YkS/Ry/GRgYHOyiQzoYgMgbMsBfBn52CVltY7Ljx9n5mQALl8iyEloYH5GGpJMXzzdq/AxNi4Fp7oJlasiQDvdhjyldTKBeM/UBypEjV3PmQtD8ixb4syBB/6ZeEfoZuxocU4ek7TGT9IUMSD7jDkYXbZOfuxg+drqOM/zcRVIZs4uwZPk6vU4ZBgTUdbSY/oYBzDgMSYKYuf2PUxQBfrBDM2HqbJlrxnsIyxYz95QtXaWLbekLScwlU2fOTSRAmYgsYK5lXkXsz9qQ1so1mxIXBQMiQOho40VxG4fIshvHeIofi6cQT2w6/FhoZxHHh0x2owX26Vw2V+KfUvOB9oHtYWGTw861r2MB7BWIKURq5LgZuutnCaolssThePT0otKIyK7aoBs6zLeDRk5SWxjCxu84Q9JZnMJGIe6FPJdmIrKAn4WkHDNhlSGblLOFW+8s+NnNN9oU9iMEFruWcYDv/mD/Yhti+2ITsvnDQhR8gX7LQkW+owBj+GxeNr6QADmkHHjvlHfgmARsY9HfKzsWNZQqMxHQSDDsWKGiIxKOjjm1sNRMIrs1HTrwkFFTdIIeaYgGjdD30wCZBiT8aWTI6AmFMqWwJDV58OEnyNLi5Ws1XQYkjqgweA0cPkkHlYsFTK587IpJmBVAOi3FyXFj/DgOyooxYNVxTmmZThq2zbMTSlnONv4TDcFxd0RdZCKyGFsM9Lzbys68rScfyB8DbU5sZEBkqT8MERY/WCGzYLC3u39MCBAowDEk8mQAGzluuqn3LTohMEgB7oUFF1bx3CMmFwMyEVl3lZvdC9dAdvsg7YOyZuWYnUgmYSYJ+7oAv0fJbv+FCB3PzLNasEDHKQWOINmV2zmlS2T95upVXFt29EU+FIKxw+41RhltO/rt6YCLFZmIrD1FAhjjOALHuMZCLf2P0y0Q3ICaSO+nvO6wzMwBLHbqdzyMgYstQNnZcY85I+m0EMhEZJkX6d8Am2OC6ecWEFlOCAX4UaON796rdQLBoL0D7ETmFsrVvraBDZf0nRXSykRksQXoP9ghmWx77FfIKXMb9gJ5Eh5iCemmfZEHbYt3OSGovELHDipzAqeVDpl+PWTkZJ0baDsQY3b/CYc9ik3C/MlCMBsNkHO+U0E7pL0xX0C4L1RkIrKUSbkh//AOypp24sO6jXCN5VpPfAuHd9L15++Mm7gsNNB2KGvmXOxcynXeomU6lkbvSZ/SHfFZZj5mwST6vs5pbSd88yffUcBq3sX+DgqG6WQzaIydVKQrGRAf+/ECVoY56gQYyCEaYycWaeeEZDBJcAxjzKSZeixksjFwGUAgwICOC6n1ra7VNSBZMMhwhMgCI3tBWbRLBDAy2cGlsbJzezFN/CxCbOGYiyGhhXMWyqGYxOw15UV9UB52V3PazHlKDunQdoWLv5Q/9T1qfKEei/QhE5HlvWSMBPoRhpj9kJQPS1euVeN+6fLo3QQGlIEjJmp8FiyoW4gYz8RkACnl/jnqSTwmAEgwJOzIUXa9FuuEyGClk4MxOGh7tDdWVSdMvbg+2pBEZKlj6p53lSgr+o/7Xhflbt9t5ugUfYg6YCEJw4DJCL+NW7arwcgP91+IgDywY82RL961os2xQEOZYcjwl/fvdsbjGeMf7+1TvkyujENMrJQZH2FjUYAJM+DiRSYiS1sqmbdUT45gMDPeHTfzKrtULDDSji6mbz5kC/odtsoSM4/QJ7FHeFWFMYz+R//FnmH3j/6HPwarJaM+ZCKy1At2EbYN5If8AHPd9KL5Otcw/7AREFAT9l1vbePL12ibph5o1yyUMsdQj9TTEuNHOVLe1kZJR112I7tvtA12zlnYT1qcx36FRNJOsGGwHbBhGLfxw06CLNEPmROYC+ALusBu/BctXaVkGzLFLi1ErMzcPyd5CAepxUblSCuL9Jwcw86CxLPwEYWboxsRFyoyEVkWLSCclndQvr65krbCbir24cLFK5Sc0p+JM8bEJQ3KnxMZlCl2Cn2desSPRQb8EU4vYjOv37RVX5FEaHv5joKkznCxwZYDf+sqk/TrrruuuC4Imw2RTUd9w18M8JVJkp8VHxK8MxJZwETAxMGKayaQPO+C2XwgCRgFECx2atlZ59gOEwz+HAGxX87l6DqDFMJqKOA4D6tqfDjA3jptikERksukeDEh044sdc7kQT1RXy4wzuziFbDlutQYGRaQPAyDC92wppwwpDBO3WNfrLBrG493EgBGyZp1m2r1J+og08mEgIsHmYgs7YY2hnGMgW9RbggRxyt5bSPAD8oOEstibXpf4xSZO/azKMfuTyZkIrJ0b/o0pIzXWk7FBjckDD/I06xiFv9Cn09HUhtnnk9v4xAUyhGSmATSy8Zu5HpdYUB6GOuq5e9J61z7XWjIRGSBLQP+1lUe6dfduC586WTrl68I78ieR9CQzobIBjQ+6iKyAU0DmYhsQEBA46Oud2QDmgYyEdmApoNgN+YP6iKyAecGgcieR4QBKX8QiGx+IBDZgICmhUBk8wOByOYHgt2YPwhEtnEQiOx5Rpg48gMVlYfkVMK7JgFNBxjN7hHhgICA8wt+AoJ+GdC0wfzGPBfQ9BHsxvwA/SnpHeWAc4cCjL4g50mOHNV3J/jrvR6kyQjvp/KzEL5rQZqO8G4rHxzyXQsSJEjjC7tH9EvftSBNR6LfpS33XgvShCTYjXkj9Ce+Bu27FuTcScHWbTslyPkRPozAz/n4rgVpQrJ9l2zYtFU/fY7uDRPk/Iupm42bt8mmzdtDPQUJ0hRE++R27ZehTzZhMXXD/MY8F+qpaYu1G/nrux6kiYjpR8FubBwp4H2yIOdH+DT2zt179SdjfNeDNA1hxYefGeCrtei+MEHOv/BZ+n37ymV/eUWopyBBmoDQD/mdTH6Gif7pCxPk/Av1xPzGPBfGzqYtKbvR/PVdD9I0hH4U7MbGkQJ+jyzI+RF+4HivMbyPeq4FaTrCy/r8ADjveaH7wgQ5/xJ9rKRKKszEEeopSJDzL/RD3hOjX9I/fWGCnH+hnpjfmOfC2Nm0JWU3mr++60GahtCPgt3YOFJAAQc5P0IF0NCPea4FaTrCD4Xzm298tATdFybI+Rc+qsDv8FUePBzqKUiQJiD0w8qqw9ov6Z++MEHOv1BPzG/Mc2HsbNqSshvNX9/1IE1D6EfBbmwcCUT2PEogsvkhYUDKDwlENkiQpiX0w0Bkm75QT4HI5ocEIpsfQj8KdmPjSCCy51ECkc0PCQNSfsi5JrIchQwS5GIWX7+oj9APA5Ft+kI9BSKbHxKIbH4I/SjYjY0jgcieRwlENj8kDEj5IeeCyPLe0eGjx/QDbHxMI0iQi1r4mIbpD/QLX3+pS+iHDUlkXdg+f/LU6dgnQnocK4RPhy8cYnH6THKYcy3k5cIX5lwJZdGQRNbFKfNgPv9M+abDFwZx4bveEJLejnxhzqUEIpsfQrsIdmPjSCCy51ECkc0PCQNSfsjZEln6IV8VPHjosIl7KCUVQYJc5OL2h4OG2NJP6mNA0w8bgsja/l1YVCx9BwyTGTPnKImweQweNlr6GP+i2aXqDyd04588dUr7+7CR40zYMbJ77z5Zs25jrXskH553zPip0qffEP1oVXpaDSFnTCYVlVXSb+Bw6dN/qCxavFyfwyWB51J4zoYispRp2ZLl+iwjx0zU9PEDE6cUav2NHDNJ3aBWfFNXU6YXSZ++g2Tz1u2ydv0mXVhJv0/CzS6eZ8INkLWmLn1pnWuxzzFi9ARtb5OnzVQ38IU/F5KyG+vRD4M0vtA+g93YOBKI7HmU1IDkuRak6UgYkPJDMCrqS2SPGIOoKo3ABgkSJFkggPQbX39KF/phJiKbC46Y8fjHP79W3m72oXzxaz+Qzt37qn+7Tj3lLeP3VrNW8k6L1vLiK+/I9h279JoL5t8P23SWlq3ay423Pyj3P/Ks+tt7494tOnbtI2+9/b588FFH8zwHDaE8XeM50neB6wPiummRNj/ZwX29+15reevdD/R5Xnn9Paky5e/i9DkitjxrJiKbtjlcb9x8x8PyzAtvyo9+dm2qnEeNnSSvvNFC66/5+23k2RffkrmlC/VaOiC7b731noa57BfXad255WZBmm+99Y68/tb7snrt+lr15NZpfeHbjQc9+w6W103boI6atfxYnn/5HVm9ZoNec5Ee92wlENn8ENpasBsbRwKRPY8SiGx+SBiQ8kPqS2Q5Mukz1IMECVK30H98/coV+mESkeXa0uWrpHjuApm3YLEsX7lG5s5bpH9xo8+dXxaJ0dnVW7JsleoLFi2ViZNnyK+vvkX27j8gH7TuJD/5xW9NvDK51BCdZStWy6Yt22TO3Pny2pst5fa7H9Pd2/kLl0hpnN7CsqWyc9ce2bR5qxKkO+55PEU4uDeOVtv7WL12g2zZul3aduwhDz/+koazYwx/D5RXSrEhYXPnc8+LNH/Sd5/B5rtk2Up9Fq4vXrpSf/fapoWAqdNnyc9+9TvNc6O5vynGzT3e9/Czek+kNadkvuzYuadG3LMV0kgisrjXb9yi+XH/tn6ou0WLl9V4RnTK2NYlfjznL6++WeYZ/ynTiuRr37pMSkxZXfXb23RHnGckfPOWbeTG2x6UAYNHmPqN6ylOc+v2nbJ56w7p3X+ofP/Sq2oQWe6PdjFn7gJZsXKtKa9tMmHSdPndzffKnr37DQGNyD7hOFFA2ymZF9XVYlMXi5euqPEM1e1jmT5jqWlTS0w9bd22s0bZkP+2HbsMOf+N7gTzHDwrxBziPn7idH0Oyo0d4vRyPVsJRDY/hPoOdmPjSCCy51ECkc0PCQNSfkh9iGwgsUGC5C51kVn6oY/I4n/69GlpZsjL3Q88JXfd/6T857d+Kg89/oL+vePex+Wxp15W98NPvChPPPOqXH3d7fKDS6+Wx59+xVx7Rf1+87s75Xs/uUrD/de3fyYPPva8fPnrP5b7HnpGHjXxn3rudXnp9ebyha/+QNN8+vk35IVX3pWXXmsmDzzynHz9uz+Xhx57Qb78Xz+SHr0H6ZFe7o9747jx4yYP8rf5ffWSS3X3DdgxhrArV62Te02eT7/wprz46rvy3R9fIXfc94Qhn2/qvT1m7vkF4//CK+/I5VfeIL+46ka57sZ75JLv/ULWGJJMGrZcQPP328pnvvQdeYS8TdxX3mxh0m0mX/rPH8lzL72t93L73Y/KjJnFqbi5CPkmEVnS7z9ohObH/VDOd5v6otyvvv4OefTJl7WMeE7u6857n9Aw1B/3jt9d9z8hX/vmZfLkc6/ptfsfNmX/nZ8bsnmfhnv86VflVfOM3zTlcaUhuE8++6rubPLMz738tgn7MyXx3/zBL00arys55T4RCOW7LT7W66RFfj/62TVy/U336GKEPY7Nc3Bc+5kX39L7op5+edVNcuW1t2qZ8gwPP/6itg/kljsflm/94Fdar581dTFpaqFJo3oHHH3cxGny75//ptx+z2OaN/fMrizPeu+Dz+guNO2ue68B56SekEBk80Nom8FubBwJRPY8SiCy+SFhQMoPyZbIcizSZ5QHCRKk/pLpmDH9MGlH9tjxmkeL737gSf17pyGA+w6Uq+6id7+hSliA9u/jx2X4qAny5rsfKmF5+Ilop/ROQxwgpODwkaN6FPg2Q8LACBP+HkOcIbTkAwEBkA3ux30HFYIETpw4pc94zAjhd+7eq/7us3DsFLBjC9GGoP7293cr0QG8f/vEs6+Z+28tP7/i97ozya7fa2+11OtuWoAdyPsMEQK8lwtBsiQfErZp8za9Bty4ZyuUZxKRxT5xAfHniPMb77SSqTNmxb7VWLpstZI/wHur2Dlr12/UMgb3PPiU/oWQsuMJonevjysZZDd7xaq18oAhpo88+ZI++w8uu1rDsVBQtmSF6u49Ar6yreTOpAMxhXgCNxzPBsaMnyKPGtL6s1//Xn5y+bXSoUsv9Sf+y68312PCN9/xkLzx7gcah4UW4JaNTYvnOVBRqXrLD9sbEv6afOO7l8sttz8oM2eXqD9w7yMXSdmNPKvnepCmIbSPYDc2jgQiex4lNSB5rgVpOhIGpPyQbIgsfa6pvROLUejzs/6qH3Ik9s9FzkeeQXKThmi3pJlrusRPMqrph0lEFpIDSeMYLR8C+tXVN+tOG2TxgPF/691WsnbdJunZZ7D846e+bMjh5dK6bRclGbwTCzH63o+vMES2lewy5JIdOdK95c5H5JQhoezyXXHNLfr+Kzu5VWZcKDeEg48nEXfA4JEaB8LK7hv34hJZdtw4Fvr5r3xPrr7uDg3DjiDHedOJCWjxQVvp2KW3LFm6Qm4yJGj0uMny+jsfKGkdO2GqfO8nV8qbxg35BnwgiB1HkJ4WHzS6yxBtnuPBR5/XY7MzZ5XINb+7U4kcRHHHzt3n7MNT1FMSkbXuwqIS8ywz9b1kjuy++mZL/ZjWkOFj9INZkPV/MPXEbjQ7m/ixW3nrXY/oLus1v79LzsT1e+jwUSWpHNnu2WeQ/Pin1+iO71e+8RM9gnz02DGZUzxffn/L/fre6w23PqCLEuyQUxbA3h/1xDvQP/zpb+RHRu4w6X/lG5fqB6LccAgLHJQ7O+OLlyzXnVfez+03aIS0at1Jdu3ZK5cYEvqmIbDU5SnTRjds2ppa8HDLBp32wiIJbYf2yru8HB1nt31G4Rzd/YXsn6t6QgKRzQ+hfQS7sXEkENnzKIHI5oeEASk/pC4ii5/u0HiM8WyEnyI5l2TCEscahDElEcHILCack16SpPKxUisvK7480sWfR5CGE74WXFFFuz63bZB0jps+ccKQJdL1hclW6Fe+352lzyURWT7Es3fffvnpr66Xn/7yehlgyAREA2LAx44gcLyvCDH87o+ukJYfdpD3P+po5sxyQ57GKrFgZ40PBvGuq0tk+XvrXY8quQKkyXus7JAeP3FCWrfrqru7zxmiwT36iKy9x6EjxqV2QNnFXbdhs+puOPDEs68qeQWPP/OKbNm2U977oJ0MHTlOphXOlksvv05eeb25vN38I30nlHco6yKykGxI0VEW4Ew5251BjuRyT41BZFlwgCxCIv/jv34sH7fvqgT7BXPvEP3O3fpKm/bd5KC5v+9fevX/z95fwNmRZGf6cPvb/a/HsPaa1msce8aeGXuwZ6anmRmlVrfUUouZmZmZmZmZsSSVsMRUYuaSVGKGlvp88Zx7o5S6ynvrFqiqUopXv1c3KyEyMyIjM944J05Il+791aWWY+igII0Tp1JUDJKfXiHLfbbr1FtdlwHWTNJkrPOhI0dl5Zp10qxVF6nXqI0GGfMTspB0V6xep8eC5q27yMw5C3XZux8YNXaytAq7hw8YPFqF+Jp1m9SKyzOCIG7Rpou06dBDx1WfTjmXrpC1zytjsgHPIuVFmghn4L2OrNAJ2WCQ58O1G3OGTsjmIp2QDQbdCylniVUG2CAdus40GELrojcI0hOy1LfMigCEBO6Od00DLivja2nc8It4sKD+6zYVig8ZuuMQrNC4bn69CO376Dm41u9MRtnrZB9+WWdBw9hu89ILBBT7kI4FVx067tFzOj4ZUgYpZ89pQKN1GzbKlm3b5fLVa1kWnrZsBw8ZKu3atddz3LgVWpcZ8uz4Nayph9GELOSRxEqKSymBgwAWPKyNe/cfkuZGUOzdd1BdcHHbtK7FFlg6owlZXFet6CFNpmypacTT+x8XlJfe+FSGj5oo9Rq30WuMJmShF9GELIKToFG4D39borL85sX35KPPiug1XzTvDSx1Q0dO0ONwDR5mllev2RBTyBJ8ilchAg2xhHj9+W/flG9LVTHiaLG6OmfX94h0oglZiJj97rvv1BqOJRs0NCJtUUKinEs9r+OGV6/dID36DJbe/Yep4PSCaXP8hOy+A4dl0LCxMmhoyLWXMc0EWSKo08tvfGL4qUaWJs9iCVnoBc+En5Dl3s6lXpDOPfrLN99WkNffySevvPmZjmU+fuKUdjDUa9xaj0Ncl6lYR5/d9IQsz+uRoyfU/btYqapG8L8tn39ZXF3NKX+/PM0ss1vIWhd6vg5+2zPCh9/px+vRs0bK/Em2G8lrys5vG/B7l0USPA1l5YRsNtAL+2B5Ee1hc0L2IS28eeWFX74Cu28kHzbZH63QvFC866xoAiza/bx80i8kx4ekp//EqbOydcc+OXPugil301gw606dSZUtO/bKafPLOr9j0xOymR0bS6Mf8dC7dx8ZMHCQSeee3DPPD413v/3T433zoG3bniy9+/aTPn37y/6Dh/T55jyQdGlazJw9R/r26y8jRo7SRhwNcQTMyFGjpW//ATJj5iyTVljMetK/ffeurElaJ6dOp6SJWZ7ypHXrzfn6ST9z7PGTp0wefZd2Toi4njR5ip5z3PgJ+l7inIz/GjJ0mK5fsDBkXbgacU7H7KOWpyFld/T4CVm4eLEK2V2798jMWbNl6fJEjXRLmfkdHw/p1Ehav0H+/M//XJ577jkZM3acPiN++8ZLv7Gy1MNYQhaCHn0G6ZhEpl8pXrqaHD52QtcjLBCZuGtOmzFPx0sCexxipX7jtiokiBTL+gKFy2h9wd24cYuOGiGXNPkbqzECtma9FuoeW8ys5xo5BmtctMYf+wDEpLXyRu4DLl66IufMeRCbuBDfu3dP1yPMvipSVlIvXFThQ3Tb+QuXpgm+yHRwuS1UtKIug3OpF9Wl+POvSmj0XMoqWrsiM+T+YglZCIgUnb9QaZ23l46CGbNDYpFOAMbOTpk2RwUd9w94x3CtR0x5YllGyPKLkCUAFBZU3He7GGGZsGyVlgtzyxIYafuO3fJ5gRKaTsFvy2uZ4lK9Kjw3sN81QoAgnjx9ji5Hbud6OP/Zc6nClEaMg712/bruu3vvQXn17c9NHqeotX7M+KmScjZVrxl484Zlnpevvy2X9rxSTyl/gpCtWBkKxGV2eeT8WWV6QpbnwsJvu5ch9/7rsmPXAdl/6HjUso+HfKdPppwz3+l95jt9Pup3+lkheRmr3cg6L/jbb13kcZC8PWveCdQ7bz6zP9/svQePyrnzl9ItgwOHT8RsUwWFTshmkbyYmT6gTJmq0qFLH32QeCgIxV+mbA3tSebB8vvoOCEbImISly96zc9fvKwvfxocfCy9+UpeMzE87lWMp2FsjV8kQF6oNIAqVK2vHzQaF+zHR4dzDRw6RkP0s47GDL29zG13/MRp3/Q4txOyWSflRz2gIWHzkXUPl7/Xv/kYLklcL4mrN+nLnPLkw7hs1UZJWBEKnuFN1zI9IZtZKxaCAQtmzVq15I/+6I+kcOEisnXbdr0Pa9mMh1gx75qG3dZt26Rps+bSt29f6devn7Rs2UoOHjqs+yBQeH9MmTpN2rRtJ/2NeOzarbsKUBqF/fqbv7t2k/5GjLZt114mTZmq+1sxyy9CuXyFirJ+w0YVpxy3Zs1aada8hfRT8dxP2rQxjf+UMypS4Xcm3xHI7Tt0NGn3l46du8jQYcNMvt2Tbt17SI+ePfVaWrZqLXPmztO85lyR9xiN5CH5j0X5aaLek7m3jORFLGo53jB5ZUQs03nMnDXLiINp6g2AUMTyOHvuXCPONmbpvKR1ypR/BfOcfP7557Ijead2gPjtGy/Ji8g6Rz1MT8hCwFQmWB/5ntJxZN8VFgjIzVt3pH1L+WVqGtyPGf+6as0GXY8bL+9qcPTYSV1PmuxDeoheLIurkzbqtCneY2K93zkf14fgtdcQSd5hAIF2znxb6Bxl31Onz6j1r4T5xlkcOnJMAz5FpsXfnIOIxCxzTYCASJyfM8S6zsyQ9NITshBwTYw/ZfoavqP8be8b8L3lOu198Ut5JprvOWnzS5sId17GG/NN5lmmDJj+BjdktRKZd2vfgSPU+sz4YI5Za/KVY2zafmQbz8Tho8ej7sd6QGApLP+AdbjII5b/8OpHKnQB98M1+6Wl97MyKe15tR3jq9Zu0Gde7yPimKwylpDlW8k9VK7RQMZPmunbnvES7Nl/ROYuXiVHTfuH+4Hchvc507aTIffINns892f3YxuiaOnKDUqQtl/4+fDLw6eV5EmsduMtU05Y7MuUqSBz5i3RPGJs+LBRE3Td5GlztJMn8jgI1mzYLvsPh7xDbL6SzXfMN3vwqGmyYUvIwyXyWEg7ixIZM3meLAuXFe0I+wxT3n7H5VU6IZsFEriAecsYG7Fp4xbBdYhJzGlQ4lJ0xHyomCfNuqpEHu+EbKhC8jH58X+9KH//L7+Qw2G3LXp1mRvwyOGj6pbVtkNPk1eXNUgHvbvjJkyTQsVCvaTe9KiINFiYvoDGy5wFCVKnQSvdj5cCLkw//Mnv0z5eNeo004/UJtNAqlKzkRD9MvJlm94LyTEe3jcf++vaE3742Cldx4vzommw0UCzeUxjBdDbuGpdaHJ89gWXLl+TFWs36wv40bRDTE/I0ljya4CnR46j4d+ocWO1XsEf/vDfjLjrpT3wID1BYUUmmGzEZwsjXi1q165jGrSb1dq5fEUo0matWrVNQzYUrIRGUslSpdVCxy/1AGBhZT9A2teNUOYjNGbceOljROcd81Hk2sHAQYOlV+8+ugwqGgFz4OAhFcwbzblB+QoVTF0MRQQ9cuy4lCtXXo8vUbKU3DVlBWbPmStNmoaiw6roirjPaESInTENw6eRBIihjPzuOyMkP4+dOKnPAiSvx44fr5Z5zrF561a16O0/cEhmzJyp587sM23dz0+eTpF9Bw7qsh2Hm1lyLZF1jnoYj5CFXkS+g73bvetCzePQ/sDuZ+u/F+zDeoDIhCDyGC8j1wG/a4skoFHp/ZsxpIzHHDpyvNZTC+9xlt77SVsXvnbvOq4vxIfrMkPSiEfIQnttwO9dTCMZMP7arrPHkDZgHbBCzx4DSJP92IYoI9gSeHjM4+cM5cHD81l49/Gjhf2b6yB9OjgY30yeWBHmPc5LEPlMANLyrou8xswylpAFuLf/6Z//rQY7A5H7WHItWPpXJm1RUUTnCesQMcdPnTX5flr347lLvXBZLXxXrt6QUympup5HmE7noydSQvuFvxF8n1asfej+Te7xPT945IT5Rj2cDulpJ3kZrd3IMzV3foJ2Nhw5fETHhtMhkmSeu/6DRsrGjZs0EBnjq9EZ3mMhQKjSlqIM6PwkzYumjUQ+Hzl+Wttafs8b5cmY7kNHT8rho6e0vWw7w+mMxGhAeVO+kcfmVTohmwUCJgYvVT40foIIfoz1AYz96NCxp86NNmPOQt+HwgnZ0IeDycLnGcHJtAVMTg6oWCx36NBd8xCXJkQmH5cOHXtoIAYCfdgPoZdMo0AFBrgFfRN2Cxo8fKweg7DFhQgwDmn5irUqehn/RIMs8qMU64XkGB95/hcvXyfLV23Sj2by7oPae7x89Sb9yPGxW7JivYpdgHuxV8jy8cPVOCtClhd1ZOM7Hloh27BRozQha/n+++/LwsVLVATEEhVWyHLtuIe2ahXq3AL16tU37461+tyxH2jSpKksWhIKHIMbcKXKVfQa+D1yNNTZs2x5ou4HSBvXO4CI7T9wkC6zHuCejPAGnKdateqya/dutcJhKQY1jShGQIHkXbuleo2a+mGrULGSCigwddp0tQQD0k5PyJInHLvefJgTjUhfsXLVU0XuCe7es1fzwy8P4iV5tW1HsoyfOFHGT5ggEyZNUs6aM8c0Ii+Yd2CC5iOdJ/MXLpQ9+/dr+fillR55lhDNhQp9I6+++pqWOz35fvvGS+4/ss5RD+MVsumRtKg/vEuAeSXoel0Hw3/7MW2fMAG/fvta2n0jvweZpQWddX7bM0O+n/Z+snKd5G28QjYeUjbQwq6zqyL3t7T7wMjjo9Hul10CiXSAn1DMLGnP2Nvxa7NkhLGELM8D4mfkmMkajAtE7gPp+OB52bn3kMxeuEJmLUjUbzJiCCsf32i4I/ydxhNq6cqNRjztlulzl+kzjIBdv2WnzJi3XL2lSBfRhVXWClmOZVjQWpMW3/ONRnzxriA/Iq/paSP1KFa7kXUMjejQobO0atfdtEn3p3VWAaYVYyw9iDwWbNy6SxYkrJF1m5Jl09bd+v4l7xcvS1KPNp63yOMgzwidEstMW2zektV6HQBhO9OUJQJ57YYd5rt9ScvPL428Ridks0AeumvXbsjIsZOlaMkq8uGn32gAA8CHe+Kk6RodEVcBv4+sE7Ih2g8R87FZIQtoAE+cOE169h2iASZ4AbZs103ztW9EvlqwbF8GWC6IEInF9czZ8+radfjoCR1LNXP2QpP3l6Ruw9bqutzRECFNwzyyQZDeC8kxffLxXmResIzDASzjlssHzwpZ3JGCJmRhvfr11T3Xjkf1YzxClnpAwB0QW8ge0/UqZD3WUe5x95490tisO3nqtF4P68EjQtZ8yKyQvWcaFNdvhvZ5EkKW4wkkhNhbusw0eMw1P21MWLpMNm3ekunny9IK2XFGxMKJUyZHCNmlkrhypVp/EbXbk5MzLWSxwFLWf/VXf6XP8PgJE9MCeWWW9hn0knqYHUKWBvaOXXul8LcVNEDSgMGjZGniGnVHJrgSgZ4YGgL8jmXMKWMyCxevqONm9+w9oO/5SKuZ9xjmPmX6l2UrTN00f/vtlxlm1zeEaxoxZpIULlxUpyViOE5mxRzXlB1ClmvCFZehOkRd5vqGm+807/+adZtr/tPh71dOlMcV82w3bNZOxyIzNChp/Ra1ZPvt//CY6zqHMG6aebWccDUuXLiUNGzaztSH0DfOb994GEvIQkDdIJAZ8NvHEuw5cFQFLaCccDNGCK1M2qpCiTqSZITo5u17jXjaraIUCyCWwAvmeUkxbaspsxLk4pVrmoZXyIKkjTtUKNvfc0YgZVXMB4E8P9HajTy3ABf4iRMnq7GGYQaA4GCz5y3RaN5nzLfT770J1m/eKUmbdujySpPfx0+d0WXOR1sqsh3rJe8JuHTlevWIAwePnDTlvVbbKDv3HpYtyXt1vd/xeY1OyGaRtvfuvKmchGxn3ObCxcs0cAHYt/+QFC5RSZcjj3VCNkRbqXHtxaUYEERi5ZrQeEjG4lQ2DRWEDEEfABZvm6/07jGx+vjJM7Wxzwed4znGRsKcOHWWfFWojFSsVl9+/cI78mm+ouZlsVhdlXUMrdmHgA58ZCJfALFeSI7xkXpCry2uSeQhH0qef164F0z+A7YzfySgrOkRBhwP2G/VutAH0q8c0hOyWCz9GuDpMZqQ/cUvfqFCw++YSHqFLEGavEK2bt16smr1mpCQNecCjRo1VuECcP+sWKmyXgO/REcFiYkrpFHjJrpM2uQxbsLly4c8EPS8Zj0YPmJkmpDlGqpWrSa7du3SZ92eE+G6aUsof3ft2StVq9VQocR4W8bugmnTZ+j4WkDa6QlZ9kF4HTh0WEXa9qeM3BPjSykj7tUvD+Ilzxn5jnCdOXu2TJw0Wa2z1rV46fLlsnf/AV1mnOyhI0cyLWS5Vs6H+zJjo3H95m+/feMl9SuyzlEPYwnZjIL3M8GOCMgzatxUXYf4Ybxpp2799HvrtfawDBj+gycDHc/ET6heu0nalC/RULFqg7TATpmB9z7DzYS44T0WRgPbrly5IvMXLZWBQ8aEv18Z/0ZRTrGEbEbBs8C7gXgWlao10HX8TYRqxr3SuUyeRJ6jTfvuGi8D8Ur8CoRf154D5aop42hgPts58xNUMGYG3mvg3jMC77EQ0RcNV8y948GHVxnj3zNrlYxHyCKcrUUW+O0Hwe79RyR5z8NxwguXrpWzJu9v3b6rrqv3738va9ZvMyJ2j1pkVxmByzYsd4uXJxlBlawCFXELsOStWhcSZWDN+u3mHIe1/h89nhIa1pDJew8SeZb82o3kMe7XxGqh7QmYpmnK9Hly0jwXiFostBZ+5QzWbdqpLsQAIXvi9FldvnHjtralgF9dhrQVuA7aX/aZ3XfwmGzeFjIkbdu5X3bsPqDLfsfnNTohm0XyEPByovdw3KQZWvATp8yUZq06SyXzEsdCm7gSa8vjPVBOyNJb+UB71es0aCm/fek9nfuvep2mOs0CE91XqlRLgzEReZKeo36DRj6Wr4B564huicsMYwOYlJ2IkIyBHTBktO5jUcU0avbuC724p82Yr+eDRJYkymRk5Y/2QnKMn1bI0oNLHias2KDlyVgcPoz04OKihMsSLi7zFq+WKbOWqNsMx+PGRO/wZLNu7cYdplH0+Fjm9IQsgs2vAZ4eaeBjPa7foIEK2D/90z+VuvXrq2smn4B4xQQuvDytWGSxpN68eVPJONfVa9bqvdPQA1hkETRs33fggApY3IArVqqkbqysn79gYZprMdfI/XXs1FnmzV+g96tC0xBgke3UuYseR2O3cuUqRsju1uMQAoBgVitXrdJ9sNZVq15Dbt6+LeWMMOZeWU80Y69F1u8+/ajXZ/LpaWVWRaAlgpIgTKfPnNVgXVhmp8+cqRbZ02fOaJ7jXjx33ny5ePlyhsogkljsGYeNmOXvrKQFef4i6xz10E/Isp53P7Ek6HCsVa9FiOZdb5dr1muu3wUssLBxiw5Sv3Eb0+hrJ58VKK7zzzK2rL559zdu3l7e/qCAigRgz8P3AVfL//ivF823oKkKowaGfJ9//vwbUrZiHR1T6D03njn8/vJ3b+t3gYCB3u1p+4WvjbFs7MMyaZWvUk/WJG3U+9NrML/Ju/ap1ZihR5qGNz0PK5hjmSPXG6SHZcZs4rHEuTgP52vSsqM2gPn2cV8vvPqRBr/y3n+8pDyiCVnOTwRgru2R6027/tA9UT5NW5n8MNdlr6l0+Vry0uufaDliIeR6ixSvJMVKV33kOjnHzl17ddqab0tW1jKmXJuZ9F556zP54qsSWtaRZcC6P7z6sRQxx3DOR65Lf8PX1jx0bZpvJg95jiincRNnpOU1vwgM0qHcNQ1veh5Slkw1xDE2v1g+fjJF2yYNmoauXZ9X82xyfvuc/uG1jzSAlff+M8JYQpZrIKbIp/mLar5RtwYPG/vIdULrWky04pnzE/Xbi3ihMwDxijcU32Usc7iXImQ3GZGDRXa1Eam379zT7XhWbdi8UyZOXyTbTVrHzP2HvtMJaoHlG4/HFZ3SiWs2mzRCLrDPspAlP5kCqhPzWJv6UKlSNWndvocGoRtn2qCvvP25Pjt0vhGtnbLzpgsBFlnGwwLKgnzGOs4QrkkzF+s6xszSRIb084SWv5czZt9lKzfKZLNfyIBw1bS7TmnnBKAsnZB9hsgDyoTZRNjlQeFvQMN3WeJqDbMP/I51QjaUfzSssb5u2bZTP9j01gJegsuWr5IdO0MuDrwAeCl485UXIpPqM+4Vyy0g3T37DmrkRCIhcjyNKM4FiYpIj7EtK865cvX6tF4qv2t0QjbrpDFrx4fhQszzT0MT6+vxk2eEAAOUE5bXk6fP6XobWAJL7YnwOrbRIxxZFukJ2Viuv7FoRVidOnXlpZdflsVLEjSQCRGB/faPRiwSpHPlamg6m2LFikvx4iXU8kagJiy1yxJX6IfrxKnTam0tUaKkitctW4luel+279ghlatUlZIlS0nDRo3V7Zj7QkTwMWIdPd6chwYDZPnipUvSq1dvKWbOR/AmIg8TNRFhimilQ+7goSNSq3Yd3V7diNg9e/fpOdcmrdPAT1xLi1atTRmkmroQSt/vPh0zT1te1i2cgF42ajHlunHzZnXvZsom9vNLIx7y7G42z9Q//MM/aOcMQb+Idu23b7zkmiPrHPUwmkWWbVvMe5wgJ6HIwpulaKmqOnyE6MQE5Nu0NVnnEe3cvZ98bsRrybI1ZOqMuZK/YGk5cPCwxjrgl9gHH+f7Vq1e3rqvz/XhY/LRZ4UlwXxLcDHGIrvfHPNV4bKyZOlKnT5l1NjJKkCw7iFQSleoKYuXrpBPjCBYt36zBnHEA2jeomXy7kcF9VqJTMy0MTRGf/m7t3QYC9+xlea7c/L0mbTr4BePrSXLVspbRmzjrTV3QYK8/eFXajljOA0eRrgZvv5uPtm154B+i7z5dDrlrHbm9u43TM/zi9++pSKOeVw3mu8eEf/p/I0ULPGSY6IJWf4m34glYcuJ2RgQo+s3btH85JpxIaZxzjQ8zNOLmH/3o69NWSbr/eHOTWDH9z8pJNuSd2t7yXsOXCpxPR44ZLTZ/5DsNmlSttVqNZaBQ0cbAd9ROwoYN4jr8fxFy+U9kxbzztKpkWDyl3x9x5yTiMhvf/i1jkEkf/sNHKHDh/DGQqQy9RH70E6w98sv79ENm7bKZ1+W0KA7lD3nwEixw1wz+3NNn35ZTCZNDVn0vfeA9wnPLmNUKaeXjZjkuZk4eaa2WRjGVLR0NX332vNmlLGELGlyjbhvk++4xdOJ4ncu1iFoCO4D+bayjmePvxnew9+Q4EAEBYJXzDLH88u3GKacvaDfbQIy2m83rsd8p00xS+rFy9oZzTuLOhl5LU8jybdo7UZrBSU+zLLlK3RqMICFlngtvEd4LxKQLvJYqGViyoL8ZJmyQHPwi2WWcuWXNjT7kfe4Hh8z7SyOoU1D+SJ++eXvUPso1HYiKBf0O3depBOy2UBrFfQWOi8DC+++XjohGyINnEjQgPbLw8h1vBD4kGn4clMOdr9I2PV2mxWslJlFtF5C9nFCNuukI8JG1/R+zOgFpljt+CbKRv825WnL1G9dJNMTsohovwZ4ekRQ4FqL1TSjVthIImZVeJrjGXcK+RthiBBFrHC+2+Z6aRSxHRHDR0rX3/1Or4X1bA+tD6VL+nyQWGZfS+Z8xS2ZbRxHsCD+5hq85+Q9xN/swzn4O3RO854y18B69uXvq55zOj4ZUl6Ux9bt2zXvlyeu0M4O3LQpOy1bn+PiIWV78PARefvtt+U///M/ZeWq1do547dvvLSdVF5SDzPiWsy4MMTZJdOgQ9DUb9RaPvq8iIq0Js076FARIttjNUMo9eg92AiOEVK/SRt1YwXe9Hmn896oXqupCkFiVuDa2qv/UPnQiFuApQ6hRjRhhpswLU/XngPUCl69Tsh1n2iijY2QokyYngVgOcW6h7XxD699bJY7yJjx07ThDrzXYdeVrxK6RuofFkGAKy33gfDJX6iMXm9khyqgszVkke2o1teadZqpQLtj0kLsW1dp73HxknKKJmQJnhgJOg4QZWD0+CnSpXt/efP9L6WDuQes3dNnzddtDBfauGm7Xh/X2r33IBWBPLvcp/c8oHnrzipGEcXEweCYj74ookOHps6Yp+7kiGGENJ5XlaqHyoJAjVw3bSpEPShXqa7WEzzmsBJTPi+98YlUq9lYr+fChVDEee81kAbg+dpuhCuoXKORWtC4hu49B5rrGqZinDHUwHt8aCaLA9ohglWWjouipaqowD9+4pQRmBukWesujx2XEcYSstAPfvtB2lOh7+qjwbLsd9Y+CzyPXtp1oWNDafB9f3Tdw/RI2/xptj877SfyLr12o4XJGv3b274F3jKJJHntLR+1spu/vfkP6ZTAGr56/TZ1QT5vnh2e04f7hbQLfFi2oWlEvefLy3RCNhfphGz20FZ9v23ZwXheSI65z/SELMysezGkntIA9duWESIACbBEIwuq+DQNO37tMrTboV3nu96btvk78lwqdM160rbHZe2coXS953F8MiTv+UXQHjpyVANnhXrO/ffPCOmQYJql3Xv3Zfm59nMrhtRDPyFLgwlrAeKNv/kWVq3VWIUaAnLC5Jny3HP/R4eG/ObFd6V67aZSqWp9nb8UixOWOYQs7pPsi9AtXSE0e4A9R+g8IXHD0B8sc+99UlDPOW7iNLW2IoZq1GumY2wHDRurbpnLVqwxIq23HDPCo2qtJno8bsSnzxDc5oqmxXRin39VUs8HsPKBLwuVNsedTmuYPryOB9oZ9E2xCiqIsL4iuEw7Uj7NX0yF1ZDh44yQLa0dArZBaQmwIOP9BarUaKy/5Mv25D3Su/8wGR0eM+w9Ll5STtGELI1drm/f/sN6vYj8skYk7tl3QOeRfe65v9TATi+/+ZnO717NXBMWVGJVlK9cT90jEXSMdWXavM8LlFALNQ1o73lAQyP+li5frQIVoT9h8gzNU+aXxcpJ8CjKH2s0c87TeUFelTLn5XlCSGN5B4hbPK/I530Hj+g63NUBIpOAj8B7DZDhRYzrnWaE89FjJ9RLgI69uo1aSw1zb+MnTTfPzrdajpHHA1yqJ02brct0zJw4maKdDAyLwtrWsFloaIb3uIwwrd1ofv22O+YNUo/yQruR+uHF09iZ4IRsLjLtheSzzTHvMK+8kBxjMz0hy7qQq41/Yzyn+VBk+vGhiIxOs19EmrGo54OPncvS7xyR9E/b8cmRfOfXdiREbs8K9dtjGjp+2zJC6hXCxa/ORROyd833DwGIuyogAE6LNl11SAjuuYzLREz+049+o66gBFIkbsLho8d17B/AkwHgyovABN7zWyGLS/LlK9f0eiwQSrjuYf1DqGFJXLVmvVqEI4Uswmn6rAUq4koa0cT1N2/dRUaNnSKDh41RCx0imIi7jLOMtKQAxPdz//PvNMAgorTAN2VUGBYuXlm3A2JEhOZ1fFzIdu89WF2LcVN99+OCMmzkeBVNx02+YenEGuyHyLT8SL5EE7IAiytCH5xLPa/uvUSORtx36zVIrXG/efE9DbiF1bxY6Wp63uJlqqkw5zmzQGBynJ+Qxbq9am0oyKO1TrUzZZ5gxO3yFWukuXk+evYZIqOMqGVqPa+Q5Tx0aDAmdPzE6Wr5pYOFv7lGRPEHnxXWoFiIyS1bk1WkR14Dlt/nnvvf8qUpn1KmPF58/RN9zhg7jaAGWOpxIQbe47F0TZ42R1q07aqdJQW+KSut23fXqVSWGoG9YtU6HaMdDd60otEJ2WCQeuTajTlDJ2RzkU7IBoPuhRQMxmORhdktBhwdn2VSn/zqGaQeRnMtZngBU6AhKlaaBj5o0qKTTrVmsTxxrQbMAUSV79pjgLp0YgEEYa0jO3fvT3Mp9Z7DClmm6DljhA9A+HAYLp+IYoBFE3dZwPkRHwROKluptq7Dgti+cy+pUqORFPo2FBUcN/tO3fqqmPztS+/rMUzzFimOIEJv4eLl6i4NSA9LH0JWp6gZPVEF7DfFK+rYtEjxyd/cK1Y9AsM8b86HazFutgArM9PPNGvZSe9j3oKlOhaXgDG4xfoFjPGScoomZPkbIKQJjoRYI48IOmVBhOHiZavrcuce/aVg0fJ6Tsa8XrocCmBHHpAewZyiCVk6NhhLDLhngJXWuirj+t1v4Ehd3n/gsAZ4ZD/StJHV2d6idRcdb0xHBUDMtu3YQ37/yodSpXpD2bY9FNTGe37INfIsIYh5ZgEiGcszbsF0pCCYEdCbtjyMqu8l4Hpxf37jvfz63FL2gOtv1LyDdgIMHTlBFi5JlJVr1km12k1kyzYjrNMpJ+iEbDBIvXHtxpyhE7K5SCdkg0H3QgoG4xWy1Dfcaf0a5Y6OjvGTehTr+0U9TG+MLGIWl+KCBYvoGNZLRpBwHMSDADdV5mpnjGvq+QsaWKhlm64qqEiDX6bJQVjZdZZWyDLmEbGFlY90EZtYT7ECh7WwgmXEBYKT6NFMqUeaVjAjyrhW7zqEDftZeM/vpQXHnTWCF/dWK9aIrD9l+py0sZ+RQhZy3RZYjzkvMJciw0ZNVNdiov5ifcSNl3v4fz/8lRwzIgxEpuclaUcTspBOB8bgIRILFiyqeUeUVa6T/bHGEx2aoFwEg6KzAStmvUZttOzJd1v+3Dfu45FWa/KUgEwE0bLlyC/BtxKWrX6knABT9VEWXANpImRtmQC24YrtPa5V++5qmQfec3tpYdMinUNHQh0e8xYu03xG6CJ47XVGS6N3/+Ea0AyQHIEs+w0apVZ4PALoQBk1bor8449+I3MXLNH9/NLz0gnZYJB64dqNOUMnZHORTsgGg+6FFAzGK2ShDZ7k1zh3dHRMn9Qf6pFf/bKkHsYSspAGPq7JRJ/nm4iAsNsQnAB30inT5+oy+/g14mM17DO7f7zHxUorGu0xCDFIfkbuE42R5+NvgjKFfi3jvy7KKZaQhbYTAGsyHRjAbmM9mDZrvgpp3MZtJ4I3DRjrmjK7f7zHxUorGr3H8DRiOfduj8Vo1+BltP2ikX2dkM37pE64dmPO0AnZXGTaC8lnm2PeoXshBYMZEbKQ+ucss46OGadaYuNoSFMP0xOyECGnVjvzG7lNLXdGlDH9C+KINP3281tnmZH9Q+mHrjXe42KdOxq9x9h7ijedyP04HobyMHT99m/vftHIvukJWfjwHI9fJ9sAY5yxXEe7n1j3yLbI8/ut827z/vptS29devQew3XwN4x2TV5G7hc6/mEa1AnWkafxpAedkA0GKU/XbswZOiGbi3RCNhh0L6RgMKNC1pIosNY6eyWiwe7o6PiwXlBPsJ761SM/Ug/jEbLpkUY/8NvmmHVSTvEI2XgIKC+/bY5ZpxOywSD1yLUbc4ZOyOYinZANBt0LKRjMrJCF1EUa6KHpZZzLsaOjJfWBesEUPRltPFMPs0PIOj5ZUk7ZJWQdnyydkA0GqUeu3ZgzdEI2F+mEbDDoXkjBYFaELLTHUC8hwVQcHZ9l2rqg9cNTV+IldcoJ2bxPyskJ2WAwrd0YrpeOeZPUI9duzBk6IZuLTHsh+WxzzDt0L6RgMKtC1tHRMXtJPXRCNu+TcnJCNhh0QjYYpB65dmPO0AnZXKQTssGgeyEFg07IOjrmLVIPnZDN+6ScnJANBp2QDQapR67dmDN0QjYX6YRsMOheSMGgE7KOjnmL1EMnZPM+KScnZINBJ2SDQeqRazfmDJ8jgx1zh3fvhV5Id322OeYdEoGRF9It80Ji2W8fx9znfVM2Vsi6cnJ0zH1SD62QpX767eOY+6Sc+L7xnXPvzrzNtHaj+fXb7pg3SD1y7cac4XP0FjjmDokEef7CZfPrv90xb/DW7bty3nw4rl2/pct++zjmPm+bsmH+wsum0ezKydEx90k9vHzlutZL6qffPo65T8qJ7xvfOffuzNt82G687bvdMW+QeuTajTnD5y5duSaOucTL1+Rs6iX99d3umGd4zpQTvWt+2xzzBi8bppoPPB95v+2Ojo45T+okpH76bXfMG+T7xnfOb5tjHqJrNwaG1KcLrt34xPmczl7tkGvgZeSQ93HlSmiMl0Pexo2bt4X5YB0cHPIG6DGnXjrkbWiMAfOdc8j7cO3GYID6hOurw5OFE7K5iO+//15fSPw65G3gHsc8ig55G9dv3DINZ9dodnDIK0DEUi8d8jb4vvGdc8jbcO3G4ID6RDAihycLJ2RzEe6FFBw4IRsMOCHr4JC34IRsMOCEbDDg2o3BgROyOQMnZHMR7oUUHDghGww4IevgkLfghGww4IRsMODajcGBE7I5AydkcxHuhRQcOCEbDDgh6+CQt+CEbDDghGww4NqNwYETsjkDJ2RzEe6FFBw4IRsMZFXIPnjwQMuZyeZv37nr6PhMk3pAfaBeZBZOyAYDTsgGA67dGBw4IZszcEI2F+FeSMGBE7LBQGaELPXvu+++0+Ou3bgpV6/fkCvw2nVHx2ebph5QH6gX1A/qSUa/V0+jkD177rysXrNOktZvCq95crh9+7Y513pJWvfwXHfv3pO16zbK6rUbwmv8se/AIUlMXCkXLlzUv0+dTtFfPzyNQva6eXbXbdgsK1clyTXzPD9pbN66w+T3alM+d8NrRLbt2GXWrZKbN7OnDrh2Y3DghGzOwAnZXIR7IQUHTsgGAxkVsvfvP9D9rXjl19HR8XHa+kF9uZ8BC+3TKGQbNmsnxUtVkQ8++0bKV66rwvJJ4aoRYI2bt5c6DVrK1Blzdd3tO3ekRZsuUrt+Cxk3cbqu88OsuYukSeOm0rvfUFljRG/l6g3CWx7H0yhkp0yfI+99UlDKVqglb77/pZw+fSa85cmgZ98hUqtWY83vu/dCz8SAIaPMugbSredAuXY96/nr2o3BgROyOQMnZHMR7oUUHDghGwxkRMhSnliarlx7vNHu6OjoT+rLdVNv7n0X3/swlpDFsnn8xCk5eep0Gi9evCSnjODwrjt//oJcMOujIdVsP378hNy/H5qz8Z4RESkpZ+XMmXO6jfQ4nrTOnDXrUi/IHSMGI3HhwqVHrudc6nml/duyQrX6krhyrezctVd+84d3ZcPGreEUHoJr4Dxnz6XqMecvXNRz2zTOnk3V7VxnZBuAfe11cDwdblhV23boIT37DNH7wdp45cpV6dy1r/QfNCJ85EPcuHlTOnXrJwUKlZF//c/fyeChY2JacGMJ2cuXr5j8PZl27TDyfiD3Q34/eODfprly9ZpJ57heO6BDhP1PnkpJKx/Kn7+xHlPuV80xkUAQeq8n5cxZLTv7t2WXHv1Nfg0257iognbA4JGPucmT95wndB2mzM0zyX3YNBC/XNuJk6cf67Cgk+HhdaSox8KNm7dk/MTpUq9hK11PGbFu2ox5Ur9xmyy391y7MThwQjZn4IRsLsK9kIIDJ2SDgXiFLI1wv0a6o6Nj/IxHzMYSsu069ZISZapLucp1pULVelKxan155a3PpHiZalKhSj1t+Ddq1k5eeuMTaWNEXDRg7SpatLQMMmLthhHZY8ZPlfc++lq+KlxW3v/0Gyleupq89s4Xep4vC5WWl978VPbsPRA++iEGDhklVWs2lgZN2prfRlLgmzKSv2ApqVStgR7L9XFNr779uXyav5hUMfv88ndvSZMWHcIpPMQJI0Tf/vAr+ezLYnosFkGuh2VIulxTvUatHxNIfQcMl2q1muh1lK9SV15/N5+Uq1RH84brJ2+4lnKV68hvXnhHevcbFj7yIdau2yT5vi6p91CkRGV5/sX3zP2NDm99HLGE7PhJ06WoSYPrtufm3rgWrg9rMeX08RffmnNVUndoP8yYvcCUUwlp1a6bnE45I8m79sob7+aXkmWry2tvh8rn5Tc/kzIVa0vJcjXk1797W+bMWxw++iEWJ6yQiuY6GjZrb/KpsZQqV9MI1UJS1SxjIS9vttVp2FI+/6qElhXP1lsffClfmL8R+F5w32Uq1Eo7/yf5iqql3ZZTsdJVzTV9KqXK15Rjx06Ejwph/sIEqWTSbti0ndQ1wvXVtz7XY94xz94H5rnjOsirCoaUNdeWVbh2Y3DghGzOwAnZXIR7IQUHTsgGA/EI2e++u582FtbR0THzpB59F7aCRkNGXYsRsRfOh8Z09hs0QhoZkYC4wYKZHmrWbSZHjNgYMnyczJ67SFauXifdeg1Uy2zl6g11n6XLV6no8gPWuu69Bqkw3X/gkHxTrIJ8+FlhuRV+p/Ctbt+5t/zhtY9k67aduq5KjUZm38O6HIkOZt/JU2frcr1GrdSKa8F1NG/dOfzXo+Bb06P3IGlvhD4iC7EGSleorb8W12/ckBJGBJorC62IwPxFSzWNrj36y5vvfanWwWiIJWT90KBJG1mydKUuz5qz0JRTWxXaixMSdV0s4G6LON65e5/mwQ3zLCH4QPEy1dWie9lca2kjHqNh0tRZUr9+Y9m0Zbve389/+bIcOHQkvFVk5JhJ8v6H+WSoeRZA154DZPK0UFlEYsGiZdK0ZSddHjF6ovToM1iXAdbo0qYMogHX7lZtu0qzVp2MeC2k63DhPnXq0fHIdIbs9ek8yShcuzE4cEI2Z+CEbC7CvZCCAydkg4H0hOz33z9QN6+85E58Lco6u16XTYM1jeH1WWFunNPx6SP1iPoU6xsWS8ju3XdQBRv46PNv1XqKhY53bXez/oVXP5KyFWvLP/37r9V1NBIIM1xu7965qwIIQbNqzXqpWa+5zF+4VFasSlIhi6jA0goSlq3UMad+wM33jXfzaYCedes3q9V07/5D0jRsccWSiBjyBnlSgbLPX6B07NInTcg2bNpGgzZdMsJo1+690qV7P2lgxJ8fcJV98fWPVYT2GzhCj7l8+aqUrVRHt2P9K/RteSO0K8qHnxeOGlUaayLWyPade8l2c0+xEEvI3jH5i1gDjMvF8vjbl96X3Xv2a2fBT375qtRu0EL+8v/+5yNi3QI3a9xsQePmHdSCi5Dn3shTytF2NGD5xEKNOy9lHw2f5C8qc+bM1+fi43xFZY/JUzogcHkeNWay9Oo7VFauXJ02VrVTt74yYfIMXY4Ez0qzVqFOBQRwnwHD1U141559RuQula+KlNNtfsAyT3l06tpXDhwMdWjwTHD9iOLPzXasy797+QM5dPiobs8KXLsxOHBCNmfghGwuwr2QggMnZIOB9IQsDSSisfo1ytPjddNgz05LrhWOjwjGNN6Mg2Y/T3rRmHYey8fOZel3jkj6n8PxyZHnzv7eMM825RC5T2ZIOvfuP5D75vNjz5EZUp+sWPBDLCGLWCxbKSRWcIOtUaepihxcUxE8iJE+/Yap1e6gx9pmsWv3PrWEHTt+Uus9br/fFC0vr7+TzwjWVSqqEMSMYyxfuZ4es3rt+qhCFutbt54DjBCapK7H3Y0IHjN6groHg2+KVkiLPrsscbX+IsD83JRByzZdZcq0ObrctGVHHUu7bftO+dFP/yDFS1eRRUv8rZeMHcYVGfdYhB4ilPGYVshiKT5y9LiO68SC7TfeF1SsVl9KmO0Ep5o6fY7cuhXdMh5LyHLPlA/o0KW3uuw2bdVRtmxNlrETpklHI+J69R0inbv3lxmz5ut+XiBUEcLcO6J4zLgpOmb1S5MmLuNeIYs4B7fMM4A7dTQMGzlB+g8epXk/eNgYmThllrxv0rx46bI0Mc8OQhls2LTV3NdVLctoQhaLMs8bmDBphkl3pI7NxaX9w8++kSHDx+o2PxQyz1ulqvVVCCN6AUKWZ6lh07YyfeY8TQuX7B3Ju3V7VuDajcGBE7I5AydkcxHuhRQcOCEbDMQSstSzzDbYrfil4Y+YiNweL63wvON5lm4bca3bHhGMN1VgAH68Ysa+Ldge2vfRc6iw+O5+WPSE0mU96yxumcYk67zng9auw689J+nYc3734PvwcY+e0/HJkDI4Z8TK+YuXZPOWrbJrz14tp8w+x5Y2janTZ8igwUPkgmn8ZyVNjo32HYslZLE0IhwXLVkuy1eslg6dekm9Rm2MkL2j1jWsbs2NQPj1C+/ImSiuxR269JEhI8ZJaup5I4SbyekzZ2XU2Mkyc/YCFbJsR8AxfpaxmO9/XDCqSy/ANfbtDwroMuNtf/jjX8sfXvtY/yZYEi61jIPEcgdiCVkstYgZzvu7Vz6QjZu26Xoss+2NIIwGRGr12k10GeGNGGVIhBWyFcz5uU+Aa3E0IcuYUSyU4OMvijzm7upFLCFLEC0CGHHPBJoi/xDY3M+c+Yvl9698KF2MiP3582+qxdsPCxcvk9oNWsq5c6kagGnG7Pmy/+Bhjb6M6KtoxB+YOz9BBTiC9usiZXWdHwgK9fxL7+n1AIT2H//Fv2paWPpJt3z5qjoOGyGJZT6akE05c0669BggJU0+v/rWZzLICGNAOSBwCfgVDZQF+O67e+qGDqrUaGiu77K079TT3M8SXceY5/Ss4vHAtRuDAydkcwZOyOYi3AspOHBCNudw4eIVOXTkhFy9FopsCS5dvioHzTqiXsZCLCGLq5hfIzw90ki/dOWqDB02XKZMnSZGy6oo9Ns3Ht43YnD/wUMyYdJkmTh5ihw/eUruhcftci5+eSMkrlyl22fPmavC85Zp3CN658ydJ5OmTJXEFStVcLK/Fcjw5u3bkrxrl5w1jS8rutkveecumWjOybFs4wOrx4aJMF6csFQmmXMuWLhIRTvnJELtjJmz9FrWrluv10aa3nM6Zj9vmrw/aRrpCcuWq5Ddum27TJsxU1atWaudFVkRnnRIbNi0Wf76r/9annvuOZkwcZI+I377xkuElh/SGyPLVDKt23fXwEbM9YmAYTwsgqRMxVqS76uS8o///msVG37gOSSab+HCxWXmnIVaz9sZAYEL8JKlK6RRs5D1lfVEGe43cLiOpY2GVavX6XjKeQuWqGD74PMiGpHWgkBMP/v1a7J5y3b9u2ipKppuNBB1mO2Fi1dMsxKCL8x9tTH37XdfRMh958Ov5NKly2plxmUaK3XBb8vrdoRzi9ZdzO9+KWLSjRZcqXDxShoYaYUR9AW/LRdzLtNYQtYC6yvCGQsqQarmLUhQCyvW5gKFSr8CsIwAAP/0SURBVMtf/b+fplklI0HnxOhxU0w5FdVpauhcWLg4Ueo2aqX3WaRk5fCeoftbvmKNphkNuIG3bt/NvAfXyKCho+W1d79QN2cbuRor65tvfyJ9+ocCYTVv09kI8Ym67AeCQO3ctUeatugonbr3C69lbHNrHSO7b//B8JpHQXAojps0ZWbaWNripauqGzHPc2sj+Hfs3K0WWfvMZAW50W5MPX9JDh89GbMeOzyOJylkr12/ad6dD+crtuC5SDl7Xr/b6eFs6kXTpop/XHxehROyGQSuIYRVb2A+Lky0zUuTj3AT8yJv0Lh12oeKsRL16reQ3uGXqB+ckH2ILduSpXmrTqbyhcQLPajefE1cmaTrO3TupT315P+8hQm6LhoYK8UH1gbqIGQ/bmgt23ZNW0dPNo0JPl58nKPBCdmcw7ETKTI/YbWsXvdwSouTp8/JomVJsnz1w7FpfoglZGkw+zXA0yOCASFZo2ZN+ZM/+ROpXqOmEdpHVdAhNvyO8SNWzDv37snevfukZavW0rJlK2llfjt06CjHjp/QcyAoiQS7cNFiadK0mbRu3Vqat2ghI0eN1qA6o8eMlebNW0ibNm2kabPmIcFp9rdiFoKKlSrLuvUbVLDg9rl16zaTTktzvlZ67m7duqtlhOvXc5q0pxuR1FTPGUp78pQpmjYWuxbmWK6Fa0JAWxHsd59+ZF/y8WllRvIiFkmHzoeb5llIOXtO5s6bbwTZNLWY0onBlCwzZs0y78ttel6/NOIhaR01z9yXBQrIiy++aL5lG9VLwG/feOnXqAIZDfZElFoEgBe44OIyGi+S1m82wuOQuhzzHfACUWrdgqOhWetO8m2JSlLUiKuvC5ZIs74i5LDwEgwIV1/A+Mrz4eBUsYCYPBoR9XbZ8tW+42sRhwQ6eun1T7SeAkTonLB1DzCOF7GHBdSKt0gwPvf//fCXavFOD/EIWS84d+SYT1yno1mn/XD4yHEdx4zInWfy0Qved3QmxALPyhvv5df2AJGd6YAgL5YnrtH2Q5cuPdLGra5dt1HHJqcHxv2u37gl/FcIu/fu9x37CxDK//zj5x85hmfCPq9Yc0MeB2u0UyOriKfdiJt3vQYt9H2RHThkROycRStlw5asW5SfJaQnZCdPnSX16jWU1WseTotFZxzrlkTxbLDYsHmnHDn2ePk+uP9ABgyfIpu2pe/GPmrCHFm2amP4r+DCCdkMYHvyLg0isSZpo4ouXIzoSSxUrIJGvSNCYaXqDUxD+pZ07t5P1qxdbz58U6Vtx57hFB6FE7IhHD5yTH76q1flz//mR2kBIRgP5c1XIkOSr/Qq85HgRV3YNDT8QOALgnEQSCJp3Sbtiefjxrgo0pttPn42sAM97rw4aCjhAkZQCj84IZt1kH+UzfkLDxukNNhsoBIawrYuXLx0VdZueLT3mkb+qqTH52v0IpaQRSBc8WmAp0cEAyKzYaNGar2Cv/r1r2XsuPG6LR5LlopMc/1g0uSp0sKIWItatWqbBuAmFa+IRF1Xs5Zp4IUa21euXZMSJUup6OT3wsVQ/iWtWy81zbFAhaIRyszLiLtoj1695fr163rPYMDAQdLTrLOoUKGiaeAdkqlTp8nGTZt1XbnyFWTXnj26fMSInLLlyun9FS9RUq2zAOtw4yZNdZlzxmuVvXT1mloVn0YiMjM77tpL8vPk6RTzndmpnL9goXnGxsnM2XPUgr5j505TL66YRvU+mWnELC7HmRWzXC9liqjbt/+Adnhk5R6oV/ZZi0RGhWxeAO7OuA8zprNdh25SqGgFXc93CLGGxTQ7AvfEAu/ChYuXa1simsU1HnC9BHvavGVHeI0/Mipk8wKWLl+tU/4Qubh338E65Q0CkumYRo+dIifM801Eab4zTxJY8WnneaMmPymk127k2R05eqIsSUjUwFyxon1jtVNPH5M/168/tOBdvHzVPAuPej+dPnte1m9+VMhizUu9cOmZb8NGQywhS1uUsddr1qxVb5QNm7bJ+g1btDNm9uy5alxJWB5dzG7auts832fM9+dKmjcMHULnUi/K0eOnzXs3+juXWCGU29ETp9M832gnU478Ha0NlVfhhGwGgOAiMMHIkWPUNYYH0TvxN+HkGYPBw8DLc+SoCTq/G+HZ/ZDeC+lZwYGDR7THu1a9Fmm9ud4ojJqvk0L5ajFj1gIZbvLXD1jePv2ymDYAGCcFELK4/dA7S4+rjYbI1AY7du6Rw4ePaQ94tLFGTshmHSvWbJY167dL4upNcvBwyDKxet02fREDttuXL64xkUL2vBFwWRGyNPqzS8haFi1WTK1ZiACEiN/x0ApZnuCZs2arJdaiXr36siYpSe/d9uI3MWJx0ZKQxwGux5UqV9Fr4JdxW2DZ8kTdD1hRCXr37Sd9+w/QZdaDESNHSY+evXT5OyNgqlWrburBHtMQuWreQaH8RxTjbgqSd+1WyzPipELFSuajF7I4TZ02Xdq2C7lq2nP63a8leYfQY3znSiPMV61e81QSMRir/OMheYWAnTBp0iNEyCJaFyckmAb7Vi2LufPny74DB7V8/NJKj3SKMMayStVqUqBAAS3v23dD46YzQxWy5vr9EEQhy/cC6yljOr1jJBnagKsp341Y89pmJ7DEZrWNcN/U+bumfGMhiEKWfMF7i+jONWs0UCu1RZ/+w3U+WsYaxxrjml3A8yWeeZWzivTajYzPxeMAbwTmrT127GR4y+NYsHSNrNuYLOu37JT5S0Idp8dPpui3d/LMxbJ910Pr+tETKY9YZM+dvyTrNifLyqQtsvfA0ZiWx2cVsYQsXoF4cI4cOVrfJXh7ejtcOnfrF7WNC7Zs3yNLV27QNtQOU06I2FMp59SbbeXaRz0KIkFbakniOsOQpyM4fvKMLFy6Vi296025Bsnl2AnZDIAXA3PI9erVT1+c9JZaMLD/21JVwn+Fglj06jVQQ7JP94niB9J7IT1r8AuaEZmvgN7poqWryP0oY7LY/mn+ojqWid5JOwl8fdMAoWca92Ss6bqucRsdT9WuY09toDgh++SweHmS+eCFeqx5ifLcrzIfQStkcXF5skL2ZrYLWVi9Rg0dQxvLzTg9Ibt67VrddiMcVTS2kD2m61XINg2N9SPtO3fvycGDh6R5y1ay34gcetl9heyDkJDdtXu3LttzPgkhy/EIpuWJK2TpsuWy3Fzz08aEpcvUqp0dQnbbjmQZN2GCcuKUySpkZ82xQnapLF+xUi6bhjuidntycqaFLOOhk9ZvkD/7sz/TZxiXdZ4/v33jIfWK6/dDvEKW+V+JUmvHymY3Nm3eLmXKVNGou9FccfMysJgwNAYRnbwz5DmRnUhPyPbqM0Rq1Woshw4f06BFU6aHojFnFMzTW6ZMZfMs+7vqZhXkUbnKddI6/J42pNduZOgV0z4xNpe6dCKGezHf2G3J+2SrYdLG7ZomVj4sfCdPn5Vpc5ZqJwiIFLKJqzfrcJ+kTTtk5vzEwFnxcgKxhCzArb5Xrz46xt+Os6eeM2yRKN+RQxG8wCJrh1/xS5sJ3Ll7N2534WVGCNt3IVbcOYtWqXGOdtqOXf5jwvMinJDNABJXrdVoeoCgAnZeOsDLk8AS5k1gHsItaR+a48dPyTfFQ+HkI5HeC+lZg0acTAlFYrQgXxeH89UC4UnngDffiFzIGBYqIY0gr9sxcwGCb0tUNh/re6ZRdSNNHLOOTgfSKlK8UlQXLidks46VazertRzwoiXPl5tfGsJghdluAxQgbtdv3qnLFoimSHEbiZy0yP7zP/+z9OnbV8c9+R3nZbpCdo15ds1GxDZo3LiJihVw4tRpHfPKNVSsVCXt44Y49Lr5cjyCqly5UEAYPW84P71ClmBTKmSNWCXIlM3zGjVrycbNISG7c/ceqVa9hgql8hUqqgstQMi2adtOl+MRsuyDyN+zb78RElvUovhU0dwT1uZjJ07qvfrlQbzkOaMDYdqMGeoe7rXI4lqcsGyZlsu58yGL7IFDhzItZLUumPckz0WXrt103lI6NPz2jYfZZZGls5h4CcSWOJ0SikabnTh65JiOVew/aKR+C4KGc+fOa/1nXCaBnrIT6QlZgif17T9Up5Zh7OqY8VPDWzIGhmMdPXJUho8cr2WR3e2fM2fPhfJowDDf8cdBB/kVq92It1nyztD4SOZWPhZDDHmFrP22rtuUrF5T6zbukPkJa3QdOH3mvGzZ/nCMMfvYAFDHTp7JEWt00BBNyN403/m5pg7ZIqSdO23GPGHu4S49+kedHswLhOyp06FAcWvWb5Mz5t0AKIcV6VhkLShDCwJsbt8Veqfs3HNIdu0NjS0PApyQzQAYF8M4iMaNW0jjZu3TAkbQ08vE5nxkAHOaYelr3KStNDIPJA+sH9J7IT0roPLiWsEE64SoJ7ogk9zTGUC+egMk4AZcv3FrOW4ajl4wRQPRLuldojeRhgrjX+mdnDh5pu4zdMQ4adW2mwZ7Gjlmsq4jimKLtl10KgGmZ6A3zA9OyGYdy1Ya0Roej7Ekcb2WFb2AuCfBGfOWq3sWPcJYbOkN3roj9OE8fSZV3WimzEqQzdv36BgPP8QSsqzPipBt0LChCtg/+qM/0rGqRAHGssU2v+O8tEIWTDMihWBKFjXD42Hp97ZioH79BrJocei9cfL0aSlTtpyeh18CQ4GlyxN1P8A1Eq24b7/+Gl3YRkG25xwydJh07dZdl3nbVKxYSZKTd+o4SY4FlatUNUI49GFDMCGeETelSpdR92BA1GY7vlfTj7jPaOQc8NpTSL2vLIpYSyyvBGGCuCyPHT9egzvZ9eyzZdt2HatM5wLnjkwjXhLcadv2HerynZGgZX6kXkWrd7GE7NAR46VZy076/u/YtY/07jdUuvYYoB41zP/qB6IZsz/fYtsxRlAjAvt16tZXvWuwSGF5ZT+8ovDEUW8qkz7nYJoUou9yTr4TAwaP1HS8GGW+EQQCJA2OJx0sJ7j8sc5eM8GfWOa8eAFFfkOYD5Wow3x3OpvrI+YDjVXGwpGmTcum3dTkh9+cudNnztd9+g4cru2Ll9/8VLp076frGE9ngxplFrGELFPn/MMPfyU/+Mt/lb/8+59IQ9O2iQyI5Aem/mnTvodaB+19Et+CMaw03j8w5eAdRuTF1BlzTVurmc41DAjexZQ6TKcTWRasI29ZxgvLN4/M8xGZr1iWsXzROc6xDEfil+cIrzuWec6856Gt4BelmmjNtAt5Jnj+uB4tZ0OOteTaeeaIqp0ZpNdunD13kd5rC0PyOVYQy1XrtqqLKt9UlsECI17pdEYojZu6QIMv4m6M2+n0uctk+879em7Wb9y6SzZu2aUuyE96HHIQEU3I0r6t16iVPs884/wSmIu2KkHLeF55zg4eij4O3xvsCfduPNaIP4JbMW7hlM1N8+71A53LSRtC7uNJG3eY7/hNbYtxDEjefcDQWWSfWly4cEmmTJlhGnwPXRxxYTkTEUIff/UpU2fJinC0XT84IRvCddMIoreXCeyZcw1rK+voOIjMV9Z5p0IARCMmaiGBnSzIUyYi5wPsBedh3jsvmELAjqWNBidksw6CR1g3FpYfhJ97xnUcOnJSzoRdY7DG8oI+ceqsfiwB+9P7i7sTL9xoU33EErK43Pg1wtMjYoGGPkGZfvazn8n48RPVEoaI9ds/GhF9pMN8l7379JWSRgyXKl1ahg0foV4BWN5wHeXZ3bv/gNQzIrW0EZEISsQGeYflFsFZpmxZ3Y6lExdiBPClK1ekarXq6nrK9Vkhi8BNSUmRTp06S6lSpaV0mbI6DQ91bPzESepOTFng1oqoLmO2Y7HFukvk0MVLEqR8hQp6LY2bNjPlcEwDhGSXeHN8SPKUsqPTgnJcsWqVEWlTtSOBMt6xc5dMmTZN55PNrDUWMn0Uaf3kJz+RP/vTPzON33ka8Mlv33iJa7sfYglZIgoTuRcPJwRhgW/KaOfi2x8WUMuaHxgzusC81+ea93bDpiHvALxuiChMbAQscWUq1NaxgrzvPzPrGOdKTIsRoyeqkPw0fzEpWrKKBlsheKBfFOPRYyfLa6ZRSRo0NDnHOHOO1975QtfB4mWqqYVSz1OguBFs3U09fVSY0TlHZGEi7L75fn5Nl2vAjTp/odJ6LCJo4ZLl8spbn2mcDb/otpu37pBp5puGSEKkvfr2Fyq4uP5pRvRFm2c3XsQSsnQqjxs/TefrpZx+9qtXfcV2JHjncX9Llq7Usqac33gvn17vux8XTOtk9sPGzdskwbx7CMJIoE3mscWtGtdk5owldsZr73yu6ZMPpDfLiDjymTxiqNBrj+TRvMfyFfFAniOuSeflNz8z9Wu2BpAiDdbxjLz6dug8dLK8bso/sg0CmGKHtgReXnXNuXv0HqydMcxBTJwUjsdrrFjpalKtdhMNwpUZxNNuxNI9ZersqB5mFkTexiMH2ijcBJTj+8t3lnGTBH4iwOAR8zedzKyz5z6dkqrxLpw11h/RhKwF42KnTJkmJ027FtDxwzNEZwR15GzYOOYH7/Q7jGflvcM6IkzTTjpsypB3Mp3+BM/kmWEaQ9pOfEvYT9te5pd02I/jAdt5bwcFTsjmIuJ5ITmkj23bd8mkqbPSRNKTgBOywUAsIYso82uAp0fExUUjNBcuXqKWSoAgzWyUV6Y+oUf0wKHDStYhXM6YRhZjUWlUYCk9lXJGtx85dlytZwhqfrHMsZ7td81+V2+ERDLpYKWjQWJFrBWbHMc2jqMBigjiHnApRSRxTsTNiZOndB9cZfmbc3K9iFfWMyUM1+Y9p+OTIWVE2WzYtEmfCzozsObvMs9gVq3AlC3Rj3/zm+fl7/7u79T6r+Xqs2+8JIiYH9JzLUbkYH0jbkH3XgM1KFGNGPO8AryfsOb2DU9vV7l6yDMBqyeRnwkeOHVaaAwnlg2igWKZwkJVvVYTefejr1UMYb2LFtUVawjBngBj1hCffGMQyBa4186cvVCXuXbvPLFeXDbnxpJcolx1tf7WqNNU/vdf/7ta7ACdbMOGj1ExHAuLExKljrkm5iT9w2sfqchbHTG9UGYRS8iCkuVqpHk52blZ4wVzsGKBhF9+E5oblk4IAi/Gwsw5i7QTgbl2CfA4wQhfokVjLX3w/QOpXCNU7kyPUz8c94LOa/KofDiPGjVrJ6vXRs8jZqKwAZEqVK2nv8xqgPeXRVXzzADel0y/GA1cJ3PaVqnZSMXxS29+Kj9//o3wVrxoVsnnXxaXZUZoZhau3RgcpCdkcwJnUy+oN9uKNVt0KBcdpE8bnJDNRbgXUnDghGwwEEvIUs0QB5kWoKb8EXV+2zJCBCDXQVqQZUQJv3YZIm7Zzq+6sfqtZ50nbY6PPBfz17IfwtWe0woh1tll37QN2X4rfBz7a3qeczg+OZL/TL9ER8qe/Qd0SIV9Rvz2zwgpY8bkEvQp8rnJCKlPHB/tMxZLyGLpwyLGLABlK9SUjl16q9sd09j5Ac+Z3Xv2qQDq0r2/ipyKVevL6+/lU5dexpbtO3BIhdaE8GwBuI4y/AfhO3jYWF2HyCDCLcKwResuui4SWEvsdTAvLSIZMWrFTpsO3eW1d/LJJ/mKSi0jhl584xNZuWqdbosEgZGef/E9nQ6lSji2Bq61uJpeNeWL2O5i7n1GDM8gxHvBb0Pj3y9cvKhWWfBlwVLpWt7iQSwhS95+8Nk3KsBxtf2eAfkZQJESlaSuEYBYKD/J9612CJAXW7Y+PiUQHm4IXq4HV23cuqtUayCvm7ymw5pyodwvX7kipcrX0GN2mWcCCyyu5gWLhvIo1TTgbVBH8ihaIEciGxPACjDlEnlJkKRd5hnDilywcFn53SsfaBkXKFRGqhqR6geu97cvvWeep87y5vtfarwOOg3JN9p4E6fMVFf13ubZi+ZtEA9cuzE4yAtC9lmAE7K5CPdCCg6ckA0GYglZQBn6NcZzgw9Fph9DIjI2zX4Racaing8+di5Lv3NE0j9txydH8p1fxGJWBKcfscxm1aUYxnItjCVksXQiEMCapA3a0Me9LpqQJYgPY1stsKwyZ3ghI14YzoOQRdRMnT5XXUOXJKyQYqWq6ByquBYzXpOgjFg0scYy1zjzjfoBi2wtI7bYn3GWiE2sujbg40uvf6Iilqn2NmzaKmUr1THCeIVuiwQBIH/wlz/Ua8D9GFfjnkbUdenWT4NalTYiHnzxVQlp0ryDLkcCEY34Y+5U5qf/yggsXEgZa5cdiCVkGf/IvO5r1m7QcrIu3fECS/SN8DNQoWpdc657UYUsQx6IjYGLMCCGBR0PWGHHjJ+iQhbLMEEba9ZtpnmJ4MUKixs3ZUYe4aL+dVoetdZz+qFtp54ydvxU9QzAtR2PAIQs5Ypwfu5//b0GINu4aZvOz1qt1sMgn5F48bWPpY4R7JQP1uO16zapqzHjgAsXr6gzLSSuSpL//s3rUeM8pAfXbgwOnJDNGTghm4twL6TgwAnZYCA9IWtqXdgt2L9Bnhv0E6NpotPSKzjN35H7Z5R+aTxyPpjN53R8+kg9oj7FQiwhy1jDJi3ay559ByTRCI6WbbpK6vmLOn1KNBDID1GJpdXOs8gc4TeM4MdKudqILcCY2Rq1m6q4YGwmQOBiVXzr/S/lo8+LpBt5d+euPbp/fiMwW5hrQ8gy3zg4Za4dQcUc5ACLrRVffiD+A26ne/cekAaNW8vn+YtpICAEDaK7ZcsO8i8/fj5mGuRXnYYt1XKIhRdBSRTgTVu269hgrMybzTLjSWOl44dYQpZxybgWg3ETp8nbH36lywC3YQJr4T4dDbh6jxg9SZdLlK2mopL5XblWP1CGlGXLlm3Ucs3Y1omTZ2nARgI0Yd0F2tlQr7kULFJOKoctpcTRQNQyBpk8atSsvWlnhaZ48wPtr05d+6g7O+OfsT7XadAqLcgU120DM+3avS/Njd0PjLkleBleAT36DFJR/f6n3+i2OfMWaTkzxpbnGxdpXMsR5hs2btHyiicStGs3BgdOyOYMnJDNRbgXUnDghGwwkL6QFXX5wl3Wr2Hu6OgYP6lHNmhbNKQ3RhaLZMeufVV8Me3OxYuXpG46Vsap0+fouFoLpm67Zep92449Hgui081n7OrAwaNkxcr45zFFPBE0CCFbO2xBBghLIgZfuXpVuvceKAlLV4a3+INpa4qVrqppIVxwi+Z+sbaOHTtJBg8fmyb4YoEgMJzXgkjM//Bvv9bARLhVv/1BAT1PRhBLyGJRRPxzTjoFvHk8aNhotQ7TkRALA4eOkRmz5usYW4Qsgm9H8sN5SSOxdVuyyZMJadONjR43VcZPYoz4PmndPhSB3YLOhMYmXS8IftWs5cM8igeMica1mI4SgmtZ9B04QhYsXi6HjxzTMbexwBRStRu0kHLlKmnHgnc6HCzy081zSxkhWv/33/2HdsbgHUB5IaTTg2s3BgdOyOYMnJDNRbgXUnDghGwwEI+QBfdNw4wAR5mZjsfR8VknlljmPKYepYf0hCxABEGCHvE9RJRmBLdu3dLjcC8mqJsXui7C9ZnxkhmZR5bjGX/pd214KzDmE/fbyPP4ASGUv2Bpnfuc8bZMt2HTxMI4wIjs9ICw9F6HRmS/dk3dYlkmL7GiZgSxhCxgzCjjW0eNmaSdgeDipcvSsk0XSYwxO4MXWG3tWFWmJcpIgEYs15BjKFMvWEd6XkTmUTy4aZ4jQPqR10b+xvts7j94WP79p79XMd67/3B5/Y2PZMy4hy7sBB1jzvyrVymze/rsUF64S6cHrsG1G4MBJ2RzBk7I5iLcCyk4cEI2GIhXyAIa4dk95tDR8VkgdSweEQviEbLPEpjvlUBVTVp01GBEWGFv3IxtzcwJpCdkLRYtSVQBC3D59Zu66FkHbbqBQ0aryK9Xr4EGp9qeHLLKZhWu3RgcOCGbM3BCNhfhXkjBgROywUBGhCyg7mHBsNbZzEY0dnR8mmnrBfXEWk3jhROy/mBcK+7NeeX7H6+QdYgfCP3ExJU6bje74NqNwYETsjkDJ2RzEe6FFBw4IRsMZFTIWuCGxuThN28/nNqExruj47NM6gH1gXqBCyT1JKNwQjYYcEI2GHDtxuDACdmcgROyuQj3QgoOnJANBjIrZL2gsc44u++YmsTR8VmmqQeZEa9eOCEbDDghGwy4dmNw4IRszsAJ2VyEeyEFB07IBgPZIWQdHByyD07IBgNOyAYDrt0YHDghmzNwQjYX4V5IwYETssGAE7IODnkLTsgGA07IBgOu3RgcOCGbM3BCNhfhXkjBgROywYATsg4OeQtOyAYDTsgGA67dGBw4IZszcEI2F+FeSMGBE7LBgBOyDg55C07IBgNOyAYDrt0YHDghmzN4jkAOjrnD+/cfyMVLV3Xibb/tjnmHfDiIauu3zTHv8Nr1m6bhfMt3m6OjY84TEUu99NvmmHfI943vnN82x7zDh+1G/+2OeYfUp9uu3fjE+dwFUyEcc49nz130Xe+Yd8hH42zqRTl/8You++3jmPukbM6dvySp5y+7cnJ0zAMM1cnLWi9dncy7pGz4vvGdc+WU9+najXmf1CPXbswZPofZ2zF3SA/oBfOQ3/HZ5ph3eO+7+/oiunnrji777eOY+2S6kCtXmfvypisnR8c8QOrh1Ws3tV5SP/32ccx9Uk583/jOuXdn3mZau9H8+m13zBukHrl2Y87QCdlcpBOywaB7IQWDTsg6OuYtUg+dkM37pJyckA0GnZANBqlHrt2YM3RCNhfphGww6F5IwaATso6OeYvUQydk8z4pJydkg0EnZINB6pFrN+YMnZDNRTohGwy6F1Iw6ISso2PeIvXQCdm8T8rJCdlg0AnZYJB65NqNOUMnZHORTsgGg+6FFAxmp5DleEdHx6zXIydk8z4pJydkg0EnZINB6pFrN+YMnZDNRTohGwy6F1IwmB1Cljp5+85duXX7jtx0dHzGST2gPmS20Uw9fFaFrMV39x88ts3OAPrgwfePbYuH5KsXfvtkhKT3rArZtLL4/vGyuG/KB/B/5LZ46UV25K0TssEgZe3ajTlDJ2RzkU7IBoPuhRQMZkXI0lhn/tlrN26a428or1y77uj4TNPWBerFjVu3tZ741Z9opB4+q0J2/8EjsiN5ty4jiOx68uTYiVOyY8dOuXzlmgocuy0e3jOk7XD0uElj5x45d/5ihtOIJNf0LArZUFmc1rK4dOXqI/nItnOpF8y2XXLq9JlHtsVL0kg5m2rKaa8cM+UFKD+/feOlE7LBIGXv2o05Qydkc5FOyAaD7oUUDGZGyFIHrxsBaxvsjo6OsUmHT7yNaOphLCGLtRKRFwR+d//x6+f+IvfDese+Ldp0kVJlqsmgYWPl++9D69kOhowYJ6VLl5NW7bqbNsAlXXf/QXx5AY4b8fXW+wWkdIVa8vyL78k2I7b8LIrxkvuIJWSDVU6PW8D9ygmCoSMnPCyLCw/LAixNXG22lZda9ZrL/oOHdV285RRKXaTgt+WlVPma8qvfvy3jJ83Qdfe+e/T6MkInZINBnjnXbswZOiGbi3RCNhh0L6RgMKNCFuuS1wLr6OgYH6k38VhnqYexhCzrL166orx67YZcv3FLLWM3b90Orb8c2sbfWC/T1vnRbENkp6XpWX/l6jWz7bZcuhxKm1+/Y7zn0f3Mtdj9rpt7jrx+0uT4yyb9yGNumfxBwI4cM0k6dukjN27cCJ3X7IfYQngmrkySOg1byclTKZqfnJvzkBdXr13XZdZxHo5j/b1792Ttus1S3Ihk0q9dv4UK2vs+QjteUk6xhOw1807l/JDr4T65x8fzKNQpqPuyzo9mG+nxDEXuZ8uHZTwAbL7aY8gPljnPtfB5tPxMXtn9KMvI6ydvNV89x5C/dpnyWLF6ndRp0EpOnExJS4/jEKS79+yX6nWayYZNW+XW7dt6bs5jn1eulWvW/DD3QB5x7HkjjAt8U1bPNWHyTHn9nXy6j1+nSLx0QjYYpB65dmPO0AnZXKQTssGgeyEFgxkRsjQyvQ1zR0fHjJN65Fe/LKmHfkKW9YwPxWpZomx1qdeotZQqX0s++qKIFC1VVd77uKBasWrWba7bPv7iW/mmWEVdV6ZCbSM4WkqFqvVVXCAEa5u/65rfzwuUkK8Kl9X9qtduKtVqN5EqNRpKhWoN5P1Pv9FzvfvR1/pbvU5TTfvzr0pIgfAx731SSAoXr6TLb3/4lZSpWFvTLfRtebWmece0srxsxRp5+Y1PfY5prb8IzI8+LyIvv/mplDbb2YdfzsN9fl2knPzu5Q+kaMkq8uFnhaVwiUry6ZfFjPgpo9fEcpESlc21F9JjvzTrSa9S9QZSqGgFkxe1pFCxCvJfv3lNtmxLztKY22hCljRHjp0s35jzkdfkKddTslwNk5cF5Vtz7dVqNdG85Jq/+LqkXivba9ZrLpVrNJIqNRs9Uk7k1yf5i+p+lao3lFr1Wmh5Iso/CJcTecQ9VjblV69xa5MP5ph8oWM+zvet5CtYSpcp10Lm2SBdxH3bjj31mu19sHzk2AmTv0XkC1PWHMM5SJtjOC/ruHbKgvvhb8qJayTPi5aqIr9/5UPJX6i0psG5sbTyXOrzaq6V+31Hn60amgbL3Dflx/2Ur1JX/uNnf5CJU2ZpB4Q3jzNCJ2SDQZ4/127MGTohm4t0QjYYdC+kYDBeIXvb1DtniXV0zDrVMhujQU09jGWRZbzg9h27pUmLDkYolZdmrTrp2E9Ewd27d2XYyAnSpkN3efGNT+TAoaNmnflmXroiTVt2MsJtpwwaOkZat+8unbr1k45d+8qLr38sK1atU/fN0eOmyJjxU2Xtuk1SomR5FcBY0r4pVkmtcJOnzZE25liOWZ20Uc9X3AiOrdt36XKpcjVlccIKaW7ENi6nnDvy+h88eKDiadOW5NAxRvwsssdcvKzripWuKgcOHpH79x+kuZsWK13NrDsqzVt3kemzFqiwqVqziWwzecF9TJk+V2bMXiAduvSR5F37pGyl2prWlOlzTF511PuabJY5blFCorq+ci2R1xcvKadoQlZp7v3sufOmLHpIjbrNVNDdvnNHBSnjSBcsWq55+do7X8i0mfP1WrFydus1SBYuXi5z5i/R6+7cvb90NmX1vhF+PfsO0TxZtWa93vPO3ftUWL71QQFzLbc1L1mXtH6ztDXPAOKZY+7eu6fPybBRE/Q8iOAJk2fpc0Be+Y1BJZ/I66Ejx4eOaWCOmTRTrzl5517zbH4n9Zu01WvHsm20r6JVu65qSZ01d7FZ7qZ53GfAcE1naeIaadSsvRw5flJKVaipFt+C5hnGmsv46HKV68ripSukZ58hmh5W9+Klq+u9OYvs00/qkWs35gydkM1FOiEbDLoXUjAYj5Clzl3DrSyiQZ6bpHHtt86u1+UbHobXZ4W5cU7Hp5PUp2iNauphNCGLay0Cr1Hz9jJu4jT5P//3P6Vtx15GGF1USxaN/xde/UgFEIL1/MVLwvjEth16qpCrWquJChgsa18aYYVA6t1vmIqjmXMWSvvOfVRIcXzvPgN0f8YmljaCFiCmsNoiTBhzCipWayB79h3U5S++KqlW27ETp6tIQiBFvldAxWr1jeDar8v5C5ZSi+W48DHoofJV6skxI3Zu376j1keELWINwYNQXb5irazbuEX+8d9/ra6og4ePldnzlsjCJctVuB08fEzTBBs2bZPfvPCOivQ2HXuafRJl89ZktYYC77VlhNxXNCGL6CJ6dYu2XY34ny2/ffkDtUACrM4IVizJdD706D1I9h04pNuGGbHXd+Bwada6s5YD1vc/vPaJdDFitn3n3pKSclaFamNT/lh8q9RopOWar2BptaLy91kjkhGL+UxZdO3RX+8VkG/kMWjWqrN8mr+YXlvDpu00ryPHCwM9ZsI0XaajAevulPAx5DvXNGvuIj03whoL9GvvfC6r127QfO7ac6B5D96U//jvl0z5LJZtybu1jM8Ygc/zSj6QB7TnyC86SOhg6T94lAwcOloFLBZ6m6fe68sInZANBqlHrt2YM3RCNhfphGww6F5IwWB6QpZ1NDD8GuPxMLutuFY4PiIY0xgaQxabZj9PetGYdh7Lx85l6XeOSPqfw/HJkXznl3F4MHJ7VnjPNL6ZyMWeI7OkXvlZwqhz0YQsWJO0UV07wYLFy6WlEUunz5xT11msaA2atFX3VAQAogkhm+/rUrp/v0EjVeT1HThCSpWtrta82vVbyvqNW1XczFu4VK24U2fMk5Sz540YbKrXiQsz6SBsEEtVazZWIcz5cAHF8nji5Gl5+4Ov5KgRReDzAsXTxlJG3gNup6dSzqnFDdfiI0dP6PrPC5TU/EXIMt4Si+C7HxdU8Y74AYi7pcvXqNXx7/7lF7Jn7wEVQwin+YuWqZBFWCOwAQILMQzGTZyhQomIuNw78F5bRkg5RROy5BVjPr8uUl7PkXr+YmhMrlnPL+NEBw4ZrfeJ6zCuzxxXtnIdzT8s1LhgL166UkqWrSF1jeiuVquxWp0nTZ0tTVt21HR79B6sv6RJ26iyuU9cgmfMmi9lyteU+o1bq7suFmA6PGbOXqjPFB0OWLVB8TLVVewD7z0ArPjsR0cHrsE8F6CEye+DR45p3nKddCD87NevqYAlWjH7c51degzQ5/hf/+N3MmXGXOnRZ4g+rylnUtX9mfPgKg4Slq9S92cs2UQrLlKycvjZq6n35oTs00/qkWs35gydkM1FOiEbDLoXUs6SxqJpUz7SaLTraFR49/UyXYusqW824EdmiIi4a9LNSpRjKyZv370r97kfQx2vmyYUH5Jzsf27B9+HzmnW8cvfrGe77utJX3mN9O9pw9sKVI5lnT0nc4T6nVOFjdnOrz3u+s3bEeckzYhzOj4RUt4XLl1W7ti5Sw4eOqzrsvIMWvIMJCxbLlOnTVfroJa3z37xkHrl53pLPYwlZNdt2KKi9Y6pA7ip4r7JdCVW3FogBLH6YWkbOmK8EuCyWsuIV4vbd+7Jt0Y0IJCxxF6+EppSBXGTJmTL1dRAPF5g1cVihoBs0aar/Or378gP//P3uo2xsVhJuf7I94qpEio4EaS/fuFd+RcjcgDuqIOHjdXrxcWU60fArTWC1YtmrUKuxWDVmg16zViKE5at1nQRqpcvX5WefQZLjTpN5bn/+bcqwK+Z8kIAJu/aq4GfnrSQpfwY98k7pUuP/jquGOFfunwtOWPKywvGjJ5KOSuJq5I0EjA4m3pe3W69QPhSfq3b95Bt23fpOt5ddCZYIbs9ebeut8DyuWnLDtm6fadaQxGxz/2v/yuHjxxXF3Jcn89fuPjYd4J72Lh5m56LjpDn/r+/006QpPWbpHWH7pqfbCP41rhJ09VK7wXlSdrg8NHjmveMkW3XqbcKWToaOAcW5SbNO8jf/tN/q6AH3XoO1LIkcBXPXhCFLPkZ+U12jE3q0ZNsN1IW0dLlvRNPWeF98DSUqROyGSAh1SPB+kiwzrunNw0vnZB9SC8i1/GB8O5L5QWxXg5UUAvbgIosP9ZRiS3Y7k3D8km/kBwfkvxlDNyJU2e1UcPfmv+Xr8lxs+7K1dA6v2PTE7I0Xv0a4ekR0UBkygkTJ8nS5cu1biMKafz77Z8eEYknT6eYtBKV585f0OtjmxWPPJXbdiTLMrN9zdp1+q6goc1+a5PWybLEFaYxt0PF5VWEpSd9GptHjh1T8WMFD8/24aPH9HzLzbHcjx0rbPmdSWvj5i2a9voNG/U6OSeCZ9XqNXotO3fv0WvTa/Wc0zH7Sb6fOZcqK1atllTTON+wcZNMmz7DiLLNuj0rYpay3bJtu/zzP/+z/NEf/ZGme980fvz2jZfUL299g9TDaEKWbTdu3pSJU2YaIVle/uJvfqRWs9Mp56RYmWq8kqVMxToqEnC9xQUUkCf/8h+/VZGXaupOXyM6RoyZJGtNPenYtY+OyQRYBF97J59J76y6pOJSjJDFsogI41xfFSmnU9dgyeV5BtNnztdxm5/kL6Z1k/GOXK+f+GCdHmPEKEL00/xFVbTZYwBBqo4Y8YN1D7dixrSu27hVv2v1G7fVYxFfuK4i7Lv2HKDWQtxcEbYAoTZz9gIVRfUatdFOA6zNAPFNZwCIvL54SVlEE7K4Y3OfjCPGWvqj/3pR3nz/Sz0fYo5OjD4DRmjQpa3bktUqa+ddxYWa8cBnTZlNnTFXuvceLGvWJKkFl84I3qXDR02Qf/nxb2Xjlu36niPQFb8lylQ3YvOojhV++c3PZMvmrdLYiMQtRsSCpctXS+KKtTrmeZn5pZwZl0ya3uu3BMsS18jyFWu0U4TjcW/GZR2Qr1zjFfNuxFLPddEhQsRhrN9Y+XEPHz56ogZsIt9xiz5p7hWRD3iPYq2dNWeRBh0Du/ce0F86aL4uXE7v7UkLWYtoeZER8jykXrhs7vOc3l/k8+HoT/IpvXajF7HWRZL0cHOncz0ybZ6L86a84ikr2lpXwu0sv+1BoROycZIeKcZR8NHkQ8N4HHoG6fmgh47xFZ279tUeVz5QjLlp16GHjv0Afg9K2gspYv2zRl62u/bsl3btu8i0mSF3H4To0WMnTX6P0I+T7TWywhMXIBpyfvnKsfR+0tDB/YxjKD/279FnsPZoM4bK9tr27j9MuvYYoA2ZSNEMOYcTslkneQe9PYDe/GSZsjtw+ITMnJ8oq9eFXMQIsHH42CmZvXClJK7ZpOvsMV6mJ2QRZX4N8PTIc4PVtEbNmvI3f/M30q5dB3U/5LnNiJjg+aKxf9QIyvYdOkpNk16tWrWlR4+epkF1JiQcTUPpDtNrGLFav0FDqV27ttSuU0emz5ipjZ+Zs2ZLnTp1DetIg4aNZPXaJN1fxWj4PKBqteqybv0GtaRyzn379kurVq3NOWtJrdp1ZMCAgXLx4kW5Gz7nXdNYTVi6TOrWq2/OWUfq1K0nCxYuMnn6nYyfMFHXcS2NGjcx772t+u7inJH3GI16fU8x/e45MyQtGic8b4jXRYuXyORpU7VTgnUHDx1R0Yl1Nituxnxz9h88JG+88ab8+Mc/No37leb5M6LTZ994aTtavKQexgr2xPuW9wHT4xC8ibGHTGMyevxUrff79h+SClXqyW9fel+tfIBvLta+spXq6LeBdwbv9fLlq2pwJkDHDedE4LGOcbfjJ83UujBi1ETdjiWtZt1m8ovfvilbtobEEa6wiDXAOFTSB953lpe8A5iuBbdnwDHnw8dwDu6BNgDvC9CuUy+10DKmlfzC/XmvuUfcoefOT9B95pt1BJzavnOPzF0QWkfAIKyCdIARkAghDkgfoUTgKpb9rjEeUk7RhKzdDshTXL9HmXvifTRi9KRQ+ZvGMKLul8+/KQsWL9N9KZdjJ06p6y4RlQECvXz5yjJk+DjNO/02m+sm0nCvfkP1mGGmfHi/jJ0wTU6eOqOdDx269JYXX3pHx0pbkOdXrlyTeQuWqmUakGbktXuvn2fm4uWrMn/RUlOH9ug6jiHvEJ+btu7QdVjhiQjN+Od9Bw5r+rhIY30eMSbUpmMdnQ32eQW0SxjzDUaa/bg3wLOAdwDPHvfml8fxMq3daH4jt9n7pFzamTylrHhUIvezpAw5BnrFNeVin3nuYc/+IzJ97jJZvyVkOfcez35ZmRf3aSV5GqvdCLDUt2vfKe25A7ils25NUvS2Dli/eaccPBIaxmDT5znjez5wxBTZEFFWXtryHTlxjixduUH38z4Hftebl+mEbJwEGzZvk/c+KWg+VpOlYtX6Uq9xGzl3/qK6DBFNsG6DVvrhpKeEF/PkKTOlV9+h+oL2e8GmvZAi1j9L5MNF7zVRCIcMGaGuZYhZrEr0wuICZHs0Q+4t30uf/sPll79/W3uCqbje9KicrGc8Eh9bhGz3XgP1PASdGGc+UHwMmYLBrJJO3ftpIAZ6WVu17649rpGVmL+dkM067Yf3kml8hF6WBMW4m7beLoMz5y7IyqQtusw2QBkgZKM1VtITspm1YFkh27BRI3nuueeUb739tiw0IoO6iwD1O85LRCYiBUyeMlWat3joDlnLiEusbYsTlsrKVatD64zATTTiAtBQKlmqtNy8c0dKlCylViiwxohY9gOkff3GDc3XBYsWSeeu3eTSpUv6UQMDBw2WHj176TKoUKGiHDBCZoYRyAhTUL5CBdM4C338Dh05KmXLldd7L16ipFpvwazZc6RJ02a6rCIu4j6j8YohnUtPK/3uOaMkP0+fOSt79u03DccDssQ8D2PHjZMZs2erlY/1nAsRSznQsZrZZxpvAp5bLIXJu3brcmY9DCy5lsg6Rz2MJWTtPrzHLdgPsM0C6xljEtmL/S1CjeiHfwOb7iNpmv2ATZNfvglgqxHQCMybN2/rt4PxqjbNaNdsSX2jDiRt2PLwGLPOu09oXUgUeGH/5irslXr3setIj3GyCCoLmzb0HptZcu2xhKwleRp5rexv85dOfcaNMo4WAWT35dfmj4U9j3e9TdP+cj67HYsmLty4BAOs18zZCkifY2KRfMQSjpu33zEW3mXAc2Lvw94n15S2Lnx9pJ9ihONmI0rss+dN396Hd11mmNZuDH83vQQDhoyWbqbNM3rsJA2URScK9xC5L2R+Yr4RdBbY+ku54flEO5b7YB04duKMrN0YElyh/b7XfS5dvqb3Bm26jqHyjtZupDzwHMHYMnnyVKlvtATu9XRoEYhsyJBh0tCUHZ4hfmUHELJ08NOhybPAs8m5Lphz0vGAFT3yXQRtu4t22L6Dx0y9uqDH0snHdVpLL89B5LF5lU7IxkkCWfCRQ2ABenfHjJ9mHpZL6v6zZMkyFUNE0iN8O2H0lyQkygizrs+AYb69YmkvpIj1zxKpODRy6BAABIRg7kA+hEwiT9TI9ZtCDe1bpnLR08iLujS9saZRZ+r4I+nxcqUXHVcfesax9OKixHrG1MxZkKC9/vTg07OvUyMcIvhGqhQrVVXdiGyjwzLWC8kxPvIyxsK6ftNOWZK4Xl/A9IKv3bDdlPUlbRSsStqqbi4A1+JV60LlzvGUH+J2xdrNURst6QpZU3/9GuDp0U/Iwh/84E/UWrpn3z7dDyESeaylFbJcO1ZVrKMW9erVl6R169W9MOVsyOrUpElTWbQkZI05fvKUVKpcRa+BX8QHwNWX/YAVlaBXn77Sp/8AXebcYMTIUWlClue7WrXqsmfvPtPwOivnjEgCNY0oxm0VIG6q16ipH7QKFSupdRAwnrJtu5DFIR4hyz4I8e07kmVN0jq1ND91NGV38PCRmOUfD3nOtifvlElTpsjEyZNlwqRJyplGtOLiujghQd3NCXYzZ9482X/ocKatshxHmbY0z2GlypV17C0NWr994yX1K7LOUQ/TE7KRpPFlYd/vABfOyH2zgwBrLw05K1T89otGe7137obSsvDb14/2nF5E7mNhO/q8iNw3M6Sc4hGykfTC/o3gRCBl97cS0C7QTpjw35Hf6vRoj/HCb79ojETkdp5XQDmFF9MQuW9mmdZuNL+R20DZynVl1doN2j4icJh1QffuF3IXfyCLliUZcZ8sG7bslAUJa/Q7ffzUGe0wnjxjsew2goh13MvBIyclaVPIss6xtK8QtivMvgcOHw+n69pHluRFtHYjf/MeX7F6ndEOS3VcPh0zWO15j4JO3fqatu4oXfYeC8HGrbtM3m+W5as3SfLug/r+OnYiRWYvWCFr1m/XfSKPg5Qnwe/mL1kty1Zt1HYwBqKjx0/LcvM3x1LOXEe87+zcphOyGaD9YDGGx46JoLeLaHZNm7aRxi06SMKyVbr+xKkUadqsnbrb4MbCwxKZnhOyIZI34OKly2oVJeCCXVerfnNZuz5kmSOi4zfFK+ky7l+IX/shsx8NBA89rox5wgKLeGVyetLD1YdxUXQ84LbEKeo0aCUt23aTluZFwiT7NMwjP46xXkiO8ZG8nr9kjWzZvlfLYvHy0LjP5as3y5nUi1p+SxLXyWXT4AVPQshmVmhEE7KWlatU0TGnsYRAekJ21do1unzz9m39jS1kQxYJFbIe6ygfsuPHT0jrNm1l67bQeDPWg0eE7IOQkN21e7eOd7XnfBJCluOxMjIul+vl92nj0qXL1KKe2efLkucMoTpuwgQZP3GCClqE7Kw5VsguVRdgrLKI2u3JyZkWsoytRoD/4Ac/0Gd45KjR+mz67Rsvuf/IOkc9zIiQxQpAx0dz8+7G4wnXSEA60ep9djCraXN9XPuAwaOkZs0GkhT+Zvnt6yXH0PHKd4nv1Zp1m9SFNZo1hPWM8axdr7kGf8KCw7vVb9+MkOvPiJC199tv4Ai9X7zV7P1yPfGkkRmaz0CWG9dcN0Gmataso9GIQeQ3P5L2fvEGq1mzsaxcvV6nSLLbIvdnXzzNmJu2Rp1mMjl8nsj9MsP0hCyWvDYdeuozhbfgoSOhjk/vftYVGK+nTVt3G1G0W5fpjDl09JSmfdj8Tp29VK13wCtkAQJq0fIkFcHT5izVb3d6+fgskecilpAFDHFr2rSFtlP37g9N+wX27jsojZp1kF179qUNgfMSYJFNWLFel1eu3SInToc6wS9fua7GglhlQR2iXGmHYY0Hh0z5Uo60I5L3HJRtO/fper/j8xqdkM0gAW6wdhzI+o3bpETZGrq8ZfsuKVuxthw6fFTDxoNDh49JoWIVdDkyrbQXUsT6Z4lU6JumAcf4FKIY7tkXmoOObaBe49amModci5lM/Q+vfawh7H/+2zd1UnZcuuhNQtRuT96j6TGAvXDxytqjxMekeOlq6jpHpEULlhFHTJ3ABPyMmyHapbPIPhmS13z4rMhMWLFBn/+lKzdq3oPlqzequws4e+6irN34sFcRsN/q9SFx61cO6QnZ7LbI/sVf/IU0a95c3XDZL5aQSU/Irl6zVvPI9sbGbZH1CFkaeQiqcuVD7xs9bzg9P4vsLiNWbb6AmjWfnEU2eecutTozbvep44aNctg8A9yrXx7ES54z3IYnT52q9FpkcS1esnSpileC08xbsED2HTiQaSHLcYy77dK1mz5/R48d1w4Nv33jJc9RZJ2jHsYSstFA/IkVq9apO7GdAiXyWO/x1Cvv31lFtPOkB1yAk5LWa9wF7sGLyDSprxbsS1Rdpm+xU+149/UC191uPQfIoCGj5Td/eFdSzjIO0t91NF5STrGEbDQw7Gdd0gadv3fj5u0q4CKPjTw+8u+sIPJa4wUdJElrk2T4qIkaTMqLyDT522K3aYusS9oozKlLIDG8irzPNe9wC8Y3M44X48Z//fo1Wb5yra73pp0ZpidkCZBGu+jO3bsaAXr/QX+LLL90Fm/etkc2GeIxde+7B2Z5tyxftUktc/OWrE67/2Mnz8gGI3gtGFuJJZC2F3EtXPvoUZIXfu1GlnHf9UYwJ4gZc2LfMO9QOktq1W9h3pshb6po5YyQPXYyRZfxZrNClvPR1gLRyoPnFMustcgC3Iy37AiNNd++64Ds2B1qd/sdn9fohGwGyMeUoAVMTk7DQt0wTpzWnq8ePfrpB4bB/4OGjlaX2B7mY0NPy6hxU3x7TZ2QDVVIenMRqO079TIfxKH6QaRXaMjwsfLym59KnYatpFffIaZxvVcrOi5m+b4uqRENadwDwvwzFyB5yjhX5pljfCyRIPsNGKFlheWcvxHEuBZTJszT1733IA23zzxyt+/49545IZs18uKk9++8ed7Jw4VL12oZ7953RHuDeXESTCJkwUvVF/G0uUtNwzAU/TMlPGZ26pwE2bX3sK/rWrpC1ggFvwZ4evQTsp98+qmOZ6WDhClp/I7z0gpZMGXqNCOAW+gyIACTHQ9LngCCKyFUwfmLF3WM7C3zbPJrp7sgkjD7ges3b+r2UaPHyNBhw41YZZocIzTD52SMbPcePXUZMEZ2x45Q77rtka1QsaK6AIMDhw6rIL5+65aOy7VW2xkzZ0nTZs11WdOPuM9YxCXwaWVWRSwkDYY4EIQJEmF67PjxMmNWaIws6zgXnQwzZ8+W1AsXMv1Mkw7PLeOk1Xpv6offfhkh1xJZ56iHfkKW9XxPif6KWGW4yJAR41RYENGWKMRMZcIULFVrNdbnzZsunTHUlZFmvy7mfW7HZNKAZ6oaGoP9B4/SdBnyQ5qsGzZqgq5nmXPxjWAZEoCIYI4EJLLCmWvmmzJ63FTdRnpDR47XffU4sy6N5m+8fiaYe+Jb8urbn2v6zI86c86iR8Q4y7Qd+A4xXIZ4Dtwvga2q1mryyP2yL98+Iv5y3o+/+Fa9v7h3vpvtOvfKshWUY6MJWc5PECOCXHL/xJigfDRvTR6OmTBNOpn7/ThfUT02siOY4xF1Xbr2SAuwxDhXm2fkUWS+8sv0RSwT3XigOafmtyFlyTamREIQ2Hzll+A59nliH65Pj4soJ841btJMvRcEKV5Z/QeN0OeDIFz2HkiTDprB4eshmBf3S3DPj74ootvtc80y8wMzrzHXRmApOscJHJW/YCmNlIy7r73ezDKt3egncMxzMNw8T1xff3OvxArBm4P2j3c/K2T5zm4wgghRlLh6s973nEUEVdyswYLGT12gY2NPmW8yVr4Z8xON4Dmq97DnwFEVPrv3HdbfJ+FOHmSSF37tRjo/GMpQvkpdjaXTo0dvjchOYDtiuLz5QQGd4gpvh0NHjvk+L4BhWfsPhbyz6Hg4ffa8Od8Vs36HTJ65RNtUDNXivUi50iaA/M04Wizxk2cu1o4LnvH9h49LUngM9JYd+2RrsrPIPpXkgSK6mNdVA+BG3LPXgEd69nA57tlrUJrril8Fd0KWBomp7JevqNjnQ9HLfIQIlhASsuM04iO/9PgysTigUuKCRf4hkOh5JHT+4qU2YmXo48NHiw+u2UWPQYzoB858ZOy5Wc9Hrb/5mPIB8+tRjvZCcoyf5NuplFQjVO/o3yfNMmVMb+Deg8dkm3lp8iKlTOhZ5CXMB3LnnkO6Py/pbTv365gd3F4yI2QpX78GeHqkgY7bMILzH//xH0297m2eh8vqlpsRAYPo4xk8efKkdO7SVSpVqixVqlSRPn37ybnUVJk3f4GsNOIUbNq8RerVb2C2V5Xq1WvI3HnzNW+IJEz05KpVq+n2jZs2az1g7P6lK1c0QBP1iQ4BFZqGdM4cPnxY2rRpK5UrV9E0EbuXzf5Tpk3XYE+miqQJY9LGzRgh/d397zRKLhZcjiNqMVZDyi5D9x6+lqeVfvecGZIWZcdzgsWUSNJYZ23U4n0HDsrU6dPVBTmz1ljIN4fgUS+88Ad9pgkslZNRi1nP88w3k/c0nZh4xxDgr3P3fkbYTdFAib954V1ZvXbjYw1x3ts8g0TyRQTSEKQOVK3ZWCrXaCijzTpEIumSJuKQ78grZhnrB8u/f+VDbfCzDPMVLClff1tO5s5fktZ4tEKW2BdEu+9g9v/sy2Ly4edF9JhhIyfIWLONbwiCBRHTtkMP6W3EEkKW8xPskYjE3gYpy7QbaKwSkZlOVqy4z7/4nnp58V3z7kusByLrE5Sqm2lX/Pfzb2q+MVcp+fUkhSx5jSst30jygIjLv/jtW0ZA99b7HzpinLz0+if6bQWPH39fA9uMHjVGGjRpq1bckaZ8PytQXEaEOxbIJ8TeF1+V0HzNX7C0FCkRim78/qeFpFK1BmnlhEv1G+/lV1HJd97mK7+4ZdtyqlS9ofz6hXf0GNoWiATKCSGKMG3bobveE2VZ06TZb+BwbYf4Cdkx46foOTFi0MH+4usfm3sPzWXMeF2779nUC1qmPFdYzV9+6zN1kcfbjPGqT1rIkveADqKevQdrB4+fEcWSsZLnzl9SEvSH4xnWgzVu595DSr7bTH3HOjqR+QZzbtLdf+i4ili+uX5tp2eZ5GW0diPPF1iauMa0J/pqRxVgmq1B4U4a3geHj57wfV6oU2dTL5pveChwJuXIeShH2kkEe9ph2lCUC2WFoGVZpzQ0x3Ndof2O6i9u4exDmqTH+GfIcuS58yKdkM0gLfzWAbuOhqGFd18v015IPtueJfICjATrI0Ge2mMALwd6t5jsftDQseqibHsavS4+9iXCC8HCfqjsCwV4Gw9exnohOcZPisTmn/fj6kVoP2/tCa3zlifwK4f0hCwNX78GeHpEyDIGFkFHwCKQlXlksYRheUsKu6UiUphC58ix4zq9BudjDOPe/Qd0O/N98o5AuHAs88eyHiHC3K/eeWRxQ7YWQq/I4jk/ceq0rFu/UeeIZR/ygyBFuCYiApiqZ+eu3Zo2QYewNltRhdhlPZZanbvWpJkRa6xjxkneY01ZvXatunYTWGrqtGmyZes2LdfMWmMhZUsZ/+hHP5I//uM/1ijIuTGPLGCsIUIFt1pEJx5OdqodpqrB3TGyMWfB8gojsho2C80x27xVZ9mxc6/cMddC5FbSxWp5IBzpFsFrPRqqGXFLQ99ixJiJMn7yDF2OPNeBg0eMsKqk08AwfGhOeKoc7pn5VXk9EWGUYS+VKtXS6XA+/bK4vPPel6aRGrJsRAoP+0ZD5JAO4H5519nvkyVAoFWr3VS9vBBpoGnLjmnzqnr3zygpi2hCFgLm28Xlket9/sX3VVBiAQfEl0BsA+9x3tc243mJT3Hs5GmZOnO+djIDOiMqVa0vb73/pYpMgGWb8YOAWQeWLA15rACEcDPzjADvtdrvN3mIh1bNes1V/Fvg2ku+bjf3gbgsXbqcEbfT1RX3rbc/VIs4sOlZ2ue0eZuu2oEOiN1hxzR69wUzZi+UEmWq6bNSvGx1jayMQcNO2+PdPzNMazdGPE9eWpD9ftst+daSb5Bl1nmKTEEnkt83GVpEPq+O8bUbvYj8G8QqP8rF5jvlwzm8bVzA8RgGFi5bKwkrN6hXHGI3EghW0rIdhrTJg9Qx4YRsLtIJ2ewj79ms9nRGYzwvJMfcZ3pCFtK77tcIj4cIOuqqFYeZoboYG+IGjJiAWHtJk/TtMuRcbEe8IlqseOFv1ttr8QpK0kg7VzgdS7bZcyKS7Dq7DO+E0+Ycdt3j53QiNqdI3mNpx8qOJZzowra8/PbPCCl7OmbmL1iYVtZ++8VD6pVffaMeRhOygLkSy1aqq8uLEhLV4sgYYKxXdEoyxg8rgvfdTgNr9doNsnlrspwwoqh+ozbqytvIiNnX38mnVgxELG6loGW7blKgUGm1lL7xbn6dOo84F299UEDnIV24ZLk0Nse+89FXaUIq8joRywxzadi0bZqXFa7BbUyaiDNcOJnqBKsdKF6muvzu5Q9krRE+bLtg7imyYUjeAMZR4pKKmyzHXb9x6zFhAIjFUdLkB+LVinEi/COkgXf/jJJriSZkuW4sP18VKacN5tTUiypmQeHilbQTjKFUDAkC3uNwIcYaixWIoVdtOvaUps07yPufFNJ8XLtus9Q04hgwm8CbH3ypU/Dl+7qUWmU5hjzlOdl34JApp/ZSxJyT4UbAe52mDa4R8NmfIEsMGQJ0amB5bdC0nQbU4hl78fVPNJovlsv/9b//RTvDeSZ27t7n24AHlPPCJaHhHkyzaOfGjdyPZ+/DzwpLwyZt0oJg4ZaO5Rl4988M4xGyjrlP6pFrN+YMnZDNRTohm318ki8K90IKBtMTsqxjPKhfQzwuZoN48FJFLaLQlw8FaHSa/SLSjEU9H3zsXJZ+54ikf9qOT47kO78I2BtZeX59SOcEFnZ7jsySemVdLCPrXDQhS+fj1u07pXKNRrJz1151TcV1k6lDcEFlHz8hi/XgyJFjav1kCA/A3XfUuKlSqGgFDRg4cvQk6dZzoKZbsVp9dfPEOovwWrEqSWNZEPAPi+zWHbvk1bc+V8sg9SPy3QGWr0xSi/GsOQs1rgJznSPcEDRgW3IoCA77bNy0Va2CCFmi4zPG87pJN9JNj/tnjOYP/uJf1K36m2IVjQAqYs4f8hTy7gsQj917DZIlS1doRFM6D7CEWqtoJLzHp0fuOZaQJV8qVK2v4m1Z4lq9T9whyVPK3k/Icr8IeKy4dtgPY3sRjLXNddNpsHV7yMpLORG/gkBXjJl96Y1PNTrzvAUJJl8qqAvm2XOp8qkpZyzSlHvkdSJkz567oCKYcsLVGzGLq7AN9Git4w2atpUx4yepi/Hf/+sv1AJMfA4Ciz1eTt9rYJ7//bc/VjfkUuVqmLJ9P21eX+++ANdvnuO5Rpg3a91FxTGdKlbIRsJakuOlE7LBIM9nXmk38k6x9NsedDohm4t0QjYYzEsvJMfojMciS53Likvmk6CfGE0TnZZewWn+jtw/o/RL45HzwWw+p+PTSepTtEY19TCakIWIhsSVa1UcMGaS8aJYPdkfC2VRndv7USELAVPdECyl/8AROl0PwCqaaIQqc7ljBSNdxp3u3ndQhdeP/utFmTJ9ru5bthIzDIRcjtdt3KpBlFIJjGOES+S5CCLUvktvXcaCiiU25cw5dTE9Gp6hAMGHta9kyUqyYNFyefP9L2XgkDHq3ufnesl5cGctXqaanDh1Ri2EIQvnwzGalgCRh2WUqOW/euEd8z26pXk1b+FSmTJttrrcMn89EZCnzpirZRLv94r9oglZyL0ReIbxx8VKV5OfP/+mCuvde0PutQharJrAexyYb64PV97+/QdqBwXBGrGEMnaYoUFMhVOqbA0dv0ywJZ4J3MGbGNELKOMZs0LxR3jePvissGwOR4T2ngshe+JkinZcAMbFImBJj3HRWHUBwpTxssWKlZLJJt+Yk75i1Qbm+QxdrzfNULrfa54SYBKxzrzbJcpV106YyP0B42MR7jyzuMozP+hoU86MaUaY40lAOVFeiPnzFy7pNXrTicW0dmOUOueYN0g9cu3GnKETsrnItBeSzzbHvEP3QgoG4xGykHqXVQuUo6MjnRw3YzaoqYexhCzbLRKWr1K3UgtEW8lyNX2FLONmAcF5Onfra8TFBf0bC+WK1aFx7BYt2nbTqLlggRGk731cUMeCYTU9cvSECk3GMfYbFBLEp1POqsCy5wK4CDPlGy7NRAvekbxHj9uz74DUNyLt5KkUFXsW5EsZI5QRQbEsbl5wn1iZo7kWFzOCl6BV6zdsSRvP2aJNV7Xq/v/+9B+lZ58h0rxNF7Vw/vU//EwtpZFBsqKRcoglZCH3CxivXaFqyLXYgvHGdrqhyOMAQZg6d+4u28OWayIPExjLCzoYOnbto8vHjp/UgEqMEUcYzpm3RNeTL1i5yfP1G7c8Uk4I2YumPfXblz/QMpo+c74RlCv12cEyzPhoRKW3nAABwvbufzjtnx9J2wsiaUdzLcZi//aHX5l73aMBoZjSj8jUBO/595++IHUbttJyIpr1c3/0f3Q/4E0nFp2QDQapR67dmDN0QjYX6YRsMOheSMFgvEIW6lhSJ2YdHTNPU3+oR371y5J6GEvIWrIfEV29LqN8Hwn6FK3BjpucBTqD4xg7yrXZNPglTdJmGfA32xCs9p2O2ARExkdQ2uNtGkTGJ7Iu1kCvSyk4fvK03p89hl+CN8W6dj/evhP9frk+Zkt449186jJ99949FWjcy4WLl3W+dKKMIvwYb8vYVI7zc/f2I9ecnpCFbEMgk3fe+8U6jatztGO9YB+umbHQ3jQYB46rN8uAIHi4BXNPdGrYfQFWTMrarrNpINxxG3/5jU91zDWw6XFMis8xzCmLV4F3fSymHeNzv/x95UpoTnrE/mWzbM8NGb9NmXFP3D/PEmOM4z03TGs3ZuDZcsx5Uqau3ZgzdEI2F5n2QvLZ5ph36F5IwWBGhCyksekss46OGSf1xi9KcSSph/EIWYhYQ0561wHv3+mR4yOtmazDCscy12PTBJHvCb91kDRByplUGT9xhqZn9wORrqFWZHvXxcNYx1jgisu4Xq6Be8PqC9DiLIb+yti5uZd4hCxke2T6IDLfY5Frhd51lL93HeBc3E+kVZv7jFxnCRD5WK2ZV9OWfbRjQEauHcY6hnsAuCEvWLxcz08Z2fX8cC327/TqRSSdkA0GeXZduzFn6IRsLtIJ2WDQvZCCwYwKWUgdJIiOX2Pd0dHxcVJf4m1EUw/jFbJ5nub6rfjw3Z4DJD8t/LZnlqQbr5ANAm3HQ0bGnmYnn1Q5QSdkg0GeAdduzBk6IZuLdEI2GHQvpGAwM0LWEusSbmy4i9nARsy16uj4LJN6QH2gXlA/4rHCekk9fGqE7FNMyulpErJPM52QDQapR67dmDN0QjYX6YRsMOheSMFgVoRsGk2dpLHO2D/Ggjk6PtM09UDFayYbzdRDJ2TzPiknJ2SDQSdkg0HqkWs35gydkM1FOiEbDLoXUjCYLUI2TIKkkIaj4zPNiHqRUZKGE7J5n5STE7LBoBOywSD1yLUbc4ZOyOYinZANBt0LKRjMTiHr6OiYdVIPnZDN+6ScnJANBp2QDQapR67dmDN0QjYX6YRsMOheSMGgE7KOjnmL1EMnZPM+KScnZINBJ2SDQeqRazfmDJ2QzUU6IRsMuhdSMOiErKNj3iL10AnZvE/KyQnZYNAJ2WCQeuTajTnD56gMjrlDgmjwQrp9N/RycsybpKLwQrpx844u++3jmPtkPJ8Vsq6cHB1zn9RDK2Spn377OOY+KSe+b3zn3LszbzOt3Wh+/bY75g1Sj1y7MWf4HBntmDu8YHj23EX99dvumHd4NvWinDcfD79tjnmH585fktTzl323OTo65jzPmfpIvfTb5ph3yPeN75zfNse8Q9duDA5duzFn+Nz3338vjrnDBw8eyKXL1/TXb7tj3uHlK9d1Cgq/bY55h9eu35IbN2/5bnN0dMx5Xr9xS+ul3zbHvEO+b3zn/LY55h26dmNwSH3CYui3zTH7+Jw45BooAF5I/DrkbfBCwjXOIW+DRvPNW7fDfzk4OOQ2bty8rfXSIW+D7xvfOYe8DdduDA7UAOLajU8cTsjmItwLKThwQjYYcELWwSFvwQnZYMAJ2WDAtRuDAydkcwZOyOYi3AspOHBCNhhwQtbBIW/BCdlgwAnZYMC1G4MDJ2RzBk7I5iLcCyk4cEI2GHBC1sEhb8EJ2WDACdlgwLUbgwMnZHMGTsjmItwLKThwQjYYyKqQ/d78u3//gc55ee875oJzdHx2ST2gPlAvMgsnZIMBJ2SDAdduDA6ckM0ZOCGbi3AvpODACdlgILNClgiQt+/elRvm2Gs3bsrV6zfkyrXrjo7PNKkH1AfqxR1TP6gnGUUsIXvlylU5f/5C+K+cwXdGoJ8/f1HPDR48CH1/L1y8pNdyw9xvPOC7/d39++G/ngzum/QvXrpsvj+ha32SbYVYQpY8OX/+fI5+A7V9ZO79/IWL+rd99q6Z55Lyu3T5iv4dC+QfuGWeX8o9M89vPOBar1y9JhfC1wqe5LlcuzEYcEI2Z+CEbC7CvZCCAydkg4GMClnqHhPL01i/ci0kXmm8Ozo6PqTWC1M/qCfUl4x8s2IJ2d79hkq1qnVkxqz5Zr+csdoePXZCvi1ZReo1aiWNmrWX8ROny67d+6RU+ZpSuFhFadisncyZtzhNBEXDpi3bpX6TtuG/ngy69ugvXxQoLu9+VFCaNmsrNes1C2/JfsQSsjPnLDDlVF0GDB4pqannw2ufLLieOg1aSoky1aRDl97SrlNPOXU6RWrUaSqFS1SSytUbyrSZ8+RcjOuZNHWWVK/TRBJXJplrHyVTp88Nb8leLFqSaMroa/myYCmpUqOR8sTJ0+Gt2QvXbgwOnJDNGTghm4twL6TgwAnZYCAjQhaXSRrPfg13R0fH6Lxx65bcj9PiFEvIDhs5Xpq06CAvvPqhHDp8LLw2Z3Dn9h35qnBZadWum9Ss20ytdgAB0qR5B+nZd4h559/TdX44dfqMLFyyPPzXk0HNuk1lw6atsmfvAfn5r15UQfekEEvILly8TJoY0f/aO1/IpCkzw2tzDm069JAKVepJk5YdtQMB4CHA+matOsmx4yd1XST27T8kP3/+DWnQoJG0aNNFtm7fGd6SvRg6Ypz06T9Un6G3P/hKvilWUW4+oY4Z124MDpyQzRk4IZuLcC+k4MAJ2WAgXiGLS6BaYX0a6Y6OjrGJ9wL1Jx7X2lhC9oNPv5E//at/kx//94tSqGgFKfhteSlbsbZUqt5A6jduI1VrNjbryum6itXqS73GrdUSV7dhKylQqIwRJ13DKT3E6ZSzmhZiguNIs1ipqrqsrFRbylWuK2XM8if5vpX3Pi4ov/nDu1K6fE1dz2/lGg3ldy9/IAW+KSOFi4fSIU3SKVqqiq4rV6mOrtscFlZ+4Fru3LkT/isERCkCKxqWLF0pRYpV0HtEaJNHWPh+/cK7KtyeFGIJ2UbN2sn/+rN/kn/8919Lvq9L6nWRJ+VNftVt1Eotp+QzeVquch2p16i1VKnZSGrVay4lylaXkuVqyNWr18KphYDrbe36LTQ90vq2RGVTZhUelpOmVVfJM/CuKSdbJrb8ELdvvpdfPvqiiHxdJPScUD6UCxZ2lj/6vIg899wfS/vOvcJnfhznzl+Uq9cevXfE8c6de6K2zw4dOSrFy1SXGnWa6T2+9UEB8+zUknc++loKmfuI10U9o3DtxuDACdmcgROyuQj3QgoOnJANBuIRsoyJu+4ssY6OWSb16EE6369YQharmsWM2QukQtV6kpp6QV19sZRWMuK1rBGM586dlwMHD6uQ27lrr3TrOcCImg9l3YbN4aMfggBVjVt0kB69B8nZc6kqiseMnyqXL18x7/HQmFzGS+7es19KGgHCOgQULsepZtvI0ROlphFgWNS69Ogvrc11cP56RliOmzDdpDVFWrfvLmvXbZRiZarJ7QihajFwyCh57v/7O1meuEb/RrjNW5Ag5avUlYrmPhOMYPUD52WsZY8+g6W7uYf3jZA9c/acirSkdZvCe2U/YglZLNPkGTh2/JTkL1ha8xZ26tZXWrbtKh9+VljOnDknFy9ekg6de2vZkFdvvfO5uiT7jRmdMm2O5gfp4GbesEkbHf963TxbrLtrng/OXahoeXUhRtAvTkjU5c1bd8jXRuAiGJcuX6VlwTGjxk6WOvVbSvKuPVLMCFnGQhcrXS2qsFy1ZoP8xV//8yNCd9uOXerCXLJkFRk5ZrLvsVwX4nzshGnS2eQBHQ4bN2+TTt37ygBT9m6MrIMTsjkDJ2RzEe6FFBw4IRsMpC9kv9ftWJT8Gua5wWtR1tn1unzDw/D6rDA3zun49JF6dPN27I6jWEIWIHiw7H2Wv6h06tpH7t65Kx269FFh8xd/82Np0KStfiMRTH0HDJeGTduqKyfC6eChI+FUHgUicJwRGADxu9YIwC1bkw13mG/uFSMk66vIwToLylSoqcIEzDSCGmvwrVu3pN/A4TJo6Ghd36lrX1lmRClCCpGK8K3doKVuiwTHYmn89PPCMnPOQl2HKCvwTWldBozTjYaRYybpOd58/0v5yS9e0XW4P2PNfVKIJWTB2bOpaiEvWbaGufbKum7gkNEyZPhYtWi//Manum74qAnqlo3LL9u/KVJWps7wH5u6fMVadS0Hs2YvlD79h2mAp1lzFum6xs3aS2UjXt/56Cv9m2cBkQmwmHId5PWqNeukVv0Wun7BwqVGWPbT4F3kGShToZbcDwvxSGDV/SJ/IWnrsXZjzd0bzms6UuhE8QOu5d16DdTOkv/xZ/+kwnbQsDEyYfKM8B7ZD9duDA6ckM0ZOCGbi3AvpODACdlgID0hSxn6Nchzg1Y4PiIY03gzDpr9POlFY9p5LB87l6XfOSLpfw7HJ0fynV8iB8PI7VnhvfsP5L75/NhzZJZM1RMNsYQsYuRnv3pVraeITKxniAbcRsGyxNUqdHhuCxWrqOuateykv4jNbVHGPHbtOUADNt24eVM+L1BcNm/ZoaIKkYW775//7Y+lVr0W6r4LEC58h3Ff/vef/UHyFywlpY34+f3LH8jU6XMkeeceadS0ne47f9EyFdSIaCy3fiBQFPfSq+9QmTg5NKYUi2aDJm10vOk0I+xiCdmiZtv1sKtr0dJV1bpXvXYTtUY/KcQSspwfiyMdAIzZPZ1yRvOL4FgAt1zca0E+k3cAUYole+yEqSrM/bA4YYW07RgSkJRFj96D1VJesVoDXffTX76i7sFY6ulowGX5yNHjMmbcFPnHH/5KPslXVMvpvY++Vvdm8ri8EaYg9fxFtapynaXK1dCOBD8QFXrx0pXSvHWX8BqR7kacDhsxXjstCnxTVo6fOBXe8igIFrZk6Qpdxlp84OAR6T94pFppnxRcuzE4cEI2Z+CEbC7CvZCCAydkg4FYQpZqRqM6s5GJb9+9J3fMM5DVRj+NcqxYd7+7r7RT/kRSz2e2c05cOFnHL39Dtuu+EenDm7fvhI95KFBv3bmr5+PYeM5p16Wd06wPnTN0D5HndMx+kv+Xr16Ti5evyN59+02D+mRa2fntnxHyPGzcvEWWLU/UMvbbJx5SnwiaFu0zFkvIbti4RS1iXuzZu1/KVq6jyy1ad1aBo4F92neXTZu36XqAdXB72DoXCYQs41mPHz+lVr1Ll65ooB9EMAF5evUdom7DTVp01P0Rsoi1nn0Ga7AegBjFKjrUCJqTp06ba+kirdp21ci0rDt46GhUIWvRtccAI1rnhf/iO3JVXaYZP/p5gRLhtY8Dl+cLFy5J0vpNOjaUNkJuClncnb8qUjb8VwhcU9GSlTWf5i5YIp99WVzXDxk+Tl2GLRCFuPv6YeXq9fLKm5+Z/E1R92Q6M86b+27cvIPsP3BIEleulZZtumgkaZ4BhOzefQdl1Zr1aqnGus514HLNeFvGbFOuWPQrV2+gllIQS8gCXJNbtu0W/iuEfoNGqAX4pTc+1cBefsDqvGjJckk5c06t5wheJ2QdLJyQzRk4IZuLcC+k4MAJ2ZzDLSPCrlw1+e2x8jDlx+Ur19Itg1hClrFzfg3x9IhouGQaoLPnzJVNW7ZqWoiAzApiPmypFy7Kth3JStJGILJNBYrhdw++l8NHj5mGerLs3rM3JD5NYxIhunvvPtmevFODjbDf1Qhhed0cf+ZcqgogK1DumeNSzp7T83Es5+Ee+LXEOrf/4CHdvm//Af2bc5L3O3fv0Ws5dvxE6Jxcq+ecjtlPBCvPydp160O/SeuMKJqpZRjqpMi8mOU5St61W372s5/Jn//5/5a58+abcn3gu2+8pH75IZaQvXrtmnQ0ogP3XYQL4ysRTbhmYpX8wV/8ixEjDXVf3IP/8d9+JctXhMacYolD+PgBYfTa21+o8LHRiMGO5N16HEIWF9VyYdfigkXKpUWZZToehCrCh7GOjMcFp0yabMMNGmsj12utf344fvykVKvVWI9nXxvsiHlRh42cIAnL/MfIAiLzIlz/+/k31EIMGCMbTbhnB2IJWSK8T546W8Xm/gOH5XRY2OHSi2D84U9+L7998T1dRz7+6GcvSv9BI1Xk4i6O+7EfeFeVr1xHPv7iWx27bEH5IUzrNGwph48ck2Klq6qQpQMgaX1oXPT6jVs0ijP5umnzdg0ABe6Y99WkKbP0vAhY2leUbzQhi8s014oLMffG3yDk4rxQRbh9NiLBtTU1YhbX5z/6wT/o2N0efQap5f9JIbvbjXTg8C6nLLKK2+bbHc93+lnBkxSyvG+jRY5n3H6097EX1JWnoayckM0g6HkbPnK8jB0/RXtkAcEphg8fI0sSQi4mgJ7X4cPHyfyFS8NrHocTsg/Bh3H48NGyYtXa8BrRgBeR+coHhTFMNIBiARejMeNCLk24Qnmxb/9Bnbzcgo8eQSliBWdwQjbncODwcZkxb5ms3/zQbfDIsVMyc36irNnw0CLjh1hClpe2XwM8PSIasHDWrFlLfvjDf5NBg4eoiOVpyYiYoLGASE9JOSPduveQcuXKS/nyFWTAwEEaZAYXTwTtbdPg2mHEZL36DaRChQpSpWpVWbwkQRuFS5ctk6pVq0nFipWkXr36KmrYX8Uo57l2Q++1Tt16sn7DRhWjnPP48ePSrn2H0DkrVJRRo8eo6yPnRNAilNeZ/WvWqm3OWVGq16gpq9esVQvH7LnzpFLlKnotjRo3kT379qu4zaiQ0mt8Sul3v5khaSFgKZNLl6/K0uWJMnnaVLXI8gzSqTF12jRTBvt0P7804iFCdpdJ61e/+rX8zd/8jSxYuCjLQpb65Yf0xsiuSdqo41Vr1G6qEXstsG4hVqxbKu9npjixVjbGyeJmGg13TV1auXqdCqx1G7aE1/INP2vqxG2Tv1dk4OBRuq63Ebbe6MIIkUOHj+rxkd9wggwRtIl0ELx+4JuOtY4xnLhJFzOiHCsi36/iZas98k2LhpSUsxo8Cfdk0hsybKy6Yj8pxBKygHYOlmKi9DJtkgWik+tiTLNty2DhxMWY7ywWS1zEY4G2FK7L/QaOCK8RfT8h+kGvfkO0Y3PE6EmPjIteuHi5uvbSLhtingcvrhhBhYDmmihfG6wqEjxHRKFG9CKY+RvgqtzfXE967TMEL+2XwUPHaJnNX7RULclPClxPeu3GhGWrNGBaPDhsvq1TZyfIlh1Zt/YfOnLSfKeXS9KG6JG8nyWkJ2Q3bNxq2rgj9V1jgecI63Cxj4WtpryOn3zcU4B6PHj0dN2eHsZOnicr1z58NwYVTshmAIeOHDMfp876YSluPrxNW3bU3sDW7btJ+/ZdpXnrzvqB4yPZtmNPad+hu85dNmX6QzcbL+J5IT0LIGhGc5NP7dt3UdevxebDhFAlMmRavi5M0HwixP5zz/151LFR4LbJ/45d++oE6Bz72ZfFwlvoQV4vP/nlK2mdEAOHjtYgIt16DtRe+mgfOydksw/x9BQyHcKa9Y+K1kumYZLeSzeWkGV9ZqbbQcgiLBo0bGieveeUBb762jSyN6l1EhHod5yXiExECpgydZo0ax4KTAIQyBs2bZbliStMo36drqtTp64kLF2my2dTU6VU6TLmGu7or3VzW7Fyle4HSPv6jRv6jK5YtVraGtF69uw5vW6A+O7eo6cuA8TqgYOH1BK3dXvIqlWxUiXZsi2U53v3H1DBy3yhJUuVVqsvmD5jZtq1q4iLuM9ozE6xlxeZHfdHGmdTz6ul/dDRY5K4YqWMHTdOZsyaberDBTl4+Ih2oGzZtl3mzJ0nF0wDOrMuwaRjrfsbzHNsPQIyS+pVtHqXnpAF02bOk9q16ur40+wG3+lYHcoOIaQnZAGW4jp1Gup44+wGHcpEO3aIjfTajaPHTjbfqB+oEE8PdI4m7z5o+GgQMdZHfqft+bznxVIfaQC4cOmKrEp69DtNZPNY4+ifVsQSsniWEBG9V6+++o7af/CwbN2WrDEB2rfvKE1bdNROs2jYuGWXCllvOTEjwx3zLt+556Cknr8UXvs4KEOO27v/iJxKORdeGwJW3mjPVl6FE7IZwI6de6Rhs/ayM3mXTJg0Q11O6PW1gQBwVcI9BSvG0WOhnuIjR45L4RKVdDkSPCxOyJoGsWlU0asLVqxKknqNWpm/T+vcc4A593gp3zSNan7pkUeQRgMBPhhXRY8k+xFtErCMWCV4BK5eoEiJymoNw5pA7zki2A9OyGYdm7btlh279suS5evkzNnzum6zWYcLLNhgXsx0AoEUs31tRK/u+YuXzQfyUet6JGIJWRr9WRGyDRs1ShOy8G//9m+lQ8eO5mNySveLJWaskKWmzzTCpFWr1qGLMsCyum79Bjlh0sF1FzRp0lQWLUnQ5eMnT6tFlGvg11qhGNvIfoC0OQfo0buP9O0fcofk3GDEyFHSo2doeon75mNXrVp12bdvvxwy4ujU6VDdq1krJKgBbqdYZbH6VahYSVIvhD6KU6dNl7bt2uuyPWfkvXrJPrhO45qMhRjR9DTR3tMR876PVf7xkOeMfJ8ybZpywqRJypmz56jAXbJ0qW4/e+68zJ47Vw4eOZJpqyznolz69usvLVq0lBPmfZsVCy/1Cjd0P6QnZAmog9UVj5zO3fuF12YfcPekk8chNtITsvvNd5igXAkJy6RarSbhtdkHjAJ4YTnERnrtRsaSN2raSt3A08Pm7Xtk6pwEtchu3Lpb1zGsJ2njDlm9bqt574TKg7/5HiN85i9ZrefG+2f1um0ybc5S2XfwmPm2ha7nnBFQHGtx69YdtQ4uXbFBrb/PkqCNJWTpkGYO6p07d+nYezxTaItab0HG10dzyQdbTNmt35wsy1dvkgOHjqswPXHqrMxZtELLNRb4nlOOaz0ebqfPpKoX3PpNyeb43VE9bPIinJDNAJijjFDrVarU0uiDkS6rzPk2Y9aC8F8hDBg0UsYb0esHJ2QfBT17iE5chbDIMm1Cu449pXylOmlTMAB6r2K5Kt29d08jJeICxYTsC8K9/DaqItEurXsSwrhNxx7mXN11PFXk5PUWTshmHQsS1piP5S7t6Fm6coOW54o1m1WgggTzobON4ScjZG9mq5C1xPUXUYDrp9/xMD0hu2pNaNwfbsLgUSF7KkLIHtP1kUIWF+IzZ85K+w4dZfXaJP2Ash54hSwupAjZnbt26fVg6QW4FUcXsqEGTUaFLMefNteEtZnr5fdp49Jly1XMZoeQxVV83IQJMn7iBJk0ZYoK2Vlz5qhFdnHCUlm+YqV2/CxOSNCxzJkVn7iUM/b2T/7kT/QZxtWcZ8Fv33hIveL6/ZCekI3HQyNerEnaIB069dLxkWfOPmpp8IJvd9u2HWTO/MXhNTkHIiC3bdtJJk+bHV6TPSCoVFaCDKUnZGMNvckoGFtKp0U78+2NZXWig5uoxrjt5jSYz5bx230GDMvWNhrTQDFuGiNIZhBPu5G5cRs1C0XZjgUsqrv2HtIOZpbBksR1ssoIUTqWZy9YYc5j3hXrt2tHNMQrivHGWAOx/vGtnjxrSdp3N1LIbt62RxYtXavf/ulG9J6/EPrePwuIJWQB486rVKku7cw7yztMgncXQeq2bEsOr3kcGAEWLUtS6zkdCmdTL6jlmzHKCSuiG3oAzw7jmRcvDx0Pjp04reVIG4xnYtde/ymn8iKckM0AVq5Okko1QoEnVqxcKzXrNdMHgonRibxorYR8mHkAmcx9ybLoY2HieSE9C8CdF2FKHnqjUmKpnT5znlSu1kAjPVo0b9XpsU4Eeo/oaCAvEcFMnwAemJcz894x2f5//+Z1DeP//Ivvyaf5iur0DES+xKWDsS2M/3FC9smBDyBBCMDSVRu1rBLXbBLmogQr1m42Dd6Q8EK00tvoBe6QfFBjISctsv/jf/xPdcfdnpys+8USMukJWcajYim19x9byHossk1D8ySSNsczzhXhCfS84fQeEbKmTiBkdxmxykfWnrNmzewXsuQdLrC4L3OPa4zAfppo74kgWbHKPx6SV4jTiZMnGwELH1pkQ0I2wTT6t2l+zl+4UMcqZ1bI0umClRd3+RIlSqorOc+X377xMCsW2ewE84YSJbd2gxby7kdfRxULWENmTJ+hYzLnzl8SXpszQCBNnz5LBhlxhkt1dmD+ggTt9PWOBc4o0hOy2YnR4yZL+Sp1VaD+3HyX94U9pCJBY3vGrPlm/ylRp/B5UuD7NGvuIlMHZ8jgYdEtYxkB3mVZdXWPp93Ic8Cwtnhw8PAJ2Xvg4RjNhUZ07t532AibFLWggnWbkmVr8j4dR0sHM88KsSz4Zq8z3+nZC1doMC7AECDvGNkNm3fq38dPnVHLIeL3WUE0IUub1zulE0Pgpk6fq/lKIDgCvUWLlG2xaetus0+os45hWGfOhbzcsHiviHPca+LqTeElhk6ekO27QuNynZB9irF33wG15o0fP1k6du0jE6fM1J6Ttz8sIO079zaNvDmyc/c+dQ9458Ov9MMyeeqsqD2O8byQngUw3pXQ9eQp8+vZQe4EuuAjxpx9uB3RKJltPizvf1JIA2nwgbEuybhhFPimjHYi0FvIx4IxNwRu6Nqjv0bDxIWSQfUEoSAd5o+j3MZPmq4NiuatOpsXif9L1gnZrCMhcb0w3yCgJ5EefsZyJBvygZu1IFGFLiKWDye9wQR5AgS+oTd45rxEOXz0lH4I/BBLyNLozy4h++JLL8mMmbPUmvmdqb5+x3lphSyYPGWqNG/xcPxSrVq11bIH7EePdYyBBVjgSpQsJTfNufhlegpAFFv2A1ibaSAgNHv26q3jXFRohs9JQCnWWzBGdvv2UEcB4yMBgad27g65l+EqW7ZcOb334kboMJ4SELm5cYQ7s9/9RpJOCAIWPa30u+eMkvw8lXJG3bDhwsVLZMz40BhZROeuPXvU8r93/36zbpZZl6rl45dWeqQ8CATGdD579u6Tew++13V++8ZDFbLR6l0MIctQEoTkVPPepzMT75kFi5fJdPPeZ50lAYPo1FywaKm+u73bvMxfsLTGRqDjkg5LLB6R4L0/a84iWbZijTYemTZGp8kx6RMtmWvygnGhRCtmO9dFHAyI9xXBhrznX7QkUSaaNI76BKHanrxL0yGg1Zp1mzQ95rglRoO1ikSCKMvjx09MC9zDdxArMnmx0OQJ52SZjlu+XwhaO2wmo4glZLft2Kkdv/Yemf8VMRZZFnbdbLMvy95tXhLpuG7DlprWh58X1vlYI7+95Mkik78JJr8IoIRHFR0V3C/WbM6D95UFea7lZNKnnBChtnw4D+vt+XnOmB+Yso0E0alpW/BcrtuwWfdFdBMVmcBOfkB0jB8/JS2iNteeuHKNPn96bnPNkPYjcT4IhmWjL2cU6bUbMQbUa9haPv6iiN4HXgrRwPhIvKOwwp48fVbXIVgRNSeM8NxpBA2nwRMK12OstIhXvt3LVm2UhJXrVdxOnL5IhS/f6Q1bd8ms+eY7bb7dtMf2Hzym43D5lu/YdSCtDfAsIJqQxejCELfe/YZp/W7YtJ1OrcUz8tHnRXQIHBGzz4QjaPth3cZkOXQ0FPwNQUpcEdy9sa7j7n3QlGH0AHy3ZO+BIzJtdoLsO3BUO4wOHzkpNsAmgna7KaugwAnZDAIx27x5GxWxgLE3PHTMW8ecd4krQx/BfgOH63xmzIEWrffNCdkQ+DgQbAl3G/Jw9drQi5ePN+M87Pgmxk8yRqdL9/7qlsS8fntMeZB/DZu0faRnXYNFtesuPfoMfix/aTDRIAAIIoQunQ43wo1+Pzghm3UwfsM2PHBLsq5q9P7xgdwd7gHkg4ob0jbzQd22M9SAw32J4AasY7xNNEtLLCGLSPZrhKdHK2Rr1Kwpf/EXfyGNGzfRMYU8VRmxiCH6EI0HDx6SNm3bScMGDaWREcddunTVMeEEd8LdEyBsGzZqbLY3lgYNG8mEiZPUJXvS5Cm6nmsggjBWWT6UBGW6dOWKCl2sp1jcrJDV4A87d0mLlq2koUmLNHv37mME8QXTGJyn7qxg3vwFur1x49A5Z82erb27I0eNTjsOEYuAphxJ2+8+/Wiv5Wmm331nlKTDM8XzhqsY0YQnT52qVlienaPHj5uG/Eyd/zWzIhaSFkGlPvzoI/nlL3+pluW7pqz99o2XRLL2QywhS0A/BCff0D/+yx/KW+9/Ka+9/bk0Mg07vqm9+g3VbX947WPtvHz7gwJSunxNnXaFYT52u+X7nxbSGAqdu/WTF1//RPr0Hx4+00MQbZhggO0795J2nXpqJyqRhRnW0rZDDxlnxJAXiFa+4z16D5b2nXpJ4eKVNIAgU8MwxyjXghjlWn730vs6bYzfNDlMt4M30afm2C8LldZj3vu4oFSt2Sjqt2Xp8tXSoUMnvXe8vPD+evP9/BoQ5oVXPtRzc69c+29MPlYx974+k1bZWEJ23oIl8qOfvqB5/NNfvir/+YtX5L1PCmocC85vy4FpdJjeiOi/H35WWK+P73VkOTG1EnmA6y75wTRGkd5QXE//QSM1zykXBOAn+YqqGyZ5x5y/NMAtyHPaD3zzOW/t+qZ8zDNAZ/VvXnhH0+B8obmCC0iR4hW1bCPBPLVYM5lm6VXzLHIMIpr7pXPdD1ha25q2Cp5js+ct0o7F1975QodH8XxjcaPNQlrvfPS1fPF1SXUFzwzSazfSDiKIUPdeg7SNFC3YKNh38KiOh2RM5Z79D6NBb9+5XzaZb7Ct04yfPJd60byTLhrxi+dbSARzHPvyTT56/HToOx3+dm9NNt/p8Pf+4OHjOs72wsUr+vezgmhC1oLOmObNW8nGTSFPRDwTeN5pC9P2PXQ4NIzID2fOMZ42VF8pC9pEGAFoS9FuwvX4pnn38pzQ1iIQlG1z4X5Me4qy4xevrOvXCTYYmgKLdGBQ4IRsLiK9F5JDfGAuQT6UVpw+CTghGwzEErJ0Wvg1wNMjggFLGOMI586fr9PuxBOpOBoZo4rFExFJ9FnGkDLPK9OhIC64fs6Bm/CcefNliRG4CA/EKedlTCbRhgkQxX7MO6uW0WvXNQotwSL4MHkFlvmG6dywnJNjz1+8ZNK6p66suC5zTsZNrlq9Rs9JxFwsdpwTYbVo8RJdj2srbyvSjNca65g5kveIruUrVmh5IV6xuCetW6/W06wIWaJtMyfy3//936uHAV4C+iz57Bsvo411jSVkCYpI/AOmb8F9E8FIo/+eed4BbvSMpyxeppr+zdjXpHUhdzgseHjk4BXFVC3s+60RSHhFAeIjnE4JWZn8wFywzEv6ylufSQEjqiZMDnVORwNT8pQ01/FTI+ImTZ2tLsL1zbVbHDh4WL74qoR8T2WLATyF7NjcvuYasM7FwmkjnhCDzNm6Y+dudZ3+zrwHbFTaxs3bqwdShar19e/MIpaQBfUat1Zrb9L6TVK1VmMVk0wfAk6cPK35zzXhYYVlsu+Ah1PpUE4M3+Ebzb5cr53CB2Fr41j4gcZ+JXNvn+QvKm8ZAUoHRywg9nle3nwvvw7vAhXCc8wCLK5Yw/yssV5g4aWDG6wxafbsO1iXo4H3IaLRTiFUpWZj/cX6DIYOHyd16rfQa4v1XKYH124MDtITsjkBOhcWL0uSZSs3SkLiOnX9ftrghGwuwr2QsgdYjZ50HjohGwzEErI8I1lxxeRYXGyzIiCs+EOY8sTC0NjEm7rOLiNAERuIC+RB6Jw39RfByXq2h8Tqw/QRula8WiGrfxuyjfNxLCKJ9Fhnl9kPN2k9p/m150TIsg4ibjmf95yOT46UwfmLF9Uii/DctXuPllNWnkFIGpQrVvgxY8dpR40+Jz77xkOuJ9o7OL0xsrv27JMGjduoMMKFtHqdpmqdQ6Dl+7qkVKvdRC1jrCO6J7EqmA0A0cQcse9+XFD+8v/+pwqGhk3bmm9qyOpTqVoDIy4fWpm8QKDghsq8rghe5m4kqE+0cZgItt+9/IFagbHgIsKYwq22uQbcSDkOCx6CMxYQsAWLlpdvilVQIY0F00/IIvismypWPiyyCL4y5WtqPjF8icjB5PlLr3+sU3VglcXqm1mkJ2RxRyR/ccPGdReLEZYkhObr7+RTt9+X3vhE8wo3ZCyfdKr17j9UfvX7t+VzI/L/5P/8m84OUKVGQ0neFZrnEusp7r5+IG2eA8oJl/HBw8Zo+t4OBC/ozHv9nS9UKHMeygQwRyzAG6tqjUZSq37zmC6udJbUNWX7hhHDDG0qXrpqVAFNcErKYdyEafrsMt8v5VW0VFXdXrZiaPgH4pk4HFhl8ejLbJAzzuXajcFAXhCyWGGx1lo+jc+NE7K5CPdCCg6ckA0GYglZwIs8s2MBaehnpbEfSUStFYWP86EIjU6zX0Sasajng4+dy9LvHJH0T9vxyfGaeab5RSwiPimHyH0ySzomaE5nJU3qk3esYiRiCVlce781DXwC/c2cs1DXlSpXU6dBQxTY8Z4E5SPOAUIWF1sEDeIRUYN7Mi7FAFFoLW2xhCyij/k2rSBEuCAUx4yfGt7jUSBWGjfvoKKsZ58hen4i3zPmkSEvhYpW0P26GJGHK2s0/OQXr6ibNJY7LLz5virpKz6vXb+u06jMmhvKE661SIlK0rCJEfxd++h1VzGCDGAhZWaEDp17qfDPLGIJ2UlGeBX6tpwKQ9weAZbzTZu3y/DRE2X0uFC+MUSIMkDIDhgySocHMRVeyplzmufvf1JQ41TgBYJIpe1DbIxoQhbXX8bPcr/M309nA0E1mxjh7gfGHlKeuJT3HThcBS3nKFW+pm6nEwHQSVCuUp2obS+mUfzBX/6rzJy9QMuJmROiCdmx5pmxeYL3wBvv5ZPe/YZKsdIhLwLc1hketWfvAY2ZMsLk1+vv5jPPc+ZcN127MTjIC0L2WYATsrkI90IKDpyQDQbSE7LUNSwLREr2a5TnBv3EaJrotPQKTvN35P4ZpV8aj5wPZvM5HZ8+Uo8Ynx3rGxZLyBJwifGIRBlmTOHRYyekYtX6ct0IOSxwBOIDCF1iKeB6TJCcJQkrVFgwhvK5//l36tLLfLSvvPW5VAi7kzJWNpqQvW6uHass84j/9qX3dawq4pS5yv1w4MBh+fnzb5prqyd/9f9+omIEiyxWYUQ8wVoY8/j3//pLadayU/iox7EWS1+j1mnBnTp26a2Czg9r1q7X8bbTps1Q0bhx8zYdB8p0NKmpF6Ry9dAMCoh5O/85Yzlx8WV+ytMpZ9SFleNspPNYiCVkibDKlINYgxHj25N3S6v23fR+EpatUtENsDYiZAn2hOjEjRghyrjNP//rH2leE6ypWo0G8uLrH2vHIuJ/ynR/IcsYWKYUKmwE6FvvF5A/vPaRWjujWVOx2hM8qqAR3b/63VtpVlE7Jz3XTwBJxhm/+1FBs8b/ucVdvWa95nI2PIXT/EXLtNPFD+eNyK5aq5Epp9nSWztDpuh6gkMBxgzTMUEQS55vgFDevDVZ5w7lXCdNPhF/Bbfs9ODajcGBE7I5AydkcxHuhRQcOCEbDKQnZAHz5WWnVcvR8Vkl9YgI2bGQnmuxRRnT4K/fuLWKN8ZTgu49B2rUV6ajwCLbrGVHWbg4NJ4Sq1+T5u01aNNBI1gJBEhwm4FDRuv2cpXryH4jQNNDrXot0qbOiwXEYXNz/s+/LC6Dho7WMbGMsQWIEebtRJQTLTcWmMUA6y7Ty2FhJoJyNBD5tlGjJupyDbjnVu26yrlz51Xcg7qNWsmvf/+OuiCvNuIXt9l/+8kL6tqLlfmf/v3XmqfpIZaQ9WLgkFFqgW7epnPa2FairSI4EXsI2ZmzF6qoBUReJngXgZiwphNxuGnT1tKhc2/tnMAiO2nqLN03FhhDzT2lB6yyWOkrmvwpW6m2tq+KlqysnQcsa6BIU06k5w0WFQkCOyHesaTS2cBc89GAJbaRKQc6Q8DJkylp4pkxsQh2Ihj/209fkHoNWmoeMFb6uf/5t5qf5BvBr371wjt6TCy4dmNw4IRszsAJ2VyEeyEFB07IBgPxCFnAuGq/hrmjo2P6tNNYUY/SQ7xCFqFx4uQpDfxEwx8Q0Gnv/oNq2SNYG5YrAjvFApZKjscKGUuoWGBtxEIbL0ibIFykbS1sFmfOnYtLNOIyjfUQi6kd0xsP2Jdp5PgWHT7y0MqKq2x+I4QQXdwPllvE9dmzqWrl885ZGQ3xCllAecDLnrIg2i/rGN+LQE0voBGRl3fv3qfXeeFiaEqxWMAKzf1kBLZ8cGe2EVstCFjFtcYC5YwwZhaE9Ob19II5VRG3gHPb8bCUBfPaT5k2Ry6bsmR6n3Op59V6jvcAU7CkB9duDA6ckM0ZOCGbi3AvpODACdlgIF4hC4gUTHTfvORm7OiY10l9YXqRe2H32PQQr5DNLiB4c+ubynkzG8Qnq2DMpY0EnBlkRMhmB8inSHGZk4g2F3lOYMjwcWqRzwxcuzE4cEI2Z+CEbC7CvZCCAydkg4GMCFlAQ4pgLbaBbi1Njo6OD0m9sB0+1JeMCJCcFrIOmUNOC1mHzMG1G4MDJ2RzBk7I5iLcCyk4cEI2GMiokLX47v59nYYGS9PDhvt1R8dnm6YeUB+oF7dM/aCeZBROyAYDTsgGA67dGBw4IZszcEI2F+FeSMGBE7LBQGaFrMUDUxcZ90ckUsY5OTo+y6QeUB+oF5mFE7LBgBOywYBrNwYHTsjmDJyQzUW4F1Jw4IRsMJBVIevg4JC9cEI2GHBCNhhw7cbgwAnZnIETsrkI90IKDpyQDQackHVwyFtwQjYYcEI2GHDtxuDACdmcgROyuQj3QgoOnJANBpyQdXDIW3BCNhhwQjYYcO3G4MAJ2ZyBE7K5CPdCCg6ckA0GnJB1cMhbcEI2GHBCNhhw7cbgwAnZnIETsrkMXkgOeR+8kHJz3jmH+ECD+ZYTsg4OeQZOyAYDfN+ckA0GXLsxGFADiGs3PnE8R4VwzB1evHxVzqZe1F+/7Y55h2dTL8mFi1d8tznmHaaevyypFy77bnN0dMx5Uh+pl37bHPMO+b7xnfPb5ph36NqNwaFrN+YMn7t1+6445g5v3roj581H/qbPNse8w9t37unLCKsCy377OOY+75iyuXTlmly+esOVk6NjHiD18PKVG1ovqZ9++zjmPiknvm9859y7M28zrd1ofv22O+YNUo9cuzFn+Bz+2465wzt3Qw/6HZ9tjnmH3313Xy5euqofDpb99nHMfd43ZXPl6nW5ev2mKydHxzxA6uHVaze1XlI//fZxzH1STnzf+M65d2feZlq70fz6bXfMG6QeuXZjztAJ2VykE7LB4D3PC4llv30cc598LKyQdeXk6Jj7pB5aIesac3mXlJMVsu7dmbfphGwwSD1y7cacoROyuUgnZINB90IKBp2QdXTMW6QeOiGb90k5OSEbDDohGwxSj1y7MWfohGwu0gnZYNC9kIJBJ2QdHfMWqYdOyOZ9Uk5OyAaDTsgGg9Qj127MGTohm4t0QjYYdC+kYDCrQtYeQ728De8QsMHR8RmmqQe2wcw8o976Eg+pU1kRst/dv2/4QOm3Pau0aXMev+2Z4ZO6XvLySaadFSH7JK8NPon0eR5JLzP3G4vea83utKETssEgZe/ajTlDJ2RzkU7IBoPuhRQMZkXIUhdv3b4jN27ekms3bpo0bjg6OhpSH6gX1I+MNp6ph5kVst+L6Pl4794yohp8b1b67ZsZAsQ66XMecP/B9777ZoTkEwR+2zPLB+baiNBJnmZ32qSZWSFrLktFG8dDC799M0OeA371OQjnq12XFZKXpMkzlZ0CmWeI54lnC2Rn2pC0nZDN+6QeuXZjztAJ2Vxk2gvJZ5tj3qF7IQWDmRWyN2/dThOvVyIa8Y6Ojg/rBfWE+uJXj/xIPcyMkEUMnDmbKrXqt5BCRStI+Sr1JGH5arl85aqKA79jMsLvjXrZd+CwlKtcV9PnPGvXbVKhhDDzOyY9IjTPpV6QspXqSNFSVWTdxq3Zcq2Q623VrrsU+KaMvPXhVzJzziI9X3Z9j0iH71tGhSz7XrlyTbp07y8Fi5STIiUqy+Rpc+TosRPZcu88MxcuXpLGzTtIoW/LS6nytWT+omWaz5lNn2vm+WreposULFhSJk6dpWlltKPFj5TTJHP/n+YvKp98UUQ6du0jd4ygza5ygk7IBoOUuWs35gydkM1FOiEbDLoXUjCYUSFL/bt+89YjDXZHR8f0Sb2JpyFNPYwlZGOhQZN2krgyyRz3nQrYxs3bS/vOvc27+HJ4j/gQab3jmkDFavXlwKGj5u/v5MTJ01LbiNmBQ0ab+wpZ0tKDn6UN3Ln7nbnfa9LZiLsNm7bpOovIYzKC0hVqyZ59B2XuggT5/SsfaoeCH7zpx0vyJJaQjYXhoydKn/7DtJzummeC5ToNW8m+/YfCe8QPv/O269RTZsxaqOlzz63bdZNWbbvJqdNndHt68OuYAHdNevfu3ZMRYyap+PYi8plB+MaLjl37yujxU+WgebZ+9fu3ZePm7eEtj4Lze88RL52QDQapR67dmDN0QjYX6YRsMOheSMFgRoQsY/+cC7GjY+ZJ/aEe+dUvS+qhn5Bl/YMHD6RDl95SunwtqVS9YRqxaFap0Uh+9/IHai2tUbeZEbVtVSB88Flh+Tjft1K5RmjfClXrq1W1UrUGepw3nYpmXeFiFWXewmVqvbTnfvD997JwSaL86KcvSKlyNaW+SbtZq87SyaT/6xfe0XNWrdlI6jVqreIWa21ds8x5KlStJ+XNb5mKteXo8ZN6D977QbxyLS3adJGS5WroPTRq2s5cTwO1Kh85eiLtGK5p9rzFeo0cwz72Hvjl+u29VDHX84fXPpZvzL71G7eR5196X0qUraHr7T7flqwiPfoM1nQz+p1i/2hClusdP2mGlChTLe1ckPyobK757Q+/knc/+lrLqU6DltrZULRUVXnlrc/C9xUqC++92fWWRUpWlj4Dhj9y7ZwXq/nzL70nnxcoYcRxS2nSoqM+M+9+XFDe+qCAlhPlQ1nVqBN6TjgX18ZvkRKVZMXqdZqW934QrmUq1JKmLTvpMf/9/Bv6W612Eyleupp2oDwspweSvGufFDPrKUN7D/Y8FcLrIOVBfvCc8uy88V5++axAcb1Ou0+p8jU1n66ZOnTfc13x0gnZYJDn2LUbc4ZOyOYinZANBt0LKRiMV8hS35wl1tEx61TLbET98pJ6GM0iS/CoQ0eOyf6DR2Tbjt1y4mSKpJxNlU+/LCZJ67eoWBgzfprs2rNPJk2dLe279JFuvQbKb/7wrqxeu1F279mv4gchjPD4JF9RdWnFUpdy9pxs2LxN3v+kkJxLvfiIJZTl1PMXJX/BUrJ8xVojdJeqOOrUra/87pUP1eJJOv0Hj9TzTp0xT4YMH6dWxr4DR0jvfkONgGsot28/+j3gfo6Y41asWidtO/ZU0fu2EVs9+w6RvfsPyfbk3SYvbqQdw3WknDmnInC5uf71G0PXuz15j4qf2fOWyNGjx/V+TqeckwOHjhhBV1x27NqrLsar1myQM+dS5eSpM3LW5NvnX5WQpYmrQ9a+8DXFS64pmpDlb8rGltPhI8dNnp5XETdyzCQj3vtpRwDltGDxculoyqlXvyHyh1c/kmEjJ2o5LVm2Uj404i7ZXDsiDzfuM+fOp107Zbdy9fpHrp3z3rhx0wjG+jJo6BhZm7RRuvTor27Mb7yb35RXPzl0+KhMmzlf+g4YYe59jXTtMUCfCTo6lpm/P8lfVC5duvzIPbF8KuWsbNu+SzsemrTsKC+98am06dBDNm3ZoeV01lybPYbf6zduyDfFK0m/QSP1fr4web1oSaIKV9I4cPCwnDTldOLUably5ap2OCSuXGuuo5E+OylnzpptKXLGPJeI5a49B8h9U/7e64qXTsgGg5StazfmDJ2QzUU6IRsMuhdSMBivkM1rIpaeeb91dr0um4ZUGsPrs8LcOKfj00nqk189g9TDaEKWhjzjYBn7CvoPHiWt2/dQYQcaNWufNs60RNnqUqVGYxWIiBoLxErz1l3U9bhOg1ZGRCZJU7Xa9ZGa9ZpL4RKVdD/v+4BlgBAjIE/TVp2kpEm/fedeRqSGXGTXGNHUrHVnadepl4onru3N9/KrgF60ZIURIgM1jcj7uXjpilpFW7btqtY77oVrmT5rvu7vFdT2Ori3G2E34TIVa+kvAij1wkUjVterGy0ivqHJj2+KV9Tt1Wo3VcHcqn03vUby5R1zrtNGGAPvdcVDriWWkOUXgQ+mz1qgou/N97+U3XsPyMQpM9PKBIGW/+tSOjYUyyzCHZy/eElKlqupy9XrNJWVRoS3NPcVuvYeeu1+415Bq3bdjMjfKnPnJ6gYxnLetkNPFfj7DxzSZ4Z0sNj3GzhCvipcTpcvXLxshGZjTcObps33MROmmWO7q1UWIcvygCGj1T0aeI8B9Rq3MdcdEts16jbVzgU6VhDpJ41IZQwz98y9v/9pIX22OnTuI1NnzNXODK6zg9nOM7F46UpNx3uOeOmEbDDIc+bajTlDJ2RzkU7IBoPuhRQMpidkWUcwF7/GeG7QCsdHBGMab8ZBs58nvWhMO4/lY+ey9DtHJP3P4fjkSL7zi9iBkduzQr499x5877stI6Re+U3PQ52LJmQBYgwXXPAv//Fb+TR/MSlWpprcuHlbXWjXJG0yz+x1tZLholvVCBNEIhZVxqFWq9VErpv8Sb1wSV1Lsfhh1Zwxe4EMGzlBvi1ZWaPSet8HLDPikTGnl00aDZu1k/xfldS07XhGrIDJu/cZ8bZUuvUepJa6H//3i1Lw2/Ly6lufSa9+Q3W/yPtBeBcvU12Xd+3ZL916DtJlLKkg8jrIE657+849snlrshQqVkHFLi7Tx0+e1jR+8fybRuyvUrH4VeGy6hrNdrYVKlpeevQebETeEvni65Jy+OhxPY/3uuIh1xJNyOL+eunyVfkk37ea9tdFysnPzTUVN+W0eesOGTN+qvQfNNIItztqNe7crZ9arHGt3bFrj+Z1o+Z0SmzR4xHpu/celC+/KSO9+w/Ta8eafPzEad3uPTdo1qqTCvqZsxfKa+98IZWrNZCpM+dpYKVBw8ZqGhcvX1Hr6OmUM/KyEaW4HWPVxgUceNMkf+l8+ezLYroNIK4Blu7DRx8PVAUQqVjnD5p7LFy8olqpseLjHs7ziBjGYsv94PpM5woiHMstYrm6Ked5CxM0ENisuYs1Te854qUTssEg9ci1G3OGTsjmIp2QDQbdCylnSR4zr6M3r/3WRTIei2xWrLHUU6YB8duWESImb9y6pWlBrulxwXhTbhpxwHZ+Y66PSB+SJg18r0BFBGXmnOz7cD0RnkP3EHlOx+wn+c8vDfVDR46qy6wtm8h9M0rGt+7bf0C2bN2mafrtEy95RvzqG/UwmpBlPCSuoYxxJNgSllmi0zYywvLylWsqZLH4IVQYf3ndnIdAT0nrN0vNus3V4oVL64jRE1UoMPYQcE6ARQ6xak7zyPuAZStkEWgI2VlzF8llk8eMe2Ts64xZ82XA4FGazmAjlnBf3rItWV1Msfrh1goi7+fY8VPSuEUH6TtguLoif/Zlcek7cGSa8I18L4HU85fkb/7hZ/KbF9+TLwuV1nQQqrjygm69BukY1Zff/FRefzefruNez549r8sWjL/EhRl4zxEPua5oQpb37i3z7sByjUvw5cvXVPS36dhD/0bIjh43VYU494tb7vkLl+Rs6gWNMkw5UYY9+gzRvGOMM8+MF4w7Pnj4mC57zw0QslhCJ0yeKe0695ILFy6qRZjOCsqkRZuu5hm7ru7ljBNGWBLECdde8hF40wzd3z212nJdWFWxLiNCSeuieW4ip2FC/ILX3skn//7TF7QcEK8IWcQtmGiub9DQseoS/zf/+F/avmvWqossSlih23nmAMfY4FLec8TL3BCy5Fl631/HR0lePcl2Y6w02RbPOePdL6/TCdlM0ML+zYfSgr95MCJh9/XSCdmHtFnorVQ2X73uWHzkLew6P9oPD4isqMCm6S0r73m8ZB8nZHOO5PP1G49GRQ013mNHSk1PyNKgimyAx0NEA0Ji6fJE07g8pM9qVhr+CEJ+j588pVYXKxStcLxqeNdc/7nzF3TM1emUs/qOYD9+T+t4q9O6nf2uRghLlq9cuxZaDgseRAvWJ87JsZzPTjtkSVqMuWM7gsmek2Nx42M9LoJ+53TMftLxwHO3acuWkJvpqtUyc9Zs2bNvv26zZZsZUrZ7jYh98cWX5J/+6Z9l6bLlcs80VP32jZfUr8g6Rz2MJmQh2H/gsNSs31wF4NbtO40ga6Dv/rpGCCZt2KLuo//169fVtRPrLFY2a8VFiPYdMExFb+HiITdiRAh1lPGqrCMt7/uAZbYzVQyuwJwbi+uOnXvkVy+8o8eBN977Ut2LASINK+TefYdk8tTZ6iYKvPcCwbETp6Rnn8E6FhJ3ZIQ214AQ8O7LdYDaDVpqICdEKAKV9QRysqKU9yEur7goM66XtLh2a8G03zqCERHVGHjPEw85ZzQhC0NW2StqYcRle92GLdqJwHheRDZjVBGTWDk/+PQbLSc6Al58/ROdfgYwnhaXbIIhYUEH9tq5nwNRhGz9Jm1kuRGlo8dNUeFJVGnG3+LiDGrXbymf5C+m1w0ZQ03HBNbhUhVCrtreNCFu4NwvUarbde6tUaBxCafzA4t35P5YfxHsP/zJ72Xjpm3ascJY4TYduus4agvENmIdV2merQZN26mwBvZem7bsqPuByPPEw3iErEWkIM8sed+Evsn+2x3//+29B3hVR5bvy3333vfmmzf9zb3fm3n33um582amJ3ZPT3dPu912t9vZbuecTTY554wT2NhgwJhoMGCTc845gxAZgQABSoCIQgJEMLbrrd/ap87ZOtonCMmSjqnF90d1dtVeVXtV/O8Kuywoi4nGjX6Jdy0I5H8s7kCfHa98WKiOJMLVdDgiW04gHHiwfuNWLZx0iHSm8+YvCe/nYZkVHTB7SmhQWRYV1IlTgByRpZMwOtDZvHWHLinDrnQmNJze0jKPmNCBM3ibN3+p2bhlu9r6xtcBna50GHxSYcHileH9V7YhQTh0gTf+XEOWr1qnB37Q0QSRWcI5Ils14EXFgcPHzewFq832XRk6gODa4aO5Zs6iNWbL9r16LejeRET2VsknZI6OvH37DuYXv/iFmT1nnpLRm5KuoPCxAPGDPF64cMEMGzHS1KlT19StV898NWGilMci842Ub9qCq9ev6+xb5y5dTb169U3Tps3Mlq3bpGx+Y9K2bzfNmjU39Rs0MJ07dzFZx45reCWjxCODSaRX77dN+o6dQk4YsF0zZ86eNQMGfGLq1q1n6tVvYGbNnqMzXAyt6PRAxsFM07ZtO1Nf/Fu2am327N2rca5Zu840atxY09KzV28lw5Z4Bz2nw60Dm9qZ8yLJyw2bNpkZs2YpocVv1+49+vvI0WMaLkhHMqBc7N67z/zt3/6t+a//9b+aOXPnSfmr2BJjykR0naMexiOyAGH2ceXqDepmmen8BUt07+vO3fv1WnZOvvnj06/picIctANZZJBOn4BAGlj6adsG+g8O9IF4Ec7fHuDGnz2R2HSgEJh//eUf9DAhSCyEHD2QW5aLsg+XfZMZBw7pXlmI28Qps2K2Q1ZY+stsLhLUHnENm7CsleWsPAvPzHWehdld4oBEIvRN7IXlL2lnfzHPQXjC4cdscqx0xQM64hFZgNBv2hlIZpw/GfiZGTZqnJk+yyNzkExO/WUJNmSOWVLSg04r7Gc9c+5COF/w53nol6PTzm8IMeWA5cX/+x9+rSSQ059p77AFuh5/5g2d+Sb8ESlLHMrFIVCDPxtdRqeFtSsv5nhJgFCcgsKig33KjOcQDgc7cfK0+XLidD1kysZhhQOgmLEdOXqCjlWsP385/GmFlPVY6UqE8LhR/kb7fS3jIWTD5jQzb8FSHUMFEfPygP5374EjZtb8VWb3/sO3nO7bDZTteONGhDZi3vyFWvatcFI31+JtEyAPdu07ZLLzTpYqs9QH+oUvpyxQ/1j32/RMnbNMymflfe+6uuCIbDkgZUffGPMGdeRob9kRy2g4ta9D++56RD8Elwbs9w88o3t5eFM8Y/ZCbTSj9Tki63Um585f0L1R/+XPfqz7ThD2P71Su6mp9V/+Uis2UiiDlYFDRpkOHXtqJ7pk+WrNE78+KiinSY4cM8F06dlH7e9/Y8pJhb+88+Hwm+uJU2brG1/Cjhk/WQcs0Y1OogbJITmQ1wAb2hcG/pMb1Y+/kqc5eQVm3eYdmkee33fm5OlzZs1GGRSErkUjEZGFkAYNwBOB+yAWnbt0MbVq1dKBf1Mhk4eOZCkRTJYgsySXtM+eM1cJIZ91AO3atTfbhXRu3rLVpKV7z9y1azezeMlS9T+ekytEsommAULJHi2uL1+5ynSRcAgDcogpbcqOXbtM77ffMXl5+UpQkS/GjjP9hchyH+0NZDgr65hZuWq12ZdxQMNAXiHMhIHkNG/RUjvFhm81MqeFCHN96rTp5t333tfw5SGy2PCHjPLYIh6YebWz5ps2bzUTJ082s+fN09l3rhMmbXu6WbRkib5ArUi8lI207Tu0DPAMQWHKA3RE1znqYSIiC4HjZeVd9z4hZHa9mTR1tnngoaeUhCCEQag7V69FvvHq10E86El0zQ/8SBN6ISZ8EuVA5mEp5xFSQhjqFO0Vgk5e7iQz08U9yZAIK7htevkb3Yb5nyfIP+hasuC+REQWIC+/2cQMGjrabNqSZmrXaaiHVSH4kwaEfMJGSLQOL51B12KUD/HE5si0GfNM05ad9ZM6CP6hKMMrAhCbP+i1emKBeJMJR14inttLL/HYvqx0WC9ckH+se5JFPCJLEtnXzeqFzjJGYpaZvbr0s9FhAX0uaQG4uaa/Q89mr1H6eZm8Kc3bQ+6F8/px7FCR5/mhArvEGjdiV16cMWPfvXsvfYGVk5tv9u0/KDziXeETnUyPdz4SonsoMO8QXuofzc5Xt5cPXt5RLram7xOSeyqcf9Hw8uwbs2PPQcnXHA3HNco4eW/zNejemghHZJMEGQz5qSONNmSVjhfhyHyuIRzY0K7T2+a8EC6+o3ZGSK6dIQnSGW6QAvxuFyAcsMGyKA5B4BAIhL1RdRu2lust9c04wturl95orG7e0Ndv4u2J8uuj8WV50MtvNFG//JOnzWu1vSVn7KfhbfCzL9VX/QidMsslqbiv1m6i+RXdKMdrkBySAw3l7n2HzIFDx8zytVtNwZnzOkDZtS9T6kux1i8aVVuv8k+eMRu2Rt4Ukq+nz15QcstwIlo/SEhkb3HQzwAdEtm1WzclshZ///c/MWO++ELSfzHwPj+YPYB0kHZmv9599z19NqRTp85mW9p23a8IkO7deyhRRXhbC3EmDfzl0yAIM6WEQ5TIClFGBn06xAwb4R0yQ9zI2HHjzaDBn6pbTGlatmxlDktce4WwHs/2lvS1adtOCTWy/8BB06p1GyWyjZs01WdEmMl9v09fdRNnouXFhGFJM6SfvZg7d+/5YUGeiVlSSGZFSCWgnGH32VI+Zs+da6ZMm2YmC+bOXyBl/5yQvNW6rJhPtsyTa8dycm55VtamlTiGDRuu+itKZqlf0XWOepiIyBKGJYt8Oob2uUmT5jr7xcCOwZYNZwfO8fT4f0dLtL/9zV+E2UxmhkvHWXpAh9uC39ES3Tb5742FaP38Jd5o8fv776FttJJMfEHgvmSILLanHx02crxp2Lit6dbrQ7N3f2ap5+Z+zaeoftTv7/8dLTyO398fHqGcstQ7umz4w+G24LffRlZsWBve/zsI0fo9d2Sm2QqEwvrz138ImpXoclIexCOySD3Jl117MtTNmOpwVra6/eEs6Vm/ZafO3O3JOGLWbkzXPvmcjF/Xbko385euMycKeIHp2Q7StEUIEsJzsXpu284Ms2bDdnPi1NlS+eHg5X2scSO2Ygyavmuv8ISzusefFSmswsgWIOylHhGaMPPfCxBWrKXvPiB5tcNkHcvTupmde8osXLZBxlqHNUz0fYD8ZFJg8YpNZtuO/VoWucZYeff+Q0qCd+zJ1LBBB/jVRDgimySQdGk8f/Xbh02j5h10VpbvidHZdu3Z14weO1FP6eNABCo4e214U9myXXclYkFvZh2R9UBFR9hTxDJshOXZSKfu75nN27xZKgZwnH44Ztwk/TQDpxQi6KBh8N4gfieNR5Hum7HH8vOmHeG7fryx5N6sY96yDQ4NYUlWX4H9SHl0BxyvQXJIDtidBnbDll06sF21frtc/9qskk4QUktjumzNFlNY5L34yTtxugyRJVxFiOytEo1YRNaibbt2km4pH3FmZv1Eln2O0USWJaTIdbEJ0qNHT7Nshfe5C0hSs+YtNA38tcRz9Zq1Gg5BN3WGZcsf9R9glsu92IPryLjxX4aJ7M1vvzWtWrU2+zO8wc61G94sV9t27cMzwszStm7TVolSk6bNdKYQmTlrtunT9wN1ozsRkeV+9ttCutmHSZp/aGBGc7vY7VbLlwXljJnwSVOmKKbOmK5Ec96CBTojy4uNtevX6/LO5StXCoHYf8tElmXxW9O2mx/96EdahidMnKSzLkFhkwXPH13nqIeJiKwFwjJ4yjezzUhQuGRAG75i1XozfMRofTnKS1CIdrz220qQXxCII0MGo8NHjNHv0bJnkj3vFR3Qo5e08g1dVgmhE7IYpJewfLaGJcysLpJs1UFpdLhEwC7JEFmA0I6xvJc+GQkKlwxI/+69GWLDz3UJLgc+8VmbeDbkGcsTJ3HwooYTjlkCzaqvg1ImKppPAN2LlqzSMnD4yHFpNw9pOxxtQ8IxYzxt5jw94ZmX7eV5Bj8SEVlm+ViazrJ6VgkelXKJ+MPZGfFVG9LMNiEuW9P3S5+cptcOZeXoGHb/wSwze+EajQfJOh4hssimbbvNaum/dwiZYtvPReq4PKc/ntsZlIF440Zk3IRppm7dBnp4WU6eN7uKMKHSuXsfnTQLqs9I2s79Oqbi5f+GLTvNyYKzmq9MAixbvTlmXhCGsnj2/EWzZOWm8Fj7qOTv5FlLzTkpm7zcyMi8tYPjqgOOyCYJZO2GraZtp17qXrJstR6njnDiIqcU1mnQUg+s4IQ/u99nn3RAtRu2VHe0TkdkPdi3pRBTDmhAQn2VvjDYHSK3CPuC6AjeatpeXxIgVg/frGOARidRv1Fbs//AYSEIafp5Az4u/48/vUtfNvzm94+Zl157S5cm8/kG9jNzaAWnWLoZ2e8H5DGd3sXiK+pesXablv/VG9Ol4SzSfMTfEtlTBedKLWOiPNDAbtjqzRjajtiPRES2smdkwfMvvGDWb9io+xnjzWglIrIbN21Wu5BGJD6R9QYmkKgePb02CN3cv3VbmoZBNN6QvlJEVso3RDZDyKq1C9K2beUTWWzCigdmetet36C2+iHBPhMzpdgjyAbJwhLZyVOnKiCxpYnsSs0f9ssuWbZMCFrmLRNZylL+yVOmQcO3zGOPPW5279mrS42DwiYLylF0naMexiOylSGxdEJkhw4doS8q2etKGy5VJByOtFVUmMEdOnSkkqQ77n7ULF2+Rq8Hpac8QjrHT5xuRo+bpKuS7DdY/XrtUlf6PQ4t4nRjDpZCaAv8YRMBW8QjspUh0Xqt7D9wSPOJ/ce/uusR3/kXlRc//Trbwfgk06NPvabfoUX8cXjWLL/wfdthQ0eZXu98pKcZQwz8y0H95Yz91Z9xUvLgkZomxJ+GZJCIyDZr003P/Mg8nKXfSj5ytOwhWrb/3Lh1lxDRgyZdsFGIKWk9cOi42Sx9LzNzECWr93juKZ2BtUJ/vXHrbnMQAn8gS1/kBpWd2xXYIta4ESJpVzkhPd7uFz7JeuqMefqdaMakSNABWwizqcdDs7dMEOSdPK1uXkKwBQuJlR+0D998w5gsTdtl5FBWrpYDhBn6PRmxZ3VrGhyRTRK6uXpvhp5Wt2rVWt2ryfIahAE2jS+HRpwqOGvOnj2vH8BetXq9zh5+0H+IhovW6YhshHzwIfuHHn9J7YWbgzq2bEs3jz3zuvlsxFizeu1GtTNvn/g4Ons/2AxPhaQ/50P2fN+OBoIDDjhAgwMP5i5Ypqcr8rKB5Uhp6bvMH59+XeKZrB8x53MPNPqcishnIEquXnVE9nsA+bRs9RYlrdhwycrNmlfbdx3Qw514i8hSJvKX8kDnunD5BlNw+pzez9vePfsPaxiWxbAHKzovEhLZOEQzHiyR7da9e5jA/vO//IsZPeYLJbAMgILu88MSWWTajJnm7XfeVTfCHllmLBHSiXANgoQQBwc0MVCoW6++vqhB2M9KOATd3Lto8RLzwYf9dJCrRDMU54iRo8ynQ7wDTZAmTZqaPXu8t+u0Q0jjxk1MxkGvI8vOzTNvNWqsz16nbj09HAhZsHCR6e6bBU5EZC0gX2eFjEGIf0iAYPKXPAp67vIAe/LSwi5bXrh4se6RtUuLd+/dqy8FOOiJ5enMdN9qmSa9vPSDzB4+kqXuij4DafHXN0A9DCKyXAe0yZuk7+RQPg702bJth56IywznKrnGQTr8pc2njSYc4B72SW5L3616GZjbOs8KHg4G4lDGvRmZerrt7+57SuuNPKaG4Z4rkt610tfwjVbi4LDBjZu9tGjcobg47Gmb9Bu4NR2SNk3H6g26NJDThTdKX3P/I8/r7Bxin5N4eK6lK9bqc63fuC2sZ7XoIU7SqnFKHwdw831dSPJ+SX9PGeRCZqP1MnO5dPlatUXW0Wzp23brN1q79Ogj9r5Uyt6JgO1iEVl+s63K5hPxpO3Yo3bmszhe2r18Iv94ecw1fQ7JI8KRd5QPmyb+8s1fnpcZWQbtzD79/v6nVWf0s7L9aPnKdRoH/rx81nh94HeQXckn0s5L8p1S3uo2bKWf2YmOI+tYtr6IYCy3aWu63svnhdBDvvEc4ThDzwuwDS/NOQAMIosdLZFFLy8avLzdpOd9QNxZNsqngjgN3tokWSQisu/3G6wnLG+R5+Blf/6JAh2/+sNZIgvh2Za+X2dkWVrM2GfeknVm/ead2jdPm7Nc2rhC3R7CbOySVZvNabYFiT5vf2WutH+FehgU467osnM7A1sEjRuZYWW7EN+MZhy6atUa06nbe1qv+FYyh90NHzlOyyxn8ASVD2TTtj26vxXhpUK+tAe0abyIYIY898RpJbXReYI+xlnMwM5ZtFqXjHNIGzPxm9O8bXw792bqti/Ef29NhSOy5QCVlwa0RYv2+vaQASx7/9J27NYGg89kICxZoRNt0bKz+WjAUP0dNM3viCwE51vtkKnIHFDAX5bDMMBhaYxeF7DsmCUydNgtpLP2f7Qc4VCniVNnqdtb71+gLx0gsXQkfuHURQ7kQljCxnJlZmpPcQqkpCc6jbEaJIfkQfnPlIaSBhQbHjySrUQWPzpMlgyn7crQunLkeJ5Zt0kGldt2my3b92mY7NyTuhdkozTevC2m04yuUzTQ8Yjsrc5eWSLLib4c9NRICB4zcNT/EiHUQfcEgcOeSMf+/RlKZPv1+8h89NHHuuf0eHa2zsqm7/SWU89fsFAPbPr4449Nn759zejRY9Q2Y74Ya/pI+P79+6sO9kryrHyXlkM9IJ18ngfSa4kscW7fnm56935b4vPi7CcoOH3arFi1WvdlIhzk9M6770mc/fVAp4mTJonum2bosOGm7wcfalo4DZlly1xHd9BzBoGw2PGHivLYIh6snci/E6cKzPyFC82MWTP17T0zplwjz3mJQbggHcmA8gxpfuONN8399z+g5Y5l7UFhkwX1y1/fAGUzFpFF2ObBNpze731s/vS//62558Fn9HupfILn7ff763XAlh6+z9m1Zx8lan986jVz/6MvmqEjx2ofgj7qB3/5LugfRA/fNCUsBy/SP3OQn20zuIe2nz6G/WnE8fATr5jHnn7ddJf+gO1C9DvMstEfcUAgfcx/3P2IfmsWveARuee5Vxoo0eRbpCy3Rbd9RtycUtumQ09z971P6ueAuO/Xdz+q/dgDj75gXnztLY2TdPR4p5+mhRmZ/7jrEe0T//2OB6Rvm60vbK390Ltzz37V+3q95jrjzPd30XW3kPZcPdW5bF8WC6Q1FpGFBE2dMd/85F/u1LT9/b/+1vzTv/1OiPsLejoxn5OxeQWZf+bFeuF84qwQPm2DHy+zbJr4yzLbp1+oa+6+/ykNy9kV5CunAdtw1oacjEyeoAdb33nPY/qb8kM+8UIaP1ZbQeatXW0+8XkfygFbiX5xx4NKTP1LNolj2cq1prWUkyeee9M8/Pgreh+fCuIF+au1m2r+EiezZzwz+cX4gnzik0TYHX9e2tqyjl7IiG6FknTxaSD0tmjb3fzTz+5WsmKfNVnEI7KUb/Y1cgpzC6lDvGQJWppqiSx9bU7eKT0YKEvc3J9x6JiSJGb82EML0Tl8LFf66J06A5u2M0PjJm+YwVsjBJjzK8r7HD90YJ9Y40bsx8pNlha3aNHGLF+1Xus3L2zaSBmlXDHm5aVHkF25djznZNjuR47lSRtconuVGSeRf2zNKiy6pLyFMBb89s4b2aljKf5yrg8TRcdlnEWYvJNndHIBd3TcNRGOyJYTfrGF04q0F3HDRcMRWQ+8vUxGqIAA4X/upZFO37nH9P1oiO4VYjDD9VAwlejK6F3zGnf+WvHnnx/xGiSH5IGlrf1s/vHbL1wjT/3CNX8+IUH5kIjIQpyDBuCJAGHgjTSzml9NhNzJYEHKbFDYZMBnTg5kHjJjx3+pS345lZgBBGSC6yxN42khjOO+/EpncCE2fGYHAjJj5iwz/ssJZtnyFbqvUcmPgBk1TrSF0FpyZQkW+jiYiPjGfzXBnBKye0MGM1u2pXmf8BH9zMox4zpe4mTGj89SWJtNnjJV07Jm3XrM774j+z2DfCPPOb2YJcXMxO7Zu09PvGY5M3uyK0JkyettUlb+/M//XFcYTJo8pcJ7ZO2LKT+oh7GWFiMHM48oCWCZJbNUkANICW02M6mcW8D5BU8+X7vUC0k+wTL2q2nq9uu0eocMH6tL9JC3+wwwa9ZvUXd0OGbSGDD2k4E/J+cvW+mtjPBLTt5JU6ehd6BjizZdDZ97scLy3wWLV5jt6V4fhPjjoI+38m6fgbrXFWH1T1HRZV0ObLchfTVpphkov5ndrVOnUfg0YM520OWqkmd+3bZFPHDoiH4hAVm9bpMZMHiEuv1hE4F8ikVkyQuuNWvdVUkZNmrcvKOeP7Fj1379ti5bdLDh48++qbOYVrKO5ihxQ4LyHyLHuSLIzNmLzKfDIidVW9Af0NbwdYEPJE4Ogew3YKiGs4It+FoBS7B5yYld/XnJHul3+w7UdrZZq656Lfo5rcyRcvfFl94S7ZFjvtIl6qzuGjDIsyuzzrxg4GU7W5/uffg5vd5LnsN+LsqvlzitNG/tnetB3WXVGOIPmwzC40b5G+TPGMgvQWEs6FbtuAo312y5soL97bjLir3fSqxTkW9nUL7ijRv95QLhWrRg9ej7LMgTdHhurzxHj6W5H1LK+SOcR8KWrrPnvG84+4W6iS50oo+2Jrq9qclwRLYa4YhsxUHl5fCTW91vkgwSNUgONQOJiCz1zRK78gKSCJmFwN7qzC6w5A+SaOXajZvha3afIun0d0k2TgZAVvD3yGpEP+nTayEdFtbPCoTYXrNuwvmHK5YoEbcVPo3khY3E6fD9gTzg00fMyPLSgZcRXK9IGQS2XEBgP/10iC6RrggxRlfQwJp6mGiPLLMQkFkIGAS1dfue+mIGglmnfiv9xuihI0f15SQHJ86avVBnyPhWKBKkEz/72bV3+n6i33RHosOxHPTeh54z70mYJaH9rWxHYesKxPl//M2/md/d/5R59uX6OjPZuEVHXe3DZ/hIB7N17G1jiTKzKIg/DkgFy/3WCMF84tnaSuomT5uthI8lmhzKw7dWZ81dpCR20bJVOlu3R/Q3bNJOB6b1G7fVFxnRA0vsyec5OCjm4cdfVts1F7JpSZ4/bCKQT7GILEDOnL2gK5eGDBtjxk+YZnq997Eul540dY55SOLHhizDRo7n5JuZcxaanm9/JKS3k14L0glB7P1+f3XPmrtEP4OERIfjhNff/uEJjeOL8ZP12tFj2WEyyIz0L37zoOYVs0vYdfGy1bpKjnR06d5HXx4wC9+wibcdI/o5sef2HbuVsPPVgynT55hX3mxslq5Yo0vDIcesCmN2/6CQd/L+6PEcne1lpREz9iyrRkrplTKQd6JAyxqz8uQTK/U4kyM6bDJIRGQdagYoX9U9biRe+grqxAUp+3whImhbVqrDEdlqhCOylQPeJH2fb49qQoPkkBiJiCzXOBU1aCCeDBjoW1JYGfDIZixESGhsSLgonfGg8YEycVkExRGNYN0O3x8od3b/KoMS8iE6zK0APbzIYHa2IiQWUK+CPtVAnYu1tJiZvkFDPtfD+CAZlnjWa9RGSSTEgG+GDhoySpcLs+KGmdV//OndeiI9JMLOSFiwNYTl17+7/2k9C4Flp5AcyCLiD4sQ5xNCKj8WYsEMI6fmM8PKdhOEpcBcZ3kxcUFkT50+Z1as3qCHB0KYTglZ4pyFICKLMIv5n//0x+a5l+orCWTm+f5HX9DtLdzPMle+ncshhpBevi95Wp61UbMOGmcsIoswO/l//eh/mxGjvzL9Bw03Lwu54rv2VngxJbepxJs189rG2DOybMdpIQSPGcj+oZnJHkJSmX2dIUT+2ZfqmY/luZiVZs/r4axjuhy8cbOOSnaj84nflJcGQirtsm3IOGeLIP6wCEtkIcvYjmWzy4RYsvfzjfrewXbYkVlhlmbn5p3S35DPY1JG/v2OB03zVl0Mnw3iniAiixthmfBPJF9HfD7e9Bc7PvrUq2b5qnVhIsu+5eahryVwDWnYtL2W71hEFvniyymmVq0/UfuQT63b99ByboU8svnEH//90XBENjVAmaoJ40bipu5T57TehZaV/5DgiGw1whHZ1EBNaZAc4iMRkQXUucoiApWFIDIaJp0WfsIpv6PDlxdBOkrFByo5ToeKoaaVWwvSFWtQTT2Mt0d2mpCgxi06KSFhv+S58xd0Lyzhuwgx4FAUBmEs3zxw0PvGMmS2Xafeep3Bvz8+hNm7v/2nO8yQ4V/oAULs04SMINFhIRgsD0b4rN4wIZMlQiYhVNNnLzCjxkzQ8zCY+WMQCJHlEzHIMtHZoat3aBszviyLRvxx8JwQtuFCjOzSY6SlkK7cvJNKuBYsXqnbAZi5XLXGW2YMYUpEZPkNwavfmNP2vWXXpINTmjncENJWICSaw8hYWotNY7WLXI9FZHk5wGFMdRq0Urv//I4HdC9w7/f6K5HFfizHRTjA6MuJM9TNbCin5nIGBlJa53e6XJpZ1pZtu5sNkk/sL4XkRYdFWMKMPzJ63GT9KgHpYnaTfdIcsjVwyOemo+QHn9fBrnPme2nKyTuh6WA2lnMwGoi9kOjnZMadA5mY1bby6bAxomepklZeaHAoDrp5uYKQB+RPPCJLPIUXi1Tv1jTvDARsw+8zZ89peeIlDS82OAyKAw5j5RNwRDY1QB66cWPVwBHZaoQjsqkB1yClBpIhsoC9fDWVFDg4pBKoR0F7Yy2oh4mWFiOQUvbBMoPKZ9jYKtKsVRfTf+BwXU7MrC1L4yAvLLOGdLKkls+xBc000rdaYT/j3AVL1e0Pg7Av9ZkX65qTBWd0ySjLnBFmIZl5HPvlVN1zyaFGkMo3G7QwR45maxhmTZmNGzZynJC36XqgD+KPA2ADZMr0eWbApyNVd9232iiRZVkthBlhX+Zf/vXPdBkyy5ffqNdc43zlzSZKRoNWHSGcxtux27v6l5lT7MKhR/UkDvbOfjbiC1Or1n8zK1Z5JDlaByCNsYgsQEIThprml15rZLrK87KflxNymbnmpQN7iNl3TD4hfI6QpeJ79x+MmU9WL9/BtXt9/WEQiDikl5OF33l/gO5/hngiLO3moCeEWU5r1xmzF+o1QrG/lmXdq9ZsErt4nzKK9ZzMiJOX5y8UCnkdrDb1v6jYtn2n+R9/8zNdTYC8WruJbm9iKXzQXmyr9+q1a6b3ux/rcmqWKPNSgGXMP/vVfeZjIfCDP/vc/MWPf6ovCJBoHRaOyKYGKF9u3Fg1cES2GuGIbGrANUipgWSJLOAgnaCBuYODQ/KgHgXVLwvqYTwiiz+Ak3CAFaf9s/8UPwjs3/3Lb8znX0zUgT2kjusQIoRPrDDDZq+HdRJGSB962Z/Id8ghhvYgQAt+FwiBZUkrs41WuJ97+bweJJ1968ykcY09lPosci9xIHzyhSXJkK3oOCJxeWnm03L0+zvk2VjlwD25+Sf1PmT+ouV6ABLx8jkO4kS/Lt0Wd5BuBD3M7J2S52FGms/CcD+nnrLMlyXUkPVY6UN3PCILeAaemcfetSfD7BFyykwicbI3FVJmxd6DMGvs2aYskUUf10nXMSF3QTbkNySQfdR33vO4zmYi+FFumAFmBhvhs0DRdiUcwmdy0nft06XPsewAEGx37nyhzpAyw8vnALEl91n/WfMW628+AcXsMnqZAY+lm9LCyw/Nz5JrWmY4MIpDqUjbIbET+b8vw4snSAdwRDY1QD1y48aqgSOy1QhHZFMDrkFKDZSHyAIGH0GDcwcHh8Sg/gTVKz+oh/GIrB8eLfSE+xCI0qgxE/UwJZaj+sMjQbOU0UDQHcvv2vXrejDQ+AnThaRFPp3CDBzEA+KG2PDRhMwv/utBsGEQS4r8abNin99eS9SeIegJTVIGCs8RdC9AfyIia2FJOWJPs2VvL0twJ02bo9f84a34rwXBSpCffXnBiw6+10+ekU5mZT8ZPMps2bYznJYguwK/+K8HAbHPiR5Pc+Q+K9Zt8yuejYHVY8PHkqB7LRyRTQ2Qx27cWDVwRLYa4YhsasA1SKmB8hJZ4JYZOziUD5woHG85sR/Uw2SJbBCsfJ/triWqQQT1dmnvec5kiWwQLEGLtmFlwhLLW32h8UOBI7KpAeqRGzdWDRyRrUY4IpsacA1SauBWiCygHjK7pKcS+wbsnBTr4HA7w9YF6gX1g3pSngE09bAiRLYqEd1m3E5tPc9aESJrURU2u53zCTgimxqgXLpxY9XAEdlqhCOyqQHXIKUGbpXI+mFJLXvS+NSJg8PtDOpBecmrH9TDVCGytzPIp8ogsg7fPxyRTQ1Qj9y4sWrgiGw1whHZ1IBrkFIDlUFkLeyBLw4OtzWi6kV5gQ5HZGs+yCdHZFMDjsimBqhHbtxYNXBEthrhiGxqwDVIqYHKJLIODg4VB/XQEdmaD/LJEdnUgCOyqQHqkRs3Vg0cka1GOCKbGnANUmrAEVkHh5oF6qEjsjUf5JMjsqkBR2RTA9QjN26sGjgiW41wRDY14Bqk1IAjsg4ONQvUQ0dkaz7IJ0dkUwOOyKYGqEdu3Fg1qIWBHaoHZAAN0o0AP4eaA479p0G6eu2GuoPCOFQ/+NZg8aXL5tKVqy6fHBxqAKiHly5f1XpJ/QwK41D9IJ/o3+jnXNtZsxEeN8rfIH+HmgHqkRs3Vg1qXbhYbByqCVLIT5+5EOznUINwyZw+e8Gck84Dd3AYh+pGoeTNmXOF5uz5i/Lb5ZODQ/Xjkjl77qLWS+pncBiH6scl7d/o51zbWcNhx43yN9DfoYbAjRurCrX0dE6HasGNr1kiUmxu3Pg60N+h5kDfrLFEJMDPoeagqJhvXpYE+jk4OFQ9vKXFVwL9HGoO6N/o54L8HGoOwuNG+Rvk71BzQH3SpcUBfg6Vh1rGSbUKb6md1Hy5WOTt8XJSs+VKyVVz9dq10C8nTpxUt+g3maVeOqnZQv9GP+ek5osbN6aGUJ9Y+urk+xVHZKtRvvvuO22Q+OukZos2SF/fDP1yUlPl8pWrOnB24sRJzZArJde0Xjqp2UL/5ohszRc3bkwdoT6xl9nJ9yuOyFajuAYpdcQR2dQQR2SdOKlZ4ohsaogjsqkhbtyYOuKIbNWII7LVKK5BSh1xRDY1xBFZJ05qljgimxriiGxqiBs3po44Ils14ohsNYprkFJHHJFNDakMIkt9/PZb8K2Dw22O7yrcPzkimxriiGxqiBs3po44Ils14ohsNYprkFJHHJFNDblVIksd/PrmTXPt+nU9mObSlRJTfPmKg8NtDeoB9YF6Qf24lb7KEdnUEEdkU0PcuDF1xBHZqhFHZKtRXIOUOuKIbGrIrRDZr7/+WgfrDNyLLl0uM5h3cLjdYesF9YT6Uh5xRDYip8+cNY2adTBNWnYy2Tl5oavG3LhxwwwbOc506dEndKWs3Lx5U/3frNfcbNu+U69NmjLLvPlmXfPlhGly/1hz5uw5vX4r4ohsaen93sdi2yZm7fotoSvGfPPNN2bFqnWm7lutzYXCwtDVsjJ81Di5t56ZMn2u/ia/3nyzoflk8AgzZtwkk5a+S6/firhxY+qII7JVI47IVqO4Bil1xBHZ1JDyEFnq3dVr10sN1B0cHGLD1hNmaJPttxyRLS0Xi4pN/omTZuCQUSY374Remz1vsRn46UhTkuAzRVeulJjCwotm+OfjzfYdu3X5d+GFC2b5yrXmZ7+6T2xdEgpZfnFEtrSQF4UXCpV4bti0Va8dz8417Tu/bYqKi/V3LOGlA/kyc85CM3P2AvOd/OP3ocNHzS9/86BZtyFCjssrbtyYOuKIbNWII7LVKK5BSh1xRDY1JFki+63UOWaXiqIG6g4ODolBvbly9arWo0QSj8gOHTFWiUHXnn0VPd7+0HTv/YGiR+8Pw9e79eor1z40Hbu+pyTQL2vXbzZt2vdQf+4voyd0rec7/cx7HwwM/+3U7T3z1aTpIS2eMDPat99giedd806fAeb9DweZt9/v7+kU/eiLpMlz937vI1N8qfR3PenT+w8abrr07KM60AXe6/uJ6gOv121m7rzncb3+4mtvmWderGs6dXnHLFyyIqQlIjt27lE72XtbyfP+/Nf367O8/f4AvXbXvU+YZq27hNMHerzdz7SVsMuE6CaSeER23sKlamOr19qVfLH29cfZpn1Ps3lreuhuT44dzzHtu7wduqdfgJ7ItfdD+fSu2IbrH/b/rEz/O+6rqaZNx146c4qNCUuedBf402TT2K5TbyGSWaG7IzJl2hz1I853Q/lD+bC27iB58q+//IPp/e7HpmXbbuYPDz6jOkd8/mVIQ0SYcScNvd79SPOFNPGCgedGF2l99MlXzUuvNwqnD5A+8nf02IkhTbHFjRtTRxyRrRpxRLYaxTVIqSOOyKaGJENkqW4l1665WVgHhwqA+kM9StR7xSOyu3bvNzt37zN79x8we/cdMG81bW8GDByuA37ca9ZtUqI6beY8c98jz5tVazYKaSxNtnJz882KleuUfDZo0k7DN2jaTonDACGTr9dtbtZv2GKWLFtlPv5kmJK6jwYMVSJIWL+wdHTTlu1m67YdZrIQnE8+HWnueehZM3XGXF0SDMlaK2liaehXk2eax555w6zfuNVcFwLsF/r0Hbv2mjnzl5gPPvrUvPJmE/PAoy/o8l/unTV3kXn0qVdN2vZdZoLoGTx0tLnj7kfN4CGjTNbR4yEtESkoOGPul/u/GDdZbfLgYy+ZpctXa/p37dlv9mUcNC+90dhMmjpLr2HTffsPmqdeqKMvC44dzw1pii3xiOyRrGOaVnSST/0HjTD1m7Q108Qujz71WjifwP2STxPlmU6cOBW625OLF4sk/zaYz4Ws8eyEJR+wzfyFy/SZ0LNx8zbTT4gr+cVy69/+4XEzSOzC7LNfSAczm4uWrJR8HmGee7m+lpvBn32uOtG1WfJyS9oOLTuLl64y5y+UXQ58MPOILhfuN+AzJZO/vPMhLSekAx2PCPFcsHi5mT13sep+6vnapnGLjman5G+0MGNev1FbfeHCvS+82lDtTzrTd+zWfGrToZcSb1uOuMaLidaC3ZKXicSNG1NHHJGtGnFEthrFNUipI47IpoYkJrLfmWvXb8ggPHhw7uDgkDyoR9SneBKPyLLfdsr0OWbCpBlm7JdTzPOvNlCytERI2jAhAFZu3PjaNG7eMfQrWBYsWq5LbpFRX0xQorctbaeSUWTsl5N1du/zLybqDNgDf3zRXJZnCJLMQ1lKPJ95qZ750V/8REnU8FHjzdwFS9U/48Ah075DZ53JiyUsIeaeDp17m5eFZD7yxCumT7/BZr/cC2Fu1qqLhmO/JSSc2cB4wuzj8RAhbdyik7l02SOdEPMREs99j7xgLhRe1GuQRGxx78PPhZcvJ5J4RBaBMH4VyqfmkvaRo7/SZc5tO5a2QVNJm01HkJw+c860Ddltx659ahPKQct2PfQaed+5x/uqnxcR9zz4jOZjkBQXX1Ky+PJrb5n/+md/bTZtSVMS36ffIPUvkjwYOHCoeVoIfTyBpHbt2ce0aNtNZ7aZUV2yfI36ka6bYpsBg0eYug1a6QxqXhybDhn2hZkxe6G6eZnCiw6Ecj1C8uSPQvxXrFqv1w4fOWpGyrUnn3vTzJ7j3ZNI3LgxdcQR2aoRR2SrUVyDlDriiGxqSCIie/PmN4ED8urAJYsrQShJAhLOpy8WwvFYlInLIiiOaATH4fD9Abvz94qU68uhQ8kqC9eEIN6ohDpxU4hZLIlHZC9dumxefK2hqduwtZkxa4F5Qgb0zFIxk8mBOSzZrd2gpRDBRqZ+ozahu8oKhAEC8tDjL5vmrbua3/z+MZ39g9CxFzU7O9c0bdlJwzLTizSTcHn5pZcpW2GZcst23ZVMvVGvuTl56rTOxkHmdglRghCPGTPWbN66XUlpkDADyLJUZOXq9WbS1NmmSIgXM3acAM0ML8KMcdNWnU0HIbPv9R2o14KEGVD2aCKNhNSzH/aL8ZPNT356lxk15itd/kv7NmHyDPN3/3KnLn2dPXeRuXbtut6TSBIRWZZc/+7+p8yceYtNwybtzKfDxph8sV+bDj3Vv3P393W5NEQNghskE6fMMg888ry5+74nNZ8ekfxidhLCyW+EmVWkZdvu+oyDQnYPkukz55vX6jQzY8ZO0hcd8xcu1xl1yDE6e/Li4vNxZuHiFUIogg8pO336nHnx9Ubqpjx26/mBup99qZ7+JV3o+uDjIeZFIc0sK27doYc5dz74sKe+/T41U2fMUzdLi5kV3p6+2/x//3SHzs5zQNeFC4U6Q/v3kk/vSNnlBQHLkpMRN25MHXFEtmrEEdlqFNcgpY44IpsakojI4nerS4qvS/6XhA6Hqgggk5dlgAYx8chJEGEsUdKi/oJS18P3eZ8JQl+ZOMLhI26rj72NlxLFaXXb66Xi9J4hOk6Hyoe1f6EMpPPyT5hzMgCujDIIrl6/YfJOnDRZR4+pOyhMMrBLjGNJosOeOKjosxFfCMmZaf7s//l7nbmCyH46dLQSM5aNQpIggbGEpaT3PPCMntrLPkjCQ14gsuxVPSvXucYMHss/EQhtftTyVysQWTsrCEEiHER25eoNengPM2vIj//ul2ZeaJY2WljyS5wzZs3X04aZRf1q0kwlmFelLjUMEWqeEaLM4U1Pv1BXZyeDhJnlz8dMkPgXmmderKcEGnK/fmPpg4N4LghdeSURkWWPK7PGkPK/+ttfmCHDv9Dlw61CM6lzFywxdRq20nCxhKXC/+1//JPcV6AHH7FUmj3CLDvmxQLCHtOjx7J1vzIz4fjzUiBIWPL9VrMOZvQXE037Tm9LXixTIsvS5BOnCpRwI8yuM+sdJJBUZlk5cIu8IQ+YeWdWFiFdx+WZGKedP3/BHDpyVFcO7Nl3QP2jZZqQWIg0L2bYC5tx8JAZJeXoowGfhUJ4Qhnq1tsjzeURN25MHXFEtmrEEdlqFNcgpY44IpsaEo/IMvALGogngiUS29K26+CInVoQuqCwiQABhIhAHCAAADck0ZIWcPXG1xqHJd3MnHHd/uU6/oQLIpbo9JNR4gQ2TvT4/YFft/83f9HJddKJbkdmv3+QPxeFeO3dv9+clQH0uvUbzIJFi83R49nh8hJ0XzIgT49l55jHHn/c/PznPzebt2w1N27eDAybLL75pvQeRiuJiCzCsuAeMqhnKSyfKuG0148HDgv5Gl2a+9EnQ2P2lZBTyMuWbTv0N6SPfair127U2Vpk/ISp5g8PPavlFqnToFXMGVn2NP77HQ/o7OJ/+pP/qTN1LHNlNhKS9f4Hg0zzFq3Nf/z2YXNYCFks2blrn+neq68Q7cbm/kdeUKKEQKwhfQizqcwsIlyDwMWSz4Q8siya5+CZ2dvJzCjk19pm9doNugyWU3fLM7ZIRGQR9qVymNILrzTQme68vJNK0K2w5/XV2k3izgJzSNOM2QvUvXbdZt13zAxu/cYe6TyYedj86y/u0b8I/gsWlT0AC2GGmlnip5+vY2r9p/+u9tiwaZvulcU+Az8dZTp27GH+4ad3qV8sOXv2vOn9/semdfueuleZWeLLl70XHqTrVMFpvb9/qEy27tDT7N6boe4goexhJ9LGC4r9GZn6EuDkyYJwnvDChrKZnZ2X1KFpVrjfjRtTQxyRrRpxRPYWhLeQ/tPv6ER2SGPlP1Dh22+/070ae6Sxi7VfxDVIEcEGfFcvepkWy20OHPQ6NCvnZFBHx5BIWALG21C/0BFznY7JCrp2741/yIIjslUnh7NyzLzFa83eA0dCV4wMuvPNvCXrzK598fM9HpHlQJagAXgiQChAp06dzf33P2DWb9hovpZBe3mXZDKAVvJ4+bIZ9+VXpnadOqZO3Xpm1uw5ku4r5qa0GXbWt+D0GdOjV29Tt14906x5Cxn0ZOjyzYyDB02LFi1NvfoNTPcePc1JKceEh9QosZQBN9Lvo4/N7j17NY16OnNxsRk2bLipU6euqVevvlm6bLm5evWq+UaaHkgN5DQ7N08GfZ3Uv03bdjpTR5zb03eYxo2baFre69NXZwUrSqQcgoFNsa3NU16ezJw925yXPqTwYpEQtTT9fTw3V8MF6UgGlLXtO3aav/zLvzS1atUy06bP0Bc0QWGTxXUpR0GSDJG1wlJZDlpi3yduKxzIA4mbM29J6EpZYWZNycKpAl2qyQFQW9N2mM9Ce23ph1m2yl5ThFm4UwVn1B0kh48c09lHSAv1cez4KXroD5KTm28WLVqss73M/CaStes36T5gK/Rh9puxi5euNL8W8sQeWp49mfEAM8boQJidffn1RqGluJ6dWW7L3tEmLToGHnAUJMkQWStbxK4c2nTq1GkljVboV5klHRlwoq9fhgwfo3tHIYMc5MRMOc+EsB+a2dCHHn9JZ6uHjhyrByfFEuywQsoLM7fkefrOvUqykctShxYuXKrlgf3KieT8+ULTR0isX0gX+3oZ89370LPmgQefMl9OnBb3hYMVyuy69d6BYuT3Y0+/pkvV2YONsJf3EXnO12o31XFJMpLMuJHDuTjpurLGlvszj2qfnHkkO3TFSTKSiMhyiNsOaYf9B9idPXder8XbZ44cPHxc6lvZ70ZTj6fPXW4OHjoWuhJb5i9Za9J3Ba8sSCVxRLacwomCbTv00lPtEDoJGuKmTTmp7l1tjNiLMWbcZNO8TVfzwssNwh1ntCTTIN0OwsCeJVIsK/N/0D07J19tyicLrLAEyx6nH8tu7D+aPmu+7m1h2dOqtRv1+tz5SzQv6jduq587QJavWKt7ocgr3rbH2u/kiGzVCd/gO55zwmzYEjnggwFN/snTZu3G0p90iJZ4RBZyEDQATwTIJ2SvU+fOOuj/8z//c9P77beVRJZndpZZTErs/AULlYTyXcHCwkLTrl17GXTsMjt37zF79nqDmd693zaz5sxR/30ZGaa5kNdrMnDi7+49+/Q6enpJOMQSWQ7eyTx8xHTp2k3aqqNKjJGvJkxUcst9Z6SjhAwfFaK6afMWDU+62nfoaFatXqNhNm3Zatq2ayc2u2aaNG1mjkhYrqPnw37ekrvyEFlLzq78wGCfKdkykAgQ1lNCmgqkHdyevtNMmjLFzJ47T2dkC86clTwu0Txbuny5tEmXypUHfljCvHzlKjN9xkyd+b1VXRbYIkjKQ2SZ1aVdZ0lp9Cm1CEty4wltB204L5IBur6J0mMHjYRLtu+16YlOE0R39Rqvf4knQff6+5prUs8GD/3cjP9qaplwQeK/F0LFOIQXHfZ5GIOwD5OZzmT0IeUhsvZ51L6+tFhJ5nu216WtQuxMfrQeyC2icSWZT7b8RK8OYOb2q4mRFwmxJOh5+E1ZQkgLS8v5PE8iooFwr80T3OQRecUYxV5jWTXXYu3hjRb0xRs3bkvbYdrKOKdRk3Zm3IRp4aX0FRHKRmZWjtmSnhzZduJJPCLLCdVderwv3KGFnph95ux5cyTruL7waNiwsa4KYHInlmxL32+yc4NXlKzdlK5jqESyZftecyAJwlvTxRHZcgh7PyBG6Tv2hK54RJblS3QmnETHW0FmP9i3wbVt6btMVyFeQZKoQbpdhE8wcMjH86800GVbCG/VOaaegxKs8Oa1fefeuuwrns04IIQ9U8jZcxdM7fot1c1+mYsXi/WNV6v23gEVr9dpprNhCG9FGVAEiSOyFZfDR3NNTt4pJaPFlzyb84aXt+bIgUPHw5+xOH3mvNmcFqlnyIXCIiG3u0K/giUekYVs3Mp3Y7mPGcuu3bopkbW44447zNx585KanYRkEoZSO0eIyTvvvuclSoRZ0LTt6TqDuneftzKgW7fu0p6sVjfLmSGTpIG/9hTStevWazgE3bYcD/p0iBk+6nN1EzfyxdhxZtDgT9WNtGzZyhw5kmW2CGE9JEQWad2mjUkXQo0cyDxkWrZqrc/WqHETc0EGWwizx++9780kEafOAscBYSBJLIdlVnlfxoEfFuSZ9stf8ihRGUgEyhl2X7BokZm/cKGZOn26mTx1qpk7f4E5LcR29dq1+kLhxMkCKXfzdQb9VmdlSSv3LluxUmdjWTpfkfTrd2Ul/UFSHiJ7uwszj9FEqqqkPET2dpct29LDM+JVLYnGjeyR5lRthIPScuKQoe07M0zm4Wzpm3PMth1e33P12nXte1eu2yZtd6Q85OQXmDQJb4WXC7v3HTLrtzB7WHzbj2ODJB6RZbUmKwThCaxA4KUYE2WcZI0wWcYJ4bFk556DJiPzqNm4dbf0P2fE/owVzpjla7aYQ1mx96kj5y5c1Pz1r3o7e75Q+uk8s2tvpupNpfx0RLYcsmdfhvn33zyoJyxyVDsn9iEsfX311Xo6A8gyVZYaj/1yqnn1tbdMk5addYlxkCRqkG4XYT/NtevX9RtudhkxLw1+9duHTb1GbUz7Lu/oXiZeGvz6rkd0RpXlXvYEx2hhhhdd7JPSPTKhQx44+ZA9SHzugCVICKdKEo5ZddzXJR1B4ohsxWXR8o1m/eYdMgC4qLOtlPs1G7Zro4osX7s1TGpPnT5XhsgSrmJEtqRSiaxFt+7dlQjEm/H1E1lIyLs+IsuS5Q2bvKVz7FNEevToqSQDyc0/ocuLSQN/j2d7ndTqNWs1HIJunpuy/8mgwRoHM1FcR8aN/zJMZG/K9VZCUvdneIOS66GZgLbt2pu0dG+PISStdZu2SnYgz8wIIjNnzTZ9+noHlKA7EZHlfmYYId3M9pLmHxpWrlpt0nfsrBARBJSz3Xv36SwsgMhOmTbNzFuwQGfRmT1dt2GDlrXlK1eavUKib5XI2qXFf/EXf6FleOq06RVaWky9Iv1BkojIcogT3xEF+SeCZxicfP+SDJHlk0bkU7LLYJ1UviQaN3JY1ieDR+ohaZ26vRf3U0GrhMykCYHdtnO/EhtUQmpp1yFK85euC89GZ+edKkVkt+86oCQ2ffcBs3D5hpgvsm5niUdkEfaLv/rqG3oitv+7y7zMYkn7yjXeZ5qCZIfYnfw5X1hkNm3bLeOqQh1LZ+eeMMtWlz4ALlpYvn/q9FmzeMXG8IszZncnzVxiCk6fN7v3H9KJh1QRR2TLIbyFg0AhHE7RRcisXzhkgCWvzMjyYXaEvZd8myxIHJEtLS3adDNHj3mDdPa28kkChFMZOUHSs2tbvbZz917TqEXwdwUZzDdp0Unza9mKtaoX4QUElZZDMCDICN/y4zMNmzanmaYtOzsi+z3Kuk07wkR15bo0LfcQ28IibwnZWvG3neGZsxd02YtfGMDz9jGeVDWRveeee5Ro2MOXgu4HiYjsxs2bhXh+p2lEkiayPb1tC+jm/q3b0nQm1V4DSBCRzThwQImzjbNt28onstiEe0nXmrXrlND+kMAzgf0HDqo9gmyQLKKJLCS2NJFdKW1ams6Os7SYOG+VyNrDnp5++hnzH//xa7Nl6zZdhh4UNhncKpE9d+6CHqLU651+ppf0ne/3G2z6Dxwe8nVSlZKIyI6fME0/J0Ne8RkZ3CxfdlK1kmjcyLJitklt2ZquY5/c3PyQT1mhj90jpGXXvkPqRufR7Hyza69c25tpFi7bEI4n98TpUvsp6a9ZXQXpYWY23ie4bldJRGStcOgXL4gQTuju2O1dXXkYT8gLu7SYcVHBGW9bHhNp5E0ysnZDZMUj55Ds2HNQ3Sw33ncw9iF2NU0ckS2HMLPKHsuMjIN6EMWQYWN0bTsnGGZkZJrJU2fr4Q8sbYWEZRzI1CPd7THu0ZKoQbpdhKUVHObxzAt1tTJDYveJjdt07OnZdZpn10ti12atuwTalU4WospeSpYHN2nZSWdsN0tjzuwswmEYLGNmubd9IdG6fQ+zY9dePdijuegmLUHiiGzFhbe/DHqRZWu26H4j3gZn553UZcOLV25SEgo4yGD5mq1id4/k8qbxyLE8s3TlZqkzxXpvkMQjsgz6K0JkmXm1BPZ//dVfmb4ffKj7FpFEJMYSWYQ9iW+/E/kURPv2HZQUIbbT4xqzb0hhcbGp36ChzvhyyJP9fuFmIR+EQ9D9tZR9Zj179n5bCbMSzVCcI0d9bj4dEvn8Q1Mhp3tD+3HZV4s0adJUyRFyPCdXlxTz7HXr1ddDoxD25frJcyIia8EBUewp/iGCGWdesgQ9d3mAPbH71rTtSljnzV9gJk6eHF5avH3HDv17PCdHBqrzdDkz+ROkKxF48cKBZXx+J/PQEZ2h5VpQ2GRAvaJ+BUk8Ijt/4VLzyhuN9WwE9ogtWyHlV4gSbTZ9AofWsE+MNLKknmu06/7D+qzwApMllTYcA3g+8aLu0DUOaeIaK37QG92O8Js4iYO/bHXhEEfuteDacbnGKqJoYeUQ9xKO/W45uXmRe0LXiRs3/T6HC+3fn2HOnTuv97PHl1NsD/qe14Ln4S+fgOFzQNxn+yteznIYEXGS3lhbZOJJPCKLrR5+4mW1H3nF/r5PBo/QZaycysvhRWG7y1/yi2fMzStLoogHf2xDXhAO+3Av+llaiY24Rh4cE/9Ee6OteAdxHvXKjNjD2szCxsfqrlSVRONGJlM4QOyY2I8VgZyUHEvWb96pM3vbBbiRBcvWCzHaZXbuyTQz56+SeuWt9tmTccSsFuJTFFpuvH1Xhp5bwctn9s+yJNlJaYlFZDnElG8uc3hdRsYBXeHJWJXtiWx349NMlOF4+5u3bt+n5BNhkuC0tJ8cuJd3okBnyBknxdqmwH5sJgsWLl1vzp4r1HEzy4rTdnrLy/dmHBZEDrSt6eKIbDmETo7v0tWr11iXbdDpsOGfGb169ZrqB8NppGlgaOjr1W+hJ/rFIkeJGqTbRajULdp0NQ2btjPNWnU2jZp30IGK2jBJu3bt0Ue/JWdNyWwD+5QZEHGYAsLeMmZgIbScQogwgIDUQnzpgGOJI7IVF97y2c5u/8Gj2shyKMe2HfvMKukgWR6DHD2er8uc6DTtNfbW2msbpJO15Cta4hHZqzLwDBqEJwJkgRksDj+CxD7z7LM6w8gQ+NqN5GexOOwJspmevkPJ4BdfjDVjx441vXr1lkHXYbNz127dc4lMmjzFfPBhPzNu3Djz2bBhZuAgqQPS3jCr+tnQYXJ9vB7eNHHSZH0TzrdhLwrhheiydxLibYksnRREmYOhiI943xEinZ9/Qsnw4SNeh/X5mDFmwIBPNE7iGz5ipHZ4xDN85Ei9/n6fvmbWnLkaJ7qDnjMI2BCi80NFeWyRCOjCXgz0Z8+da2bMmqWHQJGnzMwuWrxET862+RukIxF4KQIBp0y/8uqrJuNgpuoPCpssuD9I4hFZvrP6b/9xn7b/rFzq1P09c/+jL+hhfFzjszV8aoYVNnfe87he++kv7zVjxk4KaYjI3n0ZunXkjt/9UcPdde8Tuo0E929+/5i+BOVzKBwseN8jz+vpsdGEjwOIOM34d/c9ZV6t3dQ89UIdPU2YszEg2HwKhm+D/uGh52QQX/YbtHzC5Zd3PqRxEu6eB59R99Oi58HHXlI3f595sa62f3zShYNdeCnLaqQDmYfN7x94xjSSvutOSTPhLX77hyfMcy/V0+/ujpbnf6thMzN0xFgl8GPGTTKPCtF84dUGaq8gAplI4hFZXib/5F9+q/0ks3z0qzzDo0++qn0qfTY2Jp3kE/n12z88Hn5h7BfGTFy/857HdGXUw2JfdHEvz/6m9O+PPfO6Xnv5jUbmbskziG0ywndpH33yFfPAH1/U8cRdYjP0km8s1eTF9U///R4ds6WqJBo3sqqMslqvQUvdgxlvfMleSmb1jgvsvkoIK1t4tqbv0z4XspR1LC/U/6bpdXTqi+jQkmSWo8aL53aVWESWus+JxcNGjpUxbkP9FjX2g8zWkzaLdpEzXTKivtjhF8ZJkFDk0JFsUyLtLPnAaje2bEFueQkRJGzTWr1+u1mzMV3/8nLiwoUicyx0QFTeidOKVBFHZKtRKLiOyFZcaKxZ5hTvzWNFxRHZ1JB4RJYlN0ED8ESAVHBg0cCBg5Tg8ZsZrFslEd9IfWd/4sf9B5j+QhwPCIm4KYR+w8ZNZteevUrSeY86bcZM9R8xcpSetMpBWCzNHvX5aDPgk4G6r5HP5yjxETCjxj7Ki0XFmkY/0aGF4TukH/f/xAyQ52DmD1K9cvUac/DQYY2TWVdOJUY3h0NBTIgTEgV5Ji3MDqJLdUc9l0PlwOYbZJMXcouXLtUZ7UzJJ2bEV0ge208gBd2fDCg3zPr+6Z/+qb6c+fKrCZqvQWGTRaz2MR6RZcVNhy7eihmEly4cusd3WxE+z8LJnqTNfq8U0hRvP16jpu31L6fRnwiRTVbrIJyDwGF/fBZlwSJvKV+Q8Bmfnbv26sofVvtADiCbH/b/zDz/Un0zcnTw52U4jKuVkCWErS2QJwQ97FtERo7+ykyYPFPdVj7/YoKZOGWmEIbjusyQ9qBx89JbZ1ihxCyNFfbAcyAiL31HjZmgszkbNm0t9f3d8kg8IssLx7fE7n5hCeva9ZHlj3VCNiafGNLwsnnb9thnGnTq9q45ffqMfl5n3sKleo0TW5lV/nLidP3UUVr6bj29tTzCgVl8QueylEmIK8LqOU4aJs22LKSquHFj6kgsIluVwswrS8BZfsxWLjuj/kMSR2SrUVyDVDnCkfYXQgcGfV/iiGxqSDwiy6EVltiVFxBZZsMgexWZubLkj2WdVuz3aLlm9ymSTr9Y0sJfv3ikJ6LfElu7lNnC+llhhplrEHLrJpxfIMNc939WBRVe2EicDt8fyIMTp04pceVFB3tZWcZcERIL7MuZIZ8NNT179lLCVxGdlB17KEy0xCOykMU2HXpqH7h63UadBWWGD2HGZ+6CpWbYqHFCbK8IgfWIXUMhqrT5QQIJein0aTVmeCF+fCuWA//Q165Tb115w+F+s+cu0nDRwvdoIZMsU2Ymkm+QHjx42Nx975O6Omjq9DlKuIOEbTH2TAy+49mlh/fFgoVLVujsKfLlhOn6THaW0S6lhrh9MmiEEkDqryWyu/bsN5u2bNeT/dcJcTx9+qy5eu2aebNBSyXHS5au0rDM7nLy6Yf9h+h95ZV4RJalvcye6hLEY9kaH9/ktUu8eW4OGULIJ16sscR14+Y0vRYt5N+rtZvoUuDBQ0ebOfOXyADb+5bs8eO5+o3aWZI/nDvClyCSFVbJTZwyy4z/apqmzRLZex96zrwjeTr4s89NYWFw2UkVcePG1JGaQGTZAsFXIM6cK1RS+0McxzoiW43iGqTUEUdkU0PiEVmEpYO3uheQgb4lhRWBRzK9wX+lIEq/H5Uel8LTGxSfQ+UD0kmZhXjiti8YKgr08OLk+tcsTb91Ekva7GezgiQRkYXEsVqCJaUI3wCHxHCyJkuLEQ6FSobIQrb+19/+Qt0QSpaxQrBWrvL2oEOaExHZGbMWmF7vfqxuPn/B7CD7Nu9/5HnTXXR9+PGQmF8i2JeRGZ6RZUaYZ0OYRX7kyVeUZD75XG0hx9N1JnLTFo/oTZs5zzz0+Eumdr3mSqKZTbREtrsQwp/96l7z6bAxZlvaTiW67PNEIOb1GrYyD/7xJd329H0SWZZkI281a6/bdNLSd5lhI8bpNZZCQ2atOxGRnTB5hqlV6890pQlElqW+kNmPBnj7+D8T0n8rRLZASP7rYkPk6NHsMJF9/Jk31I7M1C5Z5n3WLFXFjRtTR2oCkb0dxBHZahTXIKWOOCKbGpKIyDIr4xGD4EF5dSCIFCoB9UPJaAjyOzp8eRGko1R8oJLjdKgYeIkQdL0isC8ngvySAfWI+sQ3JWNJskSWAxKZ7fu7f/6Nea1OM/VfvnKdnnXA7N9rdZrqtXhE9mDm4TA55HN4HB6Ezo5d31OC8+u7H9WTduMRWQ4zGij+b0h87FOdOXuhHghoT1Me9NnnStKChEOYdA/vuEl66ijbXa6UlJgf/90vTEsh1jPnLFSyvXDxCp1phfRmZWWZgZ+ONHOFyOXk5esSZggehBBhFpQzOWbN8dLLwYcsT87KOqrEvFDIOp/xQKclsswqQ4avXr2qB+XxzdNE/VeyRJYTVfftzzR1GrQ0f/MPv9ZrHDTFs7xRr4XuQ2ZmNB6RLTh9RmeQ2Wv/0SdDdeadJd8fDRiqdieflq1cW4bIQpDRHUs4N4P9hqT1yWffDH/5oFlL7y8HQD31fG19Hs7OYI809sGGHJiVCuLGjakjjshWjTgiW43iGqTUEUdkU0MSEVmEfAwalDs4OJQfHEIWT+IR2bTtO/VQE4QZPQ5rqtOgle5ztML32vmUyMtvNtHf/GWmNZHUrt9ST6pFCM9MLDO8/OXzMVOmz1G/IIEQceItZy+MFlLKKfpPKgG6Kultr6QxlixautK88GpD1Q+J5uUZy2atDBs5zgwfNV4PfGHWsXbtema4XONgNWYm2cdLePYKW2G29enn65gFi1boqhJmLmvXbqhkEP3v9f1ET0Dl1Gf2lOoBWULeILWjx040/+lP/pdZv3FrSFuwxCOykLwXXmuodimWtJHGVyUfvpwwTWfOEV4AYNtnX6qnhLNtp16Sj5vVL55A3CdOnaVulkxj9849+ugs9eq1m/TgGyuQZU5JTiR8O5WXIPUbt9Hx1b0PP6dfJvh02GgzYPAIPdDr57++3wwVu4/4/EvzDz+9K+bLiZombtyYOuKIbNWII7LVKK5BSh1xRDY1JBkii1y/xYOfHBwcIqAeJZJ4RJZZOA4o8kv+iZOmYTPvwCYrECjIHAK5gcwlEmZEOfjML3wvnIOk9uzNSOok3ENHjuqnZfgMxuPPvK4zw7E+aREtnHTM6b3Rsm//QZ05DhKW7G4Tcg+p9ZN5K3xjMkh27d5ncnLydUZ4954MnfldvXajSd+5x+w/kGmGDPtCdceTeESWWWFIdvRsKCesRn/KhnxC19a0HeE9tPGE2W4Iv1/Yn8y1k6dO6xJmK2slT/nKQTLCjDQzukjfjwabf/zZXeEXG5SNSUKeOShyr+QHy8d5WZIK4saNqSOOyFaNOCJbjeIapNQRR2RTQ5IlsgjfXGMwXpOWGTs41HRQX1hungyJReIR2SBhhi8ZAlTVwhJUZmJHjBofuhJf+JQOy5BTReIR2Vhy8lRB0sS+uoXDt1i6fPas983eVBU3bkwdcUS2asQR2WoU1yCljjgimxpSHiKL8AkaPuVxqwdAOTjcTqCeUF/Y25islJfI1nT5ofYDt0JkU01Yhp3q4y03bkwdcUS2asQR2WoU1yCljjgimxpSXiKLcFANs0D+02CZdWLQ7uBweyNCYiGw1JN4BzsFyQ+NyP5Q5XYgsj8EcePG1BFHZKtGHJGtRnENUuqII7KpIbdCZK1QD5lpYsnx1evXVY+Dw+0M6gH1gXpxq/2UI7KpIY7Ipoa4cWPqiCOyVSOOyFajuAYpdcQR2dSQihBZJ06cVL44Ipsa4ohsaogbN6aOOCJbNeKIbDWKa5BSRxyRTQ1xRNaJk5oljsimhjgimxrixo2pI47IVo04IluN4hqk1BFHZFNDHJF14qRmiSOyqSGOyKaGuHFj6ogjslUjjshWo7gGKXXEEdnUEEdknTipWeKIbGqII7KpIW7cmDriiGzViCOy1Syu40gNKSq+Yr65mRrfy7udhUHz1WvXQ7+cOHFS3VJy9brWSyc1W+jf6Oec1Hxx48bUEOrTTTdu/N6lVjHH6ztUG86cKwy87lCzcPbcRek8LgX6OdQcnLtQZM4XFgf6OTg4VD3OXyjWehnk51BzQP9GPxfk51Cz4MaNqQHqU6EbN37vqHXpylXjUE24XCIFvTDYz6HG4HLJNXP2/EV9u4Y7KIxD9YNZn/OFRebCxUsunxwcagCohxcKL2m9pH4GhXGofpBP9G/0c67trOGw40b5G+jvUCNAPXLjxqpBra9vfmMcqgesnT9/ocjcCPBzqDm4+c23MhgrNlev3VB3UBiH6sc3kjfFly5rw+byycGh+kE9vHT5qtZL6mdQGIfqB/lE/0Y/59rOmo3wuFH+Bvk71AxQj9y4sWpQi8rgUD3gQ/M0SNcD/BxqDqgoNEjs9cIdFMah+sFelKLiy6b4conLJweHGgDqYfGlEq2X1M+gMA7VD/KJ/o1+zrWdNRvhcaP8DfJ3qBmgHrlxY9XAEdlqhCOyqQHXIKUGHJF1cKhZoB46IlvzQT45IpsacEQ2NUA9cuPGqoEjstUIR2RTA65BSg04IuvgULNAPXREtuaDfHJENjXgiGxqgHrkxo1VA0dkqxGOyKYGXIOUGqhMIkvddHBwqNhgmXroiGzNB/nkiGxqgDrpiGzNB/XIjRurBo7IViPCDVKAn0PNgWuQUgMVJbLXrt+QPL5mLpdwEl6J6Lni4HBbg3pAfaBeXLuFgTP1MBWIrF+C/CsTfkmmnYqWoDAVBelIBSLrl+87nd98+20oJiPu7wLD+BEtHPATFK6icEQ2NUD5dOPGqoEjstUIR2RTA65BSg3cKpG9KgSWwXrQQN7BwSEC6gkvfILqURCohzWZyJIm0vjBx0NMo0ZtzJZtO5SEBIWtDHwr5Gjj5u0SV0szYNAIPcn5u++C4yNdkKmPBw4zjRq3NUuWrTaTps4J+0WHrwjQV9OJLLabNHW22K6ZmTJ9rubT90UWiSsn76Rp3qar6dj1PXPufKHGFxQWEH7qjHmatumz5mv6Tp46o9eDwlcEjsimBqhHbtxYNXBEthrhiGxqwDVIqYFbIbJXrl4rM1h3cHCID+pNUH2KBvUwHpGtDglKQ27+SXP4UJb5bMRYk75zj17ziz+88M4KCS8CMjMPmUVLVppRYyaYr0VnNCHDblZI2yFJW59+g80fHnpWyW1l90Poi0dkq0OC0nChsMgcysw0E6bMNLPmLtJrfvGHx6YVlcNZx8y27bvMwE9HSTm+rNf8cQArNm2z5y42//zv95hj2Xl6PTp8ReGIbGqAeuTGjVUDR2SrEY7IpgZcg5QaKA+Rpe65WVgHh1sH9SfRYJp6GERkuQ4h++LLKebt9weYT4Qo9Bsw1PT96FMlDcyQDhg8Mnztk09Hmo8+GSbXRpgP+3+m1wjTf9AIuT5U/QZ99rn+xs/iY7nONb1HiOCuvRkar00HM6LMdH4gYUd9McH0fq+/+e0fHjcDh4zSe3q9+5HZuXtf+B7+Zh4+GkrzSE0DIP3EZ9MOcHMNPdaf64OHjjZDho81Q4U0P/DHF3XW7/qNG6XiKL50Re/huT4dOkbCf2F6vvORefL52uHv8dpnqAygLxaRJT2LxUa9JH5s+fHA4fosNn/43X9Q6FrIn3A27wDXANd4LmsPC7+NyKdFS1fpc/rTsHf/QfP+h4PM8M+/NEOGjZF8ekJtQtykbcHiFaVsCLEk/2286CYO8oC0Y1t7rd8Ar0yRZx/2HxK6PlJfbAwbOc68Wb+lefiJV8yJkwXhOGwZ/mrSTE3Xp5KmwZJXg6Ts/P7BZ8yx47mOyN7GoHy4cWPVwBHZaoQjsqkB1yClBspDZC+7mVgHhwqDehRUvyyoh7GI7M1vvjFLl68xU6bN0ZlGyMSM2QuUoIyfMN08+tSr5u0+A8yMWQvMfY88LwThc9NPCM90+c0yzrnzlyoZgQyPGvOVeer5N80rbzYxs+YsVOK1YtU6063XB+al1xspcURvdk6exmvTgZsZ2MmSBghx994fajjIDvFMmDzTHM46Hr6Hv3knTpmxEued9zyuJIZZ1bvve9JMmzlf7/187ERN/2/uecxMkXRCuu6690l9tllzF+vM6sQps4SgjlYi+94HA0OzspE4rpRcNfMWLDUPPf6y6dqzr9hgvvnd/U/rc38f5Ij8iEVkSU9a+m4zSdL88huNTaPmHfVZHnvmDfNu309M05adTZ0GrTSfnnulgenY7T3Tf+Aw8+XE6WrD2fOWKGmHjE+YNEPCdzT3CNEj/MIlK83K1es1D//w4LO6JPeXv3nQrN2wxXzrW3JNGiCG6BtIOZCycvd9T5kOXd5RW06eOluXhfttyAwqs6P3PfKCeVdsTHzYcMz4yeaJ594M2XWBpIWyN1Tdd97zhBk+arxZKKQYAjxm3GQzWvLztdpNzGt1m8l4rTAch41n7frNps5brc0rEgYdL772lukium98/XXgKoSKwhHZ1AD1yI0bqwaOyFYjHJFNDbgGKTWQLJF1y4kdHCoP8ZYZUw9jLS2m/7PSsdu7puD0WXUzQwmJYbZt5579eq1F2+4669W2Yy8hPhv0WtbRHNNeiAwzqUNHjjOP/vEZM+7LqepHGMhIx67v6gze2fOFpl2n3urnTwMEEmHfagcJ26xVF/Orux4xbSXsilXr1Q/x32OlcYtO+vfqteumqdyHcO2q2AN5q3kH/cv+ymatPf/NW9NN6/Y9lXwxCwnx3bR1u/r548BuSK/3PjZbtnr7dtt07G0yDx1Vtz9sZYD4YhHZ6zcizzxaiN28BcvU/YGkf/feDDNzzkLzxfgpeo1ZyVbyfD3e7qdkHim8WGTeF/IOWRw/YZp58836pqXkJ7JNCPL8hcs0/yDECET56jVmqEsfsIQcz8kT3R9qXt7xuz+aBo3amq+EHH990/P3h7c27Ny9j9l/4JC6KUc8z3sfDjSbJM+RNh16hZcBN27u5R8zr526v29GSNkBTz75vM7OIv44ADJ15jwzbNQ4dfPShN9IdNjKgCOyqQHKnxs3Vg0cka1GOCKbGnANUmogEZHlGvvTggbj1YFLFleCUJIEJJxPXyyE47EoE5dFUBzRCI7D4fsHS3krezl8iZAwTiMO8isPqFeQwqA6F4vIchDOqYIzOqv26989auo1aiME5W1z78PPqT+kNW3HbiUEr9ZuqiQJefn1xtIWXzN1hcScPnteCeHKNRvNgiUrdRkoM6i/u+8p03/gcPPqm03MoM9GK1Fp3rqr3u9PA8tXSdtzLzdQP0g5ZBZhJjdPCI1/ZhCw97Lk6lVT963W5sy5C+a46G7QpJ0Sr/qNJU1nzkk9KzG1G7ZS22QcOKzkjPteFJ3IW007CHE/p8ti58xfotf8cQCkc48+ZsGiFULsrqmO3XsP6PXosBUF+RSLyNoZSGapmTl/8rna+oLgt/c+oct9x301VckeQpi6b7VRd9tOvcyO3ft0mfGc+UvNuo1bTN+PButzt2zXQ8rLNzpb+sHHn+kLCWzHUl3sWnixOJDIUkb27c9Ud4s23fRvp27vmYVLVqnbH97e07Zjb7Nm/Wa1YcOm7c25CxdNj3f6meUr16l/MykXW7fvUgJbp2Frc1nauSYtOpmcvBO6XH2eEO0167foTDoSFMc4IegsSSaOPv0+NV8KuUaiw1YGHJFNDVCP3LixauCIbDXCEdnUgGuQUgPJzMiyZC96EJ4sqKeVMZtrySQDJhBMGD1AXBJej9IfHU+p+0BJ5HcQAuOUa5Hrnu6gOB0qF9gbu18svmROnT5jCouKK6UMFl26rKd1nz1/wZwsOK3uoHDJgnoVVN+oh7GILIcmHc/ONf/Hn/6V6SsEiCW+a4UwPP9qQy1fnwweaabNmK/7Uf/q736hZPl4Tr4Qza7murjf6fOJ2bApTeO+InZimS/LQnfu3m+6CAFElixfo8uP4xFZ7m/doZdZtXajkpanX6xr1m/aZlq172HOClENIlSk6b/833+lpO3Zl+vrclJOH4aMQbK79upr/s8f/bX+hvi9Ua+5+jPTy9JkZmlv3rwpzzDAzF2wVHX648A22OI/i20ee/p1JXf/cfcjStKjw1YGyKdYRBZyCQn/t1/fb556vrbZn5FpNordazdoZbam7TTzFy3Xvagse/7RX/xElyGzBLeVkFUOS5oyY64ZOWaC6PpanvuC2bvvgBJZ4mPvKcKMOS8QiDseke0jRJhZ3Y2b09Tui4TAdu7+vi4r/k4M7A+PDdk3W+tP/qfmKcufmQEnfyCyzAaztLnW//n/apmr3aCl+d39T8m47Ib5aMBQs2L1BgkrbZ7UlRmzFwYSWeIoOHPW/PgnvzK/vPMhzW/+2oOoCGPFf19F4IhsaoCy7MaNVQNHZEOg0aRRCvLzgwadcCxl4TcFlN8AsY1v0LVoOCIbQbJ25ToS65MFFv77/deJB/E3LDac/5ofXHcNUtXBlgV/vdFrcvHbGHUJJCKy1LegQXgiQCYgEPv2Z5gLF4vMTUkD14LCJgIDdIjJDUkfegD1P5o8MlP2tTyzDeMRjRL9a6/hT7gys6Qy8Ir4efp0L2NUnP74QHScJdckTrnOjJ29hj9Eys3Mfv+4VOKVsYOHDinhXLtuvVm6fIUQoZOaV9HhywPKEXreePNNc9999wv521PhmdmggTX1MBaRBdTndRu26LLhG3I/wqwbnz5B2LfapGUnc8fv/yikslCXC+8TIkX7wGE+v/n9Y0qcEPYzcljPyVOndZaOPZXzF63QGduj4maWDSmbhm/NCbmHpcXMev78jgeU2HJP0OdTuAZp7trrAyVFWUezlXzRXtVp2MpclLaCGToOjmKWb9/+g+qPpO/ca35996M6E410f7ufmT1vsbpLx/Gdzr6+1ayDOXT4qBKq+k3amV17MsqErQyQT7GILOCZeU72HOfle3lD2udLfiCTpsw2zVp2Nr/67cNm1dpNZs/eDLN0xVp9DoS9s8yWI7ywaNKqs87IvtN3oC7rxv5vNW2vcb9Rv0UgkaUP4C+zvm069DS/EML4Rt1mWn6C+gWubRGC20jynRcgdhYd0syLhg1ChtPSd+my8PyTBfqS7/W6LbT8UJYhves2bNU089mfdyWtSHQc5y9cNE1bd9Gl6MRBOPIf4SUA+6zZJ+w/vKoiCI8bA+qbRXT/GQ+R/rbi6bO6gvLjdgNlOdG4kTxC/LaPXItvQ/xtnYiGd3/i/Pyh5JUjsgLKDQXtfOHFQH8LCsa3Mpqm4fI3ImfOnte9G7nS+V6+clV18SaXJUd0pvhbguZHuEGKun67IZFdsSGdDx0BFffo8ZzwQMCvxwL7U0GxP2+/bTjiuHb9a307z74muz+KfMuWjo57ghocrjkiWzWgUT14JNssXL7BZGQe09/gyLE8vbY340jMhjcRkSXPgwbgiWBJZrdu3c2LL70kA9MD5hspLOUd+FsSe+36dTN95izToOFbpuFbjczSZcvNNUkbRBOdEEVm4Pr0/cC81aixadu2nZT5bHmmm1JOc0379h1Mo8ZNzPt9+oZn6JSMEk/oExHDR4w0+w8cDJNklryNG/+laShxcu+GTZt1VgtiCqmBGJ05d9706NnLNJI4u3TpKgO6Ao3zQOYh07JlK03LgE8Gqj5rk6DndLh1YFNsS54CCObsuXO1bzp99pxZt36D/J5n8k6eVP8gHcmAlxJb07abH/3oR6ZWrVpm4qTJhld8QWGTBfUrus5RD+MRWYAwG8oeStpolnryyRm/QDIPZmaFfnntNC+2OFn2n3/+e+0nZs1ZrEtBkaPHss2HH39mxn41TfdfQmRYtowEpUHMoVIk9a61kCQrQWGBXwoKzpoWbbvpwJK9sJAyv9AP4Y+USN42EcLH4VXYi9nihUs8MhgdRyhJYWkr6d+z76C6o8NWFNgzHpEFyNFjOXpIEmT9/Q8HK1n1C/tIZ85eGPrlpROB5P3NP/7aLF62Svtvlh0j6OEgJg7B4sUAcfPi4mLRJbVndBro/6206/x2wu+7Rgv7d1laTJx2rzWCrSkDzPazPxZhb/U//PQuk3koSw8P4/AnJDoOf5oQTi6eKMTXyu8feMbMESJLHNH33goSEVmkqNjrb4L8/aAvzT95xixesdFs35Wh9o+V/4mArsNHc7x++kBWzH76dgF2jDduRNg/TlvFqhDKH0IbxDXaVCT6PoBtM4/kmBPS9vjrCfHwcm3hsvUmMytb21P/ff5w/F2+ZqvZte9QzHCpgtueyNK50pi+Xre5+ddf/CFcoILC0QmxN+R//s3PpbPyiNSRo9n6VrhBk7bm0SdeMf2kY4Iscdpg/UZtdY8OJxwGVWpHZGPbFbJ5/6MvqF1ffaOJHp5AuMnT55rX3mik+2N4Mx9tV62gYldOkHyzQUt9o20Py2BpGp9VYIkRe6tYirR+4zbd38SbdDpl0hPd6PDbEdmKg8aSlxaItSN1zboZmLIf64rYef/Bo2bNxvRwWK4dysoxK9dv02t+vRbkXTwiS92OHnwnAyWfUqY6dOyog/4f//jH5tMhn2knBBEMuicIzGJigyVLl5lu3XuYrCNZJisrS4npLiEsBw8dNpmHj6gd+gqJnTBxkvpvFNLZtl17bS/atW+vZIbrU6ZOU7JLeEtkGRzn5p/Q8AcOZmrbQjmfSlghvtyXKfG0atXaHBNyvHvPXqlrOTrI6t6jh5k3f76GgVx36dpVSO51CdvGbN+xQ6+P+ny0GThosOosD5HFhpDlHyoqi9TzYoLZ13NCXHfv2WcmT5liZs6Z4127UKhLgpmZXbFqlZb1W43X3kcZGjpsuJJk8ig6XHlA/Yquc9TDREQWIMyE4Ya001ZbP16mnC8s0rLtfyGMbgRyZV8SMQgkDMLLZF6O8nIHfczgBu3jteA+wnFPkH8s6D2hl+DcWyrtAg4uwh83g05eyLJEmPqMXZgJjJcugD/p1z4oyq8ygC0TEVmA0HeSF5BNfXEf8sN+XGN/sD+f7H35Jwp0/zDPrXkRyifKNDq5l7DRL7SDwL22nETHFQukk3vQrS8ApbxE32vzz6aNWXnyCHJA+pLJJ15CUh9o67fv2KOnOLOsOpkZsmRA+mMRWcZDfGLqr//uZ+ad9z/RZ4gO4wdy4NAxsyV9n46buGbrFWLLAv0DoPwi/vsRyDzPjp0OHj4u/XSaXrfhvLsqZ9Y3VYDtYo0bGeew0oKVI6+9VltfyF28WGxycvNNt94f6DUOU2PCJqjdRDZt22MOH/M+8WTtqnkk5W6BENkMydfo5fYWNh+Xr91q0ncd0LJKHtrr/B90X03FbU9kEfZ43Pn7x80fn3pN3/CRl0HhOHiCQyTuf+R5GXAe02u8fWWfBcKeik7d3tcDIOzeD8T/xsSPcIMU4He7AAmyK/ucOJgB8aqW0YrPEfgIS4asv18flZHOlT0tCG/iX6vTTCsqh07MmONdJxx46Y3GpkA6V4jKS0KQGRBx3a8zXoPkkBywadbxfH37u2HrLh0UsFyNN7gMFGiIM49ky2DUO/HzxKmzZv2WnermfsrAmXOFZu2m9JiNbCIiS7mIHnwnAwbIzFp26txZiazFAw8+aFauWq1lJxGhoFwRBpk5a7bp1dubHULaCelM255utmzdZtLTvWfu2LGTkhWEvZHM3pIG/uaHVhlAaAiHoJsBMTJw8Kdm1GjvYBwb5+fy+5OBg9SNNG3azBwRIr1q9RqzP8M7QKZZ8+Zmxy5vmSakuomEYdavXv0GOthEZs2eY3q//Y660c1zBT2vBWG4Nzs3zxzMPKR6f1CQZ+LFAHnEswbZIFlQztC5eOlSs2jJEjN12nQzcfJkM2fefCWaayS/j2bn6NLOWUJuc/JPVGhWtkTKEzPzCxct0d8VTr/Ur+g6Rz1MhsgSztZr/kbXX2m+A+s07QrCwBC3/8Um/bj38uw7vTeoX4+GPx3JIlHao3X6yYAdQFq/eIhlg8oAepMhssCmg8eITrtn77LPQ3gkKC/IM+6z1+RPwjSAZMP5Ye8JSrvfHzd/EcJp2ZI0RocPAs/Dc2IH9mizWiDZe5NBPCKLcHL2H+571HTp0Vd/R4cBEHWeKSPzqJm3ZK2Zv3SdEh9esvCSYtuO/Wbj1t1ab+mnCbfvQJbJzitQ0kvc2GfHnkyzbtMOc/b8RX1epODMeemnvckDyC3xMEPLi2lmEIOW6/8QgX1ijRuxFfv72WqAwBvYz83kzGYZ2yK6RP0r7xR2/70ASdu53xw4dFz+Zui4Crvyd82GdH3pT1mOvg8Q7vRZxlI7zL6D3sw56Tl99oL0KQVmT8YRc+Dw8ZTKp1qXL1+Wwchlc1k6Ipaf3W64fv26LqErkIFIbm6+dLqXdJlfULizMpg4efKUDCRPmgsXCvXa1197+3pu4H/uvM5yXL5yRUhXll4jzLUoXWHIIIRDKgL9bhPEsmth4UVz+MhRtSFLMblWVFSsy3xu3JAOV8Lhz/VSOq9e1fzTPLlxwxQXX9K8wI8ZDt5Q2TwBmYeOeGVf8gJ3SUlJmfzit+aT6i7t55AcyBM+r8GLoiPHcjRfyAfeODJjgpsZGeoObg7YIKzNX+xOPnFYCOUhWr8NQ/4xcx+UT57fLUDynbw/evSo2bRpk2LDhg1miZCNQ4cOaXqIM/DeUvCWFRecPm2OHz+uzwayso5KHfA+PcKAnGvHjh0zZ+Qabtqkw4cPaxr4W1xcrNepN4TD7cV/Vd25eXkmPz8/dL1E/544cULat1x1Y5sjR45IHfOW5dGGcf1IVpbUqwvqLrx4UcPw7MRp86WgoMAcz85Wd7LPfEX+nj9/Xu/9YeK0uVhUpM8abIMkIbbG/uQdOHnqlDkloLxg/9NnzsgA9oK2RWfErXHKPYG6EsJbbk7e7t27V3QKsb1lXRFE1zmvTnp6g+qkQ82A5o3kP2XL5VMlQeyJfCNtOu7AMLcCO26Uv9F+tMtsQ/G2tuXo7+gwgDymT87NPyXh8vWFP/vSvXa9RFfEZdFPh/pm9hCzTYvtXkeP5+nzoCM754Q5kJml/TJtCO3UxYtF2tfrb+EW/IXMZ0i402ci128HMGa9JP139HXGNxz2dvPm12pvxrJ5+Sf09zdynWtZR49LX54faC+unZW8gHMcOnLcnA7ZG7tnHDxicnJPxLSz3iv3kW/HsnNLXTslfRlbITixO9b9NRG1iouLdGDEoIbB1e2IPBn4nTx5QnDSZMsgLSgMYCBow+Xk5JTxzwv5o+PUqZNl/IMQL77bBUF2zZW/0TbEz17jnlMS3u8fBP89DAqj7W2vZWcH+1tomIDrDsmDPCM/8vPzwnbmmnVTf6w7R/7iZ+8F+EVfi4bmU0hHLL/yw7uf8nnu3LlSgCCWRzdhvfYmUnZx2+eyYbhGONzYgrKJm7/hOiL3WD1+/SdCRMhe5y+/bVqBX48NQ32y6fDqjdSHUFgbhjSV95kB+tD9QwXPF/Tc5YNn93xeRFhIvmFz/KkfNh6uqbuc+eAHeUheUoa8a7euywKd0Yjn51BzYMtSkJ9DzUK8fGIs5dXrSHsfC3l5udofA9xcox2w12w8+IHcXK//1vuPHZO+4aSQ2hIla0VFRYpLl4rNFSEXuOEX/L1y5bKGuxwK5/GOHzj0OYs9xHlm7HHtGi+RrpSy2bXQi8Uge3Ht8mUhyGLPkhIhnCG7cg07Y++g++y95BfhSiRO0mavcT/piHd/TYQQ2WJltLzhXb16tVm1apX+dXBwcHBwcHBwcHBw8GPlypVm69atSoDChM3BoRoQJrIsbVu/fr1Zt26d/nVHwX1kAAASJUlEQVRwcHBwcHBwcHBwcPBj7dq1Zvv27Y7IOlQ7HJF1cHBwcHBwcHBwcEgKjsg61BQ4Iuvg4ODg4ODg4ODgkBQckXWoKXBE1sHBwcHBwcHBwcEhKTgi61BT4Iisg4ODg4ODg4ODg0NScETWoabAEVkHBwcHBwcHBwcHh6TgiKxDTUEpIguJpXDy18HBwcHBwcHBwcHBwQ8+wZOWluaIrEO1I0xk+bj/5s2bzaZNm/Svg4ODg4ODg4ODg4ODH3CFXbt2OSLrUO2oVVRUJAURMnvJFF28aAoLC02xXCsuLlL3xYvyW9yE43dR0UX9fdGGFTfhvbCeH2G8sOXQQ9gEetChYSusJxTWrycUtpQe+Z2snjJxhvxs2NJ6QnEmk/YoPdigcmx5sdL0aFi/nlDY5PREhfXpsWGtn40zKT0SNlpPsC2tnlDaA/SUSXugnigbJKMnnHarJyBPQmGT0xMJe5GwPj02rNWjcSahh9+Ei6tHfierp0ycUXpId0SPFzYpPeE4Q3oqLU8C9ITClk9PKGwcPTZssJ4k4oyrJxTnrdigsvRgS8Im0iO/4+sJhRW3jTMwT8rosXHG1hMOm5SeqDiD9ESl3fPzwsbVEw4brAcdNmxMPaXijKXHF6fVEwobX4+NM7aecNhAPV7YmGkP0hNgg4R6CJtQTyTOsJ5Q2O9Fj/wO1hMVVtxl4gz5heMspScUZzI2iNZTibasND2E9esJhU1OT9mwVo8Na/00zgroCbal1RNKe4CeMnFWlp5w2q2e729cwV8mwi4JmVC3kFq4BGEgGOon1/DjL78t+SAc4dUvHLa8eojfCxtfj40zOT2RsJ4eL2xiPRpnoJ6gOPGT32E/L2y0Hs2bW9Dz/dkyvh4N69MTHdbT40/7ZV/ak9fjD1vrxo0b5uy5C+bIsVxz9nyh+frrr03uiQJzLOeEuXr1mrl0+Yo5ejzfnCw4o34Fp8+ZLPldVHTJXL9+w2TnnjQ5+afMDfG7UFgkfnnmzNkLGjb/5GnRk2+ulFw1V66UmGPZ+ebEKU/P6bPnNWzhxWJDGnLyTglOqs7ComL1IwxhT4T0XJa0oIu0oRs/0k56iFv1SFrQc+3aNU3jUYmz4Iyn52TBWdVTLHpKrl41x0N6uO+cPDvPef7CRf2NDXg2bFBcfFnTzrOj59Rp0SO/i+Q6/oTLk/Dcx/3oQR+/8+X68dwTmm5sSfwn5X70kC70XJTnJb2km3ivXbuuz0Paeb4bN7DlGdVzWeyIHUg7z0Mcp8Xe6MGW3IsNcgXoxJb4kSeExf7cS1rIE3RyDT/iIixxoyc3v0B18YykkbSTJ4QlbvQUX7qsz3ZcbHBC0nj9+nV9dsJaPdiG/MXm2Iz8Oy3Pjp5TYlP0cL1E9GBL8oT7zokt0YNNr4lerueI/5UrVzVPuI88uS561Jaq55LGgy2xPTYgHeghXVYP8fD8xVIR0HNKnoeyx/Ohh+fluXl+0n8VW1709Jw9V6hh1Zaih/zAntgSu+B3BluKHvIEPdgS4NY8ET/CEFZtKfeig/wlbejGBsRlbUkaKB+kSW0p5VttKWlGj7Wl5klID+XGs6U/T655thQbYXNsprYUG6IHm6oesTF5S97ln/DyhLxQW4o+fodtKeFK5YnoIY/DeYKekC3L5InooY6H80TSjx61peStlm/57eXJVS3b2FLLd0gPZZc4T4RsefmK2DKUJ6XKt4TVPMGWtnyjJ0b59vIkpEfS6OkRW/rqiVe+pa0QPbaeFJw5FyrftDnkidd2aZ6ILXkurSeiB5tSbyiv+FNGvHqSr3lK/cem/MbGXvkWG0h44tA2R/SE2xxJJ+klHLYkfp6HNkfzRMJSdrR8o0fsQHp4Hn+bQ33GBtQ3bIkebKl6xE6ExW7YgDzRdlfyAPviRxjCcg/3Ura1zRE3acSPuPztN2nBBtTTItFNW4otCcszkHbyhGdDD7bH75zkCX0GbQZ9EbbBBpQRbEl6rA3IE/RiG/KMcMSreuR+9Ni+EP2kHVsRr6fH3xfm+frCE1KeTqofz4MfdZzfPC/5Rz3ABsckfuomftiJsNiStPP8AHtwDb/TIRtQBkkDtsQG6KQ84UdchCVuflO21QbYUuogfqQZP2yBDXgmnq2ULeXZCYst+I1t0EM4bKY2CPVhakv5jY2xtbWlLZfoob4QFv34h/tCX57Q9pAery+UPkyenzIVLpfiR1khrPaFkl7siB1Kl8sLmh7KIHlCfmAHdKIbP3+5RA9p0T4MPaKbsk9chCVu0uCVb68vxJakvVS5lHtt3eQZyW9sYOu4lkv5jQ3IW8oB4bWtiKrj6CcewuX5213VE6nj+GMDtaXET17g5/WFni3RQ70k3nC7K3p4Pp6L8kR6w+2l6OF50MOYAT22vcSO5C06uYYfZY6wakvRQ1rIE9wn5Rp5QFyEvSD9J2lAh7a7osdrL+nDvPQQN2nw+jCvvSRPKMNqS/TIM6CHZ4r0YV47R56gB1uqHrnu9WGRcUWkD5NxhfzmOv5lxhWSdvShN9yHaV8YPK6wfRjPb/sw8gQ9lDn02DzRPkz0YFerh3qietSW6AkYV4T6QtoFT0/wuIJ2WG1J3pInqscbV9DXhPNE4iYNdlxROk+ixhUQDnk2nhGb4WfbCmxq00OcV0pKwvXNG1td17+UPWxpywh2IH7a26O0FecvqB5tKyTOy6rHG8d7NhA9ofYb/cTjtbte2slT1YMNyFvRw3NevlxiioT4EL+1gdfm5AlBL9K85bkoB+jRPlX8zqgNvDLi6ZE8kbxFj2eD62onwqotQ30zacLNNfy0XEpY4uZZ0OHV23x9VvzI26zjuZ4txSY8EzaiTWHsiR5sSH2jbvG7SPSoLcVW2l6KHmyYJXyOvOE318lPrSfYUu6jD0MP+lSPXMcfPcTLfZq3x7w+TNtAbClpLxGbEy/3nTjltXMFkifEeZG2QuxHurEnenge+KUd85Mn5B/pviRlCj1cUz1iJ8JiN+7FjujCTftxRNJTcMazAfbnXuxY6+q1G1KwrsjDX9S//D5fWCwFokgKyTWJ7Kr6FV6UxlUKRmHRZf19SQpGyVUGyEUanvsYrOF3URoDwl6Qh7J6rlyRQiZ+F1TPDSmEnp7ikJ7z6LlQrG6uqR4JQ1juQQ9pQRduq4cGTPVI3CU0UpIWdJWIMUmjXw/PQEEvo0fitDZAD7/9NkAPaefZVY9k+rnzRXo9rEfCa9pDNvBsCSEtbUvi5378SBd6rS15fuL19HhpVz3yO2IDq6conCfYm/SEbYkNVI8MPDTtRV6eiJ9ng5AtyZOQHu4jLtJD3H49YRtIWNKMn9rA6gnb0ku76pHfnh4aai9PPD1e2iN6JO3ym+tl9IgtPT0MXL3yFK2HdOCntvTpwZZenjD48vSQLk+Pl3aeP2zLMnq8vOX50XPF2tKnx29Lf56oHmsDnx5rS6uHPFE9PltG6/Fs6eUJaYifJ17a0UHnjZtnVT1qg1A9IU/UlsF6ytqydPnGD3389mxZWk8iW0byxCvfET3+euLTQ/mO0gM8PcnniWfLUJ7I77Atxe3liddWqJ6APAnbEj2+euKVb/SUtqXXXkb0kHbVo2n36wnZQK7j79nS2iBUb1UPbUUoT6Sh92xQus1RPb52N2wDub90mxNfj7/NKaVHrtk2R9tLeV7uVVuKDVSPXMNP2xxsEM4T6QdEF27SiB9xqR5fm4M/bmyJX3S7S1rIe8Kim0GbLQfE7ZHpS+pPHF7aI+0uf9F7iTyReLjPhqVc46c2oO8JpcfaQNMTsgHpUj0hG0T03HpfSFjCAfIgbMuQDbjnbMgGni1FTyjOcJ5I3OgJtqUXJ8/A74ger1ziZ/MEW/j1XCkRPdYGVo+1pZQn8oRw1palyhNpD+sJlSd5Ds+WERtYW+p4QMLjJm89PREbqJ4YfSFhS5XLkB5rg7Ll0mcD9EjYUuMKq4c4JRx6tE/VPLF1M9Jeenq8OHl2wobbS58NInXci9Nrvz0bhPWEbRClJ0YdZwykdVx+Wz2l+0Iv7Tyfpydig1J6xA878RtbRvc9XNP2Up6PsH5bhvXINfzUBiE9tt5aPWpL8SMu1ROyJTrCNvDbUuL08sSOK6L0yLN7ekI2kMGyZ4OIHrWl6PFsGd0XRtmgjC2j8kR+ky5+x7VltB5rA5snpCcJW5bKE78ecXt5gi3LkScSd6m+UG0QbUufnuhxRak88cp34jzx8jZSLkVPqTwpXb4jeeLpKWvL0n2YV75L5wnhythS9UTqm7VBUD2xtozWQ73VPJGw0eVb9WAD8Qu3OaVsGSnf+JHmwDZH3J4tbT9QWg9pUj0SXvXI/X49XMefcNie9HC/p8dLu60nhCNe7XtCekgXYf154tnA9oWx229PT+l2NyhPuKZ6JIym3a9HyglurqketYHXh9GPMq6oxX8YHBZN4Mjv6xoRA2LeDuCHO+KHAfl9PeznheW3dx/XNWzI2J4eEu/pI07vPu+6pydxnOG04qe/I35c1/tsnPpb4gz5+eP09PBb/qJH4vTi9/SrnpBemx4vzhg2KBVnxC8oTgqxPleZOO1vvw28sNYdHSd/A9MTjjOi1/OzcZT+rXpKpad0nJ4eG2dpv4gez89Lj/wOpc/6cU316H2hONXP/o7ojeSt1eOP03OXL07PHfHzUKoclNET8fPCci/+0ekpHSduT48/Tzw/T0/pOEvrKe0XsY8/Tk9vcHrKxumVWc8d8ZOwUhcjaYi4g+OUv/Lbs2WUn9gqotf6xSiXGtbawHN7emyc1s/GyW/PXVZPtA0i7shvuS9UJiLp8fTHizPiV1ovaS6dHnufPz3ilyBO/patb5HfpZ8r2gaROMN5wr2hOK1fWI/8DbeBgW1OKCztd9iPeyNhrX08Pb70aJyR9Hhho+L06fHHqX4Sp73P0xMJG47T9kvSgdH5McDgTT2dmR1c4vYGUgwyQr/lL2G9uOLHqW1yUJzi9tIjdg63yZ4+vx/X9T7VS9io5ySspN17Ls8vcV/IM3u/S6cnFIfqCeUJv/W5SqcnmTjL2ln+yvVI2IjecHo0TpueGHGqDbwBsKfHH6c/PV6cnh5PP9es3mgbaBzWT8N6caoe9fPs4+mxvyNx0u55fp6O6Di1jpdKjwfvt2fn+HF64ayf1ikNWzrOsJ/GYe1jf0fitHkb0eOFt2HDz+WLU/1ixhl5Zn+cXjnw3KX0hPRav0hY77k9P39Y4rR+tvyUtU9ET/R99nckTv5G0mr9ImE9G0TitO7Iby+cF6f8LuUnYaVM2HiC47R+0XF67ohflN6Qu6wNiNOmh3s9txc2Eqfn58XptfXWL1pPlA1KIu5IWLkvVCYi6fH0e8/hj9NzU+Yifr441e3FGfHzdHl6ffYJl8OgOMVPfpeKM+z2wpZ6Lrle2gaROD37hMLGijN8X2k7e2E9P41T65u9zx+nTSt6rZ/n9uK0fr60632eXzis3huJU9Oj7XckTs/Pg40zzB2snqg4rZ8/zjLpkWvBcVq/0nF6fhE34cN+tv32+Xl6rF5fOQj5aVhJtxeH5xfUL5WOU8JqP+DrMzSsEFkNGArk3RRyh34n41aIO6wjGbfAryMZt0LcYR3JuAV+Hcm4FeIO60jGLSjjDv2O5VZEucM6/G5B0u7Qb79bEeXmTWDY7fNL2h36rXp8fmXisb/9bkHS7tBvv1sR5Q58Hr9bENcd+h3LrRB3+L5k3AK/jmTcCnGHdSTjFvh1JONWiDusIxm3oIw79DuWWxHlDuuI5RbEdYd++92KKHe1lnG/WxDXHfpdyo2/L5zq87utn98tiOsO/Y7lVog7fF8yboFfRzJuhbjDOpJxC3h+742791YWckSnHg/c771Z9mYGkoon2h36HcutiHKHdcRyC8q4Q79juRVR7kor4z63Isodvi+WWxDXHfpdyo2/L5zq87utn98tiOsO/Y7lVog7fF8yboFfRzJuhbgTPo/fLSjjDv2O5VZEucM6YrkFZdyh37Hciih3WEcst6CMO/Q7llsR5a4xZUIQ1x36XcqNvy+c6vO7rZ/fLYjrDv2O5VaIO3xfLLcgrjv0O5ZbEeUO64jlFpRxh37Hciui3GEdsdyCMu7Q71huRZQ7rCOWW1DGHfody62Icod1xHIL4rpDv2O5FeIO3xfLLYjrDv0u5cbfF071+d3Wz+8WxHWHfsdyK8Tt3XfN/P8mBY0XR/quswAAAABJRU5ErkJggg==)"
      ]
    },
    {
      "cell_type": "code",
      "execution_count": null,
      "metadata": {
        "colab": {
          "referenced_widgets": [
            "ec697c56e82f4465952b87389183bb8e",
            "6102fd41d45548d197a234515a7c7c48",
            "2d384cc22b894f78af100882f8a32325",
            "58149694b9704ebe998aa3999b8e1572",
            "565c947d491347b08e19a62523e7ff81",
            "526f8dbea53344259260b5208e6aa063",
            "31008bc808324080bde9623719aa1d2c",
            "1f18961eccbf47f5941f252e54b3f426",
            "025271507f2341c584988cb9ada12ca5",
            "3d754cfba06a4db4a4b56b9795381bb7",
            "3749ff30e9954528aa93c716c130296d"
          ]
        },
        "execution": {
          "iopub.execute_input": "2024-05-24T11:28:08.411018Z",
          "iopub.status.busy": "2024-05-24T11:28:08.410356Z",
          "iopub.status.idle": "2024-05-24T11:30:41.623946Z",
          "shell.execute_reply": "2024-05-24T11:30:41.622837Z",
          "shell.execute_reply.started": "2024-05-24T11:28:08.410976Z"
        },
        "id": "CBsUr2TJhqaZ",
        "outputId": "dd34a76c-468c-431a-ff73-d5c881f66344",
        "trusted": true
      },
      "outputs": [
        {
          "name": "stderr",
          "output_type": "stream",
          "text": [
            "/opt/conda/lib/python3.10/site-packages/datasets/load.py:2547: FutureWarning: 'use_auth_token' was deprecated in favor of 'token' in version 2.14.0 and will be removed in 3.0.0.\n",
            "You can remove this warning by passing 'token=<use_auth_token>' instead.\n",
            "  warnings.warn(\n",
            "/opt/conda/lib/python3.10/site-packages/datasets/load.py:1486: FutureWarning: The repository for google/fleurs contains custom code which must be executed to correctly load the dataset. You can inspect the repository content at https://hf.co/datasets/google/fleurs\n",
            "You can avoid this message in future by passing the argument `trust_remote_code=True`.\n",
            "Passing `trust_remote_code=True` will be mandatory to load this dataset from the next major release of `datasets`.\n",
            "  warnings.warn(\n"
          ]
        },
        {
          "data": {
            "application/vnd.jupyter.widget-view+json": {
              "model_id": "ec697c56e82f4465952b87389183bb8e",
              "version_major": 2,
              "version_minor": 0
            },
            "text/plain": [
              "Downloading builder script:   0%|          | 0.00/12.6k [00:00<?, ?B/s]"
            ]
          },
          "metadata": {},
          "output_type": "display_data"
        },
        {
          "data": {
            "application/vnd.jupyter.widget-view+json": {
              "model_id": "6102fd41d45548d197a234515a7c7c48",
              "version_major": 2,
              "version_minor": 0
            },
            "text/plain": [
              "Downloading readme:   0%|          | 0.00/13.3k [00:00<?, ?B/s]"
            ]
          },
          "metadata": {},
          "output_type": "display_data"
        },
        {
          "data": {
            "application/vnd.jupyter.widget-view+json": {
              "model_id": "2d384cc22b894f78af100882f8a32325",
              "version_major": 2,
              "version_minor": 0
            },
            "text/plain": [
              "Downloading data:   0%|          | 0.00/1.26G [00:00<?, ?B/s]"
            ]
          },
          "metadata": {},
          "output_type": "display_data"
        },
        {
          "data": {
            "application/vnd.jupyter.widget-view+json": {
              "model_id": "58149694b9704ebe998aa3999b8e1572",
              "version_major": 2,
              "version_minor": 0
            },
            "text/plain": [
              "Downloading data:   0%|          | 0.00/132M [00:00<?, ?B/s]"
            ]
          },
          "metadata": {},
          "output_type": "display_data"
        },
        {
          "data": {
            "application/vnd.jupyter.widget-view+json": {
              "model_id": "565c947d491347b08e19a62523e7ff81",
              "version_major": 2,
              "version_minor": 0
            },
            "text/plain": [
              "Downloading data:   0%|          | 0.00/249M [00:00<?, ?B/s]"
            ]
          },
          "metadata": {},
          "output_type": "display_data"
        },
        {
          "data": {
            "application/vnd.jupyter.widget-view+json": {
              "model_id": "526f8dbea53344259260b5208e6aa063",
              "version_major": 2,
              "version_minor": 0
            },
            "text/plain": [
              "Downloading data:   0%|          | 0.00/2.35M [00:00<?, ?B/s]"
            ]
          },
          "metadata": {},
          "output_type": "display_data"
        },
        {
          "data": {
            "application/vnd.jupyter.widget-view+json": {
              "model_id": "31008bc808324080bde9623719aa1d2c",
              "version_major": 2,
              "version_minor": 0
            },
            "text/plain": [
              "Downloading data:   0%|          | 0.00/250k [00:00<?, ?B/s]"
            ]
          },
          "metadata": {},
          "output_type": "display_data"
        },
        {
          "data": {
            "application/vnd.jupyter.widget-view+json": {
              "model_id": "1f18961eccbf47f5941f252e54b3f426",
              "version_major": 2,
              "version_minor": 0
            },
            "text/plain": [
              "Downloading data:   0%|          | 0.00/473k [00:00<?, ?B/s]"
            ]
          },
          "metadata": {},
          "output_type": "display_data"
        },
        {
          "data": {
            "application/vnd.jupyter.widget-view+json": {
              "model_id": "025271507f2341c584988cb9ada12ca5",
              "version_major": 2,
              "version_minor": 0
            },
            "text/plain": [
              "Generating train split: 0 examples [00:00, ? examples/s]"
            ]
          },
          "metadata": {},
          "output_type": "display_data"
        },
        {
          "data": {
            "application/vnd.jupyter.widget-view+json": {
              "model_id": "3d754cfba06a4db4a4b56b9795381bb7",
              "version_major": 2,
              "version_minor": 0
            },
            "text/plain": [
              "Generating validation split: 0 examples [00:00, ? examples/s]"
            ]
          },
          "metadata": {},
          "output_type": "display_data"
        },
        {
          "data": {
            "application/vnd.jupyter.widget-view+json": {
              "model_id": "3749ff30e9954528aa93c716c130296d",
              "version_major": 2,
              "version_minor": 0
            },
            "text/plain": [
              "Generating test split: 0 examples [00:00, ? examples/s]"
            ]
          },
          "metadata": {},
          "output_type": "display_data"
        },
        {
          "name": "stderr",
          "output_type": "stream",
          "text": [
            "/opt/conda/lib/python3.10/site-packages/datasets/load.py:2547: FutureWarning: 'use_auth_token' was deprecated in favor of 'token' in version 2.14.0 and will be removed in 3.0.0.\n",
            "You can remove this warning by passing 'token=<use_auth_token>' instead.\n",
            "  warnings.warn(\n",
            "/opt/conda/lib/python3.10/site-packages/datasets/load.py:1486: FutureWarning: The repository for google/fleurs contains custom code which must be executed to correctly load the dataset. You can inspect the repository content at https://hf.co/datasets/google/fleurs\n",
            "You can avoid this message in future by passing the argument `trust_remote_code=True`.\n",
            "Passing `trust_remote_code=True` will be mandatory to load this dataset from the next major release of `datasets`.\n",
            "  warnings.warn(\n"
          ]
        },
        {
          "name": "stdout",
          "output_type": "stream",
          "text": [
            "DatasetDict({\n",
            "    train: Dataset({\n",
            "        features: ['id', 'num_samples', 'path', 'audio', 'transcription', 'raw_transcription', 'gender', 'lang_id', 'language', 'lang_group_id'],\n",
            "        num_rows: 2359\n",
            "    })\n",
            "    test: Dataset({\n",
            "        features: ['id', 'num_samples', 'path', 'audio', 'transcription', 'raw_transcription', 'gender', 'lang_id', 'language', 'lang_group_id'],\n",
            "        num_rows: 418\n",
            "    })\n",
            "})\n"
          ]
        }
      ],
      "source": [
        "from datasets import load_dataset, DatasetDict\n",
        "\n",
        "fleurs = DatasetDict()\n",
        "\n",
        "fleurs[\"train\"] = load_dataset(\"google/fleurs\", \"hi_in\", split=\"train+validation\", use_auth_token=True)\n",
        "fleurs[\"test\"] = load_dataset(\"google/fleurs\", \"hi_in\", split=\"test\", use_auth_token=True)\n",
        "\n",
        "print(fleurs)\n"
      ]
    },
    {
      "cell_type": "code",
      "execution_count": null,
      "metadata": {
        "execution": {
          "iopub.execute_input": "2024-05-24T11:30:45.662487Z",
          "iopub.status.busy": "2024-05-24T11:30:45.662158Z",
          "iopub.status.idle": "2024-05-24T11:30:45.675095Z",
          "shell.execute_reply": "2024-05-24T11:30:45.674218Z",
          "shell.execute_reply.started": "2024-05-24T11:30:45.662463Z"
        },
        "id": "XqhjCkHvhqab",
        "trusted": true
      },
      "outputs": [],
      "source": [
        "fleurs = fleurs.remove_columns([\"id\", \"num_samples\" , \"path\", \"raw_transcription\" , \"gender\" , \"lang_id\" , \"language\" , \"lang_group_id\"])\n"
      ]
    },
    {
      "cell_type": "markdown",
      "metadata": {
        "id": "J3ScU4tElR7R"
      },
      "source": [
        "The ASR pipeline can be de-composed into three stages:\n",
        "1. A feature extractor which pre-processes the raw audio-inputs\n",
        "2. The model which performs the sequence-to-sequence mapping\n",
        "3. A tokenizer which post-processes the model outputs to text format\n"
      ]
    },
    {
      "cell_type": "code",
      "execution_count": null,
      "metadata": {
        "colab": {
          "referenced_widgets": [
            "108fde7e494748ff8ce1048a311cbbfa"
          ]
        },
        "execution": {
          "iopub.execute_input": "2024-05-24T11:30:50.398899Z",
          "iopub.status.busy": "2024-05-24T11:30:50.398521Z",
          "iopub.status.idle": "2024-05-24T11:30:54.801337Z",
          "shell.execute_reply": "2024-05-24T11:30:54.800426Z",
          "shell.execute_reply.started": "2024-05-24T11:30:50.398868Z"
        },
        "id": "2LgTiIMphqac",
        "outputId": "e7e3ba47-fa2d-4f05-b9a3-9e9db000662c",
        "trusted": true
      },
      "outputs": [
        {
          "data": {
            "application/vnd.jupyter.widget-view+json": {
              "model_id": "108fde7e494748ff8ce1048a311cbbfa",
              "version_major": 2,
              "version_minor": 0
            },
            "text/plain": [
              "preprocessor_config.json:   0%|          | 0.00/185k [00:00<?, ?B/s]"
            ]
          },
          "metadata": {},
          "output_type": "display_data"
        }
      ],
      "source": [
        "from transformers import WhisperFeatureExtractor\n",
        "\n",
        "feature_extractor = WhisperFeatureExtractor.from_pretrained(\"openai/whisper-medium\")\n"
      ]
    },
    {
      "cell_type": "code",
      "execution_count": null,
      "metadata": {
        "colab": {
          "referenced_widgets": [
            "4406e308304b40aaa03dfe27a17ca87b",
            "d1a0596ffb754b4ca24b85f1ad6a160a",
            "a8ca3692416a4506adaadbbef25a153b",
            "cb00fbec66044961a5cd19965dddc4e8",
            "dcd899b721374a8982c9d053e829cb35",
            "f8531b8215ac4a93a29c5d8100754255",
            "7e6cc52e698543849d568b7b87e65153"
          ]
        },
        "execution": {
          "iopub.execute_input": "2024-05-24T11:30:59.971693Z",
          "iopub.status.busy": "2024-05-24T11:30:59.971177Z",
          "iopub.status.idle": "2024-05-24T11:31:06.139981Z",
          "shell.execute_reply": "2024-05-24T11:31:06.139191Z",
          "shell.execute_reply.started": "2024-05-24T11:30:59.971664Z"
        },
        "id": "FR8Tmc2Zhqae",
        "outputId": "018be960-47ff-4140-9f7b-3a84cbd1fd6e",
        "trusted": true
      },
      "outputs": [
        {
          "data": {
            "application/vnd.jupyter.widget-view+json": {
              "model_id": "4406e308304b40aaa03dfe27a17ca87b",
              "version_major": 2,
              "version_minor": 0
            },
            "text/plain": [
              "tokenizer_config.json:   0%|          | 0.00/283k [00:00<?, ?B/s]"
            ]
          },
          "metadata": {},
          "output_type": "display_data"
        },
        {
          "data": {
            "application/vnd.jupyter.widget-view+json": {
              "model_id": "d1a0596ffb754b4ca24b85f1ad6a160a",
              "version_major": 2,
              "version_minor": 0
            },
            "text/plain": [
              "vocab.json:   0%|          | 0.00/836k [00:00<?, ?B/s]"
            ]
          },
          "metadata": {},
          "output_type": "display_data"
        },
        {
          "data": {
            "application/vnd.jupyter.widget-view+json": {
              "model_id": "a8ca3692416a4506adaadbbef25a153b",
              "version_major": 2,
              "version_minor": 0
            },
            "text/plain": [
              "tokenizer.json:   0%|          | 0.00/2.48M [00:00<?, ?B/s]"
            ]
          },
          "metadata": {},
          "output_type": "display_data"
        },
        {
          "data": {
            "application/vnd.jupyter.widget-view+json": {
              "model_id": "cb00fbec66044961a5cd19965dddc4e8",
              "version_major": 2,
              "version_minor": 0
            },
            "text/plain": [
              "merges.txt:   0%|          | 0.00/494k [00:00<?, ?B/s]"
            ]
          },
          "metadata": {},
          "output_type": "display_data"
        },
        {
          "data": {
            "application/vnd.jupyter.widget-view+json": {
              "model_id": "dcd899b721374a8982c9d053e829cb35",
              "version_major": 2,
              "version_minor": 0
            },
            "text/plain": [
              "normalizer.json:   0%|          | 0.00/52.7k [00:00<?, ?B/s]"
            ]
          },
          "metadata": {},
          "output_type": "display_data"
        },
        {
          "data": {
            "application/vnd.jupyter.widget-view+json": {
              "model_id": "f8531b8215ac4a93a29c5d8100754255",
              "version_major": 2,
              "version_minor": 0
            },
            "text/plain": [
              "added_tokens.json:   0%|          | 0.00/34.6k [00:00<?, ?B/s]"
            ]
          },
          "metadata": {},
          "output_type": "display_data"
        },
        {
          "data": {
            "application/vnd.jupyter.widget-view+json": {
              "model_id": "7e6cc52e698543849d568b7b87e65153",
              "version_major": 2,
              "version_minor": 0
            },
            "text/plain": [
              "special_tokens_map.json:   0%|          | 0.00/2.19k [00:00<?, ?B/s]"
            ]
          },
          "metadata": {},
          "output_type": "display_data"
        },
        {
          "name": "stderr",
          "output_type": "stream",
          "text": [
            "Special tokens have been added in the vocabulary, make sure the associated word embeddings are fine-tuned or trained.\n"
          ]
        }
      ],
      "source": [
        "from transformers import WhisperTokenizer\n",
        "\n",
        "tokenizer = WhisperTokenizer.from_pretrained(\"openai/whisper-medium\", language=\"Hindi\", task=\"transcribe\")\n"
      ]
    },
    {
      "cell_type": "code",
      "execution_count": null,
      "metadata": {
        "execution": {
          "iopub.execute_input": "2024-05-24T11:31:09.845938Z",
          "iopub.status.busy": "2024-05-24T11:31:09.845533Z",
          "iopub.status.idle": "2024-05-24T11:31:29.230402Z",
          "shell.execute_reply": "2024-05-24T11:31:29.229368Z",
          "shell.execute_reply.started": "2024-05-24T11:31:09.845912Z"
        },
        "id": "pGT73iI3hqaf",
        "outputId": "0a5a96a0-c54c-4ed5-e230-de39fd26e15f",
        "trusted": true
      },
      "outputs": [
        {
          "name": "stderr",
          "output_type": "stream",
          "text": [
            "2024-05-24 11:31:20.004299: E external/local_xla/xla/stream_executor/cuda/cuda_dnn.cc:9261] Unable to register cuDNN factory: Attempting to register factory for plugin cuDNN when one has already been registered\n",
            "2024-05-24 11:31:20.004414: E external/local_xla/xla/stream_executor/cuda/cuda_fft.cc:607] Unable to register cuFFT factory: Attempting to register factory for plugin cuFFT when one has already been registered\n",
            "2024-05-24 11:31:20.147342: E external/local_xla/xla/stream_executor/cuda/cuda_blas.cc:1515] Unable to register cuBLAS factory: Attempting to register factory for plugin cuBLAS when one has already been registered\n"
          ]
        },
        {
          "name": "stdout",
          "output_type": "stream",
          "text": [
            "Input:                 राजनीतिज्ञों ने कहा कि उन्होंने निर्णायक मत को अनावश्यक रूप से निर्धारित करने के लिए अफ़गान संविधान में काफी अस्पष्टता पाई थी\n",
            "Decoded w/ special:    <|startoftranscript|><|hi|><|transcribe|><|notimestamps|>राजनीतिज्ञों ने कहा कि उन्होंने निर्णायक मत को अनावश्यक रूप से निर्धारित करने के लिए अफ़गान संविधान में काफी अस्पष्टता पाई थी<|endoftext|>\n",
            "Decoded w/out special: राजनीतिज्ञों ने कहा कि उन्होंने निर्णायक मत को अनावश्यक रूप से निर्धारित करने के लिए अफ़गान संविधान में काफी अस्पष्टता पाई थी\n",
            "Are equal:             True\n"
          ]
        }
      ],
      "source": [
        "input_str = fleurs[\"train\"][0][\"transcription\"]\n",
        "labels = tokenizer(input_str).input_ids\n",
        "decoded_with_special = tokenizer.decode(labels, skip_special_tokens=False)\n",
        "decoded_str = tokenizer.decode(labels, skip_special_tokens=True)\n",
        "\n",
        "print(f\"Input:                 {input_str}\")\n",
        "print(f\"Decoded w/ special:    {decoded_with_special}\")\n",
        "print(f\"Decoded w/out special: {decoded_str}\")\n",
        "print(f\"Are equal:             {input_str == decoded_str}\")\n"
      ]
    },
    {
      "cell_type": "code",
      "execution_count": null,
      "metadata": {
        "execution": {
          "iopub.execute_input": "2024-05-24T11:31:32.983162Z",
          "iopub.status.busy": "2024-05-24T11:31:32.982484Z",
          "iopub.status.idle": "2024-05-24T11:31:34.401133Z",
          "shell.execute_reply": "2024-05-24T11:31:34.400217Z",
          "shell.execute_reply.started": "2024-05-24T11:31:32.983134Z"
        },
        "id": "5_vfxkmChqag",
        "outputId": "e3797869-c898-4bbc-e170-be59e99aa870",
        "trusted": true
      },
      "outputs": [
        {
          "name": "stderr",
          "output_type": "stream",
          "text": [
            "Special tokens have been added in the vocabulary, make sure the associated word embeddings are fine-tuned or trained.\n"
          ]
        }
      ],
      "source": [
        "from transformers import WhisperProcessor\n",
        "\n",
        "processor = WhisperProcessor.from_pretrained(\"openai/whisper-medium\", language=\"Hindi\", task=\"transcribe\")\n"
      ]
    },
    {
      "cell_type": "code",
      "execution_count": null,
      "metadata": {
        "execution": {
          "iopub.execute_input": "2024-05-24T11:31:38.097972Z",
          "iopub.status.busy": "2024-05-24T11:31:38.097634Z",
          "iopub.status.idle": "2024-05-24T11:31:38.106066Z",
          "shell.execute_reply": "2024-05-24T11:31:38.10508Z",
          "shell.execute_reply.started": "2024-05-24T11:31:38.097947Z"
        },
        "id": "jjnyC_GOhqah",
        "outputId": "efcbe792-39d4-4869-d075-14827a49f507",
        "trusted": true
      },
      "outputs": [
        {
          "name": "stdout",
          "output_type": "stream",
          "text": [
            "{'audio': {'path': 'train/10002503286825416621.wav', 'array': array([ 0.        ,  0.        ,  0.        , ..., -0.00179154,\n",
            "        0.0009104 , -0.00036222]), 'sampling_rate': 16000}, 'transcription': 'राजनीतिज्ञों ने कहा कि उन्होंने निर्णायक मत को अनावश्यक रूप से निर्धारित करने के लिए अफ़गान संविधान में काफी अस्पष्टता पाई थी'}\n"
          ]
        }
      ],
      "source": [
        "print(fleurs[\"train\"][0])\n"
      ]
    },
    {
      "cell_type": "code",
      "execution_count": null,
      "metadata": {
        "execution": {
          "iopub.execute_input": "2024-05-24T11:31:41.593086Z",
          "iopub.status.busy": "2024-05-24T11:31:41.592668Z",
          "iopub.status.idle": "2024-05-24T11:31:41.606516Z",
          "shell.execute_reply": "2024-05-24T11:31:41.605703Z",
          "shell.execute_reply.started": "2024-05-24T11:31:41.593046Z"
        },
        "id": "Mr0cE79ohqai",
        "trusted": true
      },
      "outputs": [],
      "source": [
        "from datasets import Audio\n",
        "\n",
        "fleurs = fleurs.cast_column(\"audio\", Audio(sampling_rate=16000))\n"
      ]
    },
    {
      "cell_type": "code",
      "execution_count": null,
      "metadata": {
        "execution": {
          "iopub.execute_input": "2024-05-24T09:56:38.654541Z",
          "iopub.status.busy": "2024-05-24T09:56:38.654167Z",
          "iopub.status.idle": "2024-05-24T09:56:38.663512Z",
          "shell.execute_reply": "2024-05-24T09:56:38.662566Z",
          "shell.execute_reply.started": "2024-05-24T09:56:38.65451Z"
        },
        "id": "LQ2kMkt9hqai",
        "outputId": "919b1b44-47ce-485d-85bb-84ade7192d22",
        "trusted": true
      },
      "outputs": [
        {
          "name": "stdout",
          "output_type": "stream",
          "text": [
            "{'audio': {'path': 'train/10002503286825416621.wav', 'array': array([ 0.        ,  0.        ,  0.        , ..., -0.00179154,\n",
            "        0.0009104 , -0.00036222]), 'sampling_rate': 16000}, 'transcription': 'राजनीतिज्ञों ने कहा कि उन्होंने निर्णायक मत को अनावश्यक रूप से निर्धारित करने के लिए अफ़गान संविधान में काफी अस्पष्टता पाई थी'}\n"
          ]
        }
      ],
      "source": [
        "print(fleurs[\"train\"][0])\n"
      ]
    },
    {
      "cell_type": "markdown",
      "metadata": {
        "id": "Wf5x3XW-lbOE"
      },
      "source": [
        "Now we can write a function to prepare our data ready for the model:"
      ]
    },
    {
      "cell_type": "code",
      "execution_count": null,
      "metadata": {
        "execution": {
          "iopub.execute_input": "2024-05-24T11:31:50.623803Z",
          "iopub.status.busy": "2024-05-24T11:31:50.623439Z",
          "iopub.status.idle": "2024-05-24T11:31:50.629179Z",
          "shell.execute_reply": "2024-05-24T11:31:50.62827Z",
          "shell.execute_reply.started": "2024-05-24T11:31:50.623773Z"
        },
        "id": "Ts3wpb7Ihqaj",
        "trusted": true
      },
      "outputs": [],
      "source": [
        "def prepare_dataset(batch):\n",
        "    # load and resample audio data from 48 to 16kHz\n",
        "    audio = batch[\"audio\"]\n",
        "\n",
        "    # compute log-Mel input features from input audio array\n",
        "    batch[\"input_features\"] = feature_extractor(audio[\"array\"], sampling_rate=audio[\"sampling_rate\"]).input_features[0]\n",
        "\n",
        "    # encode target text to label ids\n",
        "    batch[\"labels\"] = tokenizer(batch[\"transcription\"]).input_ids\n",
        "    return batch\n"
      ]
    },
    {
      "cell_type": "code",
      "execution_count": null,
      "metadata": {
        "colab": {
          "referenced_widgets": [
            "395e002b02594a918247030e2579cbee",
            "b41ab11696b64fa7a9b548cbc3ff8228"
          ]
        },
        "execution": {
          "iopub.execute_input": "2024-05-24T11:31:53.951734Z",
          "iopub.status.busy": "2024-05-24T11:31:53.951364Z",
          "iopub.status.idle": "2024-05-24T11:32:42.574447Z",
          "shell.execute_reply": "2024-05-24T11:32:42.573333Z",
          "shell.execute_reply.started": "2024-05-24T11:31:53.951706Z"
        },
        "id": "vmH-Pnqihqaj",
        "outputId": "e16cea5a-cc11-48d7-d006-99068333de1f",
        "trusted": true
      },
      "outputs": [
        {
          "data": {
            "application/vnd.jupyter.widget-view+json": {
              "model_id": "395e002b02594a918247030e2579cbee",
              "version_major": 2,
              "version_minor": 0
            },
            "text/plain": [
              "Map (num_proc=2):   0%|          | 0/2359 [00:00<?, ? examples/s]"
            ]
          },
          "metadata": {},
          "output_type": "display_data"
        },
        {
          "data": {
            "application/vnd.jupyter.widget-view+json": {
              "model_id": "b41ab11696b64fa7a9b548cbc3ff8228",
              "version_major": 2,
              "version_minor": 0
            },
            "text/plain": [
              "Map (num_proc=2):   0%|          | 0/418 [00:00<?, ? examples/s]"
            ]
          },
          "metadata": {},
          "output_type": "display_data"
        }
      ],
      "source": [
        "fleurs = fleurs.map(prepare_dataset, remove_columns=fleurs.column_names[\"train\"], num_proc=2)\n"
      ]
    },
    {
      "cell_type": "markdown",
      "metadata": {
        "id": "4fk0owQHln6s"
      },
      "source": [
        "We'll start our fine-tuning run from the pre-trained Whisper medium checkpoint. To do this, we'll load the pre-trained weights from the Hugging Face Hub."
      ]
    },
    {
      "cell_type": "code",
      "execution_count": null,
      "metadata": {
        "colab": {
          "referenced_widgets": [
            "073428a5af8c4085a954cc23e6a18984",
            "e616d848272e44d49422b9f9c8be0b0f",
            "9676b8f25ad34c218c33e03d5ae81ee4"
          ]
        },
        "execution": {
          "iopub.execute_input": "2024-05-24T11:32:45.284328Z",
          "iopub.status.busy": "2024-05-24T11:32:45.283341Z",
          "iopub.status.idle": "2024-05-24T11:35:30.267363Z",
          "shell.execute_reply": "2024-05-24T11:35:30.266509Z",
          "shell.execute_reply.started": "2024-05-24T11:32:45.284292Z"
        },
        "id": "MftvcVhVhqak",
        "outputId": "8167df61-2a34-46d4-c2c2-99ae122455cd",
        "trusted": true
      },
      "outputs": [
        {
          "data": {
            "application/vnd.jupyter.widget-view+json": {
              "model_id": "073428a5af8c4085a954cc23e6a18984",
              "version_major": 2,
              "version_minor": 0
            },
            "text/plain": [
              "config.json:   0%|          | 0.00/1.99k [00:00<?, ?B/s]"
            ]
          },
          "metadata": {},
          "output_type": "display_data"
        },
        {
          "data": {
            "application/vnd.jupyter.widget-view+json": {
              "model_id": "e616d848272e44d49422b9f9c8be0b0f",
              "version_major": 2,
              "version_minor": 0
            },
            "text/plain": [
              "model.safetensors:   0%|          | 0.00/3.06G [00:00<?, ?B/s]"
            ]
          },
          "metadata": {},
          "output_type": "display_data"
        },
        {
          "data": {
            "application/vnd.jupyter.widget-view+json": {
              "model_id": "9676b8f25ad34c218c33e03d5ae81ee4",
              "version_major": 2,
              "version_minor": 0
            },
            "text/plain": [
              "generation_config.json:   0%|          | 0.00/3.75k [00:00<?, ?B/s]"
            ]
          },
          "metadata": {},
          "output_type": "display_data"
        }
      ],
      "source": [
        "from transformers import WhisperForConditionalGeneration\n",
        "\n",
        "model = WhisperForConditionalGeneration.from_pretrained(\"openai/whisper-medium\")\n"
      ]
    },
    {
      "cell_type": "code",
      "execution_count": null,
      "metadata": {
        "execution": {
          "iopub.execute_input": "2024-05-24T11:35:34.508525Z",
          "iopub.status.busy": "2024-05-24T11:35:34.507767Z",
          "iopub.status.idle": "2024-05-24T11:35:34.513049Z",
          "shell.execute_reply": "2024-05-24T11:35:34.512123Z",
          "shell.execute_reply.started": "2024-05-24T11:35:34.508491Z"
        },
        "id": "mj2TLvlZhqak",
        "trusted": true
      },
      "outputs": [],
      "source": [
        "model.generation_config.language = \"hindi\"\n",
        "model.generation_config.task = \"transcribe\"\n",
        "\n",
        "model.generation_config.forced_decoder_ids = None\n"
      ]
    },
    {
      "cell_type": "code",
      "execution_count": null,
      "metadata": {
        "execution": {
          "iopub.execute_input": "2024-05-24T11:35:38.415817Z",
          "iopub.status.busy": "2024-05-24T11:35:38.415078Z",
          "iopub.status.idle": "2024-05-24T11:35:38.424924Z",
          "shell.execute_reply": "2024-05-24T11:35:38.424225Z",
          "shell.execute_reply.started": "2024-05-24T11:35:38.415788Z"
        },
        "id": "zxKdwG2Xhqal",
        "trusted": true
      },
      "outputs": [],
      "source": [
        "import torch\n",
        "\n",
        "from dataclasses import dataclass\n",
        "from typing import Any, Dict, List, Union\n",
        "\n",
        "@dataclass\n",
        "class DataCollatorSpeechSeq2SeqWithPadding:\n",
        "    processor: Any\n",
        "    decoder_start_token_id: int\n",
        "\n",
        "    def __call__(self, features: List[Dict[str, Union[List[int], torch.Tensor]]]) -> Dict[str, torch.Tensor]:\n",
        "        # split inputs and labels since they have to be of different lengths and need different padding methods\n",
        "        # first treat the audio inputs by simply returning torch tensors\n",
        "        input_features = [{\"input_features\": feature[\"input_features\"]} for feature in features]\n",
        "        batch = self.processor.feature_extractor.pad(input_features, return_tensors=\"pt\")\n",
        "\n",
        "        # get the tokenized label sequences\n",
        "        label_features = [{\"input_ids\": feature[\"labels\"]} for feature in features]\n",
        "        # pad the labels to max length\n",
        "        labels_batch = self.processor.tokenizer.pad(label_features, return_tensors=\"pt\")\n",
        "\n",
        "        # replace padding with -100 to ignore loss correctly\n",
        "        labels = labels_batch[\"input_ids\"].masked_fill(labels_batch.attention_mask.ne(1), -100)\n",
        "\n",
        "        # if bos token is appended in previous tokenization step,\n",
        "        # cut bos token here as it's append later anyways\n",
        "        if (labels[:, 0] == self.decoder_start_token_id).all().cpu().item():\n",
        "            labels = labels[:, 1:]\n",
        "\n",
        "        batch[\"labels\"] = labels\n",
        "\n",
        "        return batch\n"
      ]
    },
    {
      "cell_type": "markdown",
      "metadata": {
        "id": "tYnTHO5Ll15e"
      },
      "source": [
        "The data collator for a sequence-to-sequence speech model is unique in the sense that it treats the input_features and labels independently: the input_features must be handled by the feature extractor and the labels by the tokenizer."
      ]
    },
    {
      "cell_type": "code",
      "execution_count": null,
      "metadata": {
        "execution": {
          "iopub.execute_input": "2024-05-24T11:35:41.417125Z",
          "iopub.status.busy": "2024-05-24T11:35:41.416777Z",
          "iopub.status.idle": "2024-05-24T11:35:41.421749Z",
          "shell.execute_reply": "2024-05-24T11:35:41.420849Z",
          "shell.execute_reply.started": "2024-05-24T11:35:41.4171Z"
        },
        "id": "jl8fIdMGhqal",
        "trusted": true
      },
      "outputs": [],
      "source": [
        "data_collator = DataCollatorSpeechSeq2SeqWithPadding(\n",
        "    processor=processor,\n",
        "    decoder_start_token_id=model.config.decoder_start_token_id,\n",
        ")\n"
      ]
    },
    {
      "cell_type": "markdown",
      "metadata": {
        "id": "HpMFxRd3lw9x"
      },
      "source": [
        "We'll use the word error rate (WER) metric, the 'de-facto' metric for assessing ASR systems. For more information, refer to the WER docs. We'll load the WER metric from 🤗 Evaluate:"
      ]
    },
    {
      "cell_type": "code",
      "execution_count": null,
      "metadata": {
        "colab": {
          "referenced_widgets": [
            "99486251ea3141b09e47b76b3b2f0b69"
          ]
        },
        "execution": {
          "iopub.execute_input": "2024-05-24T11:35:44.356195Z",
          "iopub.status.busy": "2024-05-24T11:35:44.35556Z",
          "iopub.status.idle": "2024-05-24T11:35:46.189754Z",
          "shell.execute_reply": "2024-05-24T11:35:46.188825Z",
          "shell.execute_reply.started": "2024-05-24T11:35:44.356163Z"
        },
        "id": "xNTImCT3hqam",
        "outputId": "c6e08670-2805-4656-bd0c-d0b606c651d2",
        "trusted": true
      },
      "outputs": [
        {
          "data": {
            "application/vnd.jupyter.widget-view+json": {
              "model_id": "99486251ea3141b09e47b76b3b2f0b69",
              "version_major": 2,
              "version_minor": 0
            },
            "text/plain": [
              "Downloading builder script:   0%|          | 0.00/4.49k [00:00<?, ?B/s]"
            ]
          },
          "metadata": {},
          "output_type": "display_data"
        }
      ],
      "source": [
        "import evaluate\n",
        "\n",
        "metric = evaluate.load(\"wer\")\n"
      ]
    },
    {
      "cell_type": "code",
      "execution_count": null,
      "metadata": {
        "execution": {
          "iopub.execute_input": "2024-05-24T11:35:48.796356Z",
          "iopub.status.busy": "2024-05-24T11:35:48.795485Z",
          "iopub.status.idle": "2024-05-24T11:35:48.802043Z",
          "shell.execute_reply": "2024-05-24T11:35:48.801018Z",
          "shell.execute_reply.started": "2024-05-24T11:35:48.796323Z"
        },
        "id": "Y7LSKvunhqam",
        "trusted": true
      },
      "outputs": [],
      "source": [
        "def compute_metrics(pred):\n",
        "    pred_ids = pred.predictions\n",
        "    label_ids = pred.label_ids\n",
        "\n",
        "    # replace -100 with the pad_token_id\n",
        "    label_ids[label_ids == -100] = tokenizer.pad_token_id\n",
        "\n",
        "    # we do not want to group tokens when computing the metrics\n",
        "    pred_str = tokenizer.batch_decode(pred_ids, skip_special_tokens=True)\n",
        "    label_str = tokenizer.batch_decode(label_ids, skip_special_tokens=True)\n",
        "\n",
        "    wer = 100 * metric.compute(predictions=pred_str, references=label_str)\n",
        "\n",
        "    return {\"wer\": wer}\n"
      ]
    },
    {
      "cell_type": "markdown",
      "metadata": {
        "id": "yjC1dyOql9wq"
      },
      "source": [
        "We'll train the model for 1000 steps saving every 250 steps."
      ]
    },
    {
      "cell_type": "code",
      "execution_count": null,
      "metadata": {
        "execution": {
          "iopub.execute_input": "2024-05-24T11:35:58.700912Z",
          "iopub.status.busy": "2024-05-24T11:35:58.70018Z",
          "iopub.status.idle": "2024-05-24T11:35:58.821316Z",
          "shell.execute_reply": "2024-05-24T11:35:58.820432Z",
          "shell.execute_reply.started": "2024-05-24T11:35:58.700877Z"
        },
        "id": "9zNQRQAKhqam",
        "outputId": "f5cc3f80-eb2a-4499-fa2f-57c62c9d02c1",
        "trusted": true
      },
      "outputs": [
        {
          "name": "stderr",
          "output_type": "stream",
          "text": [
            "/opt/conda/lib/python3.10/site-packages/transformers/training_args.py:1474: FutureWarning: `evaluation_strategy` is deprecated and will be removed in version 4.46 of 🤗 Transformers. Use `eval_strategy` instead\n",
            "  warnings.warn(\n"
          ]
        }
      ],
      "source": [
        "from transformers import Seq2SeqTrainingArguments\n",
        "\n",
        "training_args = Seq2SeqTrainingArguments(\n",
        "    output_dir=\"./whisper-medium-hindi\",  # change to a repo name of your choice\n",
        "    per_device_train_batch_size=4,\n",
        "    gradient_accumulation_steps=2,  # increase by 2x for every 2x decrease in batch size\n",
        "    learning_rate=1e-5,\n",
        "    warmup_steps=250,\n",
        "    max_steps=1000,\n",
        "    gradient_checkpointing=True,\n",
        "    fp16=True,\n",
        "    evaluation_strategy=\"steps\",\n",
        "    per_device_eval_batch_size=4,\n",
        "    predict_with_generate=True,\n",
        "    generation_max_length=225,\n",
        "    save_steps=1000,\n",
        "    eval_steps=250,\n",
        "    logging_steps=25,\n",
        "    report_to=[\"tensorboard\"],\n",
        "    load_best_model_at_end=True,\n",
        "    metric_for_best_model=\"wer\",\n",
        "    greater_is_better=False,\n",
        "    push_to_hub=True,\n",
        ")\n"
      ]
    },
    {
      "cell_type": "code",
      "execution_count": null,
      "metadata": {
        "execution": {
          "iopub.execute_input": "2024-05-24T11:36:05.393961Z",
          "iopub.status.busy": "2024-05-24T11:36:05.393599Z",
          "iopub.status.idle": "2024-05-24T11:36:06.801479Z",
          "shell.execute_reply": "2024-05-24T11:36:06.800571Z",
          "shell.execute_reply.started": "2024-05-24T11:36:05.393927Z"
        },
        "id": "84mbWpEnhqan",
        "outputId": "9373088b-e34f-4dc1-951a-1f3256eb018b",
        "trusted": true
      },
      "outputs": [
        {
          "name": "stderr",
          "output_type": "stream",
          "text": [
            "max_steps is given, it will override any value given in num_train_epochs\n"
          ]
        }
      ],
      "source": [
        "from transformers import Seq2SeqTrainer\n",
        "\n",
        "trainer = Seq2SeqTrainer(\n",
        "    args=training_args,\n",
        "    model=model,\n",
        "    train_dataset=fleurs[\"train\"],\n",
        "    eval_dataset=fleurs[\"test\"],\n",
        "    data_collator=data_collator,\n",
        "    compute_metrics=compute_metrics,\n",
        "    tokenizer=processor.feature_extractor,\n",
        ")\n"
      ]
    },
    {
      "cell_type": "code",
      "execution_count": null,
      "metadata": {
        "execution": {
          "iopub.execute_input": "2024-05-24T11:36:10.817411Z",
          "iopub.status.busy": "2024-05-24T11:36:10.817048Z",
          "iopub.status.idle": "2024-05-24T19:49:01.575316Z",
          "shell.execute_reply": "2024-05-24T19:49:01.573465Z",
          "shell.execute_reply.started": "2024-05-24T11:36:10.817383Z"
        },
        "id": "X2U5Avpbhqan",
        "trusted": true
      },
      "outputs": [],
      "source": [
        "trainer.train()\n"
      ]
    },
    {
      "cell_type": "markdown",
      "metadata": {
        "id": "kYqYEY26mNC4"
      },
      "source": [
        "**OUTPUT:**\n",
        "\n",
        "![image.png](data:image/png;base64,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)"
      ]
    },
    {
      "cell_type": "code",
      "execution_count": null,
      "metadata": {
        "colab": {
          "referenced_widgets": [
            "5dea42a7dada49ccbad0921ec82c375c",
            "75e8286c6bde4d40a16ddf67fbd84815",
            "baf98e2db35f43b48fab668138ce2b19"
          ]
        },
        "execution": {
          "iopub.execute_input": "2024-05-24T20:09:31.442506Z",
          "iopub.status.busy": "2024-05-24T20:09:31.441838Z",
          "iopub.status.idle": "2024-05-24T20:11:53.756828Z",
          "shell.execute_reply": "2024-05-24T20:11:53.755898Z",
          "shell.execute_reply.started": "2024-05-24T20:09:31.442477Z"
        },
        "id": "Pg5piB4Jhqao",
        "outputId": "3a6c78e9-c074-47c3-a0bd-3327b720f3cf",
        "trusted": true
      },
      "outputs": [
        {
          "name": "stderr",
          "output_type": "stream",
          "text": [
            "Some non-default generation parameters are set in the model config. These should go into a GenerationConfig file (https://huggingface.co/docs/transformers/generation_strategies#save-a-custom-decoding-strategy-with-your-model) instead. This warning will be raised to an exception in v4.41.\n",
            "Non-default generation parameters: {'max_length': 448, 'suppress_tokens': [1, 2, 7, 8, 9, 10, 14, 25, 26, 27, 28, 29, 31, 58, 59, 60, 61, 62, 63, 90, 91, 92, 93, 359, 503, 522, 542, 873, 893, 902, 918, 922, 931, 1350, 1853, 1982, 2460, 2627, 3246, 3253, 3268, 3536, 3846, 3961, 4183, 4667, 6585, 6647, 7273, 9061, 9383, 10428, 10929, 11938, 12033, 12331, 12562, 13793, 14157, 14635, 15265, 15618, 16553, 16604, 18362, 18956, 20075, 21675, 22520, 26130, 26161, 26435, 28279, 29464, 31650, 32302, 32470, 36865, 42863, 47425, 49870, 50254, 50258, 50358, 50359, 50360, 50361, 50362], 'begin_suppress_tokens': [220, 50257]}\n"
          ]
        },
        {
          "data": {
            "application/vnd.jupyter.widget-view+json": {
              "model_id": "5dea42a7dada49ccbad0921ec82c375c",
              "version_major": 2,
              "version_minor": 0
            },
            "text/plain": [
              "events.out.tfevents.1716550571.ae12092f17cd.35.0:   0%|          | 0.00/26.0k [00:00<?, ?B/s]"
            ]
          },
          "metadata": {},
          "output_type": "display_data"
        },
        {
          "data": {
            "application/vnd.jupyter.widget-view+json": {
              "model_id": "75e8286c6bde4d40a16ddf67fbd84815",
              "version_major": 2,
              "version_minor": 0
            },
            "text/plain": [
              "model.safetensors:   0%|          | 0.00/3.06G [00:00<?, ?B/s]"
            ]
          },
          "metadata": {},
          "output_type": "display_data"
        },
        {
          "data": {
            "application/vnd.jupyter.widget-view+json": {
              "model_id": "baf98e2db35f43b48fab668138ce2b19",
              "version_major": 2,
              "version_minor": 0
            },
            "text/plain": [
              "Upload 2 LFS files:   0%|          | 0/2 [00:00<?, ?it/s]"
            ]
          },
          "metadata": {},
          "output_type": "display_data"
        },
        {
          "data": {
            "text/plain": [
              "CommitInfo(commit_url='https://huggingface.co/Tashuu/whisper-medium-hindi/commit/e842ff6d43d54ea03c8397a572049d288539aa1e', commit_message='End of training', commit_description='', oid='e842ff6d43d54ea03c8397a572049d288539aa1e', pr_url=None, pr_revision=None, pr_num=None)"
            ]
          },
          "execution_count": 30,
          "metadata": {},
          "output_type": "execute_result"
        }
      ],
      "source": [
        "trainer.push_to_hub(**kwargs)"
      ]
    },
    {
      "cell_type": "markdown",
      "metadata": {
        "id": "1CBL5b9Ymiuj"
      },
      "source": [
        "Tokenizer is not pushed automatically to the hugging face hub, so we need to push the tokenizer:"
      ]
    },
    {
      "cell_type": "code",
      "execution_count": null,
      "metadata": {
        "colab": {
          "referenced_widgets": [
            "e32951239f97465fb3ae378a63cc130a"
          ]
        },
        "execution": {
          "iopub.execute_input": "2024-05-24T20:17:37.588192Z",
          "iopub.status.busy": "2024-05-24T20:17:37.587796Z",
          "iopub.status.idle": "2024-05-24T20:17:41.733921Z",
          "shell.execute_reply": "2024-05-24T20:17:41.733014Z",
          "shell.execute_reply.started": "2024-05-24T20:17:37.588161Z"
        },
        "id": "vx2TWVYVhqao",
        "outputId": "59e35b83-4c95-45a2-f8e8-aebe135574c1",
        "trusted": true
      },
      "outputs": [
        {
          "data": {
            "application/vnd.jupyter.widget-view+json": {
              "model_id": "e32951239f97465fb3ae378a63cc130a",
              "version_major": 2,
              "version_minor": 0
            },
            "text/plain": [
              "README.md:   0%|          | 0.00/1.50k [00:00<?, ?B/s]"
            ]
          },
          "metadata": {},
          "output_type": "display_data"
        },
        {
          "data": {
            "text/plain": [
              "CommitInfo(commit_url='https://huggingface.co/Tashuu/whisper-medium-hindi/commit/7ae3566f21850e0b2f3824a942568f150f3998f6', commit_message='Upload tokenizer', commit_description='', oid='7ae3566f21850e0b2f3824a942568f150f3998f6', pr_url=None, pr_revision=None, pr_num=None)"
            ]
          },
          "execution_count": 33,
          "metadata": {},
          "output_type": "execute_result"
        }
      ],
      "source": [
        "tokenizer.push_to_hub(\"Tashuu/whisper-medium-hindi\")"
      ]
    },
    {
      "cell_type": "code",
      "execution_count": null,
      "metadata": {
        "execution": {
          "iopub.execute_input": "2024-05-24T19:56:53.209304Z",
          "iopub.status.busy": "2024-05-24T19:56:53.208583Z",
          "iopub.status.idle": "2024-05-24T19:56:53.213963Z",
          "shell.execute_reply": "2024-05-24T19:56:53.213046Z",
          "shell.execute_reply.started": "2024-05-24T19:56:53.209276Z"
        },
        "id": "lj9jY0kUhqap",
        "trusted": true
      },
      "outputs": [],
      "source": [
        "kwargs = {\n",
        "    \"dataset_tags\": \"mozilla-foundation/common_voice_11_0\",\n",
        "    \"dataset\": \"Common Voice 11.0\",  # a 'pretty' name for the training dataset\n",
        "    \"dataset_args\": \"config: hi, split: test\",\n",
        "    \"language\": \"hi\",\n",
        "    \"model_name\": \"Whisper Medium hindi -tashu gurnani\",  # a 'pretty' name for your model\n",
        "    \"finetuned_from\": \"openai/whisper-small\",\n",
        "    \"tasks\": \"automatic-speech-recognition\",\n",
        "}\n"
      ]
    },
    {
      "cell_type": "markdown",
      "metadata": {
        "id": "REUQYiaWmxMY"
      },
      "source": [
        "Here is the link to the finetuned Whisper Hindi (Medium) model pushed to the hub:\n",
        "https://huggingface.co/Tashuu/whisper-medium-hindi/commit/e842ff6d43d54ea03c8397a572049d288539aa1e\n"
      ]
    },
    {
      "cell_type": "markdown",
      "metadata": {
        "id": "PlaVgDIom_Nd"
      },
      "source": [
        "Now , for a practice run, to verify our model works as expected"
      ]
    },
    {
      "cell_type": "code",
      "execution_count": null,
      "metadata": {
        "colab": {
          "referenced_widgets": [
            "b3b4cde7522e46858ecc8ded9908edbd",
            "47eff3a066e94003bab83dee94066801",
            "54ed1a0822eb4b1db58e6d019254ae20",
            "8b208ceb69c640e7bf76bfcc1f0b8af1",
            "f18938fb72b340b8bd36f5e261f5b85e",
            "1f0fa93b806d4cdd8de4f6f03db5fc0f",
            "36ca3dd98c3f47ebad552bd8dc84d5fd",
            "23fbbb71d14b4b39afc43b9fc1e7ef6e",
            "6a33805c959f48febac016dc33971605",
            "58ce922a86f24618987bed0da2dc11ab"
          ]
        },
        "execution": {
          "iopub.execute_input": "2024-05-25T18:17:37.552093Z",
          "iopub.status.busy": "2024-05-25T18:17:37.551647Z",
          "iopub.status.idle": "2024-05-25T18:18:58.572354Z",
          "shell.execute_reply": "2024-05-25T18:18:58.571115Z",
          "shell.execute_reply.started": "2024-05-25T18:17:37.552061Z"
        },
        "id": "h2xP5kBlhqaq",
        "outputId": "85575750-4820-4438-fd59-c2e87f7aa919",
        "trusted": true
      },
      "outputs": [
        {
          "name": "stderr",
          "output_type": "stream",
          "text": [
            "2024-05-25 18:17:45.461680: E external/local_xla/xla/stream_executor/cuda/cuda_dnn.cc:9261] Unable to register cuDNN factory: Attempting to register factory for plugin cuDNN when one has already been registered\n",
            "2024-05-25 18:17:45.461808: E external/local_xla/xla/stream_executor/cuda/cuda_fft.cc:607] Unable to register cuFFT factory: Attempting to register factory for plugin cuFFT when one has already been registered\n",
            "2024-05-25 18:17:45.607284: E external/local_xla/xla/stream_executor/cuda/cuda_blas.cc:1515] Unable to register cuBLAS factory: Attempting to register factory for plugin cuBLAS when one has already been registered\n"
          ]
        },
        {
          "data": {
            "application/vnd.jupyter.widget-view+json": {
              "model_id": "b3b4cde7522e46858ecc8ded9908edbd",
              "version_major": 2,
              "version_minor": 0
            },
            "text/plain": [
              "config.json:   0%|          | 0.00/2.28k [00:00<?, ?B/s]"
            ]
          },
          "metadata": {},
          "output_type": "display_data"
        },
        {
          "data": {
            "application/vnd.jupyter.widget-view+json": {
              "model_id": "47eff3a066e94003bab83dee94066801",
              "version_major": 2,
              "version_minor": 0
            },
            "text/plain": [
              "model.safetensors:   0%|          | 0.00/3.06G [00:00<?, ?B/s]"
            ]
          },
          "metadata": {},
          "output_type": "display_data"
        },
        {
          "data": {
            "application/vnd.jupyter.widget-view+json": {
              "model_id": "54ed1a0822eb4b1db58e6d019254ae20",
              "version_major": 2,
              "version_minor": 0
            },
            "text/plain": [
              "generation_config.json:   0%|          | 0.00/3.70k [00:00<?, ?B/s]"
            ]
          },
          "metadata": {},
          "output_type": "display_data"
        },
        {
          "data": {
            "application/vnd.jupyter.widget-view+json": {
              "model_id": "8b208ceb69c640e7bf76bfcc1f0b8af1",
              "version_major": 2,
              "version_minor": 0
            },
            "text/plain": [
              "tokenizer_config.json:   0%|          | 0.00/283k [00:00<?, ?B/s]"
            ]
          },
          "metadata": {},
          "output_type": "display_data"
        },
        {
          "data": {
            "application/vnd.jupyter.widget-view+json": {
              "model_id": "f18938fb72b340b8bd36f5e261f5b85e",
              "version_major": 2,
              "version_minor": 0
            },
            "text/plain": [
              "vocab.json:   0%|          | 0.00/1.04M [00:00<?, ?B/s]"
            ]
          },
          "metadata": {},
          "output_type": "display_data"
        },
        {
          "data": {
            "application/vnd.jupyter.widget-view+json": {
              "model_id": "1f0fa93b806d4cdd8de4f6f03db5fc0f",
              "version_major": 2,
              "version_minor": 0
            },
            "text/plain": [
              "merges.txt:   0%|          | 0.00/494k [00:00<?, ?B/s]"
            ]
          },
          "metadata": {},
          "output_type": "display_data"
        },
        {
          "data": {
            "application/vnd.jupyter.widget-view+json": {
              "model_id": "36ca3dd98c3f47ebad552bd8dc84d5fd",
              "version_major": 2,
              "version_minor": 0
            },
            "text/plain": [
              "normalizer.json:   0%|          | 0.00/52.7k [00:00<?, ?B/s]"
            ]
          },
          "metadata": {},
          "output_type": "display_data"
        },
        {
          "data": {
            "application/vnd.jupyter.widget-view+json": {
              "model_id": "23fbbb71d14b4b39afc43b9fc1e7ef6e",
              "version_major": 2,
              "version_minor": 0
            },
            "text/plain": [
              "added_tokens.json:   0%|          | 0.00/34.6k [00:00<?, ?B/s]"
            ]
          },
          "metadata": {},
          "output_type": "display_data"
        },
        {
          "data": {
            "application/vnd.jupyter.widget-view+json": {
              "model_id": "6a33805c959f48febac016dc33971605",
              "version_major": 2,
              "version_minor": 0
            },
            "text/plain": [
              "special_tokens_map.json:   0%|          | 0.00/2.19k [00:00<?, ?B/s]"
            ]
          },
          "metadata": {},
          "output_type": "display_data"
        },
        {
          "name": "stderr",
          "output_type": "stream",
          "text": [
            "Special tokens have been added in the vocabulary, make sure the associated word embeddings are fine-tuned or trained.\n",
            "Special tokens have been added in the vocabulary, make sure the associated word embeddings are fine-tuned or trained.\n"
          ]
        },
        {
          "data": {
            "application/vnd.jupyter.widget-view+json": {
              "model_id": "58ce922a86f24618987bed0da2dc11ab",
              "version_major": 2,
              "version_minor": 0
            },
            "text/plain": [
              "preprocessor_config.json:   0%|          | 0.00/339 [00:00<?, ?B/s]"
            ]
          },
          "metadata": {},
          "output_type": "display_data"
        }
      ],
      "source": [
        "from transformers import pipeline\n",
        "pipe = pipeline(model=\"Tashuu/whisper-medium-hindi\")"
      ]
    },
    {
      "cell_type": "code",
      "execution_count": null,
      "metadata": {
        "execution": {
          "iopub.execute_input": "2024-05-25T18:19:04.041094Z",
          "iopub.status.busy": "2024-05-25T18:19:04.040281Z",
          "iopub.status.idle": "2024-05-25T18:19:04.050696Z",
          "shell.execute_reply": "2024-05-25T18:19:04.049443Z",
          "shell.execute_reply.started": "2024-05-25T18:19:04.041058Z"
        },
        "id": "6wC7aPl9hqar",
        "trusted": true
      },
      "outputs": [],
      "source": [
        "def transcribe(audio):\n",
        "    text = pipe(audio)[\"text\"]\n",
        "    return text"
      ]
    },
    {
      "cell_type": "code",
      "execution_count": null,
      "metadata": {
        "execution": {
          "iopub.execute_input": "2024-05-25T18:19:29.321169Z",
          "iopub.status.busy": "2024-05-25T18:19:29.319354Z",
          "iopub.status.idle": "2024-05-25T18:20:10.169057Z",
          "shell.execute_reply": "2024-05-25T18:20:10.168192Z",
          "shell.execute_reply.started": "2024-05-25T18:19:29.321109Z"
        },
        "id": "YvQe9LsXhqa5",
        "outputId": "168e9b87-e36d-43f9-92c0-b001c8af53f5",
        "trusted": true
      },
      "outputs": [
        {
          "data": {
            "text/plain": [
              "'आगरा में मंगलवार रात करीब 10 बजे माल रोड पर चलती हुई कार में अचानक आग लग गई कार सवार ने कूदकर अपनी जान बचाई सूचना पर पहुंची फायर ब्रिगेट की गाड़ी जब तक आग बुझाती कार पूरी तरह से जल चुकी थी कार में आग लगने की वजह शॉर्ट सर्किट बताया गया है'"
            ]
          },
          "execution_count": 3,
          "metadata": {},
          "output_type": "execute_result"
        }
      ],
      "source": [
        "transcribe(\"/kaggle/input/finaltesting5/audio (1).mp3\")"
      ]
    },
    {
      "cell_type": "code",
      "execution_count": null,
      "metadata": {
        "execution": {
          "iopub.execute_input": "2024-05-26T18:20:45.019634Z",
          "iopub.status.busy": "2024-05-26T18:20:45.018739Z",
          "iopub.status.idle": "2024-05-26T18:23:00.009578Z",
          "shell.execute_reply": "2024-05-26T18:23:00.008447Z",
          "shell.execute_reply.started": "2024-05-26T18:20:45.01959Z"
        },
        "id": "crXo0k1LhqbC",
        "outputId": "57f5de5c-34e8-4be3-9d25-43ebdad69f86",
        "trusted": true
      },
      "outputs": [
        {
          "data": {
            "text/plain": [
              "'आज हर्याना के हर तशील में किसान निकालेंगे ट्रैक्टर परेट और चंडीघर में बड़े बीज़ेपी नेताओं की घरों के घिराव कायलाएंसंदेशकाली में राज्यपाल से मिलने के बाद कोट जाने की तैयारी में बीज़ेपी ग्रह राज्य मंत्री बोले ममता से नहीं समल रहा तो केंद्र लेगा फैसलाआज से देली में बीज़ेपी राष्ट्रीय काउंसल की बैठक लगभग 11,000 प्रतिरिधी होंगे शामिल ज़ेफ़ी नड़ा करेंगे बैठक का उद्घाटनईडीय समन के देखी मामली में आज देली की कोट में सीएम केज़रवाल की पेशी पांच समन छुकराने के बाद ईडी ने किया था अदालत का रुकऔर आज से दो दिदो तक कुल्काथा में सजेगा साहित्य आज तक का मंच गीत संगीत शायरी से लेकर नज्म नाठकों के महाकुंबद में जूटेंगे तमाम सितारें आपका भी स्वागत एंट्री फ़्री'"
            ]
          },
          "execution_count": 7,
          "metadata": {},
          "output_type": "execute_result"
        }
      ],
      "source": [
        "transcribe(\"/kaggle/input/finaltesting2/AAJ TAK_2024-02-17_08-00-00 (mp3cut.net) (4).wav\")"
      ]
    },
    {
      "cell_type": "markdown",
      "metadata": {
        "id": "cCzVWlocqPke"
      },
      "source": [
        "Denoising the audio through demucs model. The denoised audio will be saved to the separated folder and vocals.wav file can then be passed to whisper model to generate transcription."
      ]
    },
    {
      "cell_type": "markdown",
      "metadata": {
        "id": "atRP-eY6qtCN"
      },
      "source": [
        "**AUDIO TRANSCRIPTION FOR ENGLISH LANGUAGE**\n",
        "\n",
        "The first step is to import the required libraries. We are using the pipeline function from the transformers library to load the Whisper model. We initialize the transcription pipeline using the Whisper model. The **openai/whisper-medium.en** model is specifically designed for English audio transcription. We define a function transcribe that takes an audio file path as input, uses the pipeline to transcribe the audio, and returns the transcribed text. Finally, we call the transcribe function with the path to an audio file.  \n"
      ]
    },
    {
      "cell_type": "code",
      "execution_count": null,
      "metadata": {
        "_cell_guid": "b1076dfc-b9ad-4769-8c92-a6c4dae69d19",
        "_uuid": "8f2839f25d086af736a60e9eeb907d3b93b6e0e5",
        "colab": {
          "referenced_widgets": [
            "5b1938ec591a4ecba0ba5b73e81834fd",
            "a8c8eb39c81147cfa58a828a0460e7bd",
            "4976a0063c434f759694c96982b31906",
            "dad3fa2dd0174967ab3664274e7b4da8",
            "e6fe6f892bda43b18836419620002f78",
            "702da6650e274f909d1f6adc68dcfc64",
            "bbf00668396647d4bf5cd3b43ba75bc8",
            "6f0fa3dfbae9479eb16f952d2ef0a327",
            "f018e129f9774029aad87bcfeae484eb",
            "d023d6d6210a4020a6b0ea5a29a75f0a",
            "45e416b24c1145b591b87a7c9b8aa51e"
          ]
        },
        "execution": {
          "iopub.execute_input": "2024-06-05T06:16:49.697690Z",
          "iopub.status.busy": "2024-06-05T06:16:49.697332Z",
          "iopub.status.idle": "2024-06-05T06:17:25.132313Z",
          "shell.execute_reply": "2024-06-05T06:17:25.131491Z",
          "shell.execute_reply.started": "2024-06-05T06:16:49.697660Z"
        },
        "id": "_lHpTUH9rLch",
        "outputId": "5ae2dc92-b0e2-4963-966e-aa2edcf5d5b9",
        "trusted": true
      },
      "outputs": [
        {
          "name": "stderr",
          "output_type": "stream",
          "text": [
            "2024-06-05 06:16:56.751638: E external/local_xla/xla/stream_executor/cuda/cuda_dnn.cc:9261] Unable to register cuDNN factory: Attempting to register factory for plugin cuDNN when one has already been registered\n",
            "2024-06-05 06:16:56.751748: E external/local_xla/xla/stream_executor/cuda/cuda_fft.cc:607] Unable to register cuFFT factory: Attempting to register factory for plugin cuFFT when one has already been registered\n",
            "2024-06-05 06:16:56.873389: E external/local_xla/xla/stream_executor/cuda/cuda_blas.cc:1515] Unable to register cuBLAS factory: Attempting to register factory for plugin cuBLAS when one has already been registered\n"
          ]
        },
        {
          "data": {
            "application/vnd.jupyter.widget-view+json": {
              "model_id": "5b1938ec591a4ecba0ba5b73e81834fd",
              "version_major": 2,
              "version_minor": 0
            },
            "text/plain": [
              "config.json:   0%|          | 0.00/1.95k [00:00<?, ?B/s]"
            ]
          },
          "metadata": {},
          "output_type": "display_data"
        },
        {
          "data": {
            "application/vnd.jupyter.widget-view+json": {
              "model_id": "a8c8eb39c81147cfa58a828a0460e7bd",
              "version_major": 2,
              "version_minor": 0
            },
            "text/plain": [
              "model.safetensors:   0%|          | 0.00/3.06G [00:00<?, ?B/s]"
            ]
          },
          "metadata": {},
          "output_type": "display_data"
        },
        {
          "data": {
            "application/vnd.jupyter.widget-view+json": {
              "model_id": "4976a0063c434f759694c96982b31906",
              "version_major": 2,
              "version_minor": 0
            },
            "text/plain": [
              "generation_config.json:   0%|          | 0.00/1.95k [00:00<?, ?B/s]"
            ]
          },
          "metadata": {},
          "output_type": "display_data"
        },
        {
          "data": {
            "application/vnd.jupyter.widget-view+json": {
              "model_id": "dad3fa2dd0174967ab3664274e7b4da8",
              "version_major": 2,
              "version_minor": 0
            },
            "text/plain": [
              "tokenizer_config.json:   0%|          | 0.00/805 [00:00<?, ?B/s]"
            ]
          },
          "metadata": {},
          "output_type": "display_data"
        },
        {
          "data": {
            "application/vnd.jupyter.widget-view+json": {
              "model_id": "e6fe6f892bda43b18836419620002f78",
              "version_major": 2,
              "version_minor": 0
            },
            "text/plain": [
              "vocab.json:   0%|          | 0.00/798k [00:00<?, ?B/s]"
            ]
          },
          "metadata": {},
          "output_type": "display_data"
        },
        {
          "data": {
            "application/vnd.jupyter.widget-view+json": {
              "model_id": "702da6650e274f909d1f6adc68dcfc64",
              "version_major": 2,
              "version_minor": 0
            },
            "text/plain": [
              "tokenizer.json:   0%|          | 0.00/2.41M [00:00<?, ?B/s]"
            ]
          },
          "metadata": {},
          "output_type": "display_data"
        },
        {
          "data": {
            "application/vnd.jupyter.widget-view+json": {
              "model_id": "bbf00668396647d4bf5cd3b43ba75bc8",
              "version_major": 2,
              "version_minor": 0
            },
            "text/plain": [
              "merges.txt:   0%|          | 0.00/456k [00:00<?, ?B/s]"
            ]
          },
          "metadata": {},
          "output_type": "display_data"
        },
        {
          "data": {
            "application/vnd.jupyter.widget-view+json": {
              "model_id": "6f0fa3dfbae9479eb16f952d2ef0a327",
              "version_major": 2,
              "version_minor": 0
            },
            "text/plain": [
              "normalizer.json:   0%|          | 0.00/52.7k [00:00<?, ?B/s]"
            ]
          },
          "metadata": {},
          "output_type": "display_data"
        },
        {
          "data": {
            "application/vnd.jupyter.widget-view+json": {
              "model_id": "f018e129f9774029aad87bcfeae484eb",
              "version_major": 2,
              "version_minor": 0
            },
            "text/plain": [
              "added_tokens.json:   0%|          | 0.00/34.6k [00:00<?, ?B/s]"
            ]
          },
          "metadata": {},
          "output_type": "display_data"
        },
        {
          "data": {
            "application/vnd.jupyter.widget-view+json": {
              "model_id": "d023d6d6210a4020a6b0ea5a29a75f0a",
              "version_major": 2,
              "version_minor": 0
            },
            "text/plain": [
              "special_tokens_map.json:   0%|          | 0.00/1.83k [00:00<?, ?B/s]"
            ]
          },
          "metadata": {},
          "output_type": "display_data"
        },
        {
          "data": {
            "application/vnd.jupyter.widget-view+json": {
              "model_id": "45e416b24c1145b591b87a7c9b8aa51e",
              "version_major": 2,
              "version_minor": 0
            },
            "text/plain": [
              "preprocessor_config.json:   0%|          | 0.00/185k [00:00<?, ?B/s]"
            ]
          },
          "metadata": {},
          "output_type": "display_data"
        }
      ],
      "source": [
        "from transformers import pipeline\n",
        "pipe = pipeline(model=\"openai/whisper-medium.en\")\n",
        "\n",
        "# Function to transcribe audio chunk\n",
        "def transcribe(file):\n",
        "    text = pipe(file)[\"text\"]\n",
        "    return text"
      ]
    },
    {
      "cell_type": "code",
      "execution_count": null,
      "metadata": {
        "execution": {
          "iopub.execute_input": "2024-05-28T07:56:17.364706Z",
          "iopub.status.busy": "2024-05-28T07:56:17.363878Z",
          "iopub.status.idle": "2024-05-28T07:57:39.857771Z",
          "shell.execute_reply": "2024-05-28T07:57:39.856761Z",
          "shell.execute_reply.started": "2024-05-28T07:56:17.364673Z"
        },
        "id": "TF1oUKmlrLco",
        "outputId": "64a7041d-75ad-42a3-d5b5-3e8e421c834b",
        "trusted": true
      },
      "outputs": [
        {
          "data": {
            "text/plain": [
              "\" a promising development for all. BJP wakes up Mahadev scam to slam Congress says Congress is neck deep in corruption. Israel Defense Forces encircle Al Shifa hospital, intensify ground operations with underground Hamas headquarters on the target. Israel's multi-front war against terror continues with the fight against Hamas as well as Hezbollah terrorists. The Republic has been on the ground getting new minute by minute updates as far as Israeli forces operations are concerned. Gursimran is in fact joining us live. He is reporting from southern Israel and if Gursimran can hear my question, Gursimran all eyes are on actually on Al-Shifa in Gaza where the operations are intensifying, the ground operations are intensifying. The sole target of the Israeli forces is to take aim at the alleged Hamas headquarters that is believed to be in the basement of this hospital. What are you gathering from your sources in the Israeli military as to how is this operation proceeding. See the operation has underway and there has been a lot of bombardment yesterday night also very close to the Al-Shifa hospital and we have seen that the entire hospital has been encircled by the Israel Defense Forces and they are trying to get into the basement trying to evacuate the hospital so that the patients who are still in the upper floors they are moved out and then there will be intensified searches that will be conducted on the basement of the hospital. Right now we are reporting from the south of Israel and I request we just went in the Ravi G to kindly focus on that these are the roads that are leading to the borders how Gaza is hardly a kilometer from here and all the roads leading to the Gaza side have been blocked by the Israel Defense Forces\""
            ]
          },
          "execution_count": 7,
          "metadata": {},
          "output_type": "execute_result"
        }
      ],
      "source": [
        "transcribe(\"/kaggle/input/testing2min/RepubAudio 1(1).mp3\")"
      ]
    }
  ],
  "metadata": {
    "colab": {
      "provenance": []
    },
    "kaggle": {
      "accelerator": "none",
      "dataSources": [
        {
          "datasetId": 5070146,
          "sourceId": 8496838,
          "sourceType": "datasetVersion"
        },
        {
          "datasetId": 5074867,
          "sourceId": 8503122,
          "sourceType": "datasetVersion"
        },
        {
          "datasetId": 5083680,
          "sourceId": 8515134,
          "sourceType": "datasetVersion"
        },
        {
          "datasetId": 5083729,
          "sourceId": 8515207,
          "sourceType": "datasetVersion"
        },
        {
          "datasetId": 5083777,
          "sourceId": 8515270,
          "sourceType": "datasetVersion"
        },
        {
          "datasetId": 5083810,
          "sourceId": 8515322,
          "sourceType": "datasetVersion"
        },
        {
          "datasetId": 5083836,
          "sourceId": 8515356,
          "sourceType": "datasetVersion"
        },
        {
          "datasetId": 5083880,
          "sourceId": 8515417,
          "sourceType": "datasetVersion"
        },
        {
          "datasetId": 5084486,
          "sourceId": 8516282,
          "sourceType": "datasetVersion"
        },
        {
          "datasetId": 5090361,
          "sourceId": 8524607,
          "sourceType": "datasetVersion"
        },
        {
          "datasetId": 5093088,
          "sourceId": 8528411,
          "sourceType": "datasetVersion"
        }
      ],
      "dockerImageVersionId": 30699,
      "isGpuEnabled": false,
      "isInternetEnabled": true,
      "language": "python",
      "sourceType": "notebook"
    },
    "kernelspec": {
      "display_name": "Python 3",
      "language": "python",
      "name": "python3"
    },
    "language_info": {
      "codemirror_mode": {
        "name": "ipython",
        "version": 3
      },
      "file_extension": ".py",
      "mimetype": "text/x-python",
      "name": "python",
      "nbconvert_exporter": "python",
      "pygments_lexer": "ipython3",
      "version": "3.10.13"
    }
  },
  "nbformat": 4,
  "nbformat_minor": 0
}
